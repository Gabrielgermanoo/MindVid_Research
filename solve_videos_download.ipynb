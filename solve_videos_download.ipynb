{
 "cells": [
  {
   "cell_type": "code",
   "execution_count": 1,
   "metadata": {},
   "outputs": [],
   "source": [
    "import yt_dlp as youtube_dl\n",
    "import pandas as pd"
   ]
  },
  {
   "cell_type": "code",
   "execution_count": 6,
   "metadata": {},
   "outputs": [],
   "source": [
    "hashtags_list = {\n",
    "    \"ansiedade\": [\"#ansiedade\"],\n",
    "    #\"depressao\": [\"#depressao\"],\n",
    "    \"TDAH\": [\"#TDAH\"],\n",
    "    \"TEA\": [\"#autismo\"],\n",
    "    \"TOC\": [\"#TOC\"],\n",
    "    \"TEPT\": [\"#TEPT\"],\n",
    "    \"TBP\": [\"#TBP\"],\n",
    "    \"borderline\": [\"#borderline\"],\n",
    "}"
   ]
  },
  {
   "cell_type": "code",
   "execution_count": 3,
   "metadata": {},
   "outputs": [],
   "source": [
    "# download method\n",
    "def download_video(save_directory, link, urls, csv_path, key, cont):\n",
    "    ydl_opts = {\n",
    "                'format': 'bestaudio/best',\n",
    "                    'postprocessors': [{\n",
    "                        'key': 'FFmpegExtractAudio',\n",
    "                        'preferredcodec': 'wav',\n",
    "                        'preferredquality': '192',\n",
    "                    }],\n",
    "                    'outtmpl': save_directory + '/' + str(cont) + '_%(id)s.%(ext)s',\n",
    "                    \"cookiesfrombrowser\": None,\n",
    "                    }\n",
    "    try:\n",
    "        with youtube_dl.YoutubeDL(ydl_opts) as ydl:\n",
    "            ydl.download([link])\n",
    "        cont += 1\n",
    "    except youtube_dl.utils.DownloadError:\n",
    "        urls = urls.drop(cont)\n",
    "        urls = urls.reset_index(drop=True)\n",
    "        urls.to_csv(csv_path + '/' + key + '.csv', index=False, header=False)"
   ]
  },
  {
   "cell_type": "code",
   "execution_count": 8,
   "metadata": {},
   "outputs": [
    {
     "name": "stdout",
     "output_type": "stream",
     "text": [
      "[Instagram] Extracting URL: https://www.instagram.com/reel/DHxAwz6tY3B/?igsh=MW8zZGY2YXpjeXc3OQ==\n",
      "[Instagram] DHxAwz6tY3B: Setting up session\n",
      "[Instagram] DHxAwz6tY3B: Downloading JSON metadata\n",
      "[info] DHxAwz6tY3B: Downloading 1 format(s): dash-24097517899880537ad\n",
      "[download] Destination: ./Videos/ansiedade/0_DHxAwz6tY3B.m4a\n",
      "[download] 100% of   63.50KiB in 00:00:00 at 1.67MiB/s   \n",
      "[FixupM4a] Correcting container of \"./Videos/ansiedade/0_DHxAwz6tY3B.m4a\"\n",
      "[ExtractAudio] Destination: ./Videos/ansiedade/0_DHxAwz6tY3B.wav\n",
      "Deleting original file ./Videos/ansiedade/0_DHxAwz6tY3B.m4a (pass -k to keep)\n",
      "Downloaded ansiedade video 1\n",
      "[Instagram] Extracting URL: https://www.instagram.com/reel/DI1qW67OT4b/?igsh=bzd0MTc0Y2lzaDBn\n",
      "[Instagram] DI1qW67OT4b: Setting up session\n",
      "[Instagram] DI1qW67OT4b: Downloading JSON metadata\n",
      "[info] DI1qW67OT4b: Downloading 1 format(s): dash-9716979898360795ad\n",
      "[download] Destination: ./Videos/ansiedade/1_DI1qW67OT4b.m4a\n",
      "[download] 100% of   74.16KiB in 00:00:00 at 1.99MiB/s   \n",
      "[FixupM4a] Correcting container of \"./Videos/ansiedade/1_DI1qW67OT4b.m4a\"\n",
      "[ExtractAudio] Destination: ./Videos/ansiedade/1_DI1qW67OT4b.wav\n",
      "Deleting original file ./Videos/ansiedade/1_DI1qW67OT4b.m4a (pass -k to keep)\n",
      "Downloaded ansiedade video 2\n",
      "[Instagram] Extracting URL: https://www.instagram.com/reel/DHtCgJ7O-KR/?igsh=YWswdnE5cHQ4MGIz\n",
      "[Instagram] DHtCgJ7O-KR: Setting up session\n",
      "[Instagram] DHtCgJ7O-KR: Downloading JSON metadata\n",
      "[info] DHtCgJ7O-KR: Downloading 1 format(s): dash-1295078231569720ad\n",
      "[download] Destination: ./Videos/ansiedade/2_DHtCgJ7O-KR.m4a\n",
      "[download] 100% of  344.08KiB in 00:00:00 at 6.67MiB/s   \n",
      "[FixupM4a] Correcting container of \"./Videos/ansiedade/2_DHtCgJ7O-KR.m4a\"\n",
      "[ExtractAudio] Destination: ./Videos/ansiedade/2_DHtCgJ7O-KR.wav\n",
      "Deleting original file ./Videos/ansiedade/2_DHtCgJ7O-KR.m4a (pass -k to keep)\n",
      "Downloaded ansiedade video 3\n",
      "[Instagram] Extracting URL: https://www.instagram.com/reel/C9PYPffuoVd/?igsh=MTk0bTdubW4xNXJybQ==\n",
      "[Instagram] C9PYPffuoVd: Setting up session\n",
      "[Instagram] C9PYPffuoVd: Downloading JSON metadata\n",
      "[info] C9PYPffuoVd: Downloading 1 format(s): dash-25938959862418001ad\n",
      "[download] Destination: ./Videos/ansiedade/3_C9PYPffuoVd.m4a\n",
      "[download] 100% of  513.91KiB in 00:00:00 at 9.17MiB/s   \n",
      "[FixupM4a] Correcting container of \"./Videos/ansiedade/3_C9PYPffuoVd.m4a\"\n",
      "[ExtractAudio] Destination: ./Videos/ansiedade/3_C9PYPffuoVd.wav\n",
      "Deleting original file ./Videos/ansiedade/3_C9PYPffuoVd.m4a (pass -k to keep)\n",
      "Downloaded ansiedade video 4\n",
      "[Instagram] Extracting URL: https://www.instagram.com/reel/C6P01IIttI0/?igsh=YTl4Mms3MXB3c2Vs\n",
      "[Instagram] C6P01IIttI0: Setting up session\n",
      "[Instagram] C6P01IIttI0: Downloading JSON metadata\n",
      "[info] C6P01IIttI0: Downloading 1 format(s): dash-982851200230098ad\n",
      "[download] Destination: ./Videos/ansiedade/4_C6P01IIttI0.m4a\n",
      "[download] 100% of   34.75KiB in 00:00:00 at 1.06MiB/s   \n",
      "[FixupM4a] Correcting container of \"./Videos/ansiedade/4_C6P01IIttI0.m4a\"\n",
      "[ExtractAudio] Destination: ./Videos/ansiedade/4_C6P01IIttI0.wav\n",
      "Deleting original file ./Videos/ansiedade/4_C6P01IIttI0.m4a (pass -k to keep)\n",
      "Downloaded ansiedade video 5\n",
      "[Instagram] Extracting URL: https://www.instagram.com/reel/C5573h5Ogm5/?igsh=MTg3eDR1ZDE4aWhkOQ==\n",
      "[Instagram] C5573h5Ogm5: Setting up session\n",
      "[Instagram] C5573h5Ogm5: Downloading JSON metadata\n",
      "[info] C5573h5Ogm5: Downloading 1 format(s): dash-1333421143993589ad\n",
      "[download] Destination: ./Videos/ansiedade/5_C5573h5Ogm5.m4a\n",
      "[download] 100% of  619.81KiB in 00:00:00 at 10.55MiB/s  \n",
      "[FixupM4a] Correcting container of \"./Videos/ansiedade/5_C5573h5Ogm5.m4a\"\n",
      "[ExtractAudio] Destination: ./Videos/ansiedade/5_C5573h5Ogm5.wav\n",
      "Deleting original file ./Videos/ansiedade/5_C5573h5Ogm5.m4a (pass -k to keep)\n",
      "Downloaded ansiedade video 6\n",
      "[Instagram] Extracting URL: https://www.instagram.com/reel/DFHCaPAt64R/?igsh=MjFzdmt4MmhmbDRl\n",
      "[Instagram] DFHCaPAt64R: Setting up session\n",
      "[Instagram] DFHCaPAt64R: Downloading JSON metadata\n",
      "[info] DFHCaPAt64R: Downloading 1 format(s): dash-1552030312165093ad\n",
      "[download] Destination: ./Videos/ansiedade/6_DFHCaPAt64R.m4a\n",
      "[download] 100% of   63.52KiB in 00:00:00 at 1.72MiB/s   \n",
      "[FixupM4a] Correcting container of \"./Videos/ansiedade/6_DFHCaPAt64R.m4a\"\n",
      "[ExtractAudio] Destination: ./Videos/ansiedade/6_DFHCaPAt64R.wav\n",
      "Deleting original file ./Videos/ansiedade/6_DFHCaPAt64R.m4a (pass -k to keep)\n",
      "Downloaded ansiedade video 7\n",
      "[Instagram] Extracting URL: https://www.instagram.com/reel/DHmlzJZOlQn/?igsh=MWNhcnFheGRsZGYwcA==\n",
      "[Instagram] DHmlzJZOlQn: Setting up session\n",
      "[Instagram] DHmlzJZOlQn: Downloading JSON metadata\n",
      "[info] DHmlzJZOlQn: Downloading 1 format(s): dash-1071064284833877ad\n",
      "[download] Destination: ./Videos/ansiedade/7_DHmlzJZOlQn.m4a\n",
      "[download] 100% of   41.08KiB in 00:00:00 at 1.24MiB/s   \n",
      "[FixupM4a] Correcting container of \"./Videos/ansiedade/7_DHmlzJZOlQn.m4a\"\n",
      "[ExtractAudio] Destination: ./Videos/ansiedade/7_DHmlzJZOlQn.wav\n",
      "Deleting original file ./Videos/ansiedade/7_DHmlzJZOlQn.m4a (pass -k to keep)\n",
      "Downloaded ansiedade video 8\n",
      "[Instagram] Extracting URL: https://www.instagram.com/reel/C7FyVqDLkM5/?igsh=ano0ZWhpMGxxOWlr\n",
      "[Instagram] C7FyVqDLkM5: Setting up session\n",
      "[Instagram] C7FyVqDLkM5: Downloading JSON metadata\n"
     ]
    },
    {
     "name": "stderr",
     "output_type": "stream",
     "text": [
      "ERROR: [Instagram] C7FyVqDLkM5: Instagram sent an empty media response. Check if this post is accessible in your browser without being logged-in. If it is not, then use --cookies-from-browser or --cookies for the authentication. See  https://github.com/yt-dlp/yt-dlp/wiki/FAQ#how-do-i-pass-cookies-to-yt-dlp  for how to manually pass cookies. Otherwise, if the post is accessible in browser without being logged-in, please report this issue on  https://github.com/yt-dlp/yt-dlp/issues?q= , filling out the appropriate issue template. Confirm you are on the latest version using  yt-dlp -U\n"
     ]
    },
    {
     "name": "stdout",
     "output_type": "stream",
     "text": [
      "Downloaded ansiedade video 9\n",
      "[Instagram] Extracting URL: https://www.instagram.com/reel/Czw6poXrWEv/?igsh=cmQ3Ymg1dWY4aDl2\n",
      "[Instagram] Czw6poXrWEv: Setting up session\n",
      "[Instagram] Czw6poXrWEv: Downloading JSON metadata\n"
     ]
    },
    {
     "name": "stderr",
     "output_type": "stream",
     "text": [
      "ERROR: [Instagram] Czw6poXrWEv: Instagram sent an empty media response. Check if this post is accessible in your browser without being logged-in. If it is not, then use --cookies-from-browser or --cookies for the authentication. See  https://github.com/yt-dlp/yt-dlp/wiki/FAQ#how-do-i-pass-cookies-to-yt-dlp  for how to manually pass cookies. Otherwise, if the post is accessible in browser without being logged-in, please report this issue on  https://github.com/yt-dlp/yt-dlp/issues?q= , filling out the appropriate issue template. Confirm you are on the latest version using  yt-dlp -U\n"
     ]
    },
    {
     "name": "stdout",
     "output_type": "stream",
     "text": [
      "Downloaded ansiedade video 10\n",
      "[Instagram] Extracting URL: https://www.instagram.com/reel/DIKWyhqPRdD/?igsh=MW9mbmViZDlidHJqdQ==\n",
      "[Instagram] DIKWyhqPRdD: Setting up session\n",
      "[Instagram] DIKWyhqPRdD: Downloading JSON metadata\n",
      "[info] DIKWyhqPRdD: Downloading 1 format(s): dash-1372966217235084ad\n",
      "[download] Destination: ./Videos/ansiedade/10_DIKWyhqPRdD.m4a\n",
      "[download] 100% of   30.69KiB in 00:00:00 at 2.02MiB/s   \n",
      "[FixupM4a] Correcting container of \"./Videos/ansiedade/10_DIKWyhqPRdD.m4a\"\n",
      "[ExtractAudio] Destination: ./Videos/ansiedade/10_DIKWyhqPRdD.wav\n",
      "Deleting original file ./Videos/ansiedade/10_DIKWyhqPRdD.m4a (pass -k to keep)\n",
      "Downloaded ansiedade video 11\n",
      "[Instagram] Extracting URL: https://www.instagram.com/reel/DHHhFfeJKkk/?igsh=eXl0d3NxOGhmeHNi\n",
      "[Instagram] DHHhFfeJKkk: Setting up session\n",
      "[Instagram] DHHhFfeJKkk: Downloading JSON metadata\n",
      "[info] DHHhFfeJKkk: Downloading 1 format(s): dash-1342065107240466ad\n",
      "[download] Destination: ./Videos/ansiedade/11_DHHhFfeJKkk.m4a\n",
      "[download] 100% of  403.11KiB in 00:00:00 at 8.79MiB/s   \n",
      "[FixupM4a] Correcting container of \"./Videos/ansiedade/11_DHHhFfeJKkk.m4a\"\n",
      "[ExtractAudio] Destination: ./Videos/ansiedade/11_DHHhFfeJKkk.wav\n",
      "Deleting original file ./Videos/ansiedade/11_DHHhFfeJKkk.m4a (pass -k to keep)\n",
      "Downloaded ansiedade video 12\n",
      "[Instagram] Extracting URL: https://www.instagram.com/reel/CmSdSD8DOWn/?igsh=MW1xejVrYmY3MXRmNQ==\n",
      "[Instagram] CmSdSD8DOWn: Setting up session\n",
      "[Instagram] CmSdSD8DOWn: Downloading JSON metadata\n",
      "[info] CmSdSD8DOWn: Downloading 1 format(s): dash-1350065338865794ad\n",
      "[download] Destination: ./Videos/ansiedade/12_CmSdSD8DOWn.m4a\n",
      "[download] 100% of   44.31KiB in 00:00:00 at 1.29MiB/s   \n",
      "[FixupM4a] Correcting container of \"./Videos/ansiedade/12_CmSdSD8DOWn.m4a\"\n",
      "[ExtractAudio] Destination: ./Videos/ansiedade/12_CmSdSD8DOWn.wav\n",
      "Deleting original file ./Videos/ansiedade/12_CmSdSD8DOWn.m4a (pass -k to keep)\n",
      "Downloaded ansiedade video 13\n",
      "[Instagram] Extracting URL: https://www.instagram.com/reel/DHKOXyzMpm8/?igsh=MWY1eHo4YTM3cW84dw==\n",
      "[Instagram] DHKOXyzMpm8: Setting up session\n",
      "[Instagram] DHKOXyzMpm8: Downloading JSON metadata\n"
     ]
    },
    {
     "name": "stderr",
     "output_type": "stream",
     "text": [
      "ERROR: [Instagram] DHKOXyzMpm8: Instagram sent an empty media response. Check if this post is accessible in your browser without being logged-in. If it is not, then use --cookies-from-browser or --cookies for the authentication. See  https://github.com/yt-dlp/yt-dlp/wiki/FAQ#how-do-i-pass-cookies-to-yt-dlp  for how to manually pass cookies. Otherwise, if the post is accessible in browser without being logged-in, please report this issue on  https://github.com/yt-dlp/yt-dlp/issues?q= , filling out the appropriate issue template. Confirm you are on the latest version using  yt-dlp -U\n"
     ]
    },
    {
     "name": "stdout",
     "output_type": "stream",
     "text": [
      "Downloaded ansiedade video 14\n",
      "[Instagram] Extracting URL: https://www.instagram.com/reel/DIhSVH4uEJM/?igsh=MWpza2JsZmJtZ2pibg==\n",
      "[Instagram] DIhSVH4uEJM: Setting up session\n",
      "[Instagram] DIhSVH4uEJM: Downloading JSON metadata\n",
      "[info] DIhSVH4uEJM: Downloading 1 format(s): dash-656853797303423ad\n",
      "[download] Destination: ./Videos/ansiedade/14_DIhSVH4uEJM.m4a\n",
      "[download] 100% of  466.88KiB in 00:00:00 at 8.23MiB/s   \n",
      "[FixupM4a] Correcting container of \"./Videos/ansiedade/14_DIhSVH4uEJM.m4a\"\n",
      "[ExtractAudio] Destination: ./Videos/ansiedade/14_DIhSVH4uEJM.wav\n",
      "Deleting original file ./Videos/ansiedade/14_DIhSVH4uEJM.m4a (pass -k to keep)\n",
      "Downloaded ansiedade video 15\n",
      "[Instagram] Extracting URL: https://www.instagram.com/reel/C122H9QgCkw/?igsh=dHp5bzI0YTk3a3Bz\n",
      "[Instagram] C122H9QgCkw: Setting up session\n",
      "[Instagram] C122H9QgCkw: Downloading JSON metadata\n",
      "[info] C122H9QgCkw: Downloading 1 format(s): dash-920086302855838ad\n",
      "[download] Destination: ./Videos/ansiedade/15_C122H9QgCkw.m4a\n",
      "[download] 100% of  461.51KiB in 00:00:00 at 8.30MiB/s   \n",
      "[FixupM4a] Correcting container of \"./Videos/ansiedade/15_C122H9QgCkw.m4a\"\n",
      "[ExtractAudio] Destination: ./Videos/ansiedade/15_C122H9QgCkw.wav\n",
      "Deleting original file ./Videos/ansiedade/15_C122H9QgCkw.m4a (pass -k to keep)\n",
      "Downloaded ansiedade video 16\n",
      "[Instagram] Extracting URL: https://www.instagram.com/reel/DGopD0-OqrE/?igsh=MXhmdGdlbTcxZWMxcg==\n",
      "[Instagram] DGopD0-OqrE: Setting up session\n",
      "[Instagram] DGopD0-OqrE: Downloading JSON metadata\n",
      "[info] DGopD0-OqrE: Downloading 1 format(s): dash-954815840164870ad\n",
      "[download] Destination: ./Videos/ansiedade/16_DGopD0-OqrE.m4a\n",
      "[download] 100% of   82.74KiB in 00:00:00 at 1.95MiB/s   \n",
      "[FixupM4a] Correcting container of \"./Videos/ansiedade/16_DGopD0-OqrE.m4a\"\n",
      "[ExtractAudio] Destination: ./Videos/ansiedade/16_DGopD0-OqrE.wav\n",
      "Deleting original file ./Videos/ansiedade/16_DGopD0-OqrE.m4a (pass -k to keep)\n",
      "Downloaded ansiedade video 17\n",
      "[Instagram] Extracting URL: https://www.instagram.com/reel/C_Y8n0MyQk2/?igsh=MTJrNWxmcW5pNW55eg==\n",
      "[Instagram] C_Y8n0MyQk2: Setting up session\n",
      "[Instagram] C_Y8n0MyQk2: Downloading JSON metadata\n",
      "[info] C_Y8n0MyQk2: Downloading 1 format(s): dash-1963649390746740ad\n",
      "[download] Destination: ./Videos/ansiedade/17_C_Y8n0MyQk2.m4a\n",
      "[download] 100% of  585.51KiB in 00:00:00 at 2.74MiB/s   \n",
      "[FixupM4a] Correcting container of \"./Videos/ansiedade/17_C_Y8n0MyQk2.m4a\"\n",
      "[ExtractAudio] Destination: ./Videos/ansiedade/17_C_Y8n0MyQk2.wav\n",
      "Deleting original file ./Videos/ansiedade/17_C_Y8n0MyQk2.m4a (pass -k to keep)\n",
      "Downloaded ansiedade video 18\n",
      "[Instagram] Extracting URL: https://www.instagram.com/reel/C22KfCGuHq0/?igsh=MmMwMXp3ZmU4NHRi\n",
      "[Instagram] C22KfCGuHq0: Setting up session\n",
      "[Instagram] C22KfCGuHq0: Downloading JSON metadata\n",
      "[info] C22KfCGuHq0: Downloading 1 format(s): dash-2576913559138771ad\n",
      "[download] Destination: ./Videos/ansiedade/18_C22KfCGuHq0.m4a\n",
      "[download] 100% of  328.07KiB in 00:00:00 at 5.81MiB/s   \n",
      "[FixupM4a] Correcting container of \"./Videos/ansiedade/18_C22KfCGuHq0.m4a\"\n",
      "[ExtractAudio] Destination: ./Videos/ansiedade/18_C22KfCGuHq0.wav\n",
      "Deleting original file ./Videos/ansiedade/18_C22KfCGuHq0.m4a (pass -k to keep)\n",
      "Downloaded ansiedade video 19\n",
      "[Instagram] Extracting URL: https://www.instagram.com/reel/DB6UVblR3Zk/?igsh=MThjaXh4cm5pZGprdA==\n",
      "[Instagram] DB6UVblR3Zk: Setting up session\n",
      "[Instagram] DB6UVblR3Zk: Downloading JSON metadata\n",
      "[info] DB6UVblR3Zk: Downloading 1 format(s): dash-1245457473319953ad\n",
      "[download] Destination: ./Videos/ansiedade/19_DB6UVblR3Zk.m4a\n",
      "[download] 100% of  563.84KiB in 00:00:00 at 2.56MiB/s   \n",
      "[FixupM4a] Correcting container of \"./Videos/ansiedade/19_DB6UVblR3Zk.m4a\"\n",
      "[ExtractAudio] Destination: ./Videos/ansiedade/19_DB6UVblR3Zk.wav\n",
      "Deleting original file ./Videos/ansiedade/19_DB6UVblR3Zk.m4a (pass -k to keep)\n",
      "Downloaded ansiedade video 20\n",
      "[Instagram] Extracting URL: https://www.instagram.com/reel/DB44CefNoDj/?igsh=aXFxc3N2NXBtMmtn\n",
      "[Instagram] DB44CefNoDj: Setting up session\n",
      "[Instagram] DB44CefNoDj: Downloading JSON metadata\n",
      "[info] DB44CefNoDj: Downloading 1 format(s): dash-471360782001270ad\n",
      "[download] Destination: ./Videos/ansiedade/20_DB44CefNoDj.m4a\n",
      "[download] 100% of  147.53KiB in 00:00:00 at 473.93KiB/s \n",
      "[FixupM4a] Correcting container of \"./Videos/ansiedade/20_DB44CefNoDj.m4a\"\n",
      "[ExtractAudio] Destination: ./Videos/ansiedade/20_DB44CefNoDj.wav\n",
      "Deleting original file ./Videos/ansiedade/20_DB44CefNoDj.m4a (pass -k to keep)\n",
      "Downloaded ansiedade video 21\n",
      "[Instagram] Extracting URL: https://www.instagram.com/reel/DG040Kxu-An/?igsh=MTRibzRhOHlyYmp0aA==\n",
      "[Instagram] DG040Kxu-An: Setting up session\n",
      "[Instagram] DG040Kxu-An: Downloading JSON metadata\n"
     ]
    },
    {
     "name": "stderr",
     "output_type": "stream",
     "text": [
      "ERROR: [Instagram] DG040Kxu-An: Instagram sent an empty media response. Check if this post is accessible in your browser without being logged-in. If it is not, then use --cookies-from-browser or --cookies for the authentication. See  https://github.com/yt-dlp/yt-dlp/wiki/FAQ#how-do-i-pass-cookies-to-yt-dlp  for how to manually pass cookies. Otherwise, if the post is accessible in browser without being logged-in, please report this issue on  https://github.com/yt-dlp/yt-dlp/issues?q= , filling out the appropriate issue template. Confirm you are on the latest version using  yt-dlp -U\n"
     ]
    },
    {
     "name": "stdout",
     "output_type": "stream",
     "text": [
      "Downloaded ansiedade video 22\n",
      "[Instagram] Extracting URL: https://www.instagram.com/reel/C9smnmiyRmg/?igsh=dGZvNmIwZXBweGc1\n",
      "[Instagram] C9smnmiyRmg: Setting up session\n",
      "[Instagram] C9smnmiyRmg: Downloading JSON metadata\n",
      "[info] C9smnmiyRmg: Downloading 1 format(s): dash-830872905377057ad\n",
      "[download] Destination: ./Videos/ansiedade/22_C9smnmiyRmg.m4a\n",
      "[download] 100% of  108.13KiB in 00:00:00 at 598.36KiB/s \n",
      "[FixupM4a] Correcting container of \"./Videos/ansiedade/22_C9smnmiyRmg.m4a\"\n",
      "[ExtractAudio] Destination: ./Videos/ansiedade/22_C9smnmiyRmg.wav\n",
      "Deleting original file ./Videos/ansiedade/22_C9smnmiyRmg.m4a (pass -k to keep)\n",
      "Downloaded ansiedade video 23\n",
      "[Instagram] Extracting URL: https://www.instagram.com/reel/Cy3Dpd4u2mA/?igsh=MWZhcnQzYXJpODJzOA==\n",
      "[Instagram] Cy3Dpd4u2mA: Setting up session\n",
      "[Instagram] Cy3Dpd4u2mA: Downloading JSON metadata\n",
      "[info] Cy3Dpd4u2mA: Downloading 1 format(s): dash-997869531328215ad\n",
      "[download] Destination: ./Videos/ansiedade/23_Cy3Dpd4u2mA.m4a\n",
      "[download] 100% of  607.24KiB in 00:00:00 at 7.74MiB/s   \n",
      "[FixupM4a] Correcting container of \"./Videos/ansiedade/23_Cy3Dpd4u2mA.m4a\"\n",
      "[ExtractAudio] Destination: ./Videos/ansiedade/23_Cy3Dpd4u2mA.wav\n",
      "Deleting original file ./Videos/ansiedade/23_Cy3Dpd4u2mA.m4a (pass -k to keep)\n",
      "Downloaded ansiedade video 24\n",
      "[Instagram] Extracting URL: https://www.instagram.com/reel/DHsw8yeO8NO/?igsh=dTkwcTc1NjFjaWo3\n",
      "[Instagram] DHsw8yeO8NO: Setting up session\n",
      "[Instagram] DHsw8yeO8NO: Downloading JSON metadata\n",
      "[info] DHsw8yeO8NO: Downloading 1 format(s): dash-669084408953312ad\n",
      "[download] Destination: ./Videos/ansiedade/24_DHsw8yeO8NO.m4a\n",
      "[download] 100% of  222.23KiB in 00:00:00 at 5.15MiB/s   \n",
      "[FixupM4a] Correcting container of \"./Videos/ansiedade/24_DHsw8yeO8NO.m4a\"\n",
      "[ExtractAudio] Destination: ./Videos/ansiedade/24_DHsw8yeO8NO.wav\n",
      "Deleting original file ./Videos/ansiedade/24_DHsw8yeO8NO.m4a (pass -k to keep)\n",
      "Downloaded ansiedade video 25\n",
      "[Instagram] Extracting URL: https://www.instagram.com/reel/DFxKFhURbku/?igsh=OGoxOWJyZ2gzZWMz\n",
      "[Instagram] DFxKFhURbku: Setting up session\n",
      "[Instagram] DFxKFhURbku: Downloading JSON metadata\n",
      "[info] DFxKFhURbku: Downloading 1 format(s): dash-945333301116440ad\n",
      "[download] Destination: ./Videos/ansiedade/25_DFxKFhURbku.m4a\n",
      "[download] 100% of  340.17KiB in 00:00:00 at 2.57MiB/s   \n",
      "[FixupM4a] Correcting container of \"./Videos/ansiedade/25_DFxKFhURbku.m4a\"\n",
      "[ExtractAudio] Destination: ./Videos/ansiedade/25_DFxKFhURbku.wav\n",
      "Deleting original file ./Videos/ansiedade/25_DFxKFhURbku.m4a (pass -k to keep)\n",
      "Downloaded ansiedade video 26\n",
      "[Instagram] Extracting URL: https://www.instagram.com/reel/CvgSgassFg0/?igsh=MWhldWw0bHMyOW4xZA==\n",
      "[Instagram] CvgSgassFg0: Setting up session\n",
      "[Instagram] CvgSgassFg0: Downloading JSON metadata\n",
      "[info] CvgSgassFg0: Downloading 1 format(s): dash-2379098232283048ad\n",
      "[download] Destination: ./Videos/ansiedade/26_CvgSgassFg0.m4a\n",
      "[download] 100% of   44.51KiB in 00:00:00 at 1.26MiB/s   \n",
      "[FixupM4a] Correcting container of \"./Videos/ansiedade/26_CvgSgassFg0.m4a\"\n",
      "[ExtractAudio] Destination: ./Videos/ansiedade/26_CvgSgassFg0.wav\n",
      "Deleting original file ./Videos/ansiedade/26_CvgSgassFg0.m4a (pass -k to keep)\n",
      "Downloaded ansiedade video 27\n",
      "[Instagram] Extracting URL: https://www.instagram.com/reel/DGDi3npRQIc/?igsh=MXgzNHRrcTk5eDN1bQ==\n",
      "[Instagram] DGDi3npRQIc: Setting up session\n",
      "[Instagram] DGDi3npRQIc: Downloading JSON metadata\n",
      "[info] DGDi3npRQIc: Downloading 1 format(s): dash-671829732318882ad\n",
      "[download] Destination: ./Videos/ansiedade/27_DGDi3npRQIc.m4a\n",
      "[download] 100% of   72.97KiB in 00:00:00 at 1.85MiB/s   \n",
      "[FixupM4a] Correcting container of \"./Videos/ansiedade/27_DGDi3npRQIc.m4a\"\n",
      "[ExtractAudio] Destination: ./Videos/ansiedade/27_DGDi3npRQIc.wav\n",
      "Deleting original file ./Videos/ansiedade/27_DGDi3npRQIc.m4a (pass -k to keep)\n",
      "Downloaded ansiedade video 28\n",
      "[Instagram] Extracting URL: https://www.instagram.com/reel/DGNuPILRyat/?igsh=MTE0NzNhZTE0a2p4dQ==\n",
      "[Instagram] DGNuPILRyat: Setting up session\n",
      "[Instagram] DGNuPILRyat: Downloading JSON metadata\n",
      "[info] DGNuPILRyat: Downloading 1 format(s): dash-615125244593850ad\n",
      "[download] Destination: ./Videos/ansiedade/28_DGNuPILRyat.m4a\n",
      "[download] 100% of  106.55KiB in 00:00:00 at 2.53MiB/s   \n",
      "[FixupM4a] Correcting container of \"./Videos/ansiedade/28_DGNuPILRyat.m4a\"\n",
      "[ExtractAudio] Destination: ./Videos/ansiedade/28_DGNuPILRyat.wav\n",
      "Deleting original file ./Videos/ansiedade/28_DGNuPILRyat.m4a (pass -k to keep)\n",
      "Downloaded ansiedade video 29\n",
      "[Instagram] Extracting URL: https://www.instagram.com/reel/C1aWYnIPozR/?igsh=eXYyb2hhM25xeWpu\n",
      "[Instagram] C1aWYnIPozR: Setting up session\n",
      "[Instagram] C1aWYnIPozR: Downloading JSON metadata\n",
      "[info] C1aWYnIPozR: Downloading 1 format(s): dash-728890495839025ad\n",
      "[download] Destination: ./Videos/ansiedade/29_C1aWYnIPozR.m4a\n",
      "[download] 100% of  603.27KiB in 00:00:00 at 3.91MiB/s   \n",
      "[FixupM4a] Correcting container of \"./Videos/ansiedade/29_C1aWYnIPozR.m4a\"\n",
      "[ExtractAudio] Destination: ./Videos/ansiedade/29_C1aWYnIPozR.wav\n",
      "Deleting original file ./Videos/ansiedade/29_C1aWYnIPozR.m4a (pass -k to keep)\n",
      "Downloaded ansiedade video 30\n",
      "[Instagram] Extracting URL: https://www.instagram.com/reel/DGg2RXdy1j-/?igsh=MTZ6cGI5OW41Y3k3YQ==\n",
      "[Instagram] DGg2RXdy1j-: Setting up session\n",
      "[Instagram] DGg2RXdy1j-: Downloading JSON metadata\n",
      "[info] DGg2RXdy1j-: Downloading 1 format(s): dash-1275589786855623ad\n",
      "[download] Destination: ./Videos/ansiedade/30_DGg2RXdy1j-.m4a\n",
      "[download] 100% of   56.45KiB in 00:00:00 at 1.26MiB/s   \n",
      "[FixupM4a] Correcting container of \"./Videos/ansiedade/30_DGg2RXdy1j-.m4a\"\n",
      "[ExtractAudio] Destination: ./Videos/ansiedade/30_DGg2RXdy1j-.wav\n",
      "Deleting original file ./Videos/ansiedade/30_DGg2RXdy1j-.m4a (pass -k to keep)\n",
      "Downloaded ansiedade video 31\n",
      "[Instagram] Extracting URL: https://www.instagram.com/reel/DFn5FpmJe0H/?igsh=cHRnaHptNmRoN2dv\n",
      "[Instagram] DFn5FpmJe0H: Setting up session\n",
      "[Instagram] DFn5FpmJe0H: Downloading JSON metadata\n",
      "[info] DFn5FpmJe0H: Downloading 1 format(s): dash-1332448331108785ad\n",
      "[download] Destination: ./Videos/ansiedade/31_DFn5FpmJe0H.m4a\n",
      "[download] 100% of  146.06KiB in 00:00:00 at 489.39KiB/s \n",
      "[FixupM4a] Correcting container of \"./Videos/ansiedade/31_DFn5FpmJe0H.m4a\"\n",
      "[ExtractAudio] Destination: ./Videos/ansiedade/31_DFn5FpmJe0H.wav\n",
      "Deleting original file ./Videos/ansiedade/31_DFn5FpmJe0H.m4a (pass -k to keep)\n",
      "Downloaded ansiedade video 32\n",
      "[Instagram] Extracting URL: https://www.instagram.com/reel/DJEmOkLNtgY/?igsh=MWhvZ2V2dDN1cWo4eQ==\n",
      "[Instagram] DJEmOkLNtgY: Setting up session\n",
      "[Instagram] DJEmOkLNtgY: Downloading JSON metadata\n",
      "[info] DJEmOkLNtgY: Downloading 1 format(s): dash-1721595325232893ad\n",
      "[download] Destination: ./Videos/ansiedade/32_DJEmOkLNtgY.m4a\n",
      "[download] 100% of  317.97KiB in 00:00:00 at 5.26MiB/s   \n",
      "[FixupM4a] Correcting container of \"./Videos/ansiedade/32_DJEmOkLNtgY.m4a\"\n",
      "[ExtractAudio] Destination: ./Videos/ansiedade/32_DJEmOkLNtgY.wav\n",
      "Deleting original file ./Videos/ansiedade/32_DJEmOkLNtgY.m4a (pass -k to keep)\n",
      "Downloaded ansiedade video 33\n",
      "[Instagram] Extracting URL: https://www.instagram.com/reel/C-ldne6S5wG/?igsh=MTN0dWJvbDd5ZmJ1eg==\n",
      "[Instagram] C-ldne6S5wG: Setting up session\n",
      "[Instagram] C-ldne6S5wG: Downloading JSON metadata\n",
      "[info] C-ldne6S5wG: Downloading 1 format(s): dash-2176857186021158ad\n",
      "[download] Destination: ./Videos/ansiedade/33_C-ldne6S5wG.m4a\n",
      "[download] 100% of  508.30KiB in 00:00:00 at 2.20MiB/s     \n",
      "[FixupM4a] Correcting container of \"./Videos/ansiedade/33_C-ldne6S5wG.m4a\"\n",
      "[ExtractAudio] Destination: ./Videos/ansiedade/33_C-ldne6S5wG.wav\n",
      "Deleting original file ./Videos/ansiedade/33_C-ldne6S5wG.m4a (pass -k to keep)\n",
      "Downloaded ansiedade video 34\n",
      "[Instagram] Extracting URL: https://www.instagram.com/reel/CwQFok_NiFM/?igsh=ZWZ4dHlzeWdzMDQ=\n",
      "[Instagram] CwQFok_NiFM: Setting up session\n",
      "[Instagram] CwQFok_NiFM: Downloading JSON metadata\n",
      "[info] CwQFok_NiFM: Downloading 1 format(s): dash-816987853211667ad\n",
      "[download] Destination: ./Videos/ansiedade/34_CwQFok_NiFM.m4a\n",
      "[download] 100% of  211.86KiB in 00:00:00 at 1.04MiB/s   \n",
      "[FixupM4a] Correcting container of \"./Videos/ansiedade/34_CwQFok_NiFM.m4a\"\n",
      "[ExtractAudio] Destination: ./Videos/ansiedade/34_CwQFok_NiFM.wav\n",
      "Deleting original file ./Videos/ansiedade/34_CwQFok_NiFM.m4a (pass -k to keep)\n",
      "Downloaded ansiedade video 35\n",
      "[Instagram] Extracting URL: https://www.instagram.com/reel/DHr1-TrA9ym/?igsh=MXJuMWx5bGlxeTA4OQ==\n",
      "[Instagram] DHr1-TrA9ym: Setting up session\n",
      "[Instagram] DHr1-TrA9ym: Downloading JSON metadata\n",
      "[info] DHr1-TrA9ym: Downloading 1 format(s): dash-676323911597338ad\n",
      "[download] Destination: ./Videos/ansiedade/35_DHr1-TrA9ym.m4a\n",
      "[download] 100% of   42.16KiB in 00:00:00 at 1.22MiB/s   \n",
      "[FixupM4a] Correcting container of \"./Videos/ansiedade/35_DHr1-TrA9ym.m4a\"\n",
      "[ExtractAudio] Destination: ./Videos/ansiedade/35_DHr1-TrA9ym.wav\n",
      "Deleting original file ./Videos/ansiedade/35_DHr1-TrA9ym.m4a (pass -k to keep)\n",
      "Downloaded ansiedade video 36\n",
      "[Instagram] Extracting URL: https://www.instagram.com/reel/DFIT9jRO-Hn/?igsh=MWhncDBtYm5saW5ydA==\n",
      "[Instagram] DFIT9jRO-Hn: Setting up session\n",
      "[Instagram] DFIT9jRO-Hn: Downloading JSON metadata\n",
      "[info] DFIT9jRO-Hn: Downloading 1 format(s): dash-2662249270647949ad\n",
      "[download] Destination: ./Videos/ansiedade/36_DFIT9jRO-Hn.m4a\n",
      "[download] 100% of  287.13KiB in 00:00:00 at 6.47MiB/s   \n",
      "[FixupM4a] Correcting container of \"./Videos/ansiedade/36_DFIT9jRO-Hn.m4a\"\n",
      "[ExtractAudio] Destination: ./Videos/ansiedade/36_DFIT9jRO-Hn.wav\n",
      "Deleting original file ./Videos/ansiedade/36_DFIT9jRO-Hn.m4a (pass -k to keep)\n",
      "Downloaded ansiedade video 37\n",
      "[Instagram] Extracting URL: https://www.instagram.com/reel/C7X3GcFAqY6/?igsh=Z3RobnNlam9mNzl3\n",
      "[Instagram] C7X3GcFAqY6: Setting up session\n",
      "[Instagram] C7X3GcFAqY6: Downloading JSON metadata\n",
      "[info] C7X3GcFAqY6: Downloading 1 format(s): dash-417295947880187ad\n",
      "[download] Destination: ./Videos/ansiedade/37_C7X3GcFAqY6.m4a\n",
      "[download] 100% of   52.33KiB in 00:00:00 at 2.69MiB/s   \n",
      "[FixupM4a] Correcting container of \"./Videos/ansiedade/37_C7X3GcFAqY6.m4a\"\n",
      "[ExtractAudio] Destination: ./Videos/ansiedade/37_C7X3GcFAqY6.wav\n",
      "Deleting original file ./Videos/ansiedade/37_C7X3GcFAqY6.m4a (pass -k to keep)\n",
      "Downloaded ansiedade video 38\n",
      "[Instagram] Extracting URL: https://www.instagram.com/reel/DHuSp8ZvDuk/?igsh=MWF4YnppMjh2cTN3cQ==\n",
      "[Instagram] DHuSp8ZvDuk: Setting up session\n",
      "[Instagram] DHuSp8ZvDuk: Downloading JSON metadata\n",
      "[info] DHuSp8ZvDuk: Downloading 1 format(s): dash-602011049466132ad\n",
      "[download] Destination: ./Videos/ansiedade/38_DHuSp8ZvDuk.m4a\n",
      "[download] 100% of  112.73KiB in 00:00:00 at 3.08MiB/s   \n",
      "[FixupM4a] Correcting container of \"./Videos/ansiedade/38_DHuSp8ZvDuk.m4a\"\n",
      "[ExtractAudio] Destination: ./Videos/ansiedade/38_DHuSp8ZvDuk.wav\n",
      "Deleting original file ./Videos/ansiedade/38_DHuSp8ZvDuk.m4a (pass -k to keep)\n",
      "Downloaded ansiedade video 39\n",
      "[Instagram] Extracting URL: https://www.instagram.com/reel/DI0BPHdxloo/?igsh=eWRhaWV2YTc5bjNx\n",
      "[Instagram] DI0BPHdxloo: Setting up session\n",
      "[Instagram] DI0BPHdxloo: Downloading JSON metadata\n",
      "[info] DI0BPHdxloo: Downloading 1 format(s): dash-676808735040942ad\n",
      "[download] Destination: ./Videos/ansiedade/39_DI0BPHdxloo.m4a\n",
      "[download] 100% of  132.01KiB in 00:00:00 at 412.44KiB/s \n",
      "[FixupM4a] Correcting container of \"./Videos/ansiedade/39_DI0BPHdxloo.m4a\"\n",
      "[ExtractAudio] Destination: ./Videos/ansiedade/39_DI0BPHdxloo.wav\n",
      "Deleting original file ./Videos/ansiedade/39_DI0BPHdxloo.m4a (pass -k to keep)\n",
      "Downloaded ansiedade video 40\n",
      "[Instagram] Extracting URL: https://www.instagram.com/reel/DH7Z-D3u1-z/?igsh=djU1dnY0ODAwNGRx\n",
      "[Instagram] DH7Z-D3u1-z: Setting up session\n",
      "[Instagram] DH7Z-D3u1-z: Downloading JSON metadata\n",
      "[info] DH7Z-D3u1-z: Downloading 1 format(s): dash-682878354095720ad\n",
      "[download] Destination: ./Videos/ansiedade/40_DH7Z-D3u1-z.m4a\n",
      "[download] 100% of  354.20KiB in 00:00:00 at 8.86MiB/s   \n",
      "[FixupM4a] Correcting container of \"./Videos/ansiedade/40_DH7Z-D3u1-z.m4a\"\n",
      "[ExtractAudio] Destination: ./Videos/ansiedade/40_DH7Z-D3u1-z.wav\n",
      "Deleting original file ./Videos/ansiedade/40_DH7Z-D3u1-z.m4a (pass -k to keep)\n",
      "Downloaded ansiedade video 41\n",
      "[Instagram] Extracting URL: https://www.instagram.com/reel/DGAyEIlotw1/?igsh=MTJkMnRxOHhrODNteA==\n",
      "[Instagram] DGAyEIlotw1: Setting up session\n",
      "[Instagram] DGAyEIlotw1: Downloading JSON metadata\n",
      "[info] DGAyEIlotw1: Downloading 1 format(s): dash-1062065632600265ad\n",
      "[download] Destination: ./Videos/ansiedade/41_DGAyEIlotw1.m4a\n",
      "[download] 100% of  188.36KiB in 00:00:00 at 1.30MiB/s   \n",
      "[FixupM4a] Correcting container of \"./Videos/ansiedade/41_DGAyEIlotw1.m4a\"\n",
      "[ExtractAudio] Destination: ./Videos/ansiedade/41_DGAyEIlotw1.wav\n",
      "Deleting original file ./Videos/ansiedade/41_DGAyEIlotw1.m4a (pass -k to keep)\n",
      "Downloaded ansiedade video 42\n",
      "[Instagram] Extracting URL: https://www.instagram.com/reel/DCAaMEFSyYI/?igsh=MXRkcWRlYWdicjVxaw==\n",
      "[Instagram] DCAaMEFSyYI: Setting up session\n",
      "[Instagram] DCAaMEFSyYI: Downloading JSON metadata\n",
      "[info] DCAaMEFSyYI: Downloading 1 format(s): dash-591847593270341ad\n",
      "[download] Destination: ./Videos/ansiedade/42_DCAaMEFSyYI.m4a\n",
      "[download] 100% of  128.77KiB in 00:00:00 at 386.60KiB/s   \n",
      "[FixupM4a] Correcting container of \"./Videos/ansiedade/42_DCAaMEFSyYI.m4a\"\n",
      "[ExtractAudio] Destination: ./Videos/ansiedade/42_DCAaMEFSyYI.wav\n",
      "Deleting original file ./Videos/ansiedade/42_DCAaMEFSyYI.m4a (pass -k to keep)\n",
      "Downloaded ansiedade video 43\n",
      "[Instagram] Extracting URL: https://www.instagram.com/reel/DGG6DsmvlDG/?igsh=Y2RzeG52NzNocnlm\n",
      "[Instagram] DGG6DsmvlDG: Setting up session\n",
      "[Instagram] DGG6DsmvlDG: Downloading JSON metadata\n",
      "[info] DGG6DsmvlDG: Downloading 1 format(s): dash-9843928585727635ad\n",
      "[download] Destination: ./Videos/ansiedade/43_DGG6DsmvlDG.m4a\n",
      "[download] 100% of    1.04MiB in 00:00:00 at 14.41MiB/s  \n",
      "[FixupM4a] Correcting container of \"./Videos/ansiedade/43_DGG6DsmvlDG.m4a\"\n",
      "[ExtractAudio] Destination: ./Videos/ansiedade/43_DGG6DsmvlDG.wav\n",
      "Deleting original file ./Videos/ansiedade/43_DGG6DsmvlDG.m4a (pass -k to keep)\n",
      "Downloaded ansiedade video 44\n",
      "[Instagram] Extracting URL: https://www.instagram.com/reel/C_WpU89vvKx/?igsh=aXV0b3Rva3R6a282\n",
      "[Instagram] C_WpU89vvKx: Setting up session\n",
      "[Instagram] C_WpU89vvKx: Downloading JSON metadata\n",
      "[info] C_WpU89vvKx: Downloading 1 format(s): dash-382318604718775ad\n",
      "[download] Destination: ./Videos/ansiedade/44_C_WpU89vvKx.m4a\n",
      "[download] 100% of   76.33KiB in 00:00:00 at 375.07KiB/s \n",
      "[FixupM4a] Correcting container of \"./Videos/ansiedade/44_C_WpU89vvKx.m4a\"\n",
      "[ExtractAudio] Destination: ./Videos/ansiedade/44_C_WpU89vvKx.wav\n",
      "Deleting original file ./Videos/ansiedade/44_C_WpU89vvKx.m4a (pass -k to keep)\n",
      "Downloaded ansiedade video 45\n",
      "[Instagram] Extracting URL: https://www.instagram.com/reel/DH_vmA9PqYi/?igsh=MWt4MGpsejE1dnU0aQ==\n",
      "[Instagram] DH_vmA9PqYi: Setting up session\n",
      "[Instagram] DH_vmA9PqYi: Downloading JSON metadata\n",
      "[info] DH_vmA9PqYi: Downloading 1 format(s): dash-1324083442136848ad\n",
      "[download] Destination: ./Videos/ansiedade/45_DH_vmA9PqYi.m4a\n",
      "[download] 100% of   55.45KiB in 00:00:00 at 1.42MiB/s   \n",
      "[FixupM4a] Correcting container of \"./Videos/ansiedade/45_DH_vmA9PqYi.m4a\"\n",
      "[ExtractAudio] Destination: ./Videos/ansiedade/45_DH_vmA9PqYi.wav\n",
      "Deleting original file ./Videos/ansiedade/45_DH_vmA9PqYi.m4a (pass -k to keep)\n",
      "Downloaded ansiedade video 46\n",
      "[Instagram] Extracting URL: https://www.instagram.com/reel/DElX0BWxWXP/?igsh=YjJxMTRkOG9sb2o2\n",
      "[Instagram] DElX0BWxWXP: Setting up session\n",
      "[Instagram] DElX0BWxWXP: Downloading JSON metadata\n",
      "[info] DElX0BWxWXP: Downloading 1 format(s): dash-626221953165927ad\n",
      "[download] Destination: ./Videos/ansiedade/46_DElX0BWxWXP.m4a\n",
      "[download] 100% of   94.40KiB in 00:00:00 at 2.63MiB/s   \n",
      "[FixupM4a] Correcting container of \"./Videos/ansiedade/46_DElX0BWxWXP.m4a\"\n",
      "[ExtractAudio] Destination: ./Videos/ansiedade/46_DElX0BWxWXP.wav\n",
      "Deleting original file ./Videos/ansiedade/46_DElX0BWxWXP.m4a (pass -k to keep)\n",
      "Downloaded ansiedade video 47\n",
      "[Instagram] Extracting URL: https://www.instagram.com/reel/DCsM2OSuPRR/?igsh=emdzaTV2ZzV1Z2U5\n",
      "[Instagram] DCsM2OSuPRR: Setting up session\n",
      "[Instagram] DCsM2OSuPRR: Downloading JSON metadata\n",
      "[info] DCsM2OSuPRR: Downloading 1 format(s): dash-1312775863050155ad\n",
      "[download] Destination: ./Videos/ansiedade/47_DCsM2OSuPRR.m4a\n",
      "[download] 100% of   63.92KiB in 00:00:00 at 310.64KiB/s   \n",
      "[FixupM4a] Correcting container of \"./Videos/ansiedade/47_DCsM2OSuPRR.m4a\"\n",
      "[ExtractAudio] Destination: ./Videos/ansiedade/47_DCsM2OSuPRR.wav\n",
      "Deleting original file ./Videos/ansiedade/47_DCsM2OSuPRR.m4a (pass -k to keep)\n",
      "Downloaded ansiedade video 48\n",
      "[Instagram] Extracting URL: https://www.instagram.com/reel/DG5nyy_uXJf/?igsh=MXRlZjQ5M25vcGZybA==\n",
      "[Instagram] DG5nyy_uXJf: Setting up session\n",
      "[Instagram] DG5nyy_uXJf: Downloading JSON metadata\n",
      "[info] DG5nyy_uXJf: Downloading 1 format(s): dash-1191009479033905ad\n",
      "[download] Destination: ./Videos/ansiedade/48_DG5nyy_uXJf.m4a\n",
      "[download] 100% of  155.02KiB in 00:00:00 at 3.34MiB/s   \n",
      "[FixupM4a] Correcting container of \"./Videos/ansiedade/48_DG5nyy_uXJf.m4a\"\n",
      "[ExtractAudio] Destination: ./Videos/ansiedade/48_DG5nyy_uXJf.wav\n",
      "Deleting original file ./Videos/ansiedade/48_DG5nyy_uXJf.m4a (pass -k to keep)\n",
      "Downloaded ansiedade video 49\n",
      "[Instagram] Extracting URL: https://www.instagram.com/reel/C4NVcgFO0w4/?igsh=MTZ1Ymp5N3N1MW9zZg==\n",
      "[Instagram] C4NVcgFO0w4: Setting up session\n",
      "[Instagram] C4NVcgFO0w4: Downloading JSON metadata\n",
      "[info] C4NVcgFO0w4: Downloading 1 format(s): dash-352617064435751ad\n",
      "[download] Destination: ./Videos/ansiedade/49_C4NVcgFO0w4.m4a\n",
      "[download] 100% of  158.52KiB in 00:00:00 at 3.32MiB/s   \n",
      "[FixupM4a] Correcting container of \"./Videos/ansiedade/49_C4NVcgFO0w4.m4a\"\n",
      "[ExtractAudio] Destination: ./Videos/ansiedade/49_C4NVcgFO0w4.wav\n",
      "Deleting original file ./Videos/ansiedade/49_C4NVcgFO0w4.m4a (pass -k to keep)\n",
      "Downloaded ansiedade video 50\n",
      "[Instagram] Extracting URL: https://www.instagram.com/reel/DGHOuBnR6FR/?igsh=NGRibm84ZzJrMXVh\n",
      "[Instagram] DGHOuBnR6FR: Setting up session\n",
      "[Instagram] DGHOuBnR6FR: Downloading JSON metadata\n",
      "[info] DGHOuBnR6FR: Downloading 1 format(s): dash-1138117234652402ad\n",
      "[download] Destination: ./Videos/ansiedade/50_DGHOuBnR6FR.m4a\n",
      "[download] 100% of  326.61KiB in 00:00:00 at 1.69MiB/s   \n",
      "[FixupM4a] Correcting container of \"./Videos/ansiedade/50_DGHOuBnR6FR.m4a\"\n",
      "[ExtractAudio] Destination: ./Videos/ansiedade/50_DGHOuBnR6FR.wav\n",
      "Deleting original file ./Videos/ansiedade/50_DGHOuBnR6FR.m4a (pass -k to keep)\n",
      "Downloaded ansiedade video 51\n",
      "[Instagram] Extracting URL: https://www.instagram.com/reel/CyW7QyNOd1B/?igsh=cnIzemdqanpnYjFx\n",
      "[Instagram] CyW7QyNOd1B: Setting up session\n",
      "[Instagram] CyW7QyNOd1B: Downloading JSON metadata\n",
      "[info] CyW7QyNOd1B: Downloading 1 format(s): dash-1038800770592412ad\n",
      "[download] Destination: ./Videos/ansiedade/51_CyW7QyNOd1B.m4a\n",
      "[download] 100% of  150.29KiB in 00:00:00 at 2.01MiB/s   \n",
      "[FixupM4a] Correcting container of \"./Videos/ansiedade/51_CyW7QyNOd1B.m4a\"\n",
      "[ExtractAudio] Destination: ./Videos/ansiedade/51_CyW7QyNOd1B.wav\n",
      "Deleting original file ./Videos/ansiedade/51_CyW7QyNOd1B.m4a (pass -k to keep)\n",
      "Downloaded ansiedade video 52\n",
      "[Instagram] Extracting URL: https://www.instagram.com/reel/DIjDhhSxNpt/?igsh=MTc4YXJqb2Q3OWU4OA==\n",
      "[Instagram] DIjDhhSxNpt: Setting up session\n",
      "[Instagram] DIjDhhSxNpt: Downloading JSON metadata\n",
      "[info] DIjDhhSxNpt: Downloading 1 format(s): dash-1747340052882681ad\n",
      "[download] Destination: ./Videos/ansiedade/52_DIjDhhSxNpt.m4a\n",
      "[download] 100% of  348.20KiB in 00:00:00 at 861.24KiB/s \n",
      "[FixupM4a] Correcting container of \"./Videos/ansiedade/52_DIjDhhSxNpt.m4a\"\n",
      "[ExtractAudio] Destination: ./Videos/ansiedade/52_DIjDhhSxNpt.wav\n",
      "Deleting original file ./Videos/ansiedade/52_DIjDhhSxNpt.m4a (pass -k to keep)\n",
      "Downloaded ansiedade video 53\n",
      "[Instagram] Extracting URL: https://www.instagram.com/reel/C9Do1BKuvKE/?igsh=MWxlNmQ1eHh2MWhqaw==\n",
      "[Instagram] C9Do1BKuvKE: Setting up session\n",
      "[Instagram] C9Do1BKuvKE: Downloading JSON metadata\n",
      "[info] C9Do1BKuvKE: Downloading 1 format(s): dash-498417692716374ad\n",
      "[download] Destination: ./Videos/ansiedade/53_C9Do1BKuvKE.m4a\n",
      "[download] 100% of   46.82KiB in 00:00:00 at 1.23MiB/s     \n",
      "[FixupM4a] Correcting container of \"./Videos/ansiedade/53_C9Do1BKuvKE.m4a\"\n",
      "[ExtractAudio] Destination: ./Videos/ansiedade/53_C9Do1BKuvKE.wav\n",
      "Deleting original file ./Videos/ansiedade/53_C9Do1BKuvKE.m4a (pass -k to keep)\n",
      "Downloaded ansiedade video 54\n",
      "[Instagram] Extracting URL: https://www.instagram.com/reel/C-AnnGjugzS/?igsh=MXI1YjhhejlhMTc0dQ==\n",
      "[Instagram] C-AnnGjugzS: Setting up session\n",
      "[Instagram] C-AnnGjugzS: Downloading JSON metadata\n",
      "[info] C-AnnGjugzS: Downloading 1 format(s): dash-811823247761192ad\n",
      "[download] Destination: ./Videos/ansiedade/54_C-AnnGjugzS.m4a\n",
      "[download] 100% of   58.08KiB in 00:00:00 at 489.81KiB/s \n",
      "[FixupM4a] Correcting container of \"./Videos/ansiedade/54_C-AnnGjugzS.m4a\"\n",
      "[ExtractAudio] Destination: ./Videos/ansiedade/54_C-AnnGjugzS.wav\n",
      "Deleting original file ./Videos/ansiedade/54_C-AnnGjugzS.m4a (pass -k to keep)\n",
      "Downloaded ansiedade video 55\n",
      "[Instagram] Extracting URL: https://www.instagram.com/reel/DCgrhCZRu86/?igsh=MWpoM3dld3R1bHRzbA==\n",
      "[Instagram] DCgrhCZRu86: Setting up session\n",
      "[Instagram] DCgrhCZRu86: Downloading JSON metadata\n",
      "[info] DCgrhCZRu86: Downloading 1 format(s): dash-591585723291531ad\n",
      "[download] Destination: ./Videos/ansiedade/55_DCgrhCZRu86.m4a\n",
      "[download] 100% of  479.71KiB in 00:00:00 at 774.51KiB/s \n",
      "[FixupM4a] Correcting container of \"./Videos/ansiedade/55_DCgrhCZRu86.m4a\"\n",
      "[ExtractAudio] Destination: ./Videos/ansiedade/55_DCgrhCZRu86.wav\n",
      "Deleting original file ./Videos/ansiedade/55_DCgrhCZRu86.m4a (pass -k to keep)\n",
      "Downloaded ansiedade video 56\n",
      "[Instagram] Extracting URL: https://www.instagram.com/reel/DEsLSfGulnR/?igsh=eXh4OWl0bGRtNmg=\n",
      "[Instagram] DEsLSfGulnR: Setting up session\n",
      "[Instagram] DEsLSfGulnR: Downloading JSON metadata\n",
      "[info] DEsLSfGulnR: Downloading 1 format(s): dash-1138170731271472ad\n",
      "[download] Destination: ./Videos/ansiedade/56_DEsLSfGulnR.m4a\n",
      "[download] 100% of  126.21KiB in 00:00:00 at 3.23MiB/s   \n",
      "[FixupM4a] Correcting container of \"./Videos/ansiedade/56_DEsLSfGulnR.m4a\"\n",
      "[ExtractAudio] Destination: ./Videos/ansiedade/56_DEsLSfGulnR.wav\n",
      "Deleting original file ./Videos/ansiedade/56_DEsLSfGulnR.m4a (pass -k to keep)\n",
      "Downloaded ansiedade video 57\n",
      "[Instagram] Extracting URL: https://www.instagram.com/reel/DHlYKsCRyWU/?igsh=YjN5OHcyOHd0bjh0\n",
      "[Instagram] DHlYKsCRyWU: Setting up session\n",
      "[Instagram] DHlYKsCRyWU: Downloading JSON metadata\n",
      "[info] DHlYKsCRyWU: Downloading 1 format(s): dash-1437568667230325ad\n",
      "[download] Destination: ./Videos/ansiedade/57_DHlYKsCRyWU.m4a\n",
      "[download] 100% of   72.45KiB in 00:00:00 at 1.90MiB/s   \n",
      "[FixupM4a] Correcting container of \"./Videos/ansiedade/57_DHlYKsCRyWU.m4a\"\n",
      "[ExtractAudio] Destination: ./Videos/ansiedade/57_DHlYKsCRyWU.wav\n",
      "Deleting original file ./Videos/ansiedade/57_DHlYKsCRyWU.m4a (pass -k to keep)\n",
      "Downloaded ansiedade video 58\n",
      "[Instagram] Extracting URL: https://www.instagram.com/reel/DACEmxPP1gY/?igsh=YjJxNzdreWJhMncy\n",
      "[Instagram] DACEmxPP1gY: Setting up session\n",
      "[Instagram] DACEmxPP1gY: Downloading JSON metadata\n",
      "[info] DACEmxPP1gY: Downloading 1 format(s): dash-855425743399362ad\n",
      "[download] Destination: ./Videos/ansiedade/58_DACEmxPP1gY.m4a\n",
      "[download] 100% of  115.48KiB in 00:00:00 at 473.71KiB/s   \n",
      "[FixupM4a] Correcting container of \"./Videos/ansiedade/58_DACEmxPP1gY.m4a\"\n",
      "[ExtractAudio] Destination: ./Videos/ansiedade/58_DACEmxPP1gY.wav\n",
      "Deleting original file ./Videos/ansiedade/58_DACEmxPP1gY.m4a (pass -k to keep)\n",
      "Downloaded ansiedade video 59\n",
      "[Instagram] Extracting URL: https://www.instagram.com/reel/C82uoHmOVZQ/?igsh=MTJ1b2R3dmxmOTVtdg==\n",
      "[Instagram] C82uoHmOVZQ: Setting up session\n",
      "[Instagram] C82uoHmOVZQ: Downloading JSON metadata\n",
      "[info] C82uoHmOVZQ: Downloading 1 format(s): dash-1015863509927629ad\n",
      "[download] Destination: ./Videos/ansiedade/59_C82uoHmOVZQ.m4a\n",
      "[download] 100% of   46.83KiB in 00:00:00 at 1.28MiB/s   \n",
      "[FixupM4a] Correcting container of \"./Videos/ansiedade/59_C82uoHmOVZQ.m4a\"\n",
      "[ExtractAudio] Destination: ./Videos/ansiedade/59_C82uoHmOVZQ.wav\n",
      "Deleting original file ./Videos/ansiedade/59_C82uoHmOVZQ.m4a (pass -k to keep)\n",
      "Downloaded ansiedade video 60\n",
      "[Instagram] Extracting URL: https://www.instagram.com/reel/DJHKmWnNAcb/?igsh=cTRmYmp1N2VmNTQ2\n",
      "[Instagram] DJHKmWnNAcb: Setting up session\n",
      "[Instagram] DJHKmWnNAcb: Downloading JSON metadata\n",
      "[info] DJHKmWnNAcb: Downloading 1 format(s): dash-1423677428811839ad\n",
      "[download] Destination: ./Videos/ansiedade/60_DJHKmWnNAcb.m4a\n",
      "[download] 100% of  342.35KiB in 00:00:00 at 1.77MiB/s   \n",
      "[FixupM4a] Correcting container of \"./Videos/ansiedade/60_DJHKmWnNAcb.m4a\"\n",
      "[ExtractAudio] Destination: ./Videos/ansiedade/60_DJHKmWnNAcb.wav\n",
      "Deleting original file ./Videos/ansiedade/60_DJHKmWnNAcb.m4a (pass -k to keep)\n",
      "Downloaded ansiedade video 61\n",
      "[Instagram] Extracting URL: https://www.instagram.com/reel/DHPgTQXsm-W/?igsh=MWsxc25oNXEyeGdvaw==\n",
      "[Instagram] DHPgTQXsm-W: Setting up session\n",
      "[Instagram] DHPgTQXsm-W: Downloading JSON metadata\n",
      "[info] DHPgTQXsm-W: Downloading 1 format(s): dash-974685494814009ad\n",
      "[download] Destination: ./Videos/ansiedade/61_DHPgTQXsm-W.m4a\n",
      "[download] 100% of  139.26KiB in 00:00:00 at 465.83KiB/s \n",
      "[FixupM4a] Correcting container of \"./Videos/ansiedade/61_DHPgTQXsm-W.m4a\"\n",
      "[ExtractAudio] Destination: ./Videos/ansiedade/61_DHPgTQXsm-W.wav\n",
      "Deleting original file ./Videos/ansiedade/61_DHPgTQXsm-W.m4a (pass -k to keep)\n",
      "Downloaded ansiedade video 62\n",
      "[Instagram] Extracting URL: https://www.instagram.com/reel/DHqb2zqxldx/?igsh=MWYwbnFveTkzMGF1Nw==\n",
      "[Instagram] DHqb2zqxldx: Setting up session\n",
      "[Instagram] DHqb2zqxldx: Downloading JSON metadata\n",
      "[info] DHqb2zqxldx: Downloading 1 format(s): dash-1193946752244812ad\n",
      "[download] Destination: ./Videos/ansiedade/62_DHqb2zqxldx.m4a\n",
      "[download] 100% of  557.56KiB in 00:00:00 at 7.19MiB/s   \n",
      "[FixupM4a] Correcting container of \"./Videos/ansiedade/62_DHqb2zqxldx.m4a\"\n",
      "[ExtractAudio] Destination: ./Videos/ansiedade/62_DHqb2zqxldx.wav\n",
      "Deleting original file ./Videos/ansiedade/62_DHqb2zqxldx.m4a (pass -k to keep)\n",
      "Downloaded ansiedade video 63\n",
      "[Instagram] Extracting URL: https://www.instagram.com/reel/C8fqk31usMn/?igsh=MXRqM2FzYml4d3dydQ==\n",
      "[Instagram] C8fqk31usMn: Setting up session\n",
      "[Instagram] C8fqk31usMn: Downloading JSON metadata\n",
      "[info] C8fqk31usMn: Downloading 1 format(s): dash-1272093107262570ad\n",
      "[download] Destination: ./Videos/ansiedade/63_C8fqk31usMn.m4a\n",
      "[download] 100% of   35.05KiB in 00:00:00 at 1.08MiB/s   \n",
      "[FixupM4a] Correcting container of \"./Videos/ansiedade/63_C8fqk31usMn.m4a\"\n",
      "[ExtractAudio] Destination: ./Videos/ansiedade/63_C8fqk31usMn.wav\n",
      "Deleting original file ./Videos/ansiedade/63_C8fqk31usMn.m4a (pass -k to keep)\n",
      "Downloaded ansiedade video 64\n",
      "[Instagram] Extracting URL: https://www.instagram.com/reel/C_6lMempOlS/?igsh=MWxjZWNvcDNlYTB1ZQ==\n",
      "[Instagram] C_6lMempOlS: Setting up session\n",
      "[Instagram] C_6lMempOlS: Downloading JSON metadata\n",
      "[info] C_6lMempOlS: Downloading 1 format(s): dash-553741570329084ad\n",
      "[download] Destination: ./Videos/ansiedade/64_C_6lMempOlS.m4a\n",
      "[download] 100% of  170.91KiB in 00:00:00 at 544.52KiB/s   \n",
      "[FixupM4a] Correcting container of \"./Videos/ansiedade/64_C_6lMempOlS.m4a\"\n",
      "[ExtractAudio] Destination: ./Videos/ansiedade/64_C_6lMempOlS.wav\n",
      "Deleting original file ./Videos/ansiedade/64_C_6lMempOlS.m4a (pass -k to keep)\n",
      "Downloaded ansiedade video 65\n",
      "[Instagram] Extracting URL: https://www.instagram.com/reel/DIUs6IQvbmN/?igsh=MWR2OWZ1dnJzMTJmdQ==\n",
      "[Instagram] DIUs6IQvbmN: Setting up session\n",
      "[Instagram] DIUs6IQvbmN: Downloading JSON metadata\n",
      "[info] DIUs6IQvbmN: Downloading 1 format(s): dash-1864961834257583ad\n",
      "[download] Destination: ./Videos/ansiedade/65_DIUs6IQvbmN.m4a\n",
      "[download] 100% of  163.24KiB in 00:00:00 at 4.12MiB/s   \n",
      "[FixupM4a] Correcting container of \"./Videos/ansiedade/65_DIUs6IQvbmN.m4a\"\n",
      "[ExtractAudio] Destination: ./Videos/ansiedade/65_DIUs6IQvbmN.wav\n",
      "Deleting original file ./Videos/ansiedade/65_DIUs6IQvbmN.m4a (pass -k to keep)\n",
      "Downloaded ansiedade video 66\n",
      "[Instagram] Extracting URL: https://www.instagram.com/reel/DIsQSNIg3_X/?igsh=MnJvejFpbzhlcjQ1\n",
      "[Instagram] DIsQSNIg3_X: Setting up session\n",
      "[Instagram] DIsQSNIg3_X: Downloading JSON metadata\n",
      "[info] DIsQSNIg3_X: Downloading 1 format(s): dash-2490250774648629ad\n",
      "[download] Destination: ./Videos/ansiedade/66_DIsQSNIg3_X.m4a\n",
      "[download] 100% of   47.05KiB in 00:00:00 at 1.44MiB/s   \n",
      "[FixupM4a] Correcting container of \"./Videos/ansiedade/66_DIsQSNIg3_X.m4a\"\n",
      "[ExtractAudio] Destination: ./Videos/ansiedade/66_DIsQSNIg3_X.wav\n",
      "Deleting original file ./Videos/ansiedade/66_DIsQSNIg3_X.m4a (pass -k to keep)\n",
      "Downloaded ansiedade video 67\n",
      "[Instagram] Extracting URL: https://www.instagram.com/reel/DAWrL2wRNtr/?igsh=bWNxeXY3MGJ1enh2\n",
      "[Instagram] DAWrL2wRNtr: Setting up session\n",
      "[Instagram] DAWrL2wRNtr: Downloading JSON metadata\n",
      "[info] DAWrL2wRNtr: Downloading 1 format(s): dash-1777958512867379ad\n",
      "[download] Destination: ./Videos/ansiedade/67_DAWrL2wRNtr.m4a\n",
      "[download] 100% of  647.25KiB in 00:00:00 at 1.91MiB/s     \n",
      "[FixupM4a] Correcting container of \"./Videos/ansiedade/67_DAWrL2wRNtr.m4a\"\n",
      "[ExtractAudio] Destination: ./Videos/ansiedade/67_DAWrL2wRNtr.wav\n",
      "Deleting original file ./Videos/ansiedade/67_DAWrL2wRNtr.m4a (pass -k to keep)\n",
      "Downloaded ansiedade video 68\n",
      "[Instagram] Extracting URL: https://www.instagram.com/reel/DDUkM_4x2cp/?igsh=MW41dTJ6Y2VzMDh1YQ==\n",
      "[Instagram] DDUkM_4x2cp: Setting up session\n",
      "[Instagram] DDUkM_4x2cp: Downloading JSON metadata\n",
      "[info] DDUkM_4x2cp: Downloading 1 format(s): dash-1771389926955879ad\n",
      "[download] Destination: ./Videos/ansiedade/68_DDUkM_4x2cp.m4a\n",
      "[download] 100% of  181.57KiB in 00:00:00 at 4.42MiB/s   \n",
      "[FixupM4a] Correcting container of \"./Videos/ansiedade/68_DDUkM_4x2cp.m4a\"\n",
      "[ExtractAudio] Destination: ./Videos/ansiedade/68_DDUkM_4x2cp.wav\n",
      "Deleting original file ./Videos/ansiedade/68_DDUkM_4x2cp.m4a (pass -k to keep)\n",
      "Downloaded ansiedade video 69\n",
      "[Instagram] Extracting URL: https://www.instagram.com/reel/DCNAyPISWpa/?igsh=MTR0Nm42cHoxZHp0MA==\n",
      "[Instagram] DCNAyPISWpa: Setting up session\n",
      "[Instagram] DCNAyPISWpa: Downloading JSON metadata\n",
      "[info] DCNAyPISWpa: Downloading 1 format(s): dash-411541968686150ad\n",
      "[download] Destination: ./Videos/ansiedade/69_DCNAyPISWpa.m4a\n",
      "[download] 100% of  153.20KiB in 00:00:00 at 481.06KiB/s   \n",
      "[FixupM4a] Correcting container of \"./Videos/ansiedade/69_DCNAyPISWpa.m4a\"\n",
      "[ExtractAudio] Destination: ./Videos/ansiedade/69_DCNAyPISWpa.wav\n",
      "Deleting original file ./Videos/ansiedade/69_DCNAyPISWpa.m4a (pass -k to keep)\n",
      "Downloaded ansiedade video 70\n",
      "[Instagram] Extracting URL: https://www.instagram.com/reel/DBV9s6KgsLN/?igsh=MXVlNWg5c2N2Yzk2ZQ==\n",
      "[Instagram] DBV9s6KgsLN: Setting up session\n",
      "[Instagram] DBV9s6KgsLN: Downloading JSON metadata\n",
      "[info] DBV9s6KgsLN: Downloading 1 format(s): dash-491743550526329ad\n",
      "[download] Destination: ./Videos/ansiedade/70_DBV9s6KgsLN.m4a\n",
      "[download] 100% of   58.94KiB in 00:00:00 at 185.38KiB/s   \n",
      "[FixupM4a] Correcting container of \"./Videos/ansiedade/70_DBV9s6KgsLN.m4a\"\n",
      "[ExtractAudio] Destination: ./Videos/ansiedade/70_DBV9s6KgsLN.wav\n",
      "Deleting original file ./Videos/ansiedade/70_DBV9s6KgsLN.m4a (pass -k to keep)\n",
      "Downloaded ansiedade video 71\n",
      "[Instagram] Extracting URL: https://www.instagram.com/reel/C3tXYDKLUOU/?igsh=djd6emhnbzE0czlu\n",
      "[Instagram] C3tXYDKLUOU: Setting up session\n",
      "[Instagram] C3tXYDKLUOU: Downloading JSON metadata\n",
      "[info] C3tXYDKLUOU: Downloading 1 format(s): dash-933133564831596ad\n",
      "[download] Destination: ./Videos/ansiedade/71_C3tXYDKLUOU.m4a\n",
      "[download] 100% of  445.26KiB in 00:00:00 at 2.08MiB/s   \n",
      "[FixupM4a] Correcting container of \"./Videos/ansiedade/71_C3tXYDKLUOU.m4a\"\n",
      "[ExtractAudio] Destination: ./Videos/ansiedade/71_C3tXYDKLUOU.wav\n",
      "Deleting original file ./Videos/ansiedade/71_C3tXYDKLUOU.m4a (pass -k to keep)\n",
      "Downloaded ansiedade video 72\n",
      "[Instagram] Extracting URL: https://www.instagram.com/reel/C_G99PGOV-c/?igsh=MXJ2MXJtMXl3bWxubA==\n",
      "[Instagram] C_G99PGOV-c: Setting up session\n",
      "[Instagram] C_G99PGOV-c: Downloading JSON metadata\n",
      "[info] C_G99PGOV-c: Downloading 1 format(s): dash-7737120346396559ad\n",
      "[download] Destination: ./Videos/ansiedade/72_C_G99PGOV-c.m4a\n",
      "[download] 100% of  619.30KiB in 00:00:00 at 1.14MiB/s   \n",
      "[FixupM4a] Correcting container of \"./Videos/ansiedade/72_C_G99PGOV-c.m4a\"\n",
      "[ExtractAudio] Destination: ./Videos/ansiedade/72_C_G99PGOV-c.wav\n",
      "Deleting original file ./Videos/ansiedade/72_C_G99PGOV-c.m4a (pass -k to keep)\n",
      "Downloaded ansiedade video 73\n",
      "[Instagram] Extracting URL: https://www.instagram.com/reel/DGRdYuoJaP1/?igsh=Nzg1bmR3Y3Q3bHoy\n",
      "[Instagram] DGRdYuoJaP1: Setting up session\n",
      "[Instagram] DGRdYuoJaP1: Downloading JSON metadata\n",
      "[info] DGRdYuoJaP1: Downloading 1 format(s): dash-905628801782948ad\n",
      "[download] Destination: ./Videos/ansiedade/73_DGRdYuoJaP1.m4a\n",
      "[download] 100% of  399.24KiB in 00:00:00 at 1.15MiB/s   \n",
      "[FixupM4a] Correcting container of \"./Videos/ansiedade/73_DGRdYuoJaP1.m4a\"\n",
      "[ExtractAudio] Destination: ./Videos/ansiedade/73_DGRdYuoJaP1.wav\n",
      "Deleting original file ./Videos/ansiedade/73_DGRdYuoJaP1.m4a (pass -k to keep)\n",
      "Downloaded ansiedade video 74\n",
      "[Instagram] Extracting URL: https://www.instagram.com/reel/DFv2C8Ixudp/?igsh=OHdrOWttNjA0b2R5\n",
      "[Instagram] DFv2C8Ixudp: Setting up session\n",
      "[Instagram] DFv2C8Ixudp: Downloading JSON metadata\n",
      "[info] DFv2C8Ixudp: Downloading 1 format(s): dash-499780076113816ad\n",
      "[download] Destination: ./Videos/ansiedade/74_DFv2C8Ixudp.m4a\n",
      "[download] 100% of  183.43KiB in 00:00:00 at 4.27MiB/s   \n",
      "[FixupM4a] Correcting container of \"./Videos/ansiedade/74_DFv2C8Ixudp.m4a\"\n",
      "[ExtractAudio] Destination: ./Videos/ansiedade/74_DFv2C8Ixudp.wav\n",
      "Deleting original file ./Videos/ansiedade/74_DFv2C8Ixudp.m4a (pass -k to keep)\n",
      "Downloaded ansiedade video 75\n",
      "[Instagram] Extracting URL: https://www.instagram.com/reel/DIBwqrTxdRz/?igsh=aDQwa3JlcXk5aWFz\n",
      "[Instagram] DIBwqrTxdRz: Setting up session\n",
      "[Instagram] DIBwqrTxdRz: Downloading JSON metadata\n",
      "[info] DIBwqrTxdRz: Downloading 1 format(s): dash-1977686795973746ad\n",
      "[download] Destination: ./Videos/ansiedade/75_DIBwqrTxdRz.m4a\n",
      "[download] 100% of  436.63KiB in 00:00:00 at 2.73MiB/s   \n",
      "[FixupM4a] Correcting container of \"./Videos/ansiedade/75_DIBwqrTxdRz.m4a\"\n",
      "[ExtractAudio] Destination: ./Videos/ansiedade/75_DIBwqrTxdRz.wav\n",
      "Deleting original file ./Videos/ansiedade/75_DIBwqrTxdRz.m4a (pass -k to keep)\n",
      "Downloaded ansiedade video 76\n",
      "[Instagram] Extracting URL: https://www.instagram.com/reel/DI3vH5GN8nh/?igsh=NDRoNzR1dTM5MjQ4\n",
      "[Instagram] DI3vH5GN8nh: Setting up session\n",
      "[Instagram] DI3vH5GN8nh: Downloading JSON metadata\n",
      "[info] DI3vH5GN8nh: Downloading 1 format(s): dash-567784279183600ad\n",
      "[download] Destination: ./Videos/ansiedade/76_DI3vH5GN8nh.m4a\n",
      "[download] 100% of  319.62KiB in 00:00:00 at 6.73MiB/s   \n",
      "[FixupM4a] Correcting container of \"./Videos/ansiedade/76_DI3vH5GN8nh.m4a\"\n",
      "[ExtractAudio] Destination: ./Videos/ansiedade/76_DI3vH5GN8nh.wav\n",
      "Deleting original file ./Videos/ansiedade/76_DI3vH5GN8nh.m4a (pass -k to keep)\n",
      "Downloaded ansiedade video 77\n",
      "[Instagram] Extracting URL: https://www.instagram.com/reel/DF7sR6kxIyU/?igsh=MXI5cGVvbXlvdG1zMQ==\n",
      "[Instagram] DF7sR6kxIyU: Setting up session\n",
      "[Instagram] DF7sR6kxIyU: Downloading JSON metadata\n",
      "[info] DF7sR6kxIyU: Downloading 1 format(s): dash-28473573412257452ad\n",
      "[download] Destination: ./Videos/ansiedade/77_DF7sR6kxIyU.m4a\n",
      "[download] 100% of  326.09KiB in 00:00:00 at 1.03MiB/s   \n",
      "[FixupM4a] Correcting container of \"./Videos/ansiedade/77_DF7sR6kxIyU.m4a\"\n",
      "[ExtractAudio] Destination: ./Videos/ansiedade/77_DF7sR6kxIyU.wav\n",
      "Deleting original file ./Videos/ansiedade/77_DF7sR6kxIyU.m4a (pass -k to keep)\n",
      "Downloaded ansiedade video 78\n",
      "[Instagram] Extracting URL: https://www.instagram.com/reel/DG-qGpyRxO-/?igsh=dnRpbTRzZWVnMWdr\n",
      "[Instagram] DG-qGpyRxO-: Setting up session\n",
      "[Instagram] DG-qGpyRxO-: Downloading JSON metadata\n",
      "[info] DG-qGpyRxO-: Downloading 1 format(s): dash-1143300327544185ad\n",
      "[download] Destination: ./Videos/ansiedade/78_DG-qGpyRxO-.m4a\n",
      "[download] 100% of  466.15KiB in 00:00:00 at 8.78MiB/s   \n",
      "[FixupM4a] Correcting container of \"./Videos/ansiedade/78_DG-qGpyRxO-.m4a\"\n",
      "[ExtractAudio] Destination: ./Videos/ansiedade/78_DG-qGpyRxO-.wav\n",
      "Deleting original file ./Videos/ansiedade/78_DG-qGpyRxO-.m4a (pass -k to keep)\n",
      "Downloaded ansiedade video 79\n",
      "[Instagram] Extracting URL: https://www.instagram.com/reel/DHgBYHWuSr6/?igsh=dGo3b25nejBmdWlm\n",
      "[Instagram] DHgBYHWuSr6: Setting up session\n",
      "[Instagram] DHgBYHWuSr6: Downloading JSON metadata\n",
      "[info] DHgBYHWuSr6: Downloading 1 format(s): dash-1848347872393694ad\n",
      "[download] Destination: ./Videos/ansiedade/79_DHgBYHWuSr6.m4a\n",
      "[download] 100% of  417.68KiB in 00:00:00 at 8.12MiB/s   \n",
      "[FixupM4a] Correcting container of \"./Videos/ansiedade/79_DHgBYHWuSr6.m4a\"\n",
      "[ExtractAudio] Destination: ./Videos/ansiedade/79_DHgBYHWuSr6.wav\n",
      "Deleting original file ./Videos/ansiedade/79_DHgBYHWuSr6.m4a (pass -k to keep)\n",
      "Downloaded ansiedade video 80\n",
      "[Instagram] Extracting URL: https://www.instagram.com/reel/DIoWRTAxHY5/?igsh=ZTNpaDEwNmVzejZ5\n",
      "[Instagram] DIoWRTAxHY5: Setting up session\n",
      "[Instagram] DIoWRTAxHY5: Downloading JSON metadata\n",
      "[info] DIoWRTAxHY5: Downloading 1 format(s): dash-2363390434045342ad\n",
      "[download] Destination: ./Videos/ansiedade/80_DIoWRTAxHY5.m4a\n",
      "[download] 100% of  314.82KiB in 00:00:00 at 6.23MiB/s   \n",
      "[FixupM4a] Correcting container of \"./Videos/ansiedade/80_DIoWRTAxHY5.m4a\"\n",
      "[ExtractAudio] Destination: ./Videos/ansiedade/80_DIoWRTAxHY5.wav\n",
      "Deleting original file ./Videos/ansiedade/80_DIoWRTAxHY5.m4a (pass -k to keep)\n",
      "Downloaded ansiedade video 81\n",
      "[Instagram] Extracting URL: https://www.instagram.com/reel/DI83zhgtqhw/?igsh=bGtjd2lmZWN5eXMx\n",
      "[Instagram] DI83zhgtqhw: Setting up session\n",
      "[Instagram] DI83zhgtqhw: Downloading JSON metadata\n",
      "[info] DI83zhgtqhw: Downloading 1 format(s): dash-1839020056671044ad\n",
      "[download] Destination: ./Videos/ansiedade/81_DI83zhgtqhw.m4a\n",
      "[download] 100% of  384.45KiB in 00:00:00 at 549.41KiB/s \n",
      "[FixupM4a] Correcting container of \"./Videos/ansiedade/81_DI83zhgtqhw.m4a\"\n",
      "[ExtractAudio] Destination: ./Videos/ansiedade/81_DI83zhgtqhw.wav\n",
      "Deleting original file ./Videos/ansiedade/81_DI83zhgtqhw.m4a (pass -k to keep)\n",
      "Downloaded ansiedade video 82\n",
      "[Instagram] Extracting URL: https://www.instagram.com/reel/DHBO5dmRKlt/?igsh=Mjk1Ynl5MmRoZnRl\n",
      "[Instagram] DHBO5dmRKlt: Setting up session\n",
      "[Instagram] DHBO5dmRKlt: Downloading JSON metadata\n",
      "[info] DHBO5dmRKlt: Downloading 1 format(s): dash-1920826974991955ad\n",
      "[download] Destination: ./Videos/ansiedade/82_DHBO5dmRKlt.m4a\n",
      "[download] 100% of  361.65KiB in 00:00:00 at 6.31MiB/s   \n",
      "[FixupM4a] Correcting container of \"./Videos/ansiedade/82_DHBO5dmRKlt.m4a\"\n",
      "[ExtractAudio] Destination: ./Videos/ansiedade/82_DHBO5dmRKlt.wav\n",
      "Deleting original file ./Videos/ansiedade/82_DHBO5dmRKlt.m4a (pass -k to keep)\n",
      "Downloaded ansiedade video 83\n",
      "[Instagram] Extracting URL: https://www.instagram.com/reel/DGxtVkKRCpc/?igsh=eHVnM3ptdXoyOWo=\n",
      "[Instagram] DGxtVkKRCpc: Setting up session\n",
      "[Instagram] DGxtVkKRCpc: Downloading JSON metadata\n",
      "[info] DGxtVkKRCpc: Downloading 1 format(s): dash-592004277161270ad\n",
      "[download] Destination: ./Videos/ansiedade/83_DGxtVkKRCpc.m4a\n",
      "[download] 100% of  301.30KiB in 00:00:00 at 549.19KiB/s \n",
      "[FixupM4a] Correcting container of \"./Videos/ansiedade/83_DGxtVkKRCpc.m4a\"\n",
      "[ExtractAudio] Destination: ./Videos/ansiedade/83_DGxtVkKRCpc.wav\n",
      "Deleting original file ./Videos/ansiedade/83_DGxtVkKRCpc.m4a (pass -k to keep)\n",
      "Downloaded ansiedade video 84\n",
      "[Instagram] Extracting URL: https://www.instagram.com/reel/DHdfXEhRWQa/?igsh=MXVueWFob2tmemo3dQ==\n",
      "[Instagram] DHdfXEhRWQa: Setting up session\n",
      "[Instagram] DHdfXEhRWQa: Downloading JSON metadata\n",
      "[info] DHdfXEhRWQa: Downloading 1 format(s): dash-1695634561030425ad\n",
      "[download] Destination: ./Videos/ansiedade/84_DHdfXEhRWQa.m4a\n",
      "[download] 100% of  396.82KiB in 00:00:00 at 788.65KiB/s \n",
      "[FixupM4a] Correcting container of \"./Videos/ansiedade/84_DHdfXEhRWQa.m4a\"\n",
      "[ExtractAudio] Destination: ./Videos/ansiedade/84_DHdfXEhRWQa.wav\n",
      "Deleting original file ./Videos/ansiedade/84_DHdfXEhRWQa.m4a (pass -k to keep)\n",
      "Downloaded ansiedade video 85\n",
      "[Instagram] Extracting URL: https://www.instagram.com/reel/DGsbUfpRrJa/?igsh=aHJ2ZndmZm56ejlh\n",
      "[Instagram] DGsbUfpRrJa: Setting up session\n",
      "[Instagram] DGsbUfpRrJa: Downloading JSON metadata\n",
      "[info] DGsbUfpRrJa: Downloading 1 format(s): dash-434223223051773ad\n",
      "[download] Destination: ./Videos/ansiedade/85_DGsbUfpRrJa.m4a\n",
      "[download] 100% of  270.01KiB in 00:00:00 at 880.62KiB/s \n",
      "[FixupM4a] Correcting container of \"./Videos/ansiedade/85_DGsbUfpRrJa.m4a\"\n",
      "[ExtractAudio] Destination: ./Videos/ansiedade/85_DGsbUfpRrJa.wav\n",
      "Deleting original file ./Videos/ansiedade/85_DGsbUfpRrJa.m4a (pass -k to keep)\n",
      "Downloaded ansiedade video 86\n",
      "[Instagram] Extracting URL: https://www.instagram.com/reel/DHOEL1LRMoV/?igsh=MWdjbWhzMHl1cmg3dg==\n",
      "[Instagram] DHOEL1LRMoV: Setting up session\n",
      "[Instagram] DHOEL1LRMoV: Downloading JSON metadata\n",
      "[info] DHOEL1LRMoV: Downloading 1 format(s): dash-676079361536906ad\n",
      "[download] Destination: ./Videos/ansiedade/86_DHOEL1LRMoV.m4a\n",
      "[download] 100% of  277.47KiB in 00:00:00 at 5.54MiB/s   \n",
      "[FixupM4a] Correcting container of \"./Videos/ansiedade/86_DHOEL1LRMoV.m4a\"\n",
      "[ExtractAudio] Destination: ./Videos/ansiedade/86_DHOEL1LRMoV.wav\n",
      "Deleting original file ./Videos/ansiedade/86_DHOEL1LRMoV.m4a (pass -k to keep)\n",
      "Downloaded ansiedade video 87\n",
      "[Instagram] Extracting URL: https://www.instagram.com/reel/DJB6SpsNLRo/?igsh=eHR2bWVpZHozNmxn\n",
      "[Instagram] DJB6SpsNLRo: Setting up session\n",
      "[Instagram] DJB6SpsNLRo: Downloading JSON metadata\n",
      "[info] DJB6SpsNLRo: Downloading 1 format(s): dash-2041149989706635ad\n",
      "[download] Destination: ./Videos/ansiedade/87_DJB6SpsNLRo.m4a\n",
      "[download] 100% of  276.62KiB in 00:00:00 at 5.28MiB/s   \n",
      "[FixupM4a] Correcting container of \"./Videos/ansiedade/87_DJB6SpsNLRo.m4a\"\n",
      "[ExtractAudio] Destination: ./Videos/ansiedade/87_DJB6SpsNLRo.wav\n",
      "Deleting original file ./Videos/ansiedade/87_DJB6SpsNLRo.m4a (pass -k to keep)\n",
      "Downloaded ansiedade video 88\n",
      "[Instagram] Extracting URL: https://www.instagram.com/reel/DIq5AZhRlw0/?igsh=MWlnYXNuZDdqcXg5dA==\n",
      "[Instagram] DIq5AZhRlw0: Setting up session\n",
      "[Instagram] DIq5AZhRlw0: Downloading JSON metadata\n",
      "[info] DIq5AZhRlw0: Downloading 1 format(s): dash-561979819790509ad\n",
      "[download] Destination: ./Videos/ansiedade/88_DIq5AZhRlw0.m4a\n",
      "[download] 100% of  303.46KiB in 00:00:00 at 985.84KiB/s \n",
      "[FixupM4a] Correcting container of \"./Videos/ansiedade/88_DIq5AZhRlw0.m4a\"\n",
      "[ExtractAudio] Destination: ./Videos/ansiedade/88_DIq5AZhRlw0.wav\n",
      "Deleting original file ./Videos/ansiedade/88_DIq5AZhRlw0.m4a (pass -k to keep)\n",
      "Downloaded ansiedade video 89\n",
      "[Instagram] Extracting URL: https://www.instagram.com/reel/DIbXjgORR8n/?igsh=MXhxbHV3ajc2eWNocA==\n",
      "[Instagram] DIbXjgORR8n: Setting up session\n",
      "[Instagram] DIbXjgORR8n: Downloading JSON metadata\n",
      "[info] DIbXjgORR8n: Downloading 1 format(s): dash-886972766858282ad\n",
      "[download] Destination: ./Videos/ansiedade/89_DIbXjgORR8n.m4a\n",
      "[download] 100% of  343.21KiB in 00:00:00 at 7.12MiB/s   \n",
      "[FixupM4a] Correcting container of \"./Videos/ansiedade/89_DIbXjgORR8n.m4a\"\n",
      "[ExtractAudio] Destination: ./Videos/ansiedade/89_DIbXjgORR8n.wav\n",
      "Deleting original file ./Videos/ansiedade/89_DIbXjgORR8n.m4a (pass -k to keep)\n",
      "Downloaded ansiedade video 90\n",
      "[Instagram] Extracting URL: https://www.instagram.com/reel/DCjX6h8xth-/?igsh=MWVxYTJtZGxldnhqMg==\n",
      "[Instagram] DCjX6h8xth-: Setting up session\n",
      "[Instagram] DCjX6h8xth-: Downloading JSON metadata\n",
      "[info] DCjX6h8xth-: Downloading 1 format(s): dash-1619701976096825ad\n",
      "[download] Destination: ./Videos/ansiedade/90_DCjX6h8xth-.m4a\n",
      "[download] 100% of  328.78KiB in 00:00:00 at 594.09KiB/s \n",
      "[FixupM4a] Correcting container of \"./Videos/ansiedade/90_DCjX6h8xth-.m4a\"\n",
      "[ExtractAudio] Destination: ./Videos/ansiedade/90_DCjX6h8xth-.wav\n",
      "Deleting original file ./Videos/ansiedade/90_DCjX6h8xth-.m4a (pass -k to keep)\n",
      "Downloaded ansiedade video 91\n",
      "[Instagram] Extracting URL: https://www.instagram.com/reel/DIgn-GuNEAw/?igsh=MTA4bWRzaGJlendyag==\n",
      "[Instagram] DIgn-GuNEAw: Setting up session\n",
      "[Instagram] DIgn-GuNEAw: Downloading JSON metadata\n",
      "[info] DIgn-GuNEAw: Downloading 1 format(s): dash-2215144875569004ad\n",
      "[download] Destination: ./Videos/ansiedade/91_DIgn-GuNEAw.m4a\n",
      "[download] 100% of  413.02KiB in 00:00:00 at 8.10MiB/s   \n",
      "[FixupM4a] Correcting container of \"./Videos/ansiedade/91_DIgn-GuNEAw.m4a\"\n",
      "[ExtractAudio] Destination: ./Videos/ansiedade/91_DIgn-GuNEAw.wav\n",
      "Deleting original file ./Videos/ansiedade/91_DIgn-GuNEAw.m4a (pass -k to keep)\n",
      "Downloaded ansiedade video 92\n",
      "[Instagram] Extracting URL: https://www.instagram.com/reel/DIJYqGsR1jB/?igsh=MWJnaXl1d3lkMHdrMQ==\n",
      "[Instagram] DIJYqGsR1jB: Setting up session\n",
      "[Instagram] DIJYqGsR1jB: Downloading JSON metadata\n",
      "[info] DIJYqGsR1jB: Downloading 1 format(s): dash-561366986984252ad\n",
      "[download] Destination: ./Videos/ansiedade/92_DIJYqGsR1jB.m4a\n",
      "[download] 100% of  301.79KiB in 00:00:00 at 979.96KiB/s \n",
      "[FixupM4a] Correcting container of \"./Videos/ansiedade/92_DIJYqGsR1jB.m4a\"\n",
      "[ExtractAudio] Destination: ./Videos/ansiedade/92_DIJYqGsR1jB.wav\n",
      "Deleting original file ./Videos/ansiedade/92_DIJYqGsR1jB.m4a (pass -k to keep)\n",
      "Downloaded ansiedade video 93\n",
      "[Instagram] Extracting URL: https://www.instagram.com/reel/DGiRS9KxaPq/?igsh=MWx5b29xZzA2cnplOA==\n",
      "[Instagram] DGiRS9KxaPq: Setting up session\n",
      "[Instagram] DGiRS9KxaPq: Downloading JSON metadata\n",
      "[info] DGiRS9KxaPq: Downloading 1 format(s): dash-1181514790151288ad\n",
      "[download] Destination: ./Videos/ansiedade/93_DGiRS9KxaPq.m4a\n",
      "[download] 100% of  341.92KiB in 00:00:00 at 1.06MiB/s   \n",
      "[FixupM4a] Correcting container of \"./Videos/ansiedade/93_DGiRS9KxaPq.m4a\"\n",
      "[ExtractAudio] Destination: ./Videos/ansiedade/93_DGiRS9KxaPq.wav\n",
      "Deleting original file ./Videos/ansiedade/93_DGiRS9KxaPq.m4a (pass -k to keep)\n",
      "Downloaded ansiedade video 94\n",
      "[Instagram] Extracting URL: https://www.instagram.com/reel/DIY4rOAxGHx/?igsh=dnV4amQ1bGlzZG9q\n",
      "[Instagram] DIY4rOAxGHx: Setting up session\n",
      "[Instagram] DIY4rOAxGHx: Downloading JSON metadata\n",
      "[info] DIY4rOAxGHx: Downloading 1 format(s): dash-658506780290367ad\n",
      "[download] Destination: ./Videos/ansiedade/94_DIY4rOAxGHx.m4a\n",
      "[download] 100% of  268.55KiB in 00:00:00 at 5.74MiB/s   \n",
      "[FixupM4a] Correcting container of \"./Videos/ansiedade/94_DIY4rOAxGHx.m4a\"\n",
      "[ExtractAudio] Destination: ./Videos/ansiedade/94_DIY4rOAxGHx.wav\n",
      "Deleting original file ./Videos/ansiedade/94_DIY4rOAxGHx.m4a (pass -k to keep)\n",
      "Downloaded ansiedade video 95\n",
      "[Instagram] Extracting URL: https://www.instagram.com/reel/DGNzFNBRiQD/?igsh=dDE2OTg0M2xiNTFm\n",
      "[Instagram] DGNzFNBRiQD: Setting up session\n",
      "[Instagram] DGNzFNBRiQD: Downloading JSON metadata\n",
      "[info] DGNzFNBRiQD: Downloading 1 format(s): dash-977264571172864ad\n",
      "[download] Destination: ./Videos/ansiedade/95_DGNzFNBRiQD.m4a\n",
      "[download] 100% of  421.57KiB in 00:00:00 at 2.87MiB/s   \n",
      "[FixupM4a] Correcting container of \"./Videos/ansiedade/95_DGNzFNBRiQD.m4a\"\n",
      "[ExtractAudio] Destination: ./Videos/ansiedade/95_DGNzFNBRiQD.wav\n",
      "Deleting original file ./Videos/ansiedade/95_DGNzFNBRiQD.m4a (pass -k to keep)\n",
      "Downloaded ansiedade video 96\n",
      "[Instagram] Extracting URL: https://www.instagram.com/reel/DH0o2WbR5iB/?igsh=MnQybjE0OTF4cnc3\n",
      "[Instagram] DH0o2WbR5iB: Setting up session\n",
      "[Instagram] DH0o2WbR5iB: Downloading JSON metadata\n",
      "[info] DH0o2WbR5iB: Downloading 1 format(s): dash-1710032623230811ad\n",
      "[download] Destination: ./Videos/ansiedade/96_DH0o2WbR5iB.m4a\n",
      "[download] 100% of  295.75KiB in 00:00:00 at 5.82MiB/s   \n",
      "[FixupM4a] Correcting container of \"./Videos/ansiedade/96_DH0o2WbR5iB.m4a\"\n",
      "[ExtractAudio] Destination: ./Videos/ansiedade/96_DH0o2WbR5iB.wav\n",
      "Deleting original file ./Videos/ansiedade/96_DH0o2WbR5iB.m4a (pass -k to keep)\n",
      "Downloaded ansiedade video 97\n",
      "[Instagram] Extracting URL: https://www.instagram.com/reel/DG5kD17RFOd/?igsh=MWh1YmNrYjM2ZHZsZA==\n",
      "[Instagram] DG5kD17RFOd: Setting up session\n",
      "[Instagram] DG5kD17RFOd: Downloading JSON metadata\n",
      "[info] DG5kD17RFOd: Downloading 1 format(s): dash-622185514031936ad\n",
      "[download] Destination: ./Videos/ansiedade/97_DG5kD17RFOd.m4a\n",
      "[download] 100% of  300.99KiB in 00:00:00 at 6.65MiB/s   \n",
      "[FixupM4a] Correcting container of \"./Videos/ansiedade/97_DG5kD17RFOd.m4a\"\n",
      "[ExtractAudio] Destination: ./Videos/ansiedade/97_DG5kD17RFOd.wav\n",
      "Deleting original file ./Videos/ansiedade/97_DG5kD17RFOd.m4a (pass -k to keep)\n",
      "Downloaded ansiedade video 98\n",
      "[Instagram] Extracting URL: https://www.instagram.com/reel/DF2pUkDx6wD/?igsh=NWR6ZmZoMmJpbGJw\n",
      "[Instagram] DF2pUkDx6wD: Setting up session\n",
      "[Instagram] DF2pUkDx6wD: Downloading JSON metadata\n",
      "[info] DF2pUkDx6wD: Downloading 1 format(s): dash-2590630877802597ad\n",
      "[download] Destination: ./Videos/ansiedade/98_DF2pUkDx6wD.m4a\n",
      "[download] 100% of  330.35KiB in 00:00:00 at 1.05MiB/s   \n",
      "[FixupM4a] Correcting container of \"./Videos/ansiedade/98_DF2pUkDx6wD.m4a\"\n",
      "[ExtractAudio] Destination: ./Videos/ansiedade/98_DF2pUkDx6wD.wav\n",
      "Deleting original file ./Videos/ansiedade/98_DF2pUkDx6wD.m4a (pass -k to keep)\n",
      "Downloaded ansiedade video 99\n",
      "[Instagram] Extracting URL: https://www.instagram.com/reel/DH8YullRaAt/?igsh=MWdvam01ZzQwZ2liNw==\n",
      "[Instagram] DH8YullRaAt: Setting up session\n",
      "[Instagram] DH8YullRaAt: Downloading JSON metadata\n",
      "[info] DH8YullRaAt: Downloading 1 format(s): dash-1628874987998112ad\n",
      "[download] Destination: ./Videos/ansiedade/99_DH8YullRaAt.m4a\n",
      "[download] 100% of  409.76KiB in 00:00:00 at 2.30MiB/s   \n",
      "[FixupM4a] Correcting container of \"./Videos/ansiedade/99_DH8YullRaAt.m4a\"\n",
      "[ExtractAudio] Destination: ./Videos/ansiedade/99_DH8YullRaAt.wav\n",
      "Deleting original file ./Videos/ansiedade/99_DH8YullRaAt.m4a (pass -k to keep)\n",
      "Downloaded ansiedade video 100\n",
      "[Instagram] Extracting URL: https://www.instagram.com/reel/C-RPEsoN54p/?igsh=OG14OGtqazN1MnVm\n",
      "[Instagram] C-RPEsoN54p: Setting up session\n",
      "[Instagram] C-RPEsoN54p: Downloading JSON metadata\n",
      "[info] C-RPEsoN54p: Downloading 1 format(s): dash-505186725342133ad\n",
      "[download] Destination: ./Videos/TDAH/0_C-RPEsoN54p.m4a\n",
      "[download] 100% of  125.73KiB in 00:00:00 at 406.07KiB/s   \n",
      "[FixupM4a] Correcting container of \"./Videos/TDAH/0_C-RPEsoN54p.m4a\"\n",
      "[ExtractAudio] Destination: ./Videos/TDAH/0_C-RPEsoN54p.wav\n",
      "Deleting original file ./Videos/TDAH/0_C-RPEsoN54p.m4a (pass -k to keep)\n",
      "Downloaded TDAH video 1\n",
      "[Instagram] Extracting URL: https://www.instagram.com/reel/C-IJdt-RHt7/?igsh=MWdmZHltZzFyZXB0dA==\n",
      "[Instagram] C-IJdt-RHt7: Setting up session\n",
      "[Instagram] C-IJdt-RHt7: Downloading JSON metadata\n",
      "[info] C-IJdt-RHt7: Downloading 1 format(s): dash-1165520304668415ad\n",
      "[download] Destination: ./Videos/TDAH/1_C-IJdt-RHt7.m4a\n",
      "[download] 100% of  237.62KiB in 00:00:00 at 1.09MiB/s     \n",
      "[FixupM4a] Correcting container of \"./Videos/TDAH/1_C-IJdt-RHt7.m4a\"\n",
      "[ExtractAudio] Destination: ./Videos/TDAH/1_C-IJdt-RHt7.wav\n",
      "Deleting original file ./Videos/TDAH/1_C-IJdt-RHt7.m4a (pass -k to keep)\n",
      "Downloaded TDAH video 2\n",
      "[Instagram] Extracting URL: https://www.instagram.com/reel/C84pY3OxjI2/?igsh=djY1djRvMzE2dnpj\n",
      "[Instagram] C84pY3OxjI2: Setting up session\n"
     ]
    },
    {
     "name": "stderr",
     "output_type": "stream",
     "text": [
      "WARNING: [Instagram] C84pY3OxjI2: Instagram API is not granting access\n"
     ]
    },
    {
     "name": "stdout",
     "output_type": "stream",
     "text": [
      "[Instagram] C84pY3OxjI2: Downloading JSON metadata\n"
     ]
    },
    {
     "name": "stderr",
     "output_type": "stream",
     "text": [
      "ERROR: [Instagram] C84pY3OxjI2: Instagram sent an empty media response. Check if this post is accessible in your browser without being logged-in. If it is not, then use --cookies-from-browser or --cookies for the authentication. See  https://github.com/yt-dlp/yt-dlp/wiki/FAQ#how-do-i-pass-cookies-to-yt-dlp  for how to manually pass cookies. Otherwise, if the post is accessible in browser without being logged-in, please report this issue on  https://github.com/yt-dlp/yt-dlp/issues?q= , filling out the appropriate issue template. Confirm you are on the latest version using  yt-dlp -U\n"
     ]
    },
    {
     "name": "stdout",
     "output_type": "stream",
     "text": [
      "Downloaded TDAH video 3\n",
      "[Instagram] Extracting URL: https://www.instagram.com/reel/C8VgLihScuX/?igsh=Ymx2MXMyd3Jubjhx\n",
      "[Instagram] C8VgLihScuX: Setting up session\n",
      "[Instagram] C8VgLihScuX: Downloading JSON metadata\n",
      "[info] C8VgLihScuX: Downloading 1 format(s): dash-950079880199168ad\n",
      "[download] Destination: ./Videos/TDAH/3_C8VgLihScuX.m4a\n",
      "[download] 100% of  842.30KiB in 00:00:00 at 5.71MiB/s   \n",
      "[FixupM4a] Correcting container of \"./Videos/TDAH/3_C8VgLihScuX.m4a\"\n",
      "[ExtractAudio] Destination: ./Videos/TDAH/3_C8VgLihScuX.wav\n",
      "Deleting original file ./Videos/TDAH/3_C8VgLihScuX.m4a (pass -k to keep)\n",
      "Downloaded TDAH video 4\n",
      "[Instagram] Extracting URL: https://www.instagram.com/reel/C90cpPCJ5Lg/?igsh=MWY4Z243c3I3dnVqMw==\n",
      "[Instagram] C90cpPCJ5Lg: Setting up session\n",
      "[Instagram] C90cpPCJ5Lg: Downloading JSON metadata\n",
      "[info] C90cpPCJ5Lg: Downloading 1 format(s): dash-8509655262399574ad\n",
      "[download] Destination: ./Videos/TDAH/4_C90cpPCJ5Lg.m4a\n",
      "[download] 100% of   46.98KiB in 00:00:00 at 171.78KiB/s   \n",
      "[FixupM4a] Correcting container of \"./Videos/TDAH/4_C90cpPCJ5Lg.m4a\"\n",
      "[ExtractAudio] Destination: ./Videos/TDAH/4_C90cpPCJ5Lg.wav\n",
      "Deleting original file ./Videos/TDAH/4_C90cpPCJ5Lg.m4a (pass -k to keep)\n",
      "Downloaded TDAH video 5\n",
      "[Instagram] Extracting URL: https://www.instagram.com/reel/ChvStxvJXQd/?igsh=MWNxZzdiZnp2OWg1\n",
      "[Instagram] ChvStxvJXQd: Setting up session\n",
      "[Instagram] ChvStxvJXQd: Downloading JSON metadata\n",
      "[info] ChvStxvJXQd: Downloading 1 format(s): dash-5233109480145224ad\n",
      "[download] Destination: ./Videos/TDAH/5_ChvStxvJXQd.m4a\n",
      "[download] 100% of  464.11KiB in 00:00:00 at 1.39MiB/s     \n",
      "[FixupM4a] Correcting container of \"./Videos/TDAH/5_ChvStxvJXQd.m4a\"\n",
      "[ExtractAudio] Destination: ./Videos/TDAH/5_ChvStxvJXQd.wav\n",
      "Deleting original file ./Videos/TDAH/5_ChvStxvJXQd.m4a (pass -k to keep)\n",
      "Downloaded TDAH video 6\n",
      "[Instagram] Extracting URL: https://www.instagram.com/reel/Cu7fdTUNp9M/?igsh=MW80YTZ0dGl0ZnV6Yw==\n",
      "[Instagram] Cu7fdTUNp9M: Setting up session\n",
      "[Instagram] Cu7fdTUNp9M: Downloading JSON metadata\n",
      "[info] Cu7fdTUNp9M: Downloading 1 format(s): dash-294337716338077ad\n",
      "[download] Destination: ./Videos/TDAH/6_Cu7fdTUNp9M.m4a\n",
      "[download] 100% of    1.06MiB in 00:00:00 at 2.42MiB/s   \n",
      "[FixupM4a] Correcting container of \"./Videos/TDAH/6_Cu7fdTUNp9M.m4a\"\n",
      "[ExtractAudio] Destination: ./Videos/TDAH/6_Cu7fdTUNp9M.wav\n",
      "Deleting original file ./Videos/TDAH/6_Cu7fdTUNp9M.m4a (pass -k to keep)\n",
      "Downloaded TDAH video 7\n",
      "[Instagram] Extracting URL: https://www.instagram.com/reel/C8CjIcFOsOG/?igsh=M2xibWJtaW95bzBo\n",
      "[Instagram] C8CjIcFOsOG: Setting up session\n",
      "[Instagram] C8CjIcFOsOG: Downloading JSON metadata\n",
      "[info] C8CjIcFOsOG: Downloading 1 format(s): dash-865935002244579ad\n",
      "[download] Destination: ./Videos/TDAH/7_C8CjIcFOsOG.m4a\n",
      "[download] 100% of  292.76KiB in 00:00:00 at 887.93KiB/s \n",
      "[FixupM4a] Correcting container of \"./Videos/TDAH/7_C8CjIcFOsOG.m4a\"\n",
      "[ExtractAudio] Destination: ./Videos/TDAH/7_C8CjIcFOsOG.wav\n",
      "Deleting original file ./Videos/TDAH/7_C8CjIcFOsOG.m4a (pass -k to keep)\n",
      "Downloaded TDAH video 8\n",
      "[Instagram] Extracting URL: https://www.instagram.com/reel/C-BKEYBvjJr/?igsh=NTU0YnAwZWt6YjVx\n",
      "[Instagram] C-BKEYBvjJr: Setting up session\n",
      "[Instagram] C-BKEYBvjJr: Downloading JSON metadata\n",
      "[info] C-BKEYBvjJr: Downloading 1 format(s): dash-839513194796434ad\n",
      "[download] Destination: ./Videos/TDAH/8_C-BKEYBvjJr.m4a\n",
      "[download] 100% of  324.75KiB in 00:00:00 at 1.10MiB/s     \n",
      "[FixupM4a] Correcting container of \"./Videos/TDAH/8_C-BKEYBvjJr.m4a\"\n",
      "[ExtractAudio] Destination: ./Videos/TDAH/8_C-BKEYBvjJr.wav\n",
      "Deleting original file ./Videos/TDAH/8_C-BKEYBvjJr.m4a (pass -k to keep)\n",
      "Downloaded TDAH video 9\n",
      "[Instagram] Extracting URL: https://www.instagram.com/reel/C-TwugutcYc/?igsh=MWxhMnliemN2MG9vaQ==\n",
      "[Instagram] C-TwugutcYc: Setting up session\n",
      "[Instagram] C-TwugutcYc: Downloading JSON metadata\n",
      "[info] C-TwugutcYc: Downloading 1 format(s): dash-27155902697341968ad\n",
      "[download] Destination: ./Videos/TDAH/9_C-TwugutcYc.m4a\n",
      "[download] 100% of   57.51KiB in 00:00:00 at 189.32KiB/s   \n",
      "[FixupM4a] Correcting container of \"./Videos/TDAH/9_C-TwugutcYc.m4a\"\n",
      "[ExtractAudio] Destination: ./Videos/TDAH/9_C-TwugutcYc.wav\n",
      "Deleting original file ./Videos/TDAH/9_C-TwugutcYc.m4a (pass -k to keep)\n",
      "Downloaded TDAH video 10\n",
      "[Instagram] Extracting URL: https://www.instagram.com/reel/C760FQTxl_3/?igsh=MWF1bmdjZmpyazR6OQ==\n",
      "[Instagram] C760FQTxl_3: Setting up session\n",
      "[Instagram] C760FQTxl_3: Downloading JSON metadata\n",
      "[info] C760FQTxl_3: Downloading 1 format(s): dash-1199331614436943ad\n",
      "[download] Destination: ./Videos/TDAH/10_C760FQTxl_3.m4a\n",
      "[download] 100% of  191.51KiB in 00:00:00 at 631.08KiB/s \n",
      "[FixupM4a] Correcting container of \"./Videos/TDAH/10_C760FQTxl_3.m4a\"\n",
      "[ExtractAudio] Destination: ./Videos/TDAH/10_C760FQTxl_3.wav\n",
      "Deleting original file ./Videos/TDAH/10_C760FQTxl_3.m4a (pass -k to keep)\n",
      "Downloaded TDAH video 11\n",
      "[Instagram] Extracting URL: https://www.instagram.com/reel/Cd4K2gQAINQ/?igsh=ejJpaDkzeXk5cjg4\n",
      "[Instagram] Cd4K2gQAINQ: Setting up session\n",
      "[Instagram] Cd4K2gQAINQ: Downloading JSON metadata\n",
      "[info] Cd4K2gQAINQ: Downloading 1 format(s): dash-608777654004187ad\n",
      "[download] Destination: ./Videos/TDAH/11_Cd4K2gQAINQ.m4a\n",
      "[download] 100% of  164.23KiB in 00:00:00 at 806.15KiB/s \n",
      "[FixupM4a] Correcting container of \"./Videos/TDAH/11_Cd4K2gQAINQ.m4a\"\n",
      "[ExtractAudio] Destination: ./Videos/TDAH/11_Cd4K2gQAINQ.wav\n",
      "Deleting original file ./Videos/TDAH/11_Cd4K2gQAINQ.m4a (pass -k to keep)\n",
      "Downloaded TDAH video 12\n",
      "[Instagram] Extracting URL: https://www.instagram.com/reel/C-X2vudRov_/?igsh=dW93bG9ieXprajY=\n",
      "[Instagram] C-X2vudRov_: Setting up session\n",
      "[Instagram] C-X2vudRov_: Downloading JSON metadata\n",
      "[info] C-X2vudRov_: Downloading 1 format(s): dash-860097972705454ad\n",
      "[download] Destination: ./Videos/TDAH/12_C-X2vudRov_.m4a\n",
      "[download] 100% of  273.88KiB in 00:00:00 at 651.51KiB/s   \n",
      "[FixupM4a] Correcting container of \"./Videos/TDAH/12_C-X2vudRov_.m4a\"\n",
      "[ExtractAudio] Destination: ./Videos/TDAH/12_C-X2vudRov_.wav\n",
      "Deleting original file ./Videos/TDAH/12_C-X2vudRov_.m4a (pass -k to keep)\n",
      "Downloaded TDAH video 13\n",
      "[Instagram] Extracting URL: https://www.instagram.com/reel/C9Xfzy7ByEt/?igsh=MXJuOG4zbGFwdGR5cQ==\n",
      "[Instagram] C9Xfzy7ByEt: Setting up session\n",
      "[Instagram] C9Xfzy7ByEt: Downloading JSON metadata\n",
      "[info] C9Xfzy7ByEt: Downloading 1 format(s): dash-973636327778044ad\n",
      "[download] Destination: ./Videos/TDAH/13_C9Xfzy7ByEt.m4a\n",
      "[download] 100% of  134.31KiB in 00:00:00 at 622.64KiB/s \n",
      "[FixupM4a] Correcting container of \"./Videos/TDAH/13_C9Xfzy7ByEt.m4a\"\n",
      "[ExtractAudio] Destination: ./Videos/TDAH/13_C9Xfzy7ByEt.wav\n",
      "Deleting original file ./Videos/TDAH/13_C9Xfzy7ByEt.m4a (pass -k to keep)\n",
      "Downloaded TDAH video 14\n",
      "[Instagram] Extracting URL: https://www.instagram.com/reel/C8hFpEiIT9J/?igsh=dXhxZGN0aThtNThy\n",
      "[Instagram] C8hFpEiIT9J: Setting up session\n",
      "[Instagram] C8hFpEiIT9J: Downloading JSON metadata\n",
      "[info] C8hFpEiIT9J: Downloading 1 format(s): dash-297004276736641ad\n",
      "[download] Destination: ./Videos/TDAH/14_C8hFpEiIT9J.m4a\n",
      "[download] 100% of  541.40KiB in 00:00:00 at 1.49MiB/s     \n",
      "[FixupM4a] Correcting container of \"./Videos/TDAH/14_C8hFpEiIT9J.m4a\"\n",
      "[ExtractAudio] Destination: ./Videos/TDAH/14_C8hFpEiIT9J.wav\n",
      "Deleting original file ./Videos/TDAH/14_C8hFpEiIT9J.m4a (pass -k to keep)\n",
      "Downloaded TDAH video 15\n",
      "[Instagram] Extracting URL: https://www.instagram.com/reel/C4GhbFHLdQ-/?igsh=MXMyYXU1ajkwNDVucg==\n",
      "[Instagram] C4GhbFHLdQ-: Setting up session\n",
      "[Instagram] C4GhbFHLdQ-: Downloading JSON metadata\n",
      "[info] C4GhbFHLdQ-: Downloading 1 format(s): dash-704735055186591ad\n",
      "[download] Destination: ./Videos/TDAH/15_C4GhbFHLdQ-.m4a\n",
      "[download] 100% of  202.40KiB in 00:00:00 at 1.13MiB/s   \n",
      "[FixupM4a] Correcting container of \"./Videos/TDAH/15_C4GhbFHLdQ-.m4a\"\n",
      "[ExtractAudio] Destination: ./Videos/TDAH/15_C4GhbFHLdQ-.wav\n",
      "Deleting original file ./Videos/TDAH/15_C4GhbFHLdQ-.m4a (pass -k to keep)\n",
      "Downloaded TDAH video 16\n",
      "[Instagram] Extracting URL: https://www.instagram.com/reel/C8ZrFTexwQ8/?igsh=MXJnZG1ibDhscmFkaw==\n",
      "[Instagram] C8ZrFTexwQ8: Setting up session\n",
      "[Instagram] C8ZrFTexwQ8: Downloading JSON metadata\n",
      "[info] C8ZrFTexwQ8: Downloading 1 format(s): dash-431097756493815ad\n",
      "[download] Destination: ./Videos/TDAH/16_C8ZrFTexwQ8.m4a\n",
      "[download] 100% of   96.40KiB in 00:00:00 at 438.38KiB/s \n",
      "[FixupM4a] Correcting container of \"./Videos/TDAH/16_C8ZrFTexwQ8.m4a\"\n",
      "[ExtractAudio] Destination: ./Videos/TDAH/16_C8ZrFTexwQ8.wav\n",
      "Deleting original file ./Videos/TDAH/16_C8ZrFTexwQ8.m4a (pass -k to keep)\n",
      "Downloaded TDAH video 17\n",
      "[Instagram] Extracting URL: https://www.instagram.com/reel/C-K5m5FOzZw/?igsh=am5hc2gwMDd4OTV6\n",
      "[Instagram] C-K5m5FOzZw: Setting up session\n",
      "[Instagram] C-K5m5FOzZw: Downloading JSON metadata\n"
     ]
    },
    {
     "name": "stderr",
     "output_type": "stream",
     "text": [
      "ERROR: [Instagram] C-K5m5FOzZw: Instagram sent an empty media response. Check if this post is accessible in your browser without being logged-in. If it is not, then use --cookies-from-browser or --cookies for the authentication. See  https://github.com/yt-dlp/yt-dlp/wiki/FAQ#how-do-i-pass-cookies-to-yt-dlp  for how to manually pass cookies. Otherwise, if the post is accessible in browser without being logged-in, please report this issue on  https://github.com/yt-dlp/yt-dlp/issues?q= , filling out the appropriate issue template. Confirm you are on the latest version using  yt-dlp -U\n"
     ]
    },
    {
     "name": "stdout",
     "output_type": "stream",
     "text": [
      "Downloaded TDAH video 18\n",
      "[Instagram] Extracting URL: https://www.instagram.com/reel/ClRumreAn3y/?igsh=MW02czBtdjBqanpnYQ==\n",
      "[Instagram] ClRumreAn3y: Setting up session\n",
      "[Instagram] ClRumreAn3y: Downloading JSON metadata\n",
      "[info] ClRumreAn3y: Downloading 1 format(s): dash-1241085783135980ad\n",
      "[download] Destination: ./Videos/TDAH/18_ClRumreAn3y.m4a\n",
      "[download] 100% of  480.31KiB in 00:00:00 at 9.09MiB/s   \n",
      "[FixupM4a] Correcting container of \"./Videos/TDAH/18_ClRumreAn3y.m4a\"\n",
      "[ExtractAudio] Destination: ./Videos/TDAH/18_ClRumreAn3y.wav\n",
      "Deleting original file ./Videos/TDAH/18_ClRumreAn3y.m4a (pass -k to keep)\n",
      "Downloaded TDAH video 19\n",
      "[Instagram] Extracting URL: https://www.instagram.com/reel/C-F6hHrxlyV/?igsh=MWVpdWJucnRxdmVnbw==\n",
      "[Instagram] C-F6hHrxlyV: Setting up session\n",
      "[Instagram] C-F6hHrxlyV: Downloading JSON metadata\n",
      "[info] C-F6hHrxlyV: Downloading 1 format(s): dash-473415685621005ad\n",
      "[download] Destination: ./Videos/TDAH/19_C-F6hHrxlyV.m4a\n",
      "[download] 100% of  655.69KiB in 00:00:00 at 2.10MiB/s     \n",
      "[FixupM4a] Correcting container of \"./Videos/TDAH/19_C-F6hHrxlyV.m4a\"\n",
      "[ExtractAudio] Destination: ./Videos/TDAH/19_C-F6hHrxlyV.wav\n",
      "Deleting original file ./Videos/TDAH/19_C-F6hHrxlyV.m4a (pass -k to keep)\n",
      "Downloaded TDAH video 20\n",
      "[Instagram] Extracting URL: https://www.instagram.com/reel/C9NBAkyq_OD/?igsh=MTFyOHM5anBuOGFtaA==\n",
      "[Instagram] C9NBAkyq_OD: Setting up session\n",
      "[Instagram] C9NBAkyq_OD: Downloading JSON metadata\n",
      "[info] C9NBAkyq_OD: Downloading 1 format(s): dash-1791020078101946ad\n",
      "[download] Destination: ./Videos/TDAH/20_C9NBAkyq_OD.m4a\n",
      "[download] 100% of  114.28KiB in 00:00:00 at 719.07KiB/s \n",
      "[FixupM4a] Correcting container of \"./Videos/TDAH/20_C9NBAkyq_OD.m4a\"\n",
      "[ExtractAudio] Destination: ./Videos/TDAH/20_C9NBAkyq_OD.wav\n",
      "Deleting original file ./Videos/TDAH/20_C9NBAkyq_OD.m4a (pass -k to keep)\n",
      "Downloaded TDAH video 21\n",
      "[Instagram] Extracting URL: https://www.instagram.com/reel/C9h18KIRW47/?igsh=MXAyMmwyZjg0Zjg4ZA==\n",
      "[Instagram] C9h18KIRW47: Setting up session\n",
      "[Instagram] C9h18KIRW47: Downloading JSON metadata\n",
      "[info] C9h18KIRW47: Downloading 1 format(s): dash-364514093091546ad\n",
      "[download] Destination: ./Videos/TDAH/21_C9h18KIRW47.m4a\n",
      "[download] 100% of  145.18KiB in 00:00:00 at 3.63MiB/s   \n",
      "[FixupM4a] Correcting container of \"./Videos/TDAH/21_C9h18KIRW47.m4a\"\n",
      "[ExtractAudio] Destination: ./Videos/TDAH/21_C9h18KIRW47.wav\n",
      "Deleting original file ./Videos/TDAH/21_C9h18KIRW47.m4a (pass -k to keep)\n",
      "Downloaded TDAH video 22\n",
      "[Instagram] Extracting URL: https://www.instagram.com/reel/C9XUC-lgHs2/?igsh=dG43YTAyeHFzYjln\n",
      "[Instagram] C9XUC-lgHs2: Setting up session\n",
      "[Instagram] C9XUC-lgHs2: Downloading JSON metadata\n",
      "[info] C9XUC-lgHs2: Downloading 1 format(s): dash-671071738563672ad\n",
      "[download] Destination: ./Videos/TDAH/22_C9XUC-lgHs2.m4a\n",
      "[download] 100% of  443.72KiB in 00:00:00 at 3.21MiB/s   \n",
      "[FixupM4a] Correcting container of \"./Videos/TDAH/22_C9XUC-lgHs2.m4a\"\n",
      "[ExtractAudio] Destination: ./Videos/TDAH/22_C9XUC-lgHs2.wav\n",
      "Deleting original file ./Videos/TDAH/22_C9XUC-lgHs2.m4a (pass -k to keep)\n",
      "Downloaded TDAH video 23\n",
      "[Instagram] Extracting URL: https://www.instagram.com/reel/C9W2pNQtSrP/?igsh=NmR0aDh0em0xY283\n",
      "[Instagram] C9W2pNQtSrP: Setting up session\n",
      "[Instagram] C9W2pNQtSrP: Downloading JSON metadata\n",
      "[info] C9W2pNQtSrP: Downloading 1 format(s): dash-967931178349270ad\n",
      "[download] Destination: ./Videos/TDAH/23_C9W2pNQtSrP.m4a\n",
      "[download] 100% of  119.66KiB in 00:00:00 at 380.58KiB/s   \n",
      "[FixupM4a] Correcting container of \"./Videos/TDAH/23_C9W2pNQtSrP.m4a\"\n",
      "[ExtractAudio] Destination: ./Videos/TDAH/23_C9W2pNQtSrP.wav\n",
      "Deleting original file ./Videos/TDAH/23_C9W2pNQtSrP.m4a (pass -k to keep)\n",
      "Downloaded TDAH video 24\n",
      "[Instagram] Extracting URL: https://www.instagram.com/reel/C-nVzzRur5p/?igsh=cXUzNTVibzBsa241\n",
      "[Instagram] C-nVzzRur5p: Setting up session\n",
      "[Instagram] C-nVzzRur5p: Downloading JSON metadata\n",
      "[info] C-nVzzRur5p: Downloading 1 format(s): dash-1419687955393159ad\n",
      "[download] Destination: ./Videos/TDAH/24_C-nVzzRur5p.m4a\n",
      "[download] 100% of  165.15KiB in 00:00:00 at 522.00KiB/s   \n",
      "[FixupM4a] Correcting container of \"./Videos/TDAH/24_C-nVzzRur5p.m4a\"\n",
      "[ExtractAudio] Destination: ./Videos/TDAH/24_C-nVzzRur5p.wav\n",
      "Deleting original file ./Videos/TDAH/24_C-nVzzRur5p.m4a (pass -k to keep)\n",
      "Downloaded TDAH video 25\n",
      "[Instagram] Extracting URL: https://www.instagram.com/reel/C9xYO5zsDj_/?igsh=NzM3MzVtYjNjMnky\n",
      "[Instagram] C9xYO5zsDj_: Setting up session\n",
      "[Instagram] C9xYO5zsDj_: Downloading JSON metadata\n",
      "[info] C9xYO5zsDj_: Downloading 1 format(s): dash-441173635577308ad\n",
      "[download] Destination: ./Videos/TDAH/25_C9xYO5zsDj_.m4a\n",
      "[download] 100% of   42.37KiB in 00:00:00 at 247.14KiB/s   \n",
      "[FixupM4a] Correcting container of \"./Videos/TDAH/25_C9xYO5zsDj_.m4a\"\n",
      "[ExtractAudio] Destination: ./Videos/TDAH/25_C9xYO5zsDj_.wav\n",
      "Deleting original file ./Videos/TDAH/25_C9xYO5zsDj_.m4a (pass -k to keep)\n",
      "Downloaded TDAH video 26\n",
      "[Instagram] Extracting URL: https://www.instagram.com/reel/Cf-Bg2Ssfc0/?igsh=MXJ1dHU1ZXBqNmF6dA==\n",
      "[Instagram] Cf-Bg2Ssfc0: Setting up session\n",
      "[Instagram] Cf-Bg2Ssfc0: Downloading JSON metadata\n",
      "[info] Cf-Bg2Ssfc0: Downloading 1 format(s): dash-1696133214095479ad\n",
      "[download] Destination: ./Videos/TDAH/26_Cf-Bg2Ssfc0.m4a\n",
      "[download] 100% of  782.59KiB in 00:00:00 at 3.84MiB/s   \n",
      "[FixupM4a] Correcting container of \"./Videos/TDAH/26_Cf-Bg2Ssfc0.m4a\"\n",
      "[ExtractAudio] Destination: ./Videos/TDAH/26_Cf-Bg2Ssfc0.wav\n",
      "Deleting original file ./Videos/TDAH/26_Cf-Bg2Ssfc0.m4a (pass -k to keep)\n",
      "Downloaded TDAH video 27\n",
      "[Instagram] Extracting URL: https://www.instagram.com/reel/C8CqKVwskQx/?igsh=enhsdmZ3Zzh0NHc3\n",
      "[Instagram] C8CqKVwskQx: Setting up session\n",
      "[Instagram] C8CqKVwskQx: Downloading JSON metadata\n",
      "[info] C8CqKVwskQx: Downloading 1 format(s): dash-1595402694339985ad\n",
      "[download] Destination: ./Videos/TDAH/27_C8CqKVwskQx.m4a\n",
      "[download] 100% of   32.82KiB in 00:00:00 at 107.58KiB/s   \n",
      "[FixupM4a] Correcting container of \"./Videos/TDAH/27_C8CqKVwskQx.m4a\"\n",
      "[ExtractAudio] Destination: ./Videos/TDAH/27_C8CqKVwskQx.wav\n",
      "Deleting original file ./Videos/TDAH/27_C8CqKVwskQx.m4a (pass -k to keep)\n",
      "Downloaded TDAH video 28\n",
      "[Instagram] Extracting URL: https://www.instagram.com/reel/C80APVyOKJt/?igsh=MWdlZGo2czZnbzBpMg==\n",
      "[Instagram] C80APVyOKJt: Setting up session\n",
      "[Instagram] C80APVyOKJt: Downloading JSON metadata\n",
      "[info] C80APVyOKJt: Downloading 1 format(s): 2\n",
      "[download] Destination: ./Videos/TDAH/28_C80APVyOKJt.mp4\n",
      "[download] 100% of  150.07KiB in 00:00:00 at 357.68KiB/s   \n"
     ]
    },
    {
     "name": "stderr",
     "output_type": "stream",
     "text": [
      "ERROR: Postprocessing: WARNING: unable to obtain file audio codec with ffprobe\n"
     ]
    },
    {
     "name": "stdout",
     "output_type": "stream",
     "text": [
      "Downloaded TDAH video 29\n",
      "[Instagram] Extracting URL: https://www.instagram.com/reel/CxEJZpxJ1da/?igsh=MTBwaGJ6azFwcHBvcQ==\n",
      "[Instagram] CxEJZpxJ1da: Setting up session\n",
      "[Instagram] CxEJZpxJ1da: Downloading JSON metadata\n",
      "[info] CxEJZpxJ1da: Downloading 1 format(s): dash-215534114584020ad\n",
      "[download] Destination: ./Videos/TDAH/29_CxEJZpxJ1da.m4a\n",
      "[download] 100% of  649.71KiB in 00:00:00 at 1.91MiB/s     \n",
      "[FixupM4a] Correcting container of \"./Videos/TDAH/29_CxEJZpxJ1da.m4a\"\n",
      "[ExtractAudio] Destination: ./Videos/TDAH/29_CxEJZpxJ1da.wav\n",
      "Deleting original file ./Videos/TDAH/29_CxEJZpxJ1da.m4a (pass -k to keep)\n",
      "Downloaded TDAH video 30\n",
      "[Instagram] Extracting URL: https://www.instagram.com/reel/C-EEw2wRq_V/?igsh=MTczZDBpYnhjOTU3cg==\n",
      "[Instagram] C-EEw2wRq_V: Setting up session\n",
      "[Instagram] C-EEw2wRq_V: Downloading JSON metadata\n",
      "[info] C-EEw2wRq_V: Downloading 1 format(s): dash-1030889215295882ad\n",
      "[download] Destination: ./Videos/TDAH/30_C-EEw2wRq_V.m4a\n",
      "[download] 100% of  319.29KiB in 00:00:00 at 1.36MiB/s     \n",
      "[FixupM4a] Correcting container of \"./Videos/TDAH/30_C-EEw2wRq_V.m4a\"\n",
      "[ExtractAudio] Destination: ./Videos/TDAH/30_C-EEw2wRq_V.wav\n",
      "Deleting original file ./Videos/TDAH/30_C-EEw2wRq_V.m4a (pass -k to keep)\n",
      "Downloaded TDAH video 31\n",
      "[Instagram] Extracting URL: https://www.instagram.com/reel/CkHOiriJkMr/?igsh=ZjhuMmliOXEzYTlx\n",
      "[Instagram] CkHOiriJkMr: Setting up session\n",
      "[Instagram] CkHOiriJkMr: Downloading JSON metadata\n",
      "[info] CkHOiriJkMr: Downloading 1 format(s): dash-1754489288244752ad\n",
      "[download] Destination: ./Videos/TDAH/31_CkHOiriJkMr.m4a\n",
      "[download] 100% of  336.95KiB in 00:00:00 at 1.61MiB/s   \n",
      "[FixupM4a] Correcting container of \"./Videos/TDAH/31_CkHOiriJkMr.m4a\"\n",
      "[ExtractAudio] Destination: ./Videos/TDAH/31_CkHOiriJkMr.wav\n",
      "Deleting original file ./Videos/TDAH/31_CkHOiriJkMr.m4a (pass -k to keep)\n",
      "Downloaded TDAH video 32\n",
      "[Instagram] Extracting URL: https://www.instagram.com/reel/C7zQM9pOIL7/?igsh=MXF0aHI1d3U1OWY4cg==\n",
      "[Instagram] C7zQM9pOIL7: Setting up session\n"
     ]
    },
    {
     "name": "stderr",
     "output_type": "stream",
     "text": [
      "WARNING: [Instagram] C7zQM9pOIL7: Instagram API is not granting access\n"
     ]
    },
    {
     "name": "stdout",
     "output_type": "stream",
     "text": [
      "[Instagram] C7zQM9pOIL7: Downloading JSON metadata\n"
     ]
    },
    {
     "name": "stderr",
     "output_type": "stream",
     "text": [
      "ERROR: [Instagram] C7zQM9pOIL7: Instagram sent an empty media response. Check if this post is accessible in your browser without being logged-in. If it is not, then use --cookies-from-browser or --cookies for the authentication. See  https://github.com/yt-dlp/yt-dlp/wiki/FAQ#how-do-i-pass-cookies-to-yt-dlp  for how to manually pass cookies. Otherwise, if the post is accessible in browser without being logged-in, please report this issue on  https://github.com/yt-dlp/yt-dlp/issues?q= , filling out the appropriate issue template. Confirm you are on the latest version using  yt-dlp -U\n"
     ]
    },
    {
     "name": "stdout",
     "output_type": "stream",
     "text": [
      "Downloaded TDAH video 33\n",
      "[Instagram] Extracting URL: https://www.instagram.com/reel/C7fvlhzsa5_/?igsh=YXNrN3dqMmc1enR2\n",
      "[Instagram] C7fvlhzsa5_: Setting up session\n",
      "[Instagram] C7fvlhzsa5_: Downloading JSON metadata\n",
      "[info] C7fvlhzsa5_: Downloading 1 format(s): dash-3403629756607446ad\n",
      "[download] Destination: ./Videos/TDAH/33_C7fvlhzsa5_.m4a\n",
      "[download] 100% of   22.01KiB in 00:00:00 at 152.66KiB/s \n",
      "[FixupM4a] Correcting container of \"./Videos/TDAH/33_C7fvlhzsa5_.m4a\"\n",
      "[ExtractAudio] Destination: ./Videos/TDAH/33_C7fvlhzsa5_.wav\n",
      "Deleting original file ./Videos/TDAH/33_C7fvlhzsa5_.m4a (pass -k to keep)\n",
      "Downloaded TDAH video 34\n",
      "[Instagram] Extracting URL: https://www.instagram.com/reel/C7hXT6ru3fb/?igsh=ZTRjeW43MDNhc3Fj\n",
      "[Instagram] C7hXT6ru3fb: Setting up session\n",
      "[Instagram] C7hXT6ru3fb: Downloading JSON metadata\n",
      "[info] C7hXT6ru3fb: Downloading 1 format(s): dash-1604796153588272ad\n",
      "[download] Destination: ./Videos/TDAH/34_C7hXT6ru3fb.m4a\n",
      "[download] 100% of  699.07KiB in 00:00:00 at 1.63MiB/s   \n",
      "[FixupM4a] Correcting container of \"./Videos/TDAH/34_C7hXT6ru3fb.m4a\"\n",
      "[ExtractAudio] Destination: ./Videos/TDAH/34_C7hXT6ru3fb.wav\n",
      "Deleting original file ./Videos/TDAH/34_C7hXT6ru3fb.m4a (pass -k to keep)\n",
      "Downloaded TDAH video 35\n",
      "[Instagram] Extracting URL: https://www.instagram.com/reel/C7kIBdfx6nP/?igsh=MTMzdWFhd3YwZThkdA==\n",
      "[Instagram] C7kIBdfx6nP: Setting up session\n",
      "[Instagram] C7kIBdfx6nP: Downloading JSON metadata\n",
      "[info] C7kIBdfx6nP: Downloading 1 format(s): dash-1806994396479182ad\n",
      "[download] Destination: ./Videos/TDAH/35_C7kIBdfx6nP.m4a\n",
      "[download] 100% of   84.86KiB in 00:00:00 at 412.80KiB/s   \n",
      "[FixupM4a] Correcting container of \"./Videos/TDAH/35_C7kIBdfx6nP.m4a\"\n",
      "[ExtractAudio] Destination: ./Videos/TDAH/35_C7kIBdfx6nP.wav\n",
      "Deleting original file ./Videos/TDAH/35_C7kIBdfx6nP.m4a (pass -k to keep)\n",
      "Downloaded TDAH video 36\n",
      "[Instagram] Extracting URL: https://www.instagram.com/reel/C7rPXB3uKfN/?igsh=MWgwa212b2ZiNzBpdw==\n",
      "[Instagram] C7rPXB3uKfN: Setting up session\n"
     ]
    },
    {
     "name": "stderr",
     "output_type": "stream",
     "text": [
      "WARNING: [Instagram] C7rPXB3uKfN: Instagram API is not granting access\n"
     ]
    },
    {
     "name": "stdout",
     "output_type": "stream",
     "text": [
      "[Instagram] C7rPXB3uKfN: Downloading JSON metadata\n"
     ]
    },
    {
     "name": "stderr",
     "output_type": "stream",
     "text": [
      "ERROR: [Instagram] C7rPXB3uKfN: Instagram sent an empty media response. Check if this post is accessible in your browser without being logged-in. If it is not, then use --cookies-from-browser or --cookies for the authentication. See  https://github.com/yt-dlp/yt-dlp/wiki/FAQ#how-do-i-pass-cookies-to-yt-dlp  for how to manually pass cookies. Otherwise, if the post is accessible in browser without being logged-in, please report this issue on  https://github.com/yt-dlp/yt-dlp/issues?q= , filling out the appropriate issue template. Confirm you are on the latest version using  yt-dlp -U\n"
     ]
    },
    {
     "name": "stdout",
     "output_type": "stream",
     "text": [
      "Downloaded TDAH video 37\n",
      "[Instagram] Extracting URL: https://www.instagram.com/reel/C7xCQ95xlh0/?igsh=ejNzbGU2NHB3YzE=\n",
      "[Instagram] C7xCQ95xlh0: Setting up session\n",
      "[Instagram] C7xCQ95xlh0: Downloading JSON metadata\n",
      "[info] C7xCQ95xlh0: Downloading 1 format(s): dash-1185955822838015ad\n",
      "[download] Destination: ./Videos/TDAH/37_C7xCQ95xlh0.m4a\n",
      "[download] 100% of  181.25KiB in 00:00:00 at 1.34MiB/s   \n",
      "[FixupM4a] Correcting container of \"./Videos/TDAH/37_C7xCQ95xlh0.m4a\"\n",
      "[ExtractAudio] Destination: ./Videos/TDAH/37_C7xCQ95xlh0.wav\n",
      "Deleting original file ./Videos/TDAH/37_C7xCQ95xlh0.m4a (pass -k to keep)\n",
      "Downloaded TDAH video 38\n",
      "[Instagram] Extracting URL: https://www.instagram.com/reel/C7E0z2vxv-x/?igsh=MWthbmMzZXlyOXk5bA==\n",
      "[Instagram] C7E0z2vxv-x: Setting up session\n",
      "[Instagram] C7E0z2vxv-x: Downloading JSON metadata\n",
      "[info] C7E0z2vxv-x: Downloading 1 format(s): dash-1640717483429427ad\n",
      "[download] Destination: ./Videos/TDAH/38_C7E0z2vxv-x.m4a\n",
      "[download] 100% of  744.90KiB in 00:00:00 at 2.23MiB/s   \n",
      "[FixupM4a] Correcting container of \"./Videos/TDAH/38_C7E0z2vxv-x.m4a\"\n",
      "[ExtractAudio] Destination: ./Videos/TDAH/38_C7E0z2vxv-x.wav\n",
      "Deleting original file ./Videos/TDAH/38_C7E0z2vxv-x.m4a (pass -k to keep)\n",
      "Downloaded TDAH video 39\n",
      "[Instagram] Extracting URL: https://www.instagram.com/reel/C7FQs8pP8hI/?igsh=MW0xaTQyN28zdGt1OQ==\n",
      "[Instagram] C7FQs8pP8hI: Setting up session\n",
      "[Instagram] C7FQs8pP8hI: Downloading JSON metadata\n",
      "[info] C7FQs8pP8hI: Downloading 1 format(s): dash-800007635529319ad\n",
      "[download] Destination: ./Videos/TDAH/39_C7FQs8pP8hI.m4a\n",
      "[download] 100% of  188.34KiB in 00:00:00 at 877.39KiB/s   \n",
      "[FixupM4a] Correcting container of \"./Videos/TDAH/39_C7FQs8pP8hI.m4a\"\n",
      "[ExtractAudio] Destination: ./Videos/TDAH/39_C7FQs8pP8hI.wav\n",
      "Deleting original file ./Videos/TDAH/39_C7FQs8pP8hI.m4a (pass -k to keep)\n",
      "Downloaded TDAH video 40\n",
      "[Instagram] Extracting URL: https://www.instagram.com/reel/C7RSwiGtpAx/?igsh=cXg1d24ybmM3NjA2\n",
      "[Instagram] C7RSwiGtpAx: Setting up session\n",
      "[Instagram] C7RSwiGtpAx: Downloading JSON metadata\n",
      "[info] C7RSwiGtpAx: Downloading 1 format(s): dash-467823875665037ad\n",
      "[download] Destination: ./Videos/TDAH/40_C7RSwiGtpAx.m4a\n",
      "[download] 100% of  710.48KiB in 00:00:00 at 2.78MiB/s   \n",
      "[FixupM4a] Correcting container of \"./Videos/TDAH/40_C7RSwiGtpAx.m4a\"\n",
      "[ExtractAudio] Destination: ./Videos/TDAH/40_C7RSwiGtpAx.wav\n",
      "Deleting original file ./Videos/TDAH/40_C7RSwiGtpAx.m4a (pass -k to keep)\n",
      "Downloaded TDAH video 41\n",
      "[Instagram] Extracting URL: https://www.instagram.com/reel/C7tmy-YOIpp/?igsh=eXFkbGxqOHdzMGpq\n",
      "[Instagram] C7tmy-YOIpp: Setting up session\n"
     ]
    },
    {
     "name": "stderr",
     "output_type": "stream",
     "text": [
      "WARNING: [Instagram] C7tmy-YOIpp: Instagram API is not granting access\n"
     ]
    },
    {
     "name": "stdout",
     "output_type": "stream",
     "text": [
      "[Instagram] C7tmy-YOIpp: Downloading JSON metadata\n"
     ]
    },
    {
     "name": "stderr",
     "output_type": "stream",
     "text": [
      "ERROR: [Instagram] C7tmy-YOIpp: Instagram sent an empty media response. Check if this post is accessible in your browser without being logged-in. If it is not, then use --cookies-from-browser or --cookies for the authentication. See  https://github.com/yt-dlp/yt-dlp/wiki/FAQ#how-do-i-pass-cookies-to-yt-dlp  for how to manually pass cookies. Otherwise, if the post is accessible in browser without being logged-in, please report this issue on  https://github.com/yt-dlp/yt-dlp/issues?q= , filling out the appropriate issue template. Confirm you are on the latest version using  yt-dlp -U\n"
     ]
    },
    {
     "name": "stdout",
     "output_type": "stream",
     "text": [
      "Downloaded TDAH video 42\n",
      "[Instagram] Extracting URL: https://www.instagram.com/reel/C80APVyOKJt/?igsh=MWdlZGo2czZnbzBpMg==\n",
      "[Instagram] C80APVyOKJt: Setting up session\n",
      "[Instagram] C80APVyOKJt: Downloading JSON metadata\n",
      "[info] C80APVyOKJt: Downloading 1 format(s): 2\n",
      "[download] Destination: ./Videos/TDAH/42_C80APVyOKJt.mp4\n",
      "[download] 100% of  150.07KiB in 00:00:00 at 5.73MiB/s   \n"
     ]
    },
    {
     "name": "stderr",
     "output_type": "stream",
     "text": [
      "ERROR: Postprocessing: WARNING: unable to obtain file audio codec with ffprobe\n"
     ]
    },
    {
     "name": "stdout",
     "output_type": "stream",
     "text": [
      "Downloaded TDAH video 43\n",
      "[Instagram] Extracting URL: https://www.instagram.com/reel/C83gm-cMRme/?igsh=aHdqZHI5NWZmOTVq\n",
      "[Instagram] C83gm-cMRme: Setting up session\n",
      "[Instagram] C83gm-cMRme: Downloading JSON metadata\n",
      "[info] C83gm-cMRme: Downloading 1 format(s): dash-1608390963348078ad\n",
      "[download] Destination: ./Videos/TDAH/43_C83gm-cMRme.m4a\n",
      "[download] 100% of   50.04KiB in 00:00:00 at 368.70KiB/s   \n",
      "[FixupM4a] Correcting container of \"./Videos/TDAH/43_C83gm-cMRme.m4a\"\n",
      "[ExtractAudio] Destination: ./Videos/TDAH/43_C83gm-cMRme.wav\n",
      "Deleting original file ./Videos/TDAH/43_C83gm-cMRme.m4a (pass -k to keep)\n",
      "Downloaded TDAH video 44\n",
      "[Instagram] Extracting URL: https://www.instagram.com/reel/C84pY3OxjI2/?igsh=djY1djRvMzE2dnpj\n",
      "[Instagram] C84pY3OxjI2: Setting up session\n"
     ]
    },
    {
     "name": "stderr",
     "output_type": "stream",
     "text": [
      "WARNING: [Instagram] C84pY3OxjI2: Instagram API is not granting access\n"
     ]
    },
    {
     "name": "stdout",
     "output_type": "stream",
     "text": [
      "[Instagram] C84pY3OxjI2: Downloading JSON metadata\n"
     ]
    },
    {
     "name": "stderr",
     "output_type": "stream",
     "text": [
      "ERROR: [Instagram] C84pY3OxjI2: Instagram sent an empty media response. Check if this post is accessible in your browser without being logged-in. If it is not, then use --cookies-from-browser or --cookies for the authentication. See  https://github.com/yt-dlp/yt-dlp/wiki/FAQ#how-do-i-pass-cookies-to-yt-dlp  for how to manually pass cookies. Otherwise, if the post is accessible in browser without being logged-in, please report this issue on  https://github.com/yt-dlp/yt-dlp/issues?q= , filling out the appropriate issue template. Confirm you are on the latest version using  yt-dlp -U\n"
     ]
    },
    {
     "name": "stdout",
     "output_type": "stream",
     "text": [
      "Downloaded TDAH video 45\n",
      "[Instagram] Extracting URL: https://www.instagram.com/reel/C87K-VXuzLC/?igsh=MXRudndpZGJodmtzZA==\n",
      "[Instagram] C87K-VXuzLC: Setting up session\n",
      "[Instagram] C87K-VXuzLC: Downloading JSON metadata\n",
      "[info] C87K-VXuzLC: Downloading 1 format(s): dash-1896304504148633ad\n",
      "[download] Destination: ./Videos/TDAH/45_C87K-VXuzLC.m4a\n",
      "[download] 100% of   49.42KiB in 00:00:00 at 247.32KiB/s   \n",
      "[FixupM4a] Correcting container of \"./Videos/TDAH/45_C87K-VXuzLC.m4a\"\n",
      "[ExtractAudio] Destination: ./Videos/TDAH/45_C87K-VXuzLC.wav\n",
      "Deleting original file ./Videos/TDAH/45_C87K-VXuzLC.m4a (pass -k to keep)\n",
      "Downloaded TDAH video 46\n",
      "[Instagram] Extracting URL: https://www.instagram.com/reel/C8-n_x0xt2C/?igsh=MW50MnI4NzdsZmExMA==\n",
      "[Instagram] C8-n_x0xt2C: Setting up session\n",
      "[Instagram] C8-n_x0xt2C: Downloading JSON metadata\n",
      "[info] C8-n_x0xt2C: Downloading 1 format(s): dash-1468912860664675ad\n",
      "[download] Destination: ./Videos/TDAH/46_C8-n_x0xt2C.m4a\n",
      "[download] 100% of  786.42KiB in 00:00:00 at 2.15MiB/s   \n",
      "[FixupM4a] Correcting container of \"./Videos/TDAH/46_C8-n_x0xt2C.m4a\"\n",
      "[ExtractAudio] Destination: ./Videos/TDAH/46_C8-n_x0xt2C.wav\n",
      "Deleting original file ./Videos/TDAH/46_C8-n_x0xt2C.m4a (pass -k to keep)\n",
      "Downloaded TDAH video 47\n",
      "[Instagram] Extracting URL: https://www.instagram.com/reel/C8ALpypprrd/?igsh=NTVnZjZxdDVsN29t\n",
      "[Instagram] C8ALpypprrd: Setting up session\n",
      "[Instagram] C8ALpypprrd: Downloading JSON metadata\n",
      "[info] C8ALpypprrd: Downloading 1 format(s): dash-1616473835873657ad\n",
      "[download] Destination: ./Videos/TDAH/47_C8ALpypprrd.m4a\n",
      "[download] 100% of  184.16KiB in 00:00:00 at 1.22MiB/s   \n",
      "[FixupM4a] Correcting container of \"./Videos/TDAH/47_C8ALpypprrd.m4a\"\n",
      "[ExtractAudio] Destination: ./Videos/TDAH/47_C8ALpypprrd.wav\n",
      "Deleting original file ./Videos/TDAH/47_C8ALpypprrd.m4a (pass -k to keep)\n",
      "Downloaded TDAH video 48\n",
      "[Instagram] Extracting URL: https://www.instagram.com/reel/C8CjIcFOsOG/?igsh=M2xibWJtaW95bzBo\n",
      "[Instagram] C8CjIcFOsOG: Setting up session\n",
      "[Instagram] C8CjIcFOsOG: Downloading JSON metadata\n",
      "[info] C8CjIcFOsOG: Downloading 1 format(s): dash-865935002244579ad\n",
      "[download] Destination: ./Videos/TDAH/48_C8CjIcFOsOG.m4a\n",
      "[download] 100% of  292.76KiB in 00:00:00 at 9.47MiB/s   \n",
      "[FixupM4a] Correcting container of \"./Videos/TDAH/48_C8CjIcFOsOG.m4a\"\n",
      "[ExtractAudio] Destination: ./Videos/TDAH/48_C8CjIcFOsOG.wav\n",
      "Deleting original file ./Videos/TDAH/48_C8CjIcFOsOG.m4a (pass -k to keep)\n",
      "Downloaded TDAH video 49\n",
      "[Instagram] Extracting URL: https://www.instagram.com/reel/C8CqKVwskQx/?igsh=enhsdmZ3Zzh0NHc3\n",
      "[Instagram] C8CqKVwskQx: Setting up session\n",
      "[Instagram] C8CqKVwskQx: Downloading JSON metadata\n",
      "[info] C8CqKVwskQx: Downloading 1 format(s): dash-1595402694339985ad\n",
      "[download] Destination: ./Videos/TDAH/49_C8CqKVwskQx.m4a\n",
      "[download] 100% of   32.82KiB in 00:00:00 at 2.08MiB/s     \n",
      "[FixupM4a] Correcting container of \"./Videos/TDAH/49_C8CqKVwskQx.m4a\"\n",
      "[ExtractAudio] Destination: ./Videos/TDAH/49_C8CqKVwskQx.wav\n",
      "Deleting original file ./Videos/TDAH/49_C8CqKVwskQx.m4a (pass -k to keep)\n",
      "Downloaded TDAH video 50\n",
      "[Instagram] Extracting URL: https://www.instagram.com/reel/C8H0zIkMFvA/?igsh=MWlwYXo4aTMyZDN5eA==\n",
      "[Instagram] C8H0zIkMFvA: Setting up session\n",
      "[Instagram] C8H0zIkMFvA: Downloading JSON metadata\n",
      "[info] C8H0zIkMFvA: Downloading 1 format(s): dash-374207725187448ad\n",
      "[download] Destination: ./Videos/TDAH/50_C8H0zIkMFvA.m4a\n",
      "[download] 100% of   36.21KiB in 00:00:00 at 135.91KiB/s   \n",
      "[FixupM4a] Correcting container of \"./Videos/TDAH/50_C8H0zIkMFvA.m4a\"\n",
      "[ExtractAudio] Destination: ./Videos/TDAH/50_C8H0zIkMFvA.wav\n",
      "Deleting original file ./Videos/TDAH/50_C8H0zIkMFvA.m4a (pass -k to keep)\n",
      "Downloaded TDAH video 51\n",
      "[Instagram] Extracting URL: https://www.instagram.com/reel/C8IDtptpXeb/?igsh=MTBvbGQ2ZnBxeXd5bw==\n",
      "[Instagram] C8IDtptpXeb: Setting up session\n"
     ]
    },
    {
     "name": "stderr",
     "output_type": "stream",
     "text": [
      "WARNING: [Instagram] C8IDtptpXeb: Instagram API is not granting access\n"
     ]
    },
    {
     "name": "stdout",
     "output_type": "stream",
     "text": [
      "[Instagram] C8IDtptpXeb: Downloading JSON metadata\n"
     ]
    },
    {
     "name": "stderr",
     "output_type": "stream",
     "text": [
      "ERROR: [Instagram] C8IDtptpXeb: Instagram sent an empty media response. Check if this post is accessible in your browser without being logged-in. If it is not, then use --cookies-from-browser or --cookies for the authentication. See  https://github.com/yt-dlp/yt-dlp/wiki/FAQ#how-do-i-pass-cookies-to-yt-dlp  for how to manually pass cookies. Otherwise, if the post is accessible in browser without being logged-in, please report this issue on  https://github.com/yt-dlp/yt-dlp/issues?q= , filling out the appropriate issue template. Confirm you are on the latest version using  yt-dlp -U\n"
     ]
    },
    {
     "name": "stdout",
     "output_type": "stream",
     "text": [
      "Downloaded TDAH video 52\n",
      "[Instagram] Extracting URL: https://www.instagram.com/reel/C8myX8TJpPa/?igsh=MWdybGR5MTVrcDl0eg==\n",
      "[Instagram] C8myX8TJpPa: Setting up session\n",
      "[Instagram] C8myX8TJpPa: Downloading JSON metadata\n",
      "[info] C8myX8TJpPa: Downloading 1 format(s): dash-1728879800851235ad\n",
      "[download] Destination: ./Videos/TDAH/52_C8myX8TJpPa.m4a\n",
      "[download] 100% of  550.70KiB in 00:00:00 at 1.59MiB/s     \n",
      "[FixupM4a] Correcting container of \"./Videos/TDAH/52_C8myX8TJpPa.m4a\"\n",
      "[ExtractAudio] Destination: ./Videos/TDAH/52_C8myX8TJpPa.wav\n",
      "Deleting original file ./Videos/TDAH/52_C8myX8TJpPa.m4a (pass -k to keep)\n",
      "Downloaded TDAH video 53\n",
      "[Instagram] Extracting URL: https://www.instagram.com/reel/C8qFf7lJhv3/?igsh=MWFvenhnOGg2ZTk2bQ==\n",
      "[Instagram] C8qFf7lJhv3: Setting up session\n",
      "[Instagram] C8qFf7lJhv3: Downloading JSON metadata\n",
      "[info] C8qFf7lJhv3: Downloading 1 format(s): dash-1556266431974988ad\n",
      "[download] Destination: ./Videos/TDAH/53_C8qFf7lJhv3.m4a\n",
      "[download] 100% of  155.24KiB in 00:00:00 at 3.90MiB/s   \n",
      "[FixupM4a] Correcting container of \"./Videos/TDAH/53_C8qFf7lJhv3.m4a\"\n",
      "[ExtractAudio] Destination: ./Videos/TDAH/53_C8qFf7lJhv3.wav\n",
      "Deleting original file ./Videos/TDAH/53_C8qFf7lJhv3.m4a (pass -k to keep)\n",
      "Downloaded TDAH video 54\n",
      "[Instagram] Extracting URL: https://www.instagram.com/reel/C8VgLihScuX/?igsh=Ymx2MXMyd3Jubjhx\n",
      "[Instagram] C8VgLihScuX: Setting up session\n",
      "[Instagram] C8VgLihScuX: Downloading JSON metadata\n",
      "[info] C8VgLihScuX: Downloading 1 format(s): dash-950079880199168ad\n",
      "[download] Destination: ./Videos/TDAH/54_C8VgLihScuX.m4a\n",
      "[download] 100% of  842.30KiB in 00:00:00 at 16.79MiB/s  \n",
      "[FixupM4a] Correcting container of \"./Videos/TDAH/54_C8VgLihScuX.m4a\"\n",
      "[ExtractAudio] Destination: ./Videos/TDAH/54_C8VgLihScuX.wav\n",
      "Deleting original file ./Videos/TDAH/54_C8VgLihScuX.m4a (pass -k to keep)\n",
      "Downloaded TDAH video 55\n",
      "[Instagram] Extracting URL: https://www.instagram.com/reel/C8ZrFTexwQ8/?igsh=MXJnZG1ibDhscmFkaw==\n",
      "[Instagram] C8ZrFTexwQ8: Setting up session\n",
      "[Instagram] C8ZrFTexwQ8: Downloading JSON metadata\n",
      "[info] C8ZrFTexwQ8: Downloading 1 format(s): dash-431097756493815ad\n",
      "[download] Destination: ./Videos/TDAH/55_C8ZrFTexwQ8.m4a\n",
      "[download] 100% of   96.40KiB in 00:00:00 at 4.61MiB/s   \n",
      "[FixupM4a] Correcting container of \"./Videos/TDAH/55_C8ZrFTexwQ8.m4a\"\n",
      "[ExtractAudio] Destination: ./Videos/TDAH/55_C8ZrFTexwQ8.wav\n",
      "Deleting original file ./Videos/TDAH/55_C8ZrFTexwQ8.m4a (pass -k to keep)\n",
      "Downloaded TDAH video 56\n",
      "[Instagram] Extracting URL: https://www.instagram.com/reel/C90cpPCJ5Lg/?igsh=MWY4Z243c3I3dnVqMw==\n",
      "[Instagram] C90cpPCJ5Lg: Setting up session\n",
      "[Instagram] C90cpPCJ5Lg: Downloading JSON metadata\n",
      "[info] C90cpPCJ5Lg: Downloading 1 format(s): dash-8509655262399574ad\n",
      "[download] Destination: ./Videos/TDAH/56_C90cpPCJ5Lg.m4a\n",
      "[download] 100% of   46.98KiB in 00:00:00 at 2.03MiB/s     \n",
      "[FixupM4a] Correcting container of \"./Videos/TDAH/56_C90cpPCJ5Lg.m4a\"\n",
      "[ExtractAudio] Destination: ./Videos/TDAH/56_C90cpPCJ5Lg.wav\n",
      "Deleting original file ./Videos/TDAH/56_C90cpPCJ5Lg.m4a (pass -k to keep)\n",
      "Downloaded TDAH video 57\n",
      "[Instagram] Extracting URL: https://www.instagram.com/reel/C95E7hxOY50/?igsh=MXRkajZhNHhzdzh2cA==\n",
      "[Instagram] C95E7hxOY50: Setting up session\n",
      "[Instagram] C95E7hxOY50: Downloading JSON metadata\n",
      "[info] C95E7hxOY50: Downloading 1 format(s): dash-1205819133943808ad\n",
      "[download] Destination: ./Videos/TDAH/57_C95E7hxOY50.m4a\n",
      "[download] 100% of  466.61KiB in 00:00:00 at 1.27MiB/s   \n",
      "[FixupM4a] Correcting container of \"./Videos/TDAH/57_C95E7hxOY50.m4a\"\n",
      "[ExtractAudio] Destination: ./Videos/TDAH/57_C95E7hxOY50.wav\n",
      "Deleting original file ./Videos/TDAH/57_C95E7hxOY50.m4a (pass -k to keep)\n",
      "Downloaded TDAH video 58\n",
      "[Instagram] Extracting URL: https://www.instagram.com/reel/C97eRMMuJU-/?igsh=eXNrNHRjbXUxbXdw\n",
      "[Instagram] C97eRMMuJU-: Setting up session\n",
      "[Instagram] C97eRMMuJU-: Downloading JSON metadata\n",
      "[info] C97eRMMuJU-: Downloading 1 format(s): dash-471166789184579ad\n",
      "[download] Destination: ./Videos/TDAH/58_C97eRMMuJU-.m4a\n",
      "[download] 100% of   28.87KiB in 00:00:00 at 130.57KiB/s \n",
      "[FixupM4a] Correcting container of \"./Videos/TDAH/58_C97eRMMuJU-.m4a\"\n",
      "[ExtractAudio] Destination: ./Videos/TDAH/58_C97eRMMuJU-.wav\n",
      "Deleting original file ./Videos/TDAH/58_C97eRMMuJU-.m4a (pass -k to keep)\n",
      "Downloaded TDAH video 59\n",
      "[Instagram] Extracting URL: https://www.instagram.com/reel/C9am9BwPsjW/?igsh=cmRob2RrcnZmMDMx\n",
      "[Instagram] C9am9BwPsjW: Setting up session\n",
      "[Instagram] C9am9BwPsjW: Downloading JSON metadata\n",
      "[info] C9am9BwPsjW: Downloading 1 format(s): dash-1545501703045025ad\n",
      "[download] Destination: ./Videos/TDAH/59_C9am9BwPsjW.m4a\n",
      "[download] 100% of   69.40KiB in 00:00:00 at 358.44KiB/s \n",
      "[FixupM4a] Correcting container of \"./Videos/TDAH/59_C9am9BwPsjW.m4a\"\n",
      "[ExtractAudio] Destination: ./Videos/TDAH/59_C9am9BwPsjW.wav\n",
      "Deleting original file ./Videos/TDAH/59_C9am9BwPsjW.m4a (pass -k to keep)\n",
      "Downloaded TDAH video 60\n",
      "[Instagram] Extracting URL: https://www.instagram.com/reel/C9BHxl-Rkzi/?igsh=MWswdnQweDBsNXJjaw==\n",
      "[Instagram] C9BHxl-Rkzi: Setting up session\n",
      "[Instagram] C9BHxl-Rkzi: Downloading JSON metadata\n",
      "[info] C9BHxl-Rkzi: Downloading 1 format(s): dash-456137583714088ad\n",
      "[download] Destination: ./Videos/TDAH/60_C9BHxl-Rkzi.m4a\n",
      "[download] 100% of  359.02KiB in 00:00:00 at 1.61MiB/s   \n",
      "[FixupM4a] Correcting container of \"./Videos/TDAH/60_C9BHxl-Rkzi.m4a\"\n",
      "[ExtractAudio] Destination: ./Videos/TDAH/60_C9BHxl-Rkzi.wav\n",
      "Deleting original file ./Videos/TDAH/60_C9BHxl-Rkzi.m4a (pass -k to keep)\n",
      "Downloaded TDAH video 61\n",
      "[Instagram] Extracting URL: https://www.instagram.com/reel/C9gB5ohRHk-/?igsh=MTlnYWcweWNtYjh1NQ==\n",
      "[Instagram] C9gB5ohRHk-: Setting up session\n",
      "[Instagram] C9gB5ohRHk-: Downloading JSON metadata\n",
      "[info] C9gB5ohRHk-: Downloading 1 format(s): dash-1176370247018159ad\n",
      "[download] Destination: ./Videos/TDAH/61_C9gB5ohRHk-.m4a\n",
      "[download] 100% of  309.67KiB in 00:00:00 at 982.14KiB/s \n",
      "[FixupM4a] Correcting container of \"./Videos/TDAH/61_C9gB5ohRHk-.m4a\"\n",
      "[ExtractAudio] Destination: ./Videos/TDAH/61_C9gB5ohRHk-.wav\n",
      "Deleting original file ./Videos/TDAH/61_C9gB5ohRHk-.m4a (pass -k to keep)\n",
      "Downloaded TDAH video 62\n",
      "[Instagram] Extracting URL: https://www.instagram.com/reel/C9h18KIRW47/?igsh=MXAyMmwyZjg0Zjg4ZA==\n",
      "[Instagram] C9h18KIRW47: Setting up session\n",
      "[Instagram] C9h18KIRW47: Downloading JSON metadata\n",
      "[info] C9h18KIRW47: Downloading 1 format(s): dash-364514093091546ad\n",
      "[download] Destination: ./Videos/TDAH/62_C9h18KIRW47.m4a\n",
      "[download] 100% of  145.18KiB in 00:00:00 at 5.78MiB/s   \n",
      "[FixupM4a] Correcting container of \"./Videos/TDAH/62_C9h18KIRW47.m4a\"\n",
      "[ExtractAudio] Destination: ./Videos/TDAH/62_C9h18KIRW47.wav\n",
      "Deleting original file ./Videos/TDAH/62_C9h18KIRW47.m4a (pass -k to keep)\n",
      "Downloaded TDAH video 63\n",
      "[Instagram] Extracting URL: https://www.instagram.com/reel/C9LcbJ8vrlK/?igsh=ZWxuM3kxcmp0ejNq\n",
      "[Instagram] C9LcbJ8vrlK: Setting up session\n",
      "[Instagram] C9LcbJ8vrlK: Downloading JSON metadata\n",
      "[info] C9LcbJ8vrlK: Downloading 1 format(s): dash-383597654341321ad\n",
      "[download] Destination: ./Videos/TDAH/63_C9LcbJ8vrlK.m4a\n",
      "[download] 100% of  553.44KiB in 00:00:00 at 1.61MiB/s   \n",
      "[FixupM4a] Correcting container of \"./Videos/TDAH/63_C9LcbJ8vrlK.m4a\"\n",
      "[ExtractAudio] Destination: ./Videos/TDAH/63_C9LcbJ8vrlK.wav\n",
      "Deleting original file ./Videos/TDAH/63_C9LcbJ8vrlK.m4a (pass -k to keep)\n",
      "Downloaded TDAH video 64\n",
      "[Instagram] Extracting URL: https://www.instagram.com/reel/C9NBAkyq_OD/?igsh=MTFyOHM5anBuOGFtaA==\n",
      "[Instagram] C9NBAkyq_OD: Setting up session\n",
      "[Instagram] C9NBAkyq_OD: Downloading JSON metadata\n",
      "[info] C9NBAkyq_OD: Downloading 1 format(s): dash-1791020078101946ad\n",
      "[download] Destination: ./Videos/TDAH/64_C9NBAkyq_OD.m4a\n",
      "[download] 100% of  114.28KiB in 00:00:00 at 4.88MiB/s   \n",
      "[FixupM4a] Correcting container of \"./Videos/TDAH/64_C9NBAkyq_OD.m4a\"\n",
      "[ExtractAudio] Destination: ./Videos/TDAH/64_C9NBAkyq_OD.wav\n",
      "Deleting original file ./Videos/TDAH/64_C9NBAkyq_OD.m4a (pass -k to keep)\n",
      "Downloaded TDAH video 65\n",
      "[Instagram] Extracting URL: https://www.instagram.com/reel/C9neZj2yFq6/?igsh=MXhsbnF1bDd2Z3BmZw==\n",
      "[Instagram] C9neZj2yFq6: Setting up session\n",
      "[Instagram] C9neZj2yFq6: Downloading JSON metadata\n",
      "[info] C9neZj2yFq6: Downloading 1 format(s): dash-669756195373529ad\n",
      "[download] Destination: ./Videos/TDAH/65_C9neZj2yFq6.m4a\n",
      "[download] 100% of   99.12KiB in 00:00:00 at 437.54KiB/s   \n",
      "[FixupM4a] Correcting container of \"./Videos/TDAH/65_C9neZj2yFq6.m4a\"\n",
      "[ExtractAudio] Destination: ./Videos/TDAH/65_C9neZj2yFq6.wav\n",
      "Deleting original file ./Videos/TDAH/65_C9neZj2yFq6.m4a (pass -k to keep)\n",
      "Downloaded TDAH video 66\n",
      "[Instagram] Extracting URL: https://www.instagram.com/reel/C9ODfJbPbbn/?igsh=dzZkcmx6a3IweTc3\n",
      "[Instagram] C9ODfJbPbbn: Setting up session\n",
      "[Instagram] C9ODfJbPbbn: Downloading JSON metadata\n"
     ]
    },
    {
     "name": "stderr",
     "output_type": "stream",
     "text": [
      "ERROR: [Instagram] C9ODfJbPbbn: Instagram sent an empty media response. Check if this post is accessible in your browser without being logged-in. If it is not, then use --cookies-from-browser or --cookies for the authentication. See  https://github.com/yt-dlp/yt-dlp/wiki/FAQ#how-do-i-pass-cookies-to-yt-dlp  for how to manually pass cookies. Otherwise, if the post is accessible in browser without being logged-in, please report this issue on  https://github.com/yt-dlp/yt-dlp/issues?q= , filling out the appropriate issue template. Confirm you are on the latest version using  yt-dlp -U\n"
     ]
    },
    {
     "name": "stdout",
     "output_type": "stream",
     "text": [
      "Downloaded TDAH video 67\n",
      "[Instagram] Extracting URL: https://www.instagram.com/reel/C9ORA8ruyg6/?igsh=amcxb2djaWlyZDd1\n",
      "[Instagram] C9ORA8ruyg6: Setting up session\n",
      "[Instagram] C9ORA8ruyg6: Downloading JSON metadata\n",
      "[info] C9ORA8ruyg6: Downloading 1 format(s): dash-1004269668151330ad\n",
      "[download] Destination: ./Videos/TDAH/67_C9ORA8ruyg6.m4a\n",
      "[download] 100% of  152.62KiB in 00:00:00 at 1.12MiB/s   \n",
      "[FixupM4a] Correcting container of \"./Videos/TDAH/67_C9ORA8ruyg6.m4a\"\n",
      "[ExtractAudio] Destination: ./Videos/TDAH/67_C9ORA8ruyg6.wav\n",
      "Deleting original file ./Videos/TDAH/67_C9ORA8ruyg6.m4a (pass -k to keep)\n",
      "Downloaded TDAH video 68\n",
      "[Instagram] Extracting URL: https://www.instagram.com/reel/C9pkulGuile/?igsh=MXY1bDNucDBra25kZA==\n",
      "[Instagram] C9pkulGuile: Setting up session\n",
      "[Instagram] C9pkulGuile: Downloading JSON metadata\n",
      "[info] C9pkulGuile: Downloading 1 format(s): dash-1162869698300149ad\n",
      "[download] Destination: ./Videos/TDAH/68_C9pkulGuile.m4a\n",
      "[download] 100% of  942.52KiB in 00:00:00 at 3.52MiB/s     \n",
      "[FixupM4a] Correcting container of \"./Videos/TDAH/68_C9pkulGuile.m4a\"\n",
      "[ExtractAudio] Destination: ./Videos/TDAH/68_C9pkulGuile.wav\n",
      "Deleting original file ./Videos/TDAH/68_C9pkulGuile.m4a (pass -k to keep)\n",
      "Downloaded TDAH video 69\n",
      "[Instagram] Extracting URL: https://www.instagram.com/reel/C9rcspKs6eO/?igsh=d3ZkbzFsb2x0ZzFn\n",
      "[Instagram] C9rcspKs6eO: Setting up session\n",
      "[Instagram] C9rcspKs6eO: Downloading JSON metadata\n",
      "[info] C9rcspKs6eO: Downloading 1 format(s): dash-3197156720420012ad\n",
      "[download] Destination: ./Videos/TDAH/69_C9rcspKs6eO.m4a\n",
      "[download] 100% of  118.54KiB in 00:00:00 at 498.16KiB/s \n",
      "[FixupM4a] Correcting container of \"./Videos/TDAH/69_C9rcspKs6eO.m4a\"\n",
      "[ExtractAudio] Destination: ./Videos/TDAH/69_C9rcspKs6eO.wav\n",
      "Deleting original file ./Videos/TDAH/69_C9rcspKs6eO.m4a (pass -k to keep)\n",
      "Downloaded TDAH video 70\n",
      "[Instagram] Extracting URL: https://www.instagram.com/reel/C9SY876OVdP/?igsh=MW1rbzYzYTgxZnZveg==\n",
      "[Instagram] C9SY876OVdP: Setting up session\n"
     ]
    },
    {
     "name": "stderr",
     "output_type": "stream",
     "text": [
      "WARNING: [Instagram] C9SY876OVdP: Instagram API is not granting access\n"
     ]
    },
    {
     "name": "stdout",
     "output_type": "stream",
     "text": [
      "[Instagram] C9SY876OVdP: Downloading JSON metadata\n"
     ]
    },
    {
     "name": "stderr",
     "output_type": "stream",
     "text": [
      "ERROR: [Instagram] C9SY876OVdP: Instagram sent an empty media response. Check if this post is accessible in your browser without being logged-in. If it is not, then use --cookies-from-browser or --cookies for the authentication. See  https://github.com/yt-dlp/yt-dlp/wiki/FAQ#how-do-i-pass-cookies-to-yt-dlp  for how to manually pass cookies. Otherwise, if the post is accessible in browser without being logged-in, please report this issue on  https://github.com/yt-dlp/yt-dlp/issues?q= , filling out the appropriate issue template. Confirm you are on the latest version using  yt-dlp -U\n"
     ]
    },
    {
     "name": "stdout",
     "output_type": "stream",
     "text": [
      "Downloaded TDAH video 71\n",
      "[Instagram] Extracting URL: https://www.instagram.com/reel/C9ulac_Rty-/?igsh=bTN2ZTE0empsenFy\n",
      "[Instagram] C9ulac_Rty-: Setting up session\n",
      "[Instagram] C9ulac_Rty-: Downloading JSON metadata\n",
      "[info] C9ulac_Rty-: Downloading 1 format(s): dash-1429711094351200ad\n",
      "[download] Destination: ./Videos/TDAH/71_C9ulac_Rty-.m4a\n",
      "[download] 100% of  782.78KiB in 00:00:00 at 3.09MiB/s   \n",
      "[FixupM4a] Correcting container of \"./Videos/TDAH/71_C9ulac_Rty-.m4a\"\n",
      "[ExtractAudio] Destination: ./Videos/TDAH/71_C9ulac_Rty-.wav\n",
      "Deleting original file ./Videos/TDAH/71_C9ulac_Rty-.m4a (pass -k to keep)\n",
      "Downloaded TDAH video 72\n",
      "[Instagram] Extracting URL: https://www.instagram.com/reel/C9vakNQxUMz/?igsh=dzJvM2pnbXYyenA1\n",
      "[Instagram] C9vakNQxUMz: Setting up session\n",
      "[Instagram] C9vakNQxUMz: Downloading JSON metadata\n",
      "[info] C9vakNQxUMz: Downloading 1 format(s): dash-1168394847608154ad\n",
      "[download] Destination: ./Videos/TDAH/72_C9vakNQxUMz.m4a\n",
      "[download] 100% of  392.42KiB in 00:00:00 at 1.22MiB/s     \n",
      "[FixupM4a] Correcting container of \"./Videos/TDAH/72_C9vakNQxUMz.m4a\"\n",
      "[ExtractAudio] Destination: ./Videos/TDAH/72_C9vakNQxUMz.wav\n",
      "Deleting original file ./Videos/TDAH/72_C9vakNQxUMz.m4a (pass -k to keep)\n",
      "Downloaded TDAH video 73\n",
      "[Instagram] Extracting URL: https://www.instagram.com/reel/C9W2pNQtSrP/?igsh=NmR0aDh0em0xY283\n",
      "[Instagram] C9W2pNQtSrP: Setting up session\n",
      "[Instagram] C9W2pNQtSrP: Downloading JSON metadata\n",
      "[info] C9W2pNQtSrP: Downloading 1 format(s): dash-967931178349270ad\n",
      "[download] Destination: ./Videos/TDAH/73_C9W2pNQtSrP.m4a\n",
      "[download] 100% of  119.66KiB in 00:00:00 at 5.36MiB/s   \n",
      "[FixupM4a] Correcting container of \"./Videos/TDAH/73_C9W2pNQtSrP.m4a\"\n",
      "[ExtractAudio] Destination: ./Videos/TDAH/73_C9W2pNQtSrP.wav\n",
      "Deleting original file ./Videos/TDAH/73_C9W2pNQtSrP.m4a (pass -k to keep)\n",
      "Downloaded TDAH video 74\n",
      "[Instagram] Extracting URL: https://www.instagram.com/reel/C9Xfzy7ByEt/?igsh=MXJuOG4zbGFwdGR5cQ==\n",
      "[Instagram] C9Xfzy7ByEt: Setting up session\n",
      "[Instagram] C9Xfzy7ByEt: Downloading JSON metadata\n",
      "[info] C9Xfzy7ByEt: Downloading 1 format(s): dash-973636327778044ad\n",
      "[download] Destination: ./Videos/TDAH/74_C9Xfzy7ByEt.m4a\n",
      "[download] 100% of  134.31KiB in 00:00:00 at 6.19MiB/s   \n",
      "[FixupM4a] Correcting container of \"./Videos/TDAH/74_C9Xfzy7ByEt.m4a\"\n",
      "[ExtractAudio] Destination: ./Videos/TDAH/74_C9Xfzy7ByEt.wav\n",
      "Deleting original file ./Videos/TDAH/74_C9Xfzy7ByEt.m4a (pass -k to keep)\n",
      "Downloaded TDAH video 75\n",
      "[Instagram] Extracting URL: https://www.instagram.com/reel/C9XpsEOOIHt/?igsh=Yjh4OTRnbzRweTdl\n",
      "[Instagram] C9XpsEOOIHt: Setting up session\n",
      "[Instagram] C9XpsEOOIHt: Downloading JSON metadata\n",
      "[info] C9XpsEOOIHt: Downloading 1 format(s): dash-2810540909112957ad\n",
      "[download] Destination: ./Videos/TDAH/75_C9XpsEOOIHt.m4a\n",
      "[download] 100% of  637.21KiB in 00:00:00 at 1.88MiB/s     \n",
      "[FixupM4a] Correcting container of \"./Videos/TDAH/75_C9XpsEOOIHt.m4a\"\n",
      "[ExtractAudio] Destination: ./Videos/TDAH/75_C9XpsEOOIHt.wav\n",
      "Deleting original file ./Videos/TDAH/75_C9XpsEOOIHt.m4a (pass -k to keep)\n",
      "Downloaded TDAH video 76\n",
      "[Instagram] Extracting URL: https://www.instagram.com/reel/C9XUC-lgHs2/?igsh=dG43YTAyeHFzYjln\n",
      "[Instagram] C9XUC-lgHs2: Setting up session\n",
      "[Instagram] C9XUC-lgHs2: Downloading JSON metadata\n",
      "[info] C9XUC-lgHs2: Downloading 1 format(s): dash-671071738563672ad\n",
      "[download] Destination: ./Videos/TDAH/76_C9XUC-lgHs2.m4a\n",
      "[download] 100% of  443.72KiB in 00:00:00 at 12.50MiB/s  \n",
      "[FixupM4a] Correcting container of \"./Videos/TDAH/76_C9XUC-lgHs2.m4a\"\n",
      "[ExtractAudio] Destination: ./Videos/TDAH/76_C9XUC-lgHs2.wav\n",
      "Deleting original file ./Videos/TDAH/76_C9XUC-lgHs2.m4a (pass -k to keep)\n",
      "Downloaded TDAH video 77\n",
      "[Instagram] Extracting URL: https://www.instagram.com/reel/C9xYO5zsDj_/?igsh=NzM3MzVtYjNjMnky\n",
      "[Instagram] C9xYO5zsDj_: Setting up session\n",
      "[Instagram] C9xYO5zsDj_: Downloading JSON metadata\n",
      "[info] C9xYO5zsDj_: Downloading 1 format(s): dash-441173635577308ad\n",
      "[download] Destination: ./Videos/TDAH/77_C9xYO5zsDj_.m4a\n",
      "[download] 100% of   42.37KiB in 00:00:00 at 2.65MiB/s     \n",
      "[FixupM4a] Correcting container of \"./Videos/TDAH/77_C9xYO5zsDj_.m4a\"\n",
      "[ExtractAudio] Destination: ./Videos/TDAH/77_C9xYO5zsDj_.wav\n",
      "Deleting original file ./Videos/TDAH/77_C9xYO5zsDj_.m4a (pass -k to keep)\n",
      "Downloaded TDAH video 78\n",
      "[Instagram] Extracting URL: https://www.instagram.com/reel/C-BEMpXpdSE/?igsh=MXV4eXE0dTA0aXI0bw==\n",
      "[Instagram] C-BEMpXpdSE: Setting up session\n",
      "[Instagram] C-BEMpXpdSE: Downloading JSON metadata\n",
      "[info] C-BEMpXpdSE: Downloading 1 format(s): dash-3974916999402486ad\n",
      "[download] Destination: ./Videos/TDAH/78_C-BEMpXpdSE.m4a\n",
      "[download] 100% of   49.39KiB in 00:00:00 at 252.00KiB/s   \n",
      "[FixupM4a] Correcting container of \"./Videos/TDAH/78_C-BEMpXpdSE.m4a\"\n",
      "[ExtractAudio] Destination: ./Videos/TDAH/78_C-BEMpXpdSE.wav\n",
      "Deleting original file ./Videos/TDAH/78_C-BEMpXpdSE.m4a (pass -k to keep)\n",
      "Downloaded TDAH video 79\n",
      "[Instagram] Extracting URL: https://www.instagram.com/reel/C-BKEYBvjJr/?igsh=NTU0YnAwZWt6YjVx\n",
      "[Instagram] C-BKEYBvjJr: Setting up session\n",
      "[Instagram] C-BKEYBvjJr: Downloading JSON metadata\n",
      "[info] C-BKEYBvjJr: Downloading 1 format(s): dash-839513194796434ad\n",
      "[download] Destination: ./Videos/TDAH/79_C-BKEYBvjJr.m4a\n",
      "[download] 100% of  324.75KiB in 00:00:00 at 10.42MiB/s  \n",
      "[FixupM4a] Correcting container of \"./Videos/TDAH/79_C-BKEYBvjJr.m4a\"\n",
      "[ExtractAudio] Destination: ./Videos/TDAH/79_C-BKEYBvjJr.wav\n",
      "Deleting original file ./Videos/TDAH/79_C-BKEYBvjJr.m4a (pass -k to keep)\n",
      "Downloaded TDAH video 80\n",
      "[Instagram] Extracting URL: https://www.instagram.com/reel/C-BveT_vuEK/?igsh=aGZlZzU0NndxbWhy\n",
      "[Instagram] C-BveT_vuEK: Setting up session\n",
      "[Instagram] C-BveT_vuEK: Downloading JSON metadata\n",
      "[info] C-BveT_vuEK: Downloading 1 format(s): dash-363464486596606ad\n",
      "[download] Destination: ./Videos/TDAH/80_C-BveT_vuEK.m4a\n",
      "[download] 100% of  114.31KiB in 00:00:00 at 598.96KiB/s   \n",
      "[FixupM4a] Correcting container of \"./Videos/TDAH/80_C-BveT_vuEK.m4a\"\n",
      "[ExtractAudio] Destination: ./Videos/TDAH/80_C-BveT_vuEK.wav\n",
      "Deleting original file ./Videos/TDAH/80_C-BveT_vuEK.m4a (pass -k to keep)\n",
      "Downloaded TDAH video 81\n",
      "[Instagram] Extracting URL: https://www.instagram.com/reel/C-EEw2wRq_V/?igsh=MTczZDBpYnhjOTU3cg==\n",
      "[Instagram] C-EEw2wRq_V: Setting up session\n",
      "[Instagram] C-EEw2wRq_V: Downloading JSON metadata\n",
      "[info] C-EEw2wRq_V: Downloading 1 format(s): dash-1030889215295882ad\n",
      "[download] Destination: ./Videos/TDAH/81_C-EEw2wRq_V.m4a\n",
      "[download] 100% of  319.29KiB in 00:00:00 at 8.68MiB/s   \n",
      "[FixupM4a] Correcting container of \"./Videos/TDAH/81_C-EEw2wRq_V.m4a\"\n",
      "[ExtractAudio] Destination: ./Videos/TDAH/81_C-EEw2wRq_V.wav\n",
      "Deleting original file ./Videos/TDAH/81_C-EEw2wRq_V.m4a (pass -k to keep)\n",
      "Downloaded TDAH video 82\n",
      "[Instagram] Extracting URL: https://www.instagram.com/reel/C-F6hHrxlyV/?igsh=MWVpdWJucnRxdmVnbw==\n",
      "[Instagram] C-F6hHrxlyV: Setting up session\n",
      "[Instagram] C-F6hHrxlyV: Downloading JSON metadata\n",
      "[info] C-F6hHrxlyV: Downloading 1 format(s): dash-473415685621005ad\n",
      "[download] Destination: ./Videos/TDAH/82_C-F6hHrxlyV.m4a\n",
      "[download] 100% of  655.69KiB in 00:00:00 at 15.67MiB/s  \n",
      "[FixupM4a] Correcting container of \"./Videos/TDAH/82_C-F6hHrxlyV.m4a\"\n",
      "[ExtractAudio] Destination: ./Videos/TDAH/82_C-F6hHrxlyV.wav\n",
      "Deleting original file ./Videos/TDAH/82_C-F6hHrxlyV.m4a (pass -k to keep)\n",
      "Downloaded TDAH video 83\n",
      "[Instagram] Extracting URL: https://www.instagram.com/reel/C-hsTQTuAdq/?igsh=MWdkaXMwOXJ0eDk3Yg==\n",
      "[Instagram] C-hsTQTuAdq: Setting up session\n",
      "[Instagram] C-hsTQTuAdq: Downloading JSON metadata\n",
      "[info] C-hsTQTuAdq: Downloading 1 format(s): dash-1571156556856550ad\n",
      "[download] Destination: ./Videos/TDAH/83_C-hsTQTuAdq.m4a\n",
      "[download] 100% of  391.20KiB in 00:00:00 at 1.17MiB/s     \n",
      "[FixupM4a] Correcting container of \"./Videos/TDAH/83_C-hsTQTuAdq.m4a\"\n",
      "[ExtractAudio] Destination: ./Videos/TDAH/83_C-hsTQTuAdq.wav\n",
      "Deleting original file ./Videos/TDAH/83_C-hsTQTuAdq.m4a (pass -k to keep)\n",
      "Downloaded TDAH video 84\n",
      "[Instagram] Extracting URL: https://www.instagram.com/reel/C-K5m5FOzZw/?igsh=am5hc2gwMDd4OTV6\n",
      "[Instagram] C-K5m5FOzZw: Setting up session\n",
      "[Instagram] C-K5m5FOzZw: Downloading JSON metadata\n"
     ]
    },
    {
     "name": "stderr",
     "output_type": "stream",
     "text": [
      "ERROR: [Instagram] C-K5m5FOzZw: Instagram sent an empty media response. Check if this post is accessible in your browser without being logged-in. If it is not, then use --cookies-from-browser or --cookies for the authentication. See  https://github.com/yt-dlp/yt-dlp/wiki/FAQ#how-do-i-pass-cookies-to-yt-dlp  for how to manually pass cookies. Otherwise, if the post is accessible in browser without being logged-in, please report this issue on  https://github.com/yt-dlp/yt-dlp/issues?q= , filling out the appropriate issue template. Confirm you are on the latest version using  yt-dlp -U\n"
     ]
    },
    {
     "name": "stdout",
     "output_type": "stream",
     "text": [
      "Downloaded TDAH video 85\n",
      "[Instagram] Extracting URL: https://www.instagram.com/reel/C-mFvq9N3wM/?igsh=MTF6enpwMmY3MDBxMg==\n",
      "[Instagram] C-mFvq9N3wM: Setting up session\n"
     ]
    },
    {
     "name": "stderr",
     "output_type": "stream",
     "text": [
      "WARNING: [Instagram] C-mFvq9N3wM: Instagram API is not granting access\n"
     ]
    },
    {
     "name": "stdout",
     "output_type": "stream",
     "text": [
      "[Instagram] C-mFvq9N3wM: Downloading JSON metadata\n"
     ]
    },
    {
     "name": "stderr",
     "output_type": "stream",
     "text": [
      "ERROR: [Instagram] C-mFvq9N3wM: Instagram sent an empty media response. Check if this post is accessible in your browser without being logged-in. If it is not, then use --cookies-from-browser or --cookies for the authentication. See  https://github.com/yt-dlp/yt-dlp/wiki/FAQ#how-do-i-pass-cookies-to-yt-dlp  for how to manually pass cookies. Otherwise, if the post is accessible in browser without being logged-in, please report this issue on  https://github.com/yt-dlp/yt-dlp/issues?q= , filling out the appropriate issue template. Confirm you are on the latest version using  yt-dlp -U\n"
     ]
    },
    {
     "name": "stdout",
     "output_type": "stream",
     "text": [
      "Downloaded TDAH video 86\n",
      "[Instagram] Extracting URL: https://www.instagram.com/reel/C-nVzzRur5p/?igsh=cXUzNTVibzBsa241\n",
      "[Instagram] C-nVzzRur5p: Setting up session\n",
      "[Instagram] C-nVzzRur5p: Downloading JSON metadata\n",
      "[info] C-nVzzRur5p: Downloading 1 format(s): dash-1419687955393159ad\n",
      "[download] Destination: ./Videos/TDAH/86_C-nVzzRur5p.m4a\n",
      "[download] 100% of  165.15KiB in 00:00:00 at 4.77MiB/s   \n",
      "[FixupM4a] Correcting container of \"./Videos/TDAH/86_C-nVzzRur5p.m4a\"\n",
      "[ExtractAudio] Destination: ./Videos/TDAH/86_C-nVzzRur5p.wav\n",
      "Deleting original file ./Videos/TDAH/86_C-nVzzRur5p.m4a (pass -k to keep)\n",
      "Downloaded TDAH video 87\n",
      "[Instagram] Extracting URL: https://www.instagram.com/reel/C-Oag0Ovcmo/?igsh=MW5ibG9vcjAyaHh0dw==\n",
      "[Instagram] C-Oag0Ovcmo: Setting up session\n",
      "[Instagram] C-Oag0Ovcmo: Downloading JSON metadata\n",
      "[info] C-Oag0Ovcmo: Downloading 1 format(s): dash-8186057748118676ad\n",
      "[download] Destination: ./Videos/TDAH/87_C-Oag0Ovcmo.m4a\n",
      "[download] 100% of  482.35KiB in 00:00:00 at 1.75MiB/s     \n",
      "[FixupM4a] Correcting container of \"./Videos/TDAH/87_C-Oag0Ovcmo.m4a\"\n",
      "[ExtractAudio] Destination: ./Videos/TDAH/87_C-Oag0Ovcmo.wav\n",
      "Deleting original file ./Videos/TDAH/87_C-Oag0Ovcmo.m4a (pass -k to keep)\n",
      "Downloaded TDAH video 88\n",
      "[Instagram] Extracting URL: https://www.instagram.com/reel/C-QeeVQRxSH/?igsh=MWgzcjFvajJzeWN5dw==\n",
      "[Instagram] C-QeeVQRxSH: Setting up session\n",
      "[Instagram] C-QeeVQRxSH: Downloading JSON metadata\n",
      "[info] C-QeeVQRxSH: Downloading 1 format(s): dash-2482562401933639ad\n",
      "[download] Destination: ./Videos/TDAH/88_C-QeeVQRxSH.m4a\n",
      "[download] 100% of  100.95KiB in 00:00:00 at 247.66KiB/s   \n",
      "[FixupM4a] Correcting container of \"./Videos/TDAH/88_C-QeeVQRxSH.m4a\"\n",
      "[ExtractAudio] Destination: ./Videos/TDAH/88_C-QeeVQRxSH.wav\n",
      "Deleting original file ./Videos/TDAH/88_C-QeeVQRxSH.m4a (pass -k to keep)\n",
      "Downloaded TDAH video 89\n",
      "[Instagram] Extracting URL: https://www.instagram.com/reel/C-Qy3xJSg3f/?igsh=MXIyMnY4ZTExOGt5Yw==\n",
      "[Instagram] C-Qy3xJSg3f: Setting up session\n",
      "[Instagram] C-Qy3xJSg3f: Downloading JSON metadata\n",
      "[info] C-Qy3xJSg3f: Downloading 1 format(s): 1\n",
      "[download] Destination: ./Videos/TDAH/89_C-Qy3xJSg3f.mp4\n",
      "[download] 100% of  101.46KiB in 00:00:00 at 240.44KiB/s \n"
     ]
    },
    {
     "name": "stderr",
     "output_type": "stream",
     "text": [
      "ERROR: Postprocessing: WARNING: unable to obtain file audio codec with ffprobe\n"
     ]
    },
    {
     "name": "stdout",
     "output_type": "stream",
     "text": [
      "Downloaded TDAH video 90\n",
      "[Instagram] Extracting URL: https://www.instagram.com/reel/C-SgrB9oSVh/?igsh=NXVyNGFoMW03aHc3\n",
      "[Instagram] C-SgrB9oSVh: Setting up session\n",
      "[Instagram] C-SgrB9oSVh: Downloading JSON metadata\n",
      "[info] C-SgrB9oSVh: Downloading 1 format(s): dash-1236014240631683ad\n",
      "[download] Destination: ./Videos/TDAH/90_C-SgrB9oSVh.m4a\n",
      "[download] 100% of   61.50KiB in 00:00:00 at 271.72KiB/s   \n",
      "[FixupM4a] Correcting container of \"./Videos/TDAH/90_C-SgrB9oSVh.m4a\"\n",
      "[ExtractAudio] Destination: ./Videos/TDAH/90_C-SgrB9oSVh.wav\n",
      "Deleting original file ./Videos/TDAH/90_C-SgrB9oSVh.m4a (pass -k to keep)\n",
      "Downloaded TDAH video 91\n",
      "[Instagram] Extracting URL: https://www.instagram.com/reel/C-TukKcxe2W/?igsh=ZGVmaWJyNmYwc2lo\n",
      "[Instagram] C-TukKcxe2W: Setting up session\n",
      "[Instagram] C-TukKcxe2W: Downloading JSON metadata\n",
      "[info] C-TukKcxe2W: Downloading 1 format(s): dash-1144773236591296ad\n",
      "[download] Destination: ./Videos/TDAH/91_C-TukKcxe2W.m4a\n",
      "[download] 100% of  763.57KiB in 00:00:00 at 2.19MiB/s   \n",
      "[FixupM4a] Correcting container of \"./Videos/TDAH/91_C-TukKcxe2W.m4a\"\n",
      "[ExtractAudio] Destination: ./Videos/TDAH/91_C-TukKcxe2W.wav\n",
      "Deleting original file ./Videos/TDAH/91_C-TukKcxe2W.m4a (pass -k to keep)\n",
      "Downloaded TDAH video 92\n",
      "[Instagram] Extracting URL: https://www.instagram.com/reel/C-TwugutcYc/?igsh=MWxhMnliemN2MG9vaQ==\n",
      "[Instagram] C-TwugutcYc: Setting up session\n",
      "[Instagram] C-TwugutcYc: Downloading JSON metadata\n",
      "[info] C-TwugutcYc: Downloading 1 format(s): dash-27155902697341968ad\n",
      "[download] Destination: ./Videos/TDAH/92_C-TwugutcYc.m4a\n",
      "[download] 100% of   57.51KiB in 00:00:00 at 3.42MiB/s     \n",
      "[FixupM4a] Correcting container of \"./Videos/TDAH/92_C-TwugutcYc.m4a\"\n",
      "[ExtractAudio] Destination: ./Videos/TDAH/92_C-TwugutcYc.wav\n",
      "Deleting original file ./Videos/TDAH/92_C-TwugutcYc.m4a (pass -k to keep)\n",
      "Downloaded TDAH video 93\n",
      "[Instagram] Extracting URL: https://www.instagram.com/reel/C-uW5k0aRHXl/?igsh=MW9wbDg2c3JlZXZtdQ==\n",
      "[Instagram] C-uW5k0aRHXl: Setting up session\n"
     ]
    },
    {
     "name": "stderr",
     "output_type": "stream",
     "text": [
      "WARNING: [Instagram] C-uW5k0aRHXl: Instagram API is not granting access\n"
     ]
    },
    {
     "name": "stdout",
     "output_type": "stream",
     "text": [
      "[Instagram] C-uW5k0aRHXl: Downloading JSON metadata\n"
     ]
    },
    {
     "name": "stderr",
     "output_type": "stream",
     "text": [
      "ERROR: [Instagram] C-uW5k0aRHXl: Instagram sent an empty media response. Check if this post is accessible in your browser without being logged-in. If it is not, then use --cookies-from-browser or --cookies for the authentication. See  https://github.com/yt-dlp/yt-dlp/wiki/FAQ#how-do-i-pass-cookies-to-yt-dlp  for how to manually pass cookies. Otherwise, if the post is accessible in browser without being logged-in, please report this issue on  https://github.com/yt-dlp/yt-dlp/issues?q= , filling out the appropriate issue template. Confirm you are on the latest version using  yt-dlp -U\n"
     ]
    },
    {
     "name": "stdout",
     "output_type": "stream",
     "text": [
      "Downloaded TDAH video 94\n",
      "[Instagram] Extracting URL: https://www.instagram.com/reel/C-tMFycv5Qp/?igsh=ZXcxYTU0ajEwMzdw\n",
      "[Instagram] C-tMFycv5Qp: Setting up session\n",
      "[Instagram] C-tMFycv5Qp: Downloading JSON metadata\n",
      "[info] C-tMFycv5Qp: Downloading 1 format(s): dash-1522188208740383ad\n",
      "[download] Destination: ./Videos/TDAH/94_C-tMFycv5Qp.m4a\n",
      "[download] 100% of  310.48KiB in 00:00:00 at 1.22MiB/s     \n",
      "[FixupM4a] Correcting container of \"./Videos/TDAH/94_C-tMFycv5Qp.m4a\"\n",
      "[ExtractAudio] Destination: ./Videos/TDAH/94_C-tMFycv5Qp.wav\n",
      "Deleting original file ./Videos/TDAH/94_C-tMFycv5Qp.m4a (pass -k to keep)\n",
      "Downloaded TDAH video 95\n",
      "[Instagram] Extracting URL: https://www.instagram.com/reel/C746W6tOCdi/?igsh=dzR0ZzZyMHM1aW03\n",
      "[Instagram] C746W6tOCdi: Setting up session\n",
      "[Instagram] C746W6tOCdi: Downloading JSON metadata\n",
      "[info] C746W6tOCdi: Downloading 1 format(s): dash-1010746787326752ad\n",
      "[download] Destination: ./Videos/TDAH/95_C746W6tOCdi.m4a\n",
      "[download] 100% of   35.73KiB in 00:00:00 at 194.68KiB/s   \n",
      "[FixupM4a] Correcting container of \"./Videos/TDAH/95_C746W6tOCdi.m4a\"\n",
      "[ExtractAudio] Destination: ./Videos/TDAH/95_C746W6tOCdi.wav\n",
      "Deleting original file ./Videos/TDAH/95_C746W6tOCdi.m4a (pass -k to keep)\n",
      "Downloaded TDAH video 96\n",
      "[Instagram] Extracting URL: https://www.instagram.com/reel/C760FQTxl_3/?igsh=MWF1bmdjZmpyazR6OQ==\n",
      "[Instagram] C760FQTxl_3: Setting up session\n",
      "[Instagram] C760FQTxl_3: Downloading JSON metadata\n",
      "[info] C760FQTxl_3: Downloading 1 format(s): dash-1199331614436943ad\n",
      "[download] Destination: ./Videos/TDAH/96_C760FQTxl_3.m4a\n",
      "[download] 100% of  191.51KiB in 00:00:00 at 7.06MiB/s   \n",
      "[FixupM4a] Correcting container of \"./Videos/TDAH/96_C760FQTxl_3.m4a\"\n",
      "[ExtractAudio] Destination: ./Videos/TDAH/96_C760FQTxl_3.wav\n",
      "Deleting original file ./Videos/TDAH/96_C760FQTxl_3.m4a (pass -k to keep)\n",
      "Downloaded TDAH video 97\n",
      "[Instagram] Extracting URL: https://www.instagram.com/reel/C76aSzHMdDb/?igsh=cjlhb2d3a2tsaHJ2\n",
      "[Instagram] C76aSzHMdDb: Setting up session\n",
      "[Instagram] C76aSzHMdDb: Downloading JSON metadata\n",
      "[info] C76aSzHMdDb: Downloading 1 format(s): dash-7619928991430559ad\n",
      "[download] Destination: ./Videos/TDAH/97_C76aSzHMdDb.m4a\n",
      "[download] 100% of   36.31KiB in 00:00:00 at 71.21KiB/s    \n",
      "[FixupM4a] Correcting container of \"./Videos/TDAH/97_C76aSzHMdDb.m4a\"\n",
      "[ExtractAudio] Destination: ./Videos/TDAH/97_C76aSzHMdDb.wav\n",
      "Deleting original file ./Videos/TDAH/97_C76aSzHMdDb.m4a (pass -k to keep)\n",
      "Downloaded TDAH video 98\n",
      "[Instagram] Extracting URL: https://www.instagram.com/reel/C7ggzLBCp6U/?igsh=MWsxcjlrcHJjODRt\n",
      "[Instagram] C7ggzLBCp6U: Setting up session\n",
      "[Instagram] C7ggzLBCp6U: Downloading JSON metadata\n",
      "[info] C7ggzLBCp6U: Downloading 1 format(s): dash-469479715456670ad\n",
      "[download] Destination: ./Videos/TDAH/98_C7ggzLBCp6U.m4a\n",
      "[download] 100% of   50.66KiB in 00:00:00 at 446.28KiB/s \n",
      "[FixupM4a] Correcting container of \"./Videos/TDAH/98_C7ggzLBCp6U.m4a\"\n",
      "[ExtractAudio] Destination: ./Videos/TDAH/98_C7ggzLBCp6U.wav\n",
      "Deleting original file ./Videos/TDAH/98_C7ggzLBCp6U.m4a (pass -k to keep)\n",
      "Downloaded TDAH video 99\n",
      "[Instagram] Extracting URL: https://www.instagram.com/reel/C8qFf7lJhv3/?igsh=MWFvenhnOGg2ZTk2bQ==\n",
      "[Instagram] C8qFf7lJhv3: Setting up session\n",
      "[Instagram] C8qFf7lJhv3: Downloading JSON metadata\n",
      "[info] C8qFf7lJhv3: Downloading 1 format(s): dash-1556266431974988ad\n",
      "[download] Destination: ./Videos/TDAH/99_C8qFf7lJhv3.m4a\n",
      "[download] 100% of  155.24KiB in 00:00:00 at 6.53MiB/s   \n",
      "[FixupM4a] Correcting container of \"./Videos/TDAH/99_C8qFf7lJhv3.m4a\"\n",
      "[ExtractAudio] Destination: ./Videos/TDAH/99_C8qFf7lJhv3.wav\n",
      "Deleting original file ./Videos/TDAH/99_C8qFf7lJhv3.m4a (pass -k to keep)\n",
      "Downloaded TDAH video 100\n",
      "[Instagram] Extracting URL: https://www.instagram.com/reel/C7XYJCaMDBv/?igsh=MTZraXVyNWVpdTh2Yg==\n",
      "[Instagram] C7XYJCaMDBv: Setting up session\n",
      "[Instagram] C7XYJCaMDBv: Downloading JSON metadata\n",
      "[info] C7XYJCaMDBv: Downloading 1 format(s): dash-1432503924294375ad\n",
      "[download] Destination: ./Videos/TEA/0_C7XYJCaMDBv.m4a\n",
      "[download] 100% of  132.28KiB in 00:00:00 at 2.66MiB/s   \n",
      "[FixupM4a] Correcting container of \"./Videos/TEA/0_C7XYJCaMDBv.m4a\"\n",
      "[ExtractAudio] Destination: ./Videos/TEA/0_C7XYJCaMDBv.wav\n",
      "Deleting original file ./Videos/TEA/0_C7XYJCaMDBv.m4a (pass -k to keep)\n",
      "Downloaded TEA video 1\n",
      "[Instagram] Extracting URL: https://www.instagram.com/reel/C9icLcixqBp/?igsh=MWx0bDMxdjN3YzFkZA==\n",
      "[Instagram] C9icLcixqBp: Setting up session\n"
     ]
    },
    {
     "name": "stderr",
     "output_type": "stream",
     "text": [
      "WARNING: [Instagram] C9icLcixqBp: Instagram API is not granting access\n"
     ]
    },
    {
     "name": "stdout",
     "output_type": "stream",
     "text": [
      "[Instagram] C9icLcixqBp: Downloading JSON metadata\n"
     ]
    },
    {
     "name": "stderr",
     "output_type": "stream",
     "text": [
      "ERROR: [Instagram] C9icLcixqBp: Instagram sent an empty media response. Check if this post is accessible in your browser without being logged-in. If it is not, then use --cookies-from-browser or --cookies for the authentication. See  https://github.com/yt-dlp/yt-dlp/wiki/FAQ#how-do-i-pass-cookies-to-yt-dlp  for how to manually pass cookies. Otherwise, if the post is accessible in browser without being logged-in, please report this issue on  https://github.com/yt-dlp/yt-dlp/issues?q= , filling out the appropriate issue template. Confirm you are on the latest version using  yt-dlp -U\n"
     ]
    },
    {
     "name": "stdout",
     "output_type": "stream",
     "text": [
      "Downloaded TEA video 2\n",
      "[Instagram] Extracting URL: https://www.instagram.com/reel/C9PYPffuoVd/?igsh=aDZmYmpheWYya3Q4\n",
      "[Instagram] C9PYPffuoVd: Setting up session\n",
      "[Instagram] C9PYPffuoVd: Downloading JSON metadata\n",
      "[info] C9PYPffuoVd: Downloading 1 format(s): dash-25938959862418001ad\n",
      "[download] Destination: ./Videos/TEA/2_C9PYPffuoVd.m4a\n",
      "[download] 100% of  513.91KiB in 00:00:00 at 12.75MiB/s  \n",
      "[FixupM4a] Correcting container of \"./Videos/TEA/2_C9PYPffuoVd.m4a\"\n",
      "[ExtractAudio] Destination: ./Videos/TEA/2_C9PYPffuoVd.wav\n",
      "Deleting original file ./Videos/TEA/2_C9PYPffuoVd.m4a (pass -k to keep)\n",
      "Downloaded TEA video 3\n",
      "[Instagram] Extracting URL: https://www.instagram.com/reel/C61CoSKuHcO/?igsh=MWdjMm12dGdvMXFucQ==\n",
      "[Instagram] C61CoSKuHcO: Setting up session\n",
      "[Instagram] C61CoSKuHcO: Downloading JSON metadata\n",
      "[info] C61CoSKuHcO: Downloading 1 format(s): dash-1654932508578784ad\n",
      "[download] Destination: ./Videos/TEA/3_C61CoSKuHcO.m4a\n",
      "[download] 100% of  361.38KiB in 00:00:00 at 1.15MiB/s   \n",
      "[FixupM4a] Correcting container of \"./Videos/TEA/3_C61CoSKuHcO.m4a\"\n",
      "[ExtractAudio] Destination: ./Videos/TEA/3_C61CoSKuHcO.wav\n",
      "Deleting original file ./Videos/TEA/3_C61CoSKuHcO.m4a (pass -k to keep)\n",
      "Downloaded TEA video 4\n",
      "[Instagram] Extracting URL: https://www.instagram.com/reel/C8zxBAoOvw5/?igsh=MXFqNXBkaGVkNTk0bg==\n",
      "[Instagram] C8zxBAoOvw5: Setting up session\n",
      "[Instagram] C8zxBAoOvw5: Downloading JSON metadata\n",
      "[info] C8zxBAoOvw5: Downloading 1 format(s): dash-817037090143625ad\n",
      "[download] Destination: ./Videos/TEA/4_C8zxBAoOvw5.m4a\n",
      "[download] 100% of  206.63KiB in 00:00:00 at 4.20MiB/s   \n",
      "[FixupM4a] Correcting container of \"./Videos/TEA/4_C8zxBAoOvw5.m4a\"\n",
      "[ExtractAudio] Destination: ./Videos/TEA/4_C8zxBAoOvw5.wav\n",
      "Deleting original file ./Videos/TEA/4_C8zxBAoOvw5.m4a (pass -k to keep)\n",
      "Downloaded TEA video 5\n",
      "[Instagram] Extracting URL: https://www.instagram.com/reel/C94mmDWRj1u/?igsh=ZzEzcnY0d2RzdTUy\n",
      "[Instagram] C94mmDWRj1u: Setting up session\n",
      "[Instagram] C94mmDWRj1u: Downloading JSON metadata\n",
      "[info] C94mmDWRj1u: Downloading 1 format(s): dash-1543402333194958ad\n",
      "[download] Destination: ./Videos/TEA/5_C94mmDWRj1u.m4a\n",
      "[download] 100% of  258.87KiB in 00:00:00 at 1.10MiB/s   \n",
      "[FixupM4a] Correcting container of \"./Videos/TEA/5_C94mmDWRj1u.m4a\"\n",
      "[ExtractAudio] Destination: ./Videos/TEA/5_C94mmDWRj1u.wav\n",
      "Deleting original file ./Videos/TEA/5_C94mmDWRj1u.m4a (pass -k to keep)\n",
      "Downloaded TEA video 6\n",
      "[Instagram] Extracting URL: https://www.instagram.com/reel/C8407Q_JnhL/?igsh=bXQ4cXQzY2c3Z201\n",
      "[Instagram] C8407Q_JnhL: Setting up session\n",
      "[Instagram] C8407Q_JnhL: Downloading JSON metadata\n",
      "[info] C8407Q_JnhL: Downloading 1 format(s): dash-897122582166341ad\n",
      "[download] Destination: ./Videos/TEA/6_C8407Q_JnhL.m4a\n",
      "[download] 100% of  529.22KiB in 00:00:00 at 1.61MiB/s   \n",
      "[FixupM4a] Correcting container of \"./Videos/TEA/6_C8407Q_JnhL.m4a\"\n",
      "[ExtractAudio] Destination: ./Videos/TEA/6_C8407Q_JnhL.wav\n",
      "Deleting original file ./Videos/TEA/6_C8407Q_JnhL.m4a (pass -k to keep)\n",
      "Downloaded TEA video 7\n",
      "[Instagram] Extracting URL: https://www.instagram.com/reel/C9rsQzcxA-2/?igsh=djZnYTVlOXV1N20x\n",
      "[Instagram] C9rsQzcxA-2: Setting up session\n",
      "[Instagram] C9rsQzcxA-2: Downloading JSON metadata\n",
      "[info] C9rsQzcxA-2: Downloading 1 format(s): dash-1588264118386758ad\n",
      "[download] Destination: ./Videos/TEA/7_C9rsQzcxA-2.m4a\n",
      "[download] 100% of  303.22KiB in 00:00:00 at 1.38MiB/s   \n",
      "[FixupM4a] Correcting container of \"./Videos/TEA/7_C9rsQzcxA-2.m4a\"\n",
      "[ExtractAudio] Destination: ./Videos/TEA/7_C9rsQzcxA-2.wav\n",
      "Deleting original file ./Videos/TEA/7_C9rsQzcxA-2.m4a (pass -k to keep)\n",
      "Downloaded TEA video 8\n",
      "[Instagram] Extracting URL: https://www.instagram.com/reel/C86jSfDOm6Y/?igsh=MW1lejlyNXlrcWZmag==\n",
      "[Instagram] C86jSfDOm6Y: Setting up session\n",
      "[Instagram] C86jSfDOm6Y: Downloading JSON metadata\n",
      "[info] C86jSfDOm6Y: Downloading 1 format(s): 2\n",
      "[download] Destination: ./Videos/TEA/8_C86jSfDOm6Y.mp4\n",
      "[download] 100% of   33.13KiB in 00:00:00 at 81.01KiB/s    \n"
     ]
    },
    {
     "name": "stderr",
     "output_type": "stream",
     "text": [
      "ERROR: Postprocessing: WARNING: unable to obtain file audio codec with ffprobe\n"
     ]
    },
    {
     "name": "stdout",
     "output_type": "stream",
     "text": [
      "Downloaded TEA video 9\n",
      "[Instagram] Extracting URL: https://www.instagram.com/reel/C90fbKSpxKi/?igsh=MXNndm5mdmVsdGZkZQ==\n",
      "[Instagram] C90fbKSpxKi: Setting up session\n",
      "[Instagram] C90fbKSpxKi: Downloading JSON metadata\n"
     ]
    },
    {
     "name": "stderr",
     "output_type": "stream",
     "text": [
      "ERROR: [Instagram] C90fbKSpxKi: Instagram sent an empty media response. Check if this post is accessible in your browser without being logged-in. If it is not, then use --cookies-from-browser or --cookies for the authentication. See  https://github.com/yt-dlp/yt-dlp/wiki/FAQ#how-do-i-pass-cookies-to-yt-dlp  for how to manually pass cookies. Otherwise, if the post is accessible in browser without being logged-in, please report this issue on  https://github.com/yt-dlp/yt-dlp/issues?q= , filling out the appropriate issue template. Confirm you are on the latest version using  yt-dlp -U\n"
     ]
    },
    {
     "name": "stdout",
     "output_type": "stream",
     "text": [
      "Downloaded TEA video 10\n",
      "[Instagram] Extracting URL: https://www.instagram.com/reel/C7RYruasqcl/?igsh=em1sMTVyMXJlZ3Z1\n",
      "[Instagram] C7RYruasqcl: Setting up session\n",
      "[Instagram] C7RYruasqcl: Downloading JSON metadata\n",
      "[info] C7RYruasqcl: Downloading 1 format(s): dash-298321400002991ad\n",
      "[download] Destination: ./Videos/TEA/10_C7RYruasqcl.m4a\n",
      "[download] 100% of  179.58KiB in 00:00:00 at 627.16KiB/s \n",
      "[FixupM4a] Correcting container of \"./Videos/TEA/10_C7RYruasqcl.m4a\"\n",
      "[ExtractAudio] Destination: ./Videos/TEA/10_C7RYruasqcl.wav\n",
      "Deleting original file ./Videos/TEA/10_C7RYruasqcl.m4a (pass -k to keep)\n",
      "Downloaded TEA video 11\n",
      "[Instagram] Extracting URL: https://www.instagram.com/reel/C9VpKjwvZkb/?igsh=N2NwNGZzcTRld3Vh\n",
      "[Instagram] C9VpKjwvZkb: Setting up session\n",
      "[Instagram] C9VpKjwvZkb: Downloading JSON metadata\n",
      "[info] C9VpKjwvZkb: Downloading 1 format(s): dash-453060840820968ad\n",
      "[download] Destination: ./Videos/TEA/11_C9VpKjwvZkb.m4a\n",
      "[download] 100% of  198.04KiB in 00:00:00 at 7.46MiB/s   \n",
      "[FixupM4a] Correcting container of \"./Videos/TEA/11_C9VpKjwvZkb.m4a\"\n",
      "[ExtractAudio] Destination: ./Videos/TEA/11_C9VpKjwvZkb.wav\n",
      "Deleting original file ./Videos/TEA/11_C9VpKjwvZkb.m4a (pass -k to keep)\n",
      "Downloaded TEA video 12\n",
      "[Instagram] Extracting URL: https://www.instagram.com/reel/C-kYA4ZRcxk/?igsh=ZzU0aGM5cW9wbjJu\n",
      "[Instagram] C-kYA4ZRcxk: Setting up session\n",
      "[Instagram] C-kYA4ZRcxk: Downloading JSON metadata\n",
      "[info] C-kYA4ZRcxk: Downloading 1 format(s): dash-415047641685869ad\n",
      "[download] Destination: ./Videos/TEA/12_C-kYA4ZRcxk.m4a\n",
      "[download] 100% of  442.55KiB in 00:00:00 at 1.99MiB/s   \n",
      "[FixupM4a] Correcting container of \"./Videos/TEA/12_C-kYA4ZRcxk.m4a\"\n",
      "[ExtractAudio] Destination: ./Videos/TEA/12_C-kYA4ZRcxk.wav\n",
      "Deleting original file ./Videos/TEA/12_C-kYA4ZRcxk.m4a (pass -k to keep)\n",
      "Downloaded TEA video 13\n",
      "[Instagram] Extracting URL: https://www.instagram.com/reel/C8wkH4kOLvj/?igsh=MTFyaXZ0M2hpNnBxaw==\n",
      "[Instagram] C8wkH4kOLvj: Setting up session\n",
      "[Instagram] C8wkH4kOLvj: Downloading JSON metadata\n",
      "[info] C8wkH4kOLvj: Downloading 1 format(s): dash-1972308776559593ad\n",
      "[download] Destination: ./Videos/TEA/13_C8wkH4kOLvj.m4a\n",
      "[download] 100% of  409.63KiB in 00:00:00 at 11.57MiB/s  \n",
      "[FixupM4a] Correcting container of \"./Videos/TEA/13_C8wkH4kOLvj.m4a\"\n",
      "[ExtractAudio] Destination: ./Videos/TEA/13_C8wkH4kOLvj.wav\n",
      "Deleting original file ./Videos/TEA/13_C8wkH4kOLvj.m4a (pass -k to keep)\n",
      "Downloaded TEA video 14\n",
      "[Instagram] Extracting URL: https://www.instagram.com/reel/C7KjZeNvf6n/?igsh=MXh5MjJ6dG1pN201Ng==\n",
      "[Instagram] C7KjZeNvf6n: Setting up session\n",
      "[Instagram] C7KjZeNvf6n: Downloading JSON metadata\n",
      "[info] C7KjZeNvf6n: Downloading 1 format(s): dash-1529001704691319ad\n",
      "[download] Destination: ./Videos/TEA/14_C7KjZeNvf6n.m4a\n",
      "[download] 100% of   25.38KiB in 00:00:00 at 804.44KiB/s \n",
      "[FixupM4a] Correcting container of \"./Videos/TEA/14_C7KjZeNvf6n.m4a\"\n",
      "[ExtractAudio] Destination: ./Videos/TEA/14_C7KjZeNvf6n.wav\n",
      "Deleting original file ./Videos/TEA/14_C7KjZeNvf6n.m4a (pass -k to keep)\n",
      "Downloaded TEA video 15\n",
      "[Instagram] Extracting URL: https://www.instagram.com/reel/C8zI7K7uTIH/?igsh=MWFteHp5b2g3YzNvaw==\n",
      "[Instagram] C8zI7K7uTIH: Setting up session\n",
      "[Instagram] C8zI7K7uTIH: Downloading JSON metadata\n",
      "[info] C8zI7K7uTIH: Downloading 1 format(s): dash-437353242535190ad\n",
      "[download] Destination: ./Videos/TEA/15_C8zI7K7uTIH.m4a\n",
      "[download] 100% of  273.79KiB in 00:00:00 at 1.10MiB/s   \n",
      "[FixupM4a] Correcting container of \"./Videos/TEA/15_C8zI7K7uTIH.m4a\"\n",
      "[ExtractAudio] Destination: ./Videos/TEA/15_C8zI7K7uTIH.wav\n",
      "Deleting original file ./Videos/TEA/15_C8zI7K7uTIH.m4a (pass -k to keep)\n",
      "Downloaded TEA video 16\n",
      "[Instagram] Extracting URL: https://www.instagram.com/reel/C971f92P6LF/?igsh=MXEzajBrNzF0YTRidg==\n",
      "[Instagram] C971f92P6LF: Setting up session\n",
      "[Instagram] C971f92P6LF: Downloading JSON metadata\n",
      "[info] C971f92P6LF: Downloading 1 format(s): dash-1165975648036039ad\n",
      "[download] Destination: ./Videos/TEA/16_C971f92P6LF.m4a\n",
      "[download] 100% of  135.59KiB in 00:00:00 at 432.81KiB/s   \n",
      "[FixupM4a] Correcting container of \"./Videos/TEA/16_C971f92P6LF.m4a\"\n",
      "[ExtractAudio] Destination: ./Videos/TEA/16_C971f92P6LF.wav\n",
      "Deleting original file ./Videos/TEA/16_C971f92P6LF.m4a (pass -k to keep)\n",
      "Downloaded TEA video 17\n",
      "[Instagram] Extracting URL: https://www.instagram.com/reel/C5573h5Ogm5/?igsh=emU4MDMyNW1kZWpy\n",
      "[Instagram] C5573h5Ogm5: Setting up session\n",
      "[Instagram] C5573h5Ogm5: Downloading JSON metadata\n",
      "[info] C5573h5Ogm5: Downloading 1 format(s): dash-1333421143993589ad\n",
      "[download] Destination: ./Videos/TEA/17_C5573h5Ogm5.m4a\n",
      "[download] 100% of  619.81KiB in 00:00:00 at 14.04MiB/s  \n",
      "[FixupM4a] Correcting container of \"./Videos/TEA/17_C5573h5Ogm5.m4a\"\n",
      "[ExtractAudio] Destination: ./Videos/TEA/17_C5573h5Ogm5.wav\n",
      "Deleting original file ./Videos/TEA/17_C5573h5Ogm5.m4a (pass -k to keep)\n",
      "Downloaded TEA video 18\n",
      "[Instagram] Extracting URL: https://www.instagram.com/reel/C-JR02WS__I/?igsh=MXNkdjhpYjhscmplMg==\n",
      "[Instagram] C-JR02WS__I: Setting up session\n",
      "[Instagram] C-JR02WS__I: Downloading JSON metadata\n",
      "[info] C-JR02WS__I: Downloading 1 format(s): dash-8058153547612701ad\n",
      "[download] Destination: ./Videos/TEA/18_C-JR02WS__I.m4a\n",
      "[download] 100% of  190.08KiB in 00:00:00 at 388.33KiB/s   \n",
      "[FixupM4a] Correcting container of \"./Videos/TEA/18_C-JR02WS__I.m4a\"\n",
      "[ExtractAudio] Destination: ./Videos/TEA/18_C-JR02WS__I.wav\n",
      "Deleting original file ./Videos/TEA/18_C-JR02WS__I.m4a (pass -k to keep)\n",
      "Downloaded TEA video 19\n",
      "[Instagram] Extracting URL: https://www.instagram.com/reel/C9N8u5TOawB/?igsh=ejVrOHc4eW9rd3kz\n",
      "[Instagram] C9N8u5TOawB: Setting up session\n",
      "[Instagram] C9N8u5TOawB: Downloading JSON metadata\n",
      "[info] C9N8u5TOawB: Downloading 1 format(s): dash-1159857505336422ad\n",
      "[download] Destination: ./Videos/TEA/19_C9N8u5TOawB.m4a\n",
      "[download] 100% of   17.87KiB in 00:00:00 at 511.77KiB/s \n",
      "[FixupM4a] Correcting container of \"./Videos/TEA/19_C9N8u5TOawB.m4a\"\n",
      "[ExtractAudio] Destination: ./Videos/TEA/19_C9N8u5TOawB.wav\n",
      "Deleting original file ./Videos/TEA/19_C9N8u5TOawB.m4a (pass -k to keep)\n",
      "Downloaded TEA video 20\n",
      "[Instagram] Extracting URL: https://www.instagram.com/reel/C7rQ8v2OPNx/?igsh=NWxzZndwd2pqcmVq\n",
      "[Instagram] C7rQ8v2OPNx: Setting up session\n"
     ]
    },
    {
     "name": "stderr",
     "output_type": "stream",
     "text": [
      "WARNING: [Instagram] C7rQ8v2OPNx: Instagram API is not granting access\n"
     ]
    },
    {
     "name": "stdout",
     "output_type": "stream",
     "text": [
      "[Instagram] C7rQ8v2OPNx: Downloading JSON metadata\n"
     ]
    },
    {
     "name": "stderr",
     "output_type": "stream",
     "text": [
      "ERROR: [Instagram] C7rQ8v2OPNx: Instagram sent an empty media response. Check if this post is accessible in your browser without being logged-in. If it is not, then use --cookies-from-browser or --cookies for the authentication. See  https://github.com/yt-dlp/yt-dlp/wiki/FAQ#how-do-i-pass-cookies-to-yt-dlp  for how to manually pass cookies. Otherwise, if the post is accessible in browser without being logged-in, please report this issue on  https://github.com/yt-dlp/yt-dlp/issues?q= , filling out the appropriate issue template. Confirm you are on the latest version using  yt-dlp -U\n"
     ]
    },
    {
     "name": "stdout",
     "output_type": "stream",
     "text": [
      "Downloaded TEA video 21\n",
      "[Instagram] Extracting URL: https://www.instagram.com/reel/C8KGPkqOOlq/?igsh=MTR5MTk2anpydWJkcQ==\n",
      "[Instagram] C8KGPkqOOlq: Setting up session\n",
      "[Instagram] C8KGPkqOOlq: Downloading JSON metadata\n",
      "[info] C8KGPkqOOlq: Downloading 1 format(s): dash-2627936634052434ad\n",
      "[download] Destination: ./Videos/TEA/21_C8KGPkqOOlq.m4a\n",
      "[download] 100% of  286.90KiB in 00:00:00 at 1.40MiB/s   \n",
      "[FixupM4a] Correcting container of \"./Videos/TEA/21_C8KGPkqOOlq.m4a\"\n",
      "[ExtractAudio] Destination: ./Videos/TEA/21_C8KGPkqOOlq.wav\n",
      "Deleting original file ./Videos/TEA/21_C8KGPkqOOlq.m4a (pass -k to keep)\n",
      "Downloaded TEA video 22\n",
      "[Instagram] Extracting URL: https://www.instagram.com/reel/C-czcy3ukj6/?igsh=MTZ6ajV1amkwY2oyMw==\n",
      "[Instagram] C-czcy3ukj6: Setting up session\n",
      "[Instagram] C-czcy3ukj6: Downloading JSON metadata\n",
      "[info] C-czcy3ukj6: Downloading 1 format(s): dash-1590299034861259ad\n",
      "[download] Destination: ./Videos/TEA/22_C-czcy3ukj6.m4a\n",
      "[download] 100% of  513.87KiB in 00:00:00 at 3.55MiB/s   \n",
      "[FixupM4a] Correcting container of \"./Videos/TEA/22_C-czcy3ukj6.m4a\"\n",
      "[ExtractAudio] Destination: ./Videos/TEA/22_C-czcy3ukj6.wav\n",
      "Deleting original file ./Videos/TEA/22_C-czcy3ukj6.m4a (pass -k to keep)\n",
      "Downloaded TEA video 23\n",
      "[Instagram] Extracting URL: https://www.instagram.com/reel/C9w9QjVx3rw/?igsh=amkzaDFsOXM2MDV0\n",
      "[Instagram] C9w9QjVx3rw: Setting up session\n",
      "[Instagram] C9w9QjVx3rw: Downloading JSON metadata\n",
      "[info] C9w9QjVx3rw: Downloading 1 format(s): dash-2989138611237493ad\n",
      "[download] Destination: ./Videos/TEA/23_C9w9QjVx3rw.m4a\n",
      "[download] 100% of  276.32KiB in 00:00:00 at 854.78KiB/s   \n",
      "[FixupM4a] Correcting container of \"./Videos/TEA/23_C9w9QjVx3rw.m4a\"\n",
      "[ExtractAudio] Destination: ./Videos/TEA/23_C9w9QjVx3rw.wav\n",
      "Deleting original file ./Videos/TEA/23_C9w9QjVx3rw.m4a (pass -k to keep)\n",
      "Downloaded TEA video 24\n",
      "[Instagram] Extracting URL: https://www.instagram.com/reel/C-Gwg8yva6I/?igsh=MWZnYTAycHh0Z2I5NQ==\n",
      "[Instagram] C-Gwg8yva6I: Setting up session\n",
      "[Instagram] C-Gwg8yva6I: Downloading JSON metadata\n",
      "[info] C-Gwg8yva6I: Downloading 1 format(s): dash-470033939152767ad\n",
      "[download] Destination: ./Videos/TEA/24_C-Gwg8yva6I.m4a\n",
      "[download] 100% of  202.38KiB in 00:00:00 at 1.10MiB/s   \n",
      "[FixupM4a] Correcting container of \"./Videos/TEA/24_C-Gwg8yva6I.m4a\"\n",
      "[ExtractAudio] Destination: ./Videos/TEA/24_C-Gwg8yva6I.wav\n",
      "Deleting original file ./Videos/TEA/24_C-Gwg8yva6I.m4a (pass -k to keep)\n",
      "Downloaded TEA video 25\n",
      "[Instagram] Extracting URL: https://www.instagram.com/reel/C96IfriNyRW/?igsh=MWFzbnpjZDJnOWQybA==\n",
      "[Instagram] C96IfriNyRW: Setting up session\n",
      "[Instagram] C96IfriNyRW: Downloading JSON metadata\n",
      "[info] C96IfriNyRW: Downloading 1 format(s): dash-851802703564990ad\n",
      "[download] Destination: ./Videos/TEA/25_C96IfriNyRW.m4a\n",
      "[download] 100% of  354.57KiB in 00:00:00 at 1.45MiB/s     \n",
      "[FixupM4a] Correcting container of \"./Videos/TEA/25_C96IfriNyRW.m4a\"\n",
      "[ExtractAudio] Destination: ./Videos/TEA/25_C96IfriNyRW.wav\n",
      "Deleting original file ./Videos/TEA/25_C96IfriNyRW.m4a (pass -k to keep)\n",
      "Downloaded TEA video 26\n",
      "[Instagram] Extracting URL: https://www.instagram.com/reel/C69OKm5uaqR/?igsh=em1pemljcTNsaDU4\n",
      "[Instagram] C69OKm5uaqR: Setting up session\n",
      "[Instagram] C69OKm5uaqR: Downloading JSON metadata\n",
      "[info] C69OKm5uaqR: Downloading 1 format(s): dash-1769756706847208ad\n",
      "[download] Destination: ./Videos/TEA/26_C69OKm5uaqR.m4a\n",
      "[download] 100% of  120.64KiB in 00:00:00 at 785.34KiB/s   \n",
      "[FixupM4a] Correcting container of \"./Videos/TEA/26_C69OKm5uaqR.m4a\"\n",
      "[ExtractAudio] Destination: ./Videos/TEA/26_C69OKm5uaqR.wav\n",
      "Deleting original file ./Videos/TEA/26_C69OKm5uaqR.m4a (pass -k to keep)\n",
      "Downloaded TEA video 27\n",
      "[Instagram] Extracting URL: https://www.instagram.com/reel/C-FjzdbxiQu/?igsh=MTF5dXB0OXJkNDBhaA==\n",
      "[Instagram] C-FjzdbxiQu: Setting up session\n",
      "[Instagram] C-FjzdbxiQu: Downloading JSON metadata\n",
      "[info] C-FjzdbxiQu: Downloading 1 format(s): dash-356783517468236ad\n",
      "[download] Destination: ./Videos/TEA/27_C-FjzdbxiQu.m4a\n",
      "[download] 100% of  299.89KiB in 00:00:00 at 1.19MiB/s     \n",
      "[FixupM4a] Correcting container of \"./Videos/TEA/27_C-FjzdbxiQu.m4a\"\n",
      "[ExtractAudio] Destination: ./Videos/TEA/27_C-FjzdbxiQu.wav\n",
      "Deleting original file ./Videos/TEA/27_C-FjzdbxiQu.m4a (pass -k to keep)\n",
      "Downloaded TEA video 28\n",
      "[Instagram] Extracting URL: https://www.instagram.com/reel/C-aAzxpxWtO/?igsh=NDBnY2o2aWdwdTdo\n",
      "[Instagram] C-aAzxpxWtO: Setting up session\n",
      "[Instagram] C-aAzxpxWtO: Downloading JSON metadata\n",
      "[info] C-aAzxpxWtO: Downloading 1 format(s): dash-427782366251688ad\n",
      "[download] Destination: ./Videos/TEA/28_C-aAzxpxWtO.m4a\n",
      "[download] 100% of  275.20KiB in 00:00:00 at 1.33MiB/s   \n",
      "[FixupM4a] Correcting container of \"./Videos/TEA/28_C-aAzxpxWtO.m4a\"\n",
      "[ExtractAudio] Destination: ./Videos/TEA/28_C-aAzxpxWtO.wav\n",
      "Deleting original file ./Videos/TEA/28_C-aAzxpxWtO.m4a (pass -k to keep)\n",
      "Downloaded TEA video 29\n",
      "[Instagram] Extracting URL: https://www.instagram.com/reel/C9QVdr6v8xf/?igsh=NTV1cGQ4eTF6MnFx\n",
      "[Instagram] C9QVdr6v8xf: Setting up session\n",
      "[Instagram] C9QVdr6v8xf: Downloading JSON metadata\n",
      "[info] C9QVdr6v8xf: Downloading 1 format(s): dash-1006958354435964ad\n",
      "[download] Destination: ./Videos/TEA/29_C9QVdr6v8xf.m4a\n",
      "[download] 100% of  523.29KiB in 00:00:00 at 1.58MiB/s   \n",
      "[FixupM4a] Correcting container of \"./Videos/TEA/29_C9QVdr6v8xf.m4a\"\n",
      "[ExtractAudio] Destination: ./Videos/TEA/29_C9QVdr6v8xf.wav\n",
      "Deleting original file ./Videos/TEA/29_C9QVdr6v8xf.m4a (pass -k to keep)\n",
      "Downloaded TEA video 30\n",
      "[Instagram] Extracting URL: https://www.instagram.com/reel/C-IOr5FOpYu/?igsh=MWRzZjN3c3k4NjFjaA==\n",
      "[Instagram] C-IOr5FOpYu: Setting up session\n",
      "[Instagram] C-IOr5FOpYu: Downloading JSON metadata\n",
      "[info] C-IOr5FOpYu: Downloading 1 format(s): dash-1237130400619996ad\n",
      "[download] Destination: ./Videos/TEA/30_C-IOr5FOpYu.m4a\n",
      "[download] 100% of  290.75KiB in 00:00:00 at 929.12KiB/s \n",
      "[FixupM4a] Correcting container of \"./Videos/TEA/30_C-IOr5FOpYu.m4a\"\n",
      "[ExtractAudio] Destination: ./Videos/TEA/30_C-IOr5FOpYu.wav\n",
      "Deleting original file ./Videos/TEA/30_C-IOr5FOpYu.m4a (pass -k to keep)\n",
      "Downloaded TEA video 31\n",
      "[Instagram] Extracting URL: https://www.instagram.com/reel/C6gZbhXgJSL/?igsh=NW1jcW16b2xjM2Nm\n",
      "[Instagram] C6gZbhXgJSL: Setting up session\n",
      "[Instagram] C6gZbhXgJSL: Downloading JSON metadata\n",
      "[info] C6gZbhXgJSL: Downloading 1 format(s): dash-828426259344037ad\n",
      "[download] Destination: ./Videos/TEA/31_C6gZbhXgJSL.m4a\n",
      "[download] 100% of  239.19KiB in 00:00:00 at 1.81MiB/s   \n",
      "[FixupM4a] Correcting container of \"./Videos/TEA/31_C6gZbhXgJSL.m4a\"\n",
      "[ExtractAudio] Destination: ./Videos/TEA/31_C6gZbhXgJSL.wav\n",
      "Deleting original file ./Videos/TEA/31_C6gZbhXgJSL.m4a (pass -k to keep)\n",
      "Downloaded TEA video 32\n",
      "[Instagram] Extracting URL: https://www.instagram.com/reel/C-AktdtJ9hs/?igsh=cHhmMDNoMzJ3OGc=\n",
      "[Instagram] C-AktdtJ9hs: Setting up session\n",
      "[Instagram] C-AktdtJ9hs: Downloading JSON metadata\n",
      "[info] C-AktdtJ9hs: Downloading 1 format(s): dash-855686383149413ad\n",
      "[download] Destination: ./Videos/TEA/32_C-AktdtJ9hs.m4a\n",
      "[download] 100% of  514.01KiB in 00:00:00 at 1.60MiB/s     \n",
      "[FixupM4a] Correcting container of \"./Videos/TEA/32_C-AktdtJ9hs.m4a\"\n",
      "[ExtractAudio] Destination: ./Videos/TEA/32_C-AktdtJ9hs.wav\n",
      "Deleting original file ./Videos/TEA/32_C-AktdtJ9hs.m4a (pass -k to keep)\n",
      "Downloaded TEA video 33\n",
      "[Instagram] Extracting URL: https://www.instagram.com/reel/C-Xju1ZOEsT/?igsh=MW53cTFhemw3azAwag==\n",
      "[Instagram] C-Xju1ZOEsT: Setting up session\n",
      "[Instagram] C-Xju1ZOEsT: Downloading JSON metadata\n",
      "[info] C-Xju1ZOEsT: Downloading 1 format(s): dash-3752911461642618ad\n",
      "[download] Destination: ./Videos/TEA/33_C-Xju1ZOEsT.m4a\n",
      "[download] 100% of  130.98KiB in 00:00:00 at 645.05KiB/s \n",
      "[FixupM4a] Correcting container of \"./Videos/TEA/33_C-Xju1ZOEsT.m4a\"\n",
      "[ExtractAudio] Destination: ./Videos/TEA/33_C-Xju1ZOEsT.wav\n",
      "Deleting original file ./Videos/TEA/33_C-Xju1ZOEsT.m4a (pass -k to keep)\n",
      "Downloaded TEA video 34\n",
      "[Instagram] Extracting URL: https://www.instagram.com/reel/C9nJ7-_O9bE/?igsh=c3Z6YnRmMWF5ejRp\n",
      "[Instagram] C9nJ7-_O9bE: Setting up session\n",
      "[Instagram] C9nJ7-_O9bE: Downloading JSON metadata\n",
      "[info] C9nJ7-_O9bE: Downloading 1 format(s): dash-3653297074885325ad\n",
      "[download] Destination: ./Videos/TEA/34_C9nJ7-_O9bE.m4a\n",
      "[download] 100% of  179.97KiB in 00:00:00 at 699.47KiB/s   \n",
      "[FixupM4a] Correcting container of \"./Videos/TEA/34_C9nJ7-_O9bE.m4a\"\n",
      "[ExtractAudio] Destination: ./Videos/TEA/34_C9nJ7-_O9bE.wav\n",
      "Deleting original file ./Videos/TEA/34_C9nJ7-_O9bE.m4a (pass -k to keep)\n",
      "Downloaded TEA video 35\n",
      "[Instagram] Extracting URL: https://www.instagram.com/reel/C9GPDWqvrEM/?igsh=Yzczc3h0MnFxczZr\n",
      "[Instagram] C9GPDWqvrEM: Setting up session\n",
      "[Instagram] C9GPDWqvrEM: Downloading JSON metadata\n",
      "[info] C9GPDWqvrEM: Downloading 1 format(s): dash-804312505157118ad\n",
      "[download] Destination: ./Videos/TEA/35_C9GPDWqvrEM.m4a\n",
      "[download] 100% of  362.08KiB in 00:00:00 at 7.21MiB/s   \n",
      "[FixupM4a] Correcting container of \"./Videos/TEA/35_C9GPDWqvrEM.m4a\"\n",
      "[ExtractAudio] Destination: ./Videos/TEA/35_C9GPDWqvrEM.wav\n",
      "Deleting original file ./Videos/TEA/35_C9GPDWqvrEM.m4a (pass -k to keep)\n",
      "Downloaded TEA video 36\n",
      "[Instagram] Extracting URL: https://www.instagram.com/reel/C9x5ObbpHS6/?igsh=dmw5Zzdnem03NmVo\n",
      "[Instagram] C9x5ObbpHS6: Setting up session\n",
      "[Instagram] C9x5ObbpHS6: Downloading JSON metadata\n",
      "[info] C9x5ObbpHS6: Downloading 1 format(s): dash-1218748716226611ad\n",
      "[download] Destination: ./Videos/TEA/36_C9x5ObbpHS6.m4a\n",
      "[download] 100% of  466.42KiB in 00:00:00 at 1.42MiB/s     \n",
      "[FixupM4a] Correcting container of \"./Videos/TEA/36_C9x5ObbpHS6.m4a\"\n",
      "[ExtractAudio] Destination: ./Videos/TEA/36_C9x5ObbpHS6.wav\n",
      "Deleting original file ./Videos/TEA/36_C9x5ObbpHS6.m4a (pass -k to keep)\n",
      "Downloaded TEA video 37\n",
      "[Instagram] Extracting URL: https://www.instagram.com/reel/C-SYoo0R5zw/?igsh=MTIxbjVpcmRvb3ptaw==\n",
      "[Instagram] C-SYoo0R5zw: Setting up session\n",
      "[Instagram] C-SYoo0R5zw: Downloading JSON metadata\n",
      "[info] C-SYoo0R5zw: Downloading 1 format(s): dash-684216037231928ad\n",
      "[download] Destination: ./Videos/TEA/37_C-SYoo0R5zw.m4a\n",
      "[download] 100% of  286.72KiB in 00:00:00 at 1.43MiB/s   \n",
      "[FixupM4a] Correcting container of \"./Videos/TEA/37_C-SYoo0R5zw.m4a\"\n",
      "[ExtractAudio] Destination: ./Videos/TEA/37_C-SYoo0R5zw.wav\n",
      "Deleting original file ./Videos/TEA/37_C-SYoo0R5zw.m4a (pass -k to keep)\n",
      "Downloaded TEA video 38\n",
      "[Instagram] Extracting URL: https://www.instagram.com/reel/C-Lqe8cxY0-/?igsh=MXJvdzRiZnZvYXRxMw==\n",
      "[Instagram] C-Lqe8cxY0-: Setting up session\n",
      "[Instagram] C-Lqe8cxY0-: Downloading JSON metadata\n",
      "[info] C-Lqe8cxY0-: Downloading 1 format(s): dash-462010793264353ad\n",
      "[download] Destination: ./Videos/TEA/38_C-Lqe8cxY0-.m4a\n",
      "[download] 100% of  145.64KiB in 00:00:00 at 466.48KiB/s   \n",
      "[FixupM4a] Correcting container of \"./Videos/TEA/38_C-Lqe8cxY0-.m4a\"\n",
      "[ExtractAudio] Destination: ./Videos/TEA/38_C-Lqe8cxY0-.wav\n",
      "Deleting original file ./Videos/TEA/38_C-Lqe8cxY0-.m4a (pass -k to keep)\n",
      "Downloaded TEA video 39\n",
      "[Instagram] Extracting URL: https://www.instagram.com/reel/C7U2ZJ_POXn/?igsh=MWpiMWg5bmVta2Ex\n",
      "[Instagram] C7U2ZJ_POXn: Setting up session\n"
     ]
    },
    {
     "name": "stderr",
     "output_type": "stream",
     "text": [
      "WARNING: [Instagram] C7U2ZJ_POXn: Instagram API is not granting access\n"
     ]
    },
    {
     "name": "stdout",
     "output_type": "stream",
     "text": [
      "[Instagram] C7U2ZJ_POXn: Downloading JSON metadata\n"
     ]
    },
    {
     "name": "stderr",
     "output_type": "stream",
     "text": [
      "ERROR: [Instagram] C7U2ZJ_POXn: Instagram sent an empty media response. Check if this post is accessible in your browser without being logged-in. If it is not, then use --cookies-from-browser or --cookies for the authentication. See  https://github.com/yt-dlp/yt-dlp/wiki/FAQ#how-do-i-pass-cookies-to-yt-dlp  for how to manually pass cookies. Otherwise, if the post is accessible in browser without being logged-in, please report this issue on  https://github.com/yt-dlp/yt-dlp/issues?q= , filling out the appropriate issue template. Confirm you are on the latest version using  yt-dlp -U\n"
     ]
    },
    {
     "name": "stdout",
     "output_type": "stream",
     "text": [
      "Downloaded TEA video 40\n",
      "[Instagram] Extracting URL: https://www.instagram.com/reel/C8qqd2WOIhX/?igsh=MXR3dXFiMmVyY3pzMg==\n",
      "[Instagram] C8qqd2WOIhX: Setting up session\n",
      "[Instagram] C8qqd2WOIhX: Downloading JSON metadata\n",
      "[info] C8qqd2WOIhX: Downloading 1 format(s): dash-3710586285853647ad\n",
      "[download] Destination: ./Videos/TEA/40_C8qqd2WOIhX.m4a\n",
      "[download] 100% of   40.46KiB in 00:00:00 at 163.62KiB/s   \n",
      "[FixupM4a] Correcting container of \"./Videos/TEA/40_C8qqd2WOIhX.m4a\"\n",
      "[ExtractAudio] Destination: ./Videos/TEA/40_C8qqd2WOIhX.wav\n",
      "Deleting original file ./Videos/TEA/40_C8qqd2WOIhX.m4a (pass -k to keep)\n",
      "Downloaded TEA video 41\n",
      "[Instagram] Extracting URL: https://www.instagram.com/reel/C923gOkvEeV/?igsh=MTJoNzNwN3dmZjRlbw==\n",
      "[Instagram] C923gOkvEeV: Setting up session\n",
      "[Instagram] C923gOkvEeV: Downloading JSON metadata\n",
      "[info] C923gOkvEeV: Downloading 1 format(s): dash-1184881646064445ad\n",
      "[download] Destination: ./Videos/TEA/41_C923gOkvEeV.m4a\n",
      "[download] 100% of  186.24KiB in 00:00:00 at 877.00KiB/s   \n",
      "[FixupM4a] Correcting container of \"./Videos/TEA/41_C923gOkvEeV.m4a\"\n",
      "[ExtractAudio] Destination: ./Videos/TEA/41_C923gOkvEeV.wav\n",
      "Deleting original file ./Videos/TEA/41_C923gOkvEeV.m4a (pass -k to keep)\n",
      "Downloaded TEA video 42\n",
      "[Instagram] Extracting URL: https://www.instagram.com/reel/C8HPr1rukQq/?igsh=cnZjdnV4bTV3M2ti\n",
      "[Instagram] C8HPr1rukQq: Setting up session\n",
      "[Instagram] C8HPr1rukQq: Downloading JSON metadata\n",
      "[info] C8HPr1rukQq: Downloading 1 format(s): dash-1510946486461409ad\n",
      "[download] Destination: ./Videos/TEA/42_C8HPr1rukQq.m4a\n",
      "[download] 100% of   30.79KiB in 00:00:00 at 101.53KiB/s   \n",
      "[FixupM4a] Correcting container of \"./Videos/TEA/42_C8HPr1rukQq.m4a\"\n",
      "[ExtractAudio] Destination: ./Videos/TEA/42_C8HPr1rukQq.wav\n",
      "Deleting original file ./Videos/TEA/42_C8HPr1rukQq.m4a (pass -k to keep)\n",
      "Downloaded TEA video 43\n",
      "[Instagram] Extracting URL: https://www.instagram.com/reel/C9neZj2yFq6/?igsh=MXhsbnF1bDd2Z3BmZw==\n",
      "[Instagram] C9neZj2yFq6: Setting up session\n",
      "[Instagram] C9neZj2yFq6: Downloading JSON metadata\n",
      "[info] C9neZj2yFq6: Downloading 1 format(s): dash-669756195373529ad\n",
      "[download] Destination: ./Videos/TEA/43_C9neZj2yFq6.m4a\n",
      "[download] 100% of   99.12KiB in 00:00:00 at 4.72MiB/s   \n",
      "[FixupM4a] Correcting container of \"./Videos/TEA/43_C9neZj2yFq6.m4a\"\n",
      "[ExtractAudio] Destination: ./Videos/TEA/43_C9neZj2yFq6.wav\n",
      "Deleting original file ./Videos/TEA/43_C9neZj2yFq6.m4a (pass -k to keep)\n",
      "Downloaded TEA video 44\n",
      "[Instagram] Extracting URL: https://www.instagram.com/reel/C93W3_8ufX8/?igsh=MXR3dGZyenVrb2Z4cQ==\n",
      "[Instagram] C93W3_8ufX8: Setting up session\n",
      "[Instagram] C93W3_8ufX8: Downloading JSON metadata\n",
      "[info] C93W3_8ufX8: Downloading 1 format(s): dash-1126520278443356ad\n",
      "[download] Destination: ./Videos/TEA/44_C93W3_8ufX8.m4a\n",
      "[download] 100% of  677.44KiB in 00:00:00 at 15.44MiB/s  \n",
      "[FixupM4a] Correcting container of \"./Videos/TEA/44_C93W3_8ufX8.m4a\"\n",
      "[ExtractAudio] Destination: ./Videos/TEA/44_C93W3_8ufX8.wav\n",
      "Deleting original file ./Videos/TEA/44_C93W3_8ufX8.m4a (pass -k to keep)\n",
      "Downloaded TEA video 45\n",
      "[Instagram] Extracting URL: https://www.instagram.com/reel/C7t3r6suUqp/?igsh=dXE5bWg2NTB4dHlp\n",
      "[Instagram] C7t3r6suUqp: Setting up session\n",
      "[Instagram] C7t3r6suUqp: Downloading JSON metadata\n"
     ]
    },
    {
     "name": "stderr",
     "output_type": "stream",
     "text": [
      "ERROR: [Instagram] C7t3r6suUqp: Instagram sent an empty media response. Check if this post is accessible in your browser without being logged-in. If it is not, then use --cookies-from-browser or --cookies for the authentication. See  https://github.com/yt-dlp/yt-dlp/wiki/FAQ#how-do-i-pass-cookies-to-yt-dlp  for how to manually pass cookies. Otherwise, if the post is accessible in browser without being logged-in, please report this issue on  https://github.com/yt-dlp/yt-dlp/issues?q= , filling out the appropriate issue template. Confirm you are on the latest version using  yt-dlp -U\n"
     ]
    },
    {
     "name": "stdout",
     "output_type": "stream",
     "text": [
      "Downloaded TEA video 46\n",
      "[Instagram] Extracting URL: https://www.instagram.com/reel/C8xbYoepNvq/?igsh=ZGw3ZHo4MDJsbDY1\n",
      "[Instagram] C8xbYoepNvq: Setting up session\n",
      "[Instagram] C8xbYoepNvq: Downloading JSON metadata\n",
      "[info] C8xbYoepNvq: Downloading 1 format(s): dash-1138610447402538ad\n",
      "[download] Destination: ./Videos/TEA/46_C8xbYoepNvq.m4a\n",
      "[download] 100% of  664.07KiB in 00:00:00 at 2.07MiB/s   \n",
      "[FixupM4a] Correcting container of \"./Videos/TEA/46_C8xbYoepNvq.m4a\"\n",
      "[ExtractAudio] Destination: ./Videos/TEA/46_C8xbYoepNvq.wav\n",
      "Deleting original file ./Videos/TEA/46_C8xbYoepNvq.m4a (pass -k to keep)\n",
      "Downloaded TEA video 47\n",
      "[Instagram] Extracting URL: https://www.instagram.com/reel/C9ewZV7RC67/?igsh=MW1tc2Npa3ZibmN4OA==\n",
      "[Instagram] C9ewZV7RC67: Setting up session\n",
      "[Instagram] C9ewZV7RC67: Downloading JSON metadata\n",
      "[info] C9ewZV7RC67: Downloading 1 format(s): dash-3448504052108805ad\n",
      "[download] Destination: ./Videos/TEA/47_C9ewZV7RC67.m4a\n",
      "[download] 100% of  248.42KiB in 00:00:00 at 1.83MiB/s   \n",
      "[FixupM4a] Correcting container of \"./Videos/TEA/47_C9ewZV7RC67.m4a\"\n",
      "[ExtractAudio] Destination: ./Videos/TEA/47_C9ewZV7RC67.wav\n",
      "Deleting original file ./Videos/TEA/47_C9ewZV7RC67.m4a (pass -k to keep)\n",
      "Downloaded TEA video 48\n",
      "[Instagram] Extracting URL: https://www.instagram.com/reel/C8x9NwJPpeO/?igsh=MW54MnY1cm5jMXU0OQ==\n",
      "[Instagram] C8x9NwJPpeO: Setting up session\n",
      "[Instagram] C8x9NwJPpeO: Downloading JSON metadata\n",
      "[info] C8x9NwJPpeO: Downloading 1 format(s): dash-1659560741480727ad\n",
      "[download] Destination: ./Videos/TEA/48_C8x9NwJPpeO.m4a\n",
      "[download] 100% of  624.83KiB in 00:00:00 at 1.90MiB/s   \n",
      "[FixupM4a] Correcting container of \"./Videos/TEA/48_C8x9NwJPpeO.m4a\"\n",
      "[ExtractAudio] Destination: ./Videos/TEA/48_C8x9NwJPpeO.wav\n",
      "Deleting original file ./Videos/TEA/48_C8x9NwJPpeO.m4a (pass -k to keep)\n",
      "Downloaded TEA video 49\n",
      "[Instagram] Extracting URL: https://www.instagram.com/reel/C9erEh2RDKh/?igsh=MW91b29lcDBydHhwZA==\n",
      "[Instagram] C9erEh2RDKh: Setting up session\n",
      "[Instagram] C9erEh2RDKh: Downloading JSON metadata\n",
      "[info] C9erEh2RDKh: Downloading 1 format(s): dash-871114251549264ad\n",
      "[download] Destination: ./Videos/TEA/49_C9erEh2RDKh.m4a\n",
      "[download] 100% of  480.16KiB in 00:00:00 at 8.19MiB/s   \n",
      "[FixupM4a] Correcting container of \"./Videos/TEA/49_C9erEh2RDKh.m4a\"\n",
      "[ExtractAudio] Destination: ./Videos/TEA/49_C9erEh2RDKh.wav\n",
      "Deleting original file ./Videos/TEA/49_C9erEh2RDKh.m4a (pass -k to keep)\n",
      "Downloaded TEA video 50\n",
      "[Instagram] Extracting URL: https://www.instagram.com/reel/C5rJ-_mP49V/?igsh=MXFzdm43bHgxNTdpZg==\n",
      "[Instagram] C5rJ-_mP49V: Setting up session\n"
     ]
    },
    {
     "name": "stderr",
     "output_type": "stream",
     "text": [
      "WARNING: [Instagram] C5rJ-_mP49V: Instagram API is not granting access\n"
     ]
    },
    {
     "name": "stdout",
     "output_type": "stream",
     "text": [
      "[Instagram] C5rJ-_mP49V: Downloading JSON metadata\n"
     ]
    },
    {
     "name": "stderr",
     "output_type": "stream",
     "text": [
      "ERROR: [Instagram] C5rJ-_mP49V: Instagram sent an empty media response. Check if this post is accessible in your browser without being logged-in. If it is not, then use --cookies-from-browser or --cookies for the authentication. See  https://github.com/yt-dlp/yt-dlp/wiki/FAQ#how-do-i-pass-cookies-to-yt-dlp  for how to manually pass cookies. Otherwise, if the post is accessible in browser without being logged-in, please report this issue on  https://github.com/yt-dlp/yt-dlp/issues?q= , filling out the appropriate issue template. Confirm you are on the latest version using  yt-dlp -U\n"
     ]
    },
    {
     "name": "stdout",
     "output_type": "stream",
     "text": [
      "Downloaded TEA video 51\n",
      "[Instagram] Extracting URL: https://www.instagram.com/reel/C-Yheu6h4Qt/?igsh=MTl4cHRsOGNjbjJxaQ==\n",
      "[Instagram] C-Yheu6h4Qt: Setting up session\n",
      "[Instagram] C-Yheu6h4Qt: Downloading JSON metadata\n",
      "[info] C-Yheu6h4Qt: Downloading 1 format(s): dash-1132918801144424ad\n",
      "[download] Destination: ./Videos/TEA/51_C-Yheu6h4Qt.m4a\n",
      "[download] 100% of   74.43KiB in 00:00:00 at 239.42KiB/s   \n",
      "[FixupM4a] Correcting container of \"./Videos/TEA/51_C-Yheu6h4Qt.m4a\"\n",
      "[ExtractAudio] Destination: ./Videos/TEA/51_C-Yheu6h4Qt.wav\n",
      "Deleting original file ./Videos/TEA/51_C-Yheu6h4Qt.m4a (pass -k to keep)\n",
      "Downloaded TEA video 52\n",
      "[Instagram] Extracting URL: https://www.instagram.com/reel/C-G1UBDILwt/?igsh=MXVyamlnNHI4d2Roag==\n",
      "[Instagram] C-G1UBDILwt: Setting up session\n",
      "[Instagram] C-G1UBDILwt: Downloading JSON metadata\n",
      "[info] C-G1UBDILwt: Downloading 1 format(s): dash-1413968975961373ad\n",
      "[download] Destination: ./Videos/TEA/52_C-G1UBDILwt.m4a\n",
      "[download] 100% of   46.96KiB in 00:00:00 at 153.66KiB/s   \n",
      "[FixupM4a] Correcting container of \"./Videos/TEA/52_C-G1UBDILwt.m4a\"\n",
      "[ExtractAudio] Destination: ./Videos/TEA/52_C-G1UBDILwt.wav\n",
      "Deleting original file ./Videos/TEA/52_C-G1UBDILwt.m4a (pass -k to keep)\n",
      "Downloaded TEA video 53\n",
      "[Instagram] Extracting URL: https://www.instagram.com/reel/C-U83YIu8qg/?igsh=MTQzOGZhd3ltbGhjNg==\n",
      "[Instagram] C-U83YIu8qg: Setting up session\n",
      "[Instagram] C-U83YIu8qg: Downloading JSON metadata\n",
      "[info] C-U83YIu8qg: Downloading 1 format(s): dash-1536772226933700ad\n",
      "[download] Destination: ./Videos/TEA/53_C-U83YIu8qg.m4a\n",
      "[download] 100% of  189.74KiB in 00:00:00 at 771.11KiB/s   \n",
      "[FixupM4a] Correcting container of \"./Videos/TEA/53_C-U83YIu8qg.m4a\"\n",
      "[ExtractAudio] Destination: ./Videos/TEA/53_C-U83YIu8qg.wav\n",
      "Deleting original file ./Videos/TEA/53_C-U83YIu8qg.m4a (pass -k to keep)\n",
      "Downloaded TEA video 54\n",
      "[Instagram] Extracting URL: https://www.instagram.com/reel/C8zk0zBsogl/?igsh=eXozaTd3bXVrancw\n",
      "[Instagram] C8zk0zBsogl: Setting up session\n",
      "[Instagram] C8zk0zBsogl: Downloading JSON metadata\n",
      "[info] C8zk0zBsogl: Downloading 1 format(s): dash-880422230807543ad\n",
      "[download] Destination: ./Videos/TEA/54_C8zk0zBsogl.m4a\n",
      "[download] 100% of  122.44KiB in 00:00:00 at 535.95KiB/s \n",
      "[FixupM4a] Correcting container of \"./Videos/TEA/54_C8zk0zBsogl.m4a\"\n",
      "[ExtractAudio] Destination: ./Videos/TEA/54_C8zk0zBsogl.wav\n",
      "Deleting original file ./Videos/TEA/54_C8zk0zBsogl.m4a (pass -k to keep)\n",
      "Downloaded TEA video 55\n",
      "[Instagram] Extracting URL: https://www.instagram.com/reel/C76zFLYxezh/?igsh=ODI4MmF6MHFveTFi\n",
      "[Instagram] C76zFLYxezh: Setting up session\n",
      "[Instagram] C76zFLYxezh: Downloading JSON metadata\n"
     ]
    },
    {
     "name": "stderr",
     "output_type": "stream",
     "text": [
      "ERROR: [Instagram] C76zFLYxezh: Instagram sent an empty media response. Check if this post is accessible in your browser without being logged-in. If it is not, then use --cookies-from-browser or --cookies for the authentication. See  https://github.com/yt-dlp/yt-dlp/wiki/FAQ#how-do-i-pass-cookies-to-yt-dlp  for how to manually pass cookies. Otherwise, if the post is accessible in browser without being logged-in, please report this issue on  https://github.com/yt-dlp/yt-dlp/issues?q= , filling out the appropriate issue template. Confirm you are on the latest version using  yt-dlp -U\n"
     ]
    },
    {
     "name": "stdout",
     "output_type": "stream",
     "text": [
      "Downloaded TEA video 56\n",
      "[Instagram] Extracting URL: https://www.instagram.com/reel/C-gheltgyBX/?igsh=MXVwbnVmYmo3ZmE1aQ==\n",
      "[Instagram] C-gheltgyBX: Setting up session\n",
      "[Instagram] C-gheltgyBX: Downloading JSON metadata\n",
      "[info] C-gheltgyBX: Downloading 1 format(s): dash-505783612038615ad\n",
      "[download] Destination: ./Videos/TEA/56_C-gheltgyBX.m4a\n",
      "[download] 100% of  180.88KiB in 00:00:00 at 575.48KiB/s   \n",
      "[FixupM4a] Correcting container of \"./Videos/TEA/56_C-gheltgyBX.m4a\"\n",
      "[ExtractAudio] Destination: ./Videos/TEA/56_C-gheltgyBX.wav\n",
      "Deleting original file ./Videos/TEA/56_C-gheltgyBX.m4a (pass -k to keep)\n",
      "Downloaded TEA video 57\n",
      "[Instagram] Extracting URL: https://www.instagram.com/reel/C7VRt0Eo4XX/?igsh=ZjFoaTY1azIweGZu\n",
      "[Instagram] C7VRt0Eo4XX: Setting up session\n",
      "[Instagram] C7VRt0Eo4XX: Downloading JSON metadata\n",
      "[info] C7VRt0Eo4XX: Downloading 1 format(s): dash-1471805080415158ad\n",
      "[download] Destination: ./Videos/TEA/57_C7VRt0Eo4XX.m4a\n",
      "[download] 100% of   21.61KiB in 00:00:00 at 485.01KiB/s \n",
      "[FixupM4a] Correcting container of \"./Videos/TEA/57_C7VRt0Eo4XX.m4a\"\n",
      "[ExtractAudio] Destination: ./Videos/TEA/57_C7VRt0Eo4XX.wav\n",
      "Deleting original file ./Videos/TEA/57_C7VRt0Eo4XX.m4a (pass -k to keep)\n",
      "Downloaded TEA video 58\n",
      "[Instagram] Extracting URL: https://www.instagram.com/reel/C7o-xrwuMrL/?igsh=dWlqYW5lcTZqbHds\n",
      "[Instagram] C7o-xrwuMrL: Setting up session\n",
      "[Instagram] C7o-xrwuMrL: Downloading JSON metadata\n",
      "[info] C7o-xrwuMrL: Downloading 1 format(s): dash-1634548123948096ad\n",
      "[download] Destination: ./Videos/TEA/58_C7o-xrwuMrL.m4a\n",
      "[download] 100% of  233.77KiB in 00:00:00 at 5.12MiB/s   \n",
      "[FixupM4a] Correcting container of \"./Videos/TEA/58_C7o-xrwuMrL.m4a\"\n",
      "[ExtractAudio] Destination: ./Videos/TEA/58_C7o-xrwuMrL.wav\n",
      "Deleting original file ./Videos/TEA/58_C7o-xrwuMrL.m4a (pass -k to keep)\n",
      "Downloaded TEA video 59\n",
      "[Instagram] Extracting URL: https://www.instagram.com/reel/C7eWMhURmIh/?igsh=MWd6dnhmYThmZW82dg==\n",
      "[Instagram] C7eWMhURmIh: Setting up session\n",
      "[Instagram] C7eWMhURmIh: Downloading JSON metadata\n",
      "[info] C7eWMhURmIh: Downloading 1 format(s): dash-381618587621397ad\n",
      "[download] Destination: ./Videos/TEA/59_C7eWMhURmIh.m4a\n",
      "[download] 100% of   30.84KiB in 00:00:00 at 890.62KiB/s \n",
      "[FixupM4a] Correcting container of \"./Videos/TEA/59_C7eWMhURmIh.m4a\"\n",
      "[ExtractAudio] Destination: ./Videos/TEA/59_C7eWMhURmIh.wav\n",
      "Deleting original file ./Videos/TEA/59_C7eWMhURmIh.m4a (pass -k to keep)\n",
      "Downloaded TEA video 60\n",
      "[Instagram] Extracting URL: https://www.instagram.com/reel/C9H343sRJy_/?igsh=MnQ2MWMxZjE1cHlu\n",
      "[Instagram] C9H343sRJy_: Setting up session\n",
      "[Instagram] C9H343sRJy_: Downloading JSON metadata\n",
      "[info] C9H343sRJy_: Downloading 1 format(s): dash-446350324979157ad\n",
      "[download] Destination: ./Videos/TEA/60_C9H343sRJy_.m4a\n",
      "[download] 100% of  113.25KiB in 00:00:00 at 2.88MiB/s   \n",
      "[FixupM4a] Correcting container of \"./Videos/TEA/60_C9H343sRJy_.m4a\"\n",
      "[ExtractAudio] Destination: ./Videos/TEA/60_C9H343sRJy_.wav\n",
      "Deleting original file ./Videos/TEA/60_C9H343sRJy_.m4a (pass -k to keep)\n",
      "Downloaded TEA video 61\n",
      "[Instagram] Extracting URL: https://www.instagram.com/reel/C7h1G-BgPLj/?igsh=MTAxYW0zZHRuNWhybQ==\n",
      "[Instagram] C7h1G-BgPLj: Setting up session\n",
      "[Instagram] C7h1G-BgPLj: Downloading JSON metadata\n",
      "[info] C7h1G-BgPLj: Downloading 1 format(s): dash-925293036011061ad\n",
      "[download] Destination: ./Videos/TEA/61_C7h1G-BgPLj.m4a\n",
      "[download] 100% of   40.88KiB in 00:00:00 at 2.55MiB/s   \n",
      "[FixupM4a] Correcting container of \"./Videos/TEA/61_C7h1G-BgPLj.m4a\"\n",
      "[ExtractAudio] Destination: ./Videos/TEA/61_C7h1G-BgPLj.wav\n",
      "Deleting original file ./Videos/TEA/61_C7h1G-BgPLj.m4a (pass -k to keep)\n",
      "Downloaded TEA video 62\n",
      "[Instagram] Extracting URL: https://www.instagram.com/reel/C3YrvYRRsKQ/?igsh=NWluNjU3OWUwZDRt\n",
      "[Instagram] C3YrvYRRsKQ: Setting up session\n"
     ]
    },
    {
     "name": "stderr",
     "output_type": "stream",
     "text": [
      "WARNING: [Instagram] C3YrvYRRsKQ: Instagram API is not granting access\n"
     ]
    },
    {
     "name": "stdout",
     "output_type": "stream",
     "text": [
      "[Instagram] C3YrvYRRsKQ: Downloading JSON metadata\n"
     ]
    },
    {
     "name": "stderr",
     "output_type": "stream",
     "text": [
      "ERROR: [Instagram] C3YrvYRRsKQ: Instagram sent an empty media response. Check if this post is accessible in your browser without being logged-in. If it is not, then use --cookies-from-browser or --cookies for the authentication. See  https://github.com/yt-dlp/yt-dlp/wiki/FAQ#how-do-i-pass-cookies-to-yt-dlp  for how to manually pass cookies. Otherwise, if the post is accessible in browser without being logged-in, please report this issue on  https://github.com/yt-dlp/yt-dlp/issues?q= , filling out the appropriate issue template. Confirm you are on the latest version using  yt-dlp -U\n"
     ]
    },
    {
     "name": "stdout",
     "output_type": "stream",
     "text": [
      "Downloaded TEA video 63\n",
      "[Instagram] Extracting URL: https://www.instagram.com/reel/C9kCRhcxVZa/?igsh=bHBpZnl2b2NzMXZv\n",
      "[Instagram] C9kCRhcxVZa: Setting up session\n",
      "[Instagram] C9kCRhcxVZa: Downloading JSON metadata\n",
      "[info] C9kCRhcxVZa: Downloading 1 format(s): dash-1212172159785258ad\n",
      "[download] Destination: ./Videos/TEA/63_C9kCRhcxVZa.m4a\n",
      "[download] 100% of  330.07KiB in 00:00:00 at 1.66MiB/s   \n",
      "[FixupM4a] Correcting container of \"./Videos/TEA/63_C9kCRhcxVZa.m4a\"\n",
      "[ExtractAudio] Destination: ./Videos/TEA/63_C9kCRhcxVZa.wav\n",
      "Deleting original file ./Videos/TEA/63_C9kCRhcxVZa.m4a (pass -k to keep)\n",
      "Downloaded TEA video 64\n",
      "[Instagram] Extracting URL: https://www.instagram.com/reel/C9hzbgTpMVh/?igsh=Z2hlcnNhcnRiejl4\n",
      "[Instagram] C9hzbgTpMVh: Setting up session\n",
      "[Instagram] C9hzbgTpMVh: Downloading JSON metadata\n",
      "[info] C9hzbgTpMVh: Downloading 1 format(s): dash-497156312682664ad\n",
      "[download] Destination: ./Videos/TEA/64_C9hzbgTpMVh.m4a\n",
      "[download] 100% of  902.21KiB in 00:00:00 at 1.35MiB/s     \n",
      "[FixupM4a] Correcting container of \"./Videos/TEA/64_C9hzbgTpMVh.m4a\"\n",
      "[ExtractAudio] Destination: ./Videos/TEA/64_C9hzbgTpMVh.wav\n",
      "Deleting original file ./Videos/TEA/64_C9hzbgTpMVh.m4a (pass -k to keep)\n",
      "Downloaded TEA video 65\n",
      "[Instagram] Extracting URL: https://www.instagram.com/reel/C-XfQLGOgW3/?igsh=M2xtZ21xZTNtc2hx\n",
      "[Instagram] C-XfQLGOgW3: Setting up session\n",
      "[Instagram] C-XfQLGOgW3: Downloading JSON metadata\n",
      "[info] C-XfQLGOgW3: Downloading 1 format(s): dash-844916114401155ad\n",
      "[download] Destination: ./Videos/TEA/65_C-XfQLGOgW3.m4a\n",
      "[download] 100% of  392.35KiB in 00:00:00 at 1.61MiB/s     \n",
      "[FixupM4a] Correcting container of \"./Videos/TEA/65_C-XfQLGOgW3.m4a\"\n",
      "[ExtractAudio] Destination: ./Videos/TEA/65_C-XfQLGOgW3.wav\n",
      "Deleting original file ./Videos/TEA/65_C-XfQLGOgW3.m4a (pass -k to keep)\n",
      "Downloaded TEA video 66\n",
      "[Instagram] Extracting URL: https://www.instagram.com/reel/C8fkaphxaRK/?igsh=ZjMxMW81dnpxd2Jo\n",
      "[Instagram] C8fkaphxaRK: Setting up session\n",
      "[Instagram] C8fkaphxaRK: Downloading JSON metadata\n",
      "[info] C8fkaphxaRK: Downloading 1 format(s): dash-3261716560790824ad\n",
      "[download] Destination: ./Videos/TEA/66_C8fkaphxaRK.m4a\n",
      "[download] 100% of  556.42KiB in 00:00:00 at 1.25MiB/s     \n",
      "[FixupM4a] Correcting container of \"./Videos/TEA/66_C8fkaphxaRK.m4a\"\n",
      "[ExtractAudio] Destination: ./Videos/TEA/66_C8fkaphxaRK.wav\n",
      "Deleting original file ./Videos/TEA/66_C8fkaphxaRK.m4a (pass -k to keep)\n",
      "Downloaded TEA video 67\n",
      "[Instagram] Extracting URL: https://www.instagram.com/reel/C8WX1VONjG9/?igsh=ZWlwMjhtODRxOXB4\n",
      "[Instagram] C8WX1VONjG9: Setting up session\n",
      "[Instagram] C8WX1VONjG9: Downloading JSON metadata\n",
      "[info] C8WX1VONjG9: Downloading 1 format(s): dash-1327268934897221ad\n",
      "[download] Destination: ./Videos/TEA/67_C8WX1VONjG9.m4a\n",
      "[download] 100% of  533.79KiB in 00:00:00 at 3.34MiB/s   \n",
      "[FixupM4a] Correcting container of \"./Videos/TEA/67_C8WX1VONjG9.m4a\"\n",
      "[ExtractAudio] Destination: ./Videos/TEA/67_C8WX1VONjG9.wav\n",
      "Deleting original file ./Videos/TEA/67_C8WX1VONjG9.m4a (pass -k to keep)\n",
      "Downloaded TEA video 68\n",
      "[Instagram] Extracting URL: https://www.instagram.com/reel/C7HIHuvuI2u/?igsh=dzd2Z3ByenVxbDRq\n",
      "[Instagram] C7HIHuvuI2u: Setting up session\n",
      "[Instagram] C7HIHuvuI2u: Downloading JSON metadata\n",
      "[info] C7HIHuvuI2u: Downloading 1 format(s): dash-431277239525149ad\n",
      "[download] Destination: ./Videos/TEA/68_C7HIHuvuI2u.m4a\n",
      "[download] 100% of  294.48KiB in 00:00:00 at 657.10KiB/s \n",
      "[FixupM4a] Correcting container of \"./Videos/TEA/68_C7HIHuvuI2u.m4a\"\n",
      "[ExtractAudio] Destination: ./Videos/TEA/68_C7HIHuvuI2u.wav\n",
      "Deleting original file ./Videos/TEA/68_C7HIHuvuI2u.m4a (pass -k to keep)\n",
      "Downloaded TEA video 69\n",
      "[Instagram] Extracting URL: https://www.instagram.com/reel/C7K_6xELN7d/?igsh=MXY1eTN3MDJjeG5lMw==\n",
      "[Instagram] C7K_6xELN7d: Setting up session\n",
      "[Instagram] C7K_6xELN7d: Downloading JSON metadata\n",
      "[info] C7K_6xELN7d: Downloading 1 format(s): dash-363704610034293ad\n",
      "[download] Destination: ./Videos/TEA/69_C7K_6xELN7d.m4a\n",
      "[download] 100% of   26.04KiB in 00:00:00 at 857.25KiB/s \n",
      "[FixupM4a] Correcting container of \"./Videos/TEA/69_C7K_6xELN7d.m4a\"\n",
      "[ExtractAudio] Destination: ./Videos/TEA/69_C7K_6xELN7d.wav\n",
      "Deleting original file ./Videos/TEA/69_C7K_6xELN7d.m4a (pass -k to keep)\n",
      "Downloaded TEA video 70\n",
      "[Instagram] Extracting URL: https://www.instagram.com/reel/C7ganr9iOvl/?igsh=MWZndzI1OGVlemQwNQ==\n",
      "[Instagram] C7ganr9iOvl: Setting up session\n",
      "[Instagram] C7ganr9iOvl: Downloading JSON metadata\n",
      "[info] C7ganr9iOvl: Downloading 1 format(s): dash-416152071241284ad\n",
      "[download] Destination: ./Videos/TEA/70_C7ganr9iOvl.m4a\n",
      "[download] 100% of  645.44KiB in 00:00:00 at 1.44MiB/s   \n",
      "[FixupM4a] Correcting container of \"./Videos/TEA/70_C7ganr9iOvl.m4a\"\n",
      "[ExtractAudio] Destination: ./Videos/TEA/70_C7ganr9iOvl.wav\n",
      "Deleting original file ./Videos/TEA/70_C7ganr9iOvl.m4a (pass -k to keep)\n",
      "Downloaded TEA video 71\n",
      "[Instagram] Extracting URL: https://www.instagram.com/reel/C9lIVXZPES2/?igsh=NDJseW81NGx4aW9x\n",
      "[Instagram] C9lIVXZPES2: Setting up session\n"
     ]
    },
    {
     "name": "stderr",
     "output_type": "stream",
     "text": [
      "WARNING: [Instagram] C9lIVXZPES2: Instagram API is not granting access\n"
     ]
    },
    {
     "name": "stdout",
     "output_type": "stream",
     "text": [
      "[Instagram] C9lIVXZPES2: Downloading JSON metadata\n"
     ]
    },
    {
     "name": "stderr",
     "output_type": "stream",
     "text": [
      "ERROR: [Instagram] C9lIVXZPES2: Instagram sent an empty media response. Check if this post is accessible in your browser without being logged-in. If it is not, then use --cookies-from-browser or --cookies for the authentication. See  https://github.com/yt-dlp/yt-dlp/wiki/FAQ#how-do-i-pass-cookies-to-yt-dlp  for how to manually pass cookies. Otherwise, if the post is accessible in browser without being logged-in, please report this issue on  https://github.com/yt-dlp/yt-dlp/issues?q= , filling out the appropriate issue template. Confirm you are on the latest version using  yt-dlp -U\n"
     ]
    },
    {
     "name": "stdout",
     "output_type": "stream",
     "text": [
      "Downloaded TEA video 72\n",
      "[Instagram] Extracting URL: https://www.instagram.com/reel/C9yCRR0MYN1/?igsh=a3Q0cnF2aXUwYTIx\n",
      "[Instagram] C9yCRR0MYN1: Setting up session\n",
      "[Instagram] C9yCRR0MYN1: Downloading JSON metadata\n",
      "[info] C9yCRR0MYN1: Downloading 1 format(s): dash-2136906826692362ad\n",
      "[download] Destination: ./Videos/TEA/72_C9yCRR0MYN1.m4a\n",
      "[download] 100% of   26.75KiB in 00:00:00 at 87.96KiB/s    \n",
      "[FixupM4a] Correcting container of \"./Videos/TEA/72_C9yCRR0MYN1.m4a\"\n",
      "[ExtractAudio] Destination: ./Videos/TEA/72_C9yCRR0MYN1.wav\n",
      "Deleting original file ./Videos/TEA/72_C9yCRR0MYN1.m4a (pass -k to keep)\n",
      "Downloaded TEA video 73\n",
      "[Instagram] Extracting URL: https://www.instagram.com/reel/C8VaRBRgAYd/?igsh=MTV4ZDQ0cGkzODFndQ==\n",
      "[Instagram] C8VaRBRgAYd: Setting up session\n",
      "[Instagram] C8VaRBRgAYd: Downloading JSON metadata\n",
      "[info] C8VaRBRgAYd: Downloading 1 format(s): dash-758603206440133ad\n",
      "[download] Destination: ./Videos/TEA/73_C8VaRBRgAYd.m4a\n",
      "[download] 100% of  179.44KiB in 00:00:00 at 4.39MiB/s   \n",
      "[FixupM4a] Correcting container of \"./Videos/TEA/73_C8VaRBRgAYd.m4a\"\n",
      "[ExtractAudio] Destination: ./Videos/TEA/73_C8VaRBRgAYd.wav\n",
      "Deleting original file ./Videos/TEA/73_C8VaRBRgAYd.m4a (pass -k to keep)\n",
      "Downloaded TEA video 74\n",
      "[Instagram] Extracting URL: https://www.instagram.com/reel/C9lAQ3AvRyc/?igsh=MWl0N2U1NHV4emw0NA==\n",
      "[Instagram] C9lAQ3AvRyc: Setting up session\n",
      "[Instagram] C9lAQ3AvRyc: Downloading JSON metadata\n",
      "[info] C9lAQ3AvRyc: Downloading 1 format(s): dash-448499718007897ad\n",
      "[download] Destination: ./Videos/TEA/74_C9lAQ3AvRyc.m4a\n",
      "[download] 100% of  240.33KiB in 00:00:00 at 1.69MiB/s   \n",
      "[FixupM4a] Correcting container of \"./Videos/TEA/74_C9lAQ3AvRyc.m4a\"\n",
      "[ExtractAudio] Destination: ./Videos/TEA/74_C9lAQ3AvRyc.wav\n",
      "Deleting original file ./Videos/TEA/74_C9lAQ3AvRyc.m4a (pass -k to keep)\n",
      "Downloaded TEA video 75\n",
      "[Instagram] Extracting URL: https://www.instagram.com/reel/C-YszP1vygV/?igsh=MXFrdjlvZzZvb2FmMQ==\n",
      "[Instagram] C-YszP1vygV: Setting up session\n",
      "[Instagram] C-YszP1vygV: Downloading JSON metadata\n",
      "[info] C-YszP1vygV: Downloading 1 format(s): dash-1044523840723335ad\n",
      "[download] Destination: ./Videos/TEA/75_C-YszP1vygV.m4a\n",
      "[download] 100% of   63.18KiB in 00:00:00 at 480.22KiB/s \n",
      "[FixupM4a] Correcting container of \"./Videos/TEA/75_C-YszP1vygV.m4a\"\n",
      "[ExtractAudio] Destination: ./Videos/TEA/75_C-YszP1vygV.wav\n",
      "Deleting original file ./Videos/TEA/75_C-YszP1vygV.m4a (pass -k to keep)\n",
      "Downloaded TEA video 76\n",
      "[Instagram] Extracting URL: https://www.instagram.com/reel/C9fGdsWJ3QM/?igsh=cm5rd3R1bjRuYXdo\n",
      "[Instagram] C9fGdsWJ3QM: Setting up session\n",
      "[Instagram] C9fGdsWJ3QM: Downloading JSON metadata\n",
      "[info] C9fGdsWJ3QM: Downloading 1 format(s): dash-1027037838984933ad\n",
      "[download] Destination: ./Videos/TEA/76_C9fGdsWJ3QM.m4a\n",
      "[download] 100% of  397.23KiB in 00:00:00 at 1.22MiB/s   \n",
      "[FixupM4a] Correcting container of \"./Videos/TEA/76_C9fGdsWJ3QM.m4a\"\n",
      "[ExtractAudio] Destination: ./Videos/TEA/76_C9fGdsWJ3QM.wav\n",
      "Deleting original file ./Videos/TEA/76_C9fGdsWJ3QM.m4a (pass -k to keep)\n",
      "Downloaded TEA video 77\n",
      "[Instagram] Extracting URL: https://www.instagram.com/reel/C8z64tINmZK/?igsh=a2RjbnVwb243dmwz\n",
      "[Instagram] C8z64tINmZK: Setting up session\n",
      "[Instagram] C8z64tINmZK: Downloading JSON metadata\n",
      "[info] C8z64tINmZK: Downloading 1 format(s): dash-2754060521426548ad\n",
      "[download] Destination: ./Videos/TEA/77_C8z64tINmZK.m4a\n",
      "[download] 100% of  548.22KiB in 00:00:00 at 10.13MiB/s  \n",
      "[FixupM4a] Correcting container of \"./Videos/TEA/77_C8z64tINmZK.m4a\"\n",
      "[ExtractAudio] Destination: ./Videos/TEA/77_C8z64tINmZK.wav\n",
      "Deleting original file ./Videos/TEA/77_C8z64tINmZK.m4a (pass -k to keep)\n",
      "Downloaded TEA video 78\n",
      "[Instagram] Extracting URL: https://www.instagram.com/reel/C-L2_Adx6fW/?igsh=MTQzaDVpazhnNW8zbQ==\n",
      "[Instagram] C-L2_Adx6fW: Setting up session\n",
      "[Instagram] C-L2_Adx6fW: Downloading JSON metadata\n",
      "[info] C-L2_Adx6fW: Downloading 1 format(s): dash-504880032124711ad\n",
      "[download] Destination: ./Videos/TEA/78_C-L2_Adx6fW.m4a\n",
      "[download] 100% of  232.85KiB in 00:00:00 at 736.96KiB/s   \n",
      "[FixupM4a] Correcting container of \"./Videos/TEA/78_C-L2_Adx6fW.m4a\"\n",
      "[ExtractAudio] Destination: ./Videos/TEA/78_C-L2_Adx6fW.wav\n",
      "Deleting original file ./Videos/TEA/78_C-L2_Adx6fW.m4a (pass -k to keep)\n",
      "Downloaded TEA video 79\n",
      "[Instagram] Extracting URL: https://www.instagram.com/reel/C6_dr8WOWu8/?igsh=MWx1ZTBxamh6NDYxbA==\n",
      "[Instagram] C6_dr8WOWu8: Setting up session\n",
      "[Instagram] C6_dr8WOWu8: Downloading JSON metadata\n",
      "[info] C6_dr8WOWu8: Downloading 1 format(s): dash-3698670380403491ad\n",
      "[download] Destination: ./Videos/TEA/79_C6_dr8WOWu8.m4a\n",
      "[download] 100% of  286.99KiB in 00:00:00 at 5.58MiB/s   \n",
      "[FixupM4a] Correcting container of \"./Videos/TEA/79_C6_dr8WOWu8.m4a\"\n",
      "[ExtractAudio] Destination: ./Videos/TEA/79_C6_dr8WOWu8.wav\n",
      "Deleting original file ./Videos/TEA/79_C6_dr8WOWu8.m4a (pass -k to keep)\n",
      "Downloaded TEA video 80\n",
      "[Instagram] Extracting URL: https://www.instagram.com/reel/C87wzMNOlim/?igsh=MWk4MmgzeTl1djlveA==\n",
      "[Instagram] C87wzMNOlim: Setting up session\n",
      "[Instagram] C87wzMNOlim: Downloading JSON metadata\n",
      "[info] C87wzMNOlim: Downloading 1 format(s): dash-1198519177812234ad\n",
      "[download] Destination: ./Videos/TEA/80_C87wzMNOlim.m4a\n",
      "[download] 100% of   29.92KiB in 00:00:00 at 968.43KiB/s \n",
      "[FixupM4a] Correcting container of \"./Videos/TEA/80_C87wzMNOlim.m4a\"\n",
      "[ExtractAudio] Destination: ./Videos/TEA/80_C87wzMNOlim.wav\n",
      "Deleting original file ./Videos/TEA/80_C87wzMNOlim.m4a (pass -k to keep)\n",
      "Downloaded TEA video 81\n",
      "[Instagram] Extracting URL: https://www.instagram.com/reel/C-U2HuCxmcF/?igsh=b3Q3ZmNibWNlMnkz\n",
      "[Instagram] C-U2HuCxmcF: Setting up session\n",
      "[Instagram] C-U2HuCxmcF: Downloading JSON metadata\n",
      "[info] C-U2HuCxmcF: Downloading 1 format(s): dash-843161837771591ad\n",
      "[download] Destination: ./Videos/TEA/81_C-U2HuCxmcF.m4a\n",
      "[download] 100% of  410.24KiB in 00:00:00 at 1.91MiB/s   \n",
      "[FixupM4a] Correcting container of \"./Videos/TEA/81_C-U2HuCxmcF.m4a\"\n",
      "[ExtractAudio] Destination: ./Videos/TEA/81_C-U2HuCxmcF.wav\n",
      "Deleting original file ./Videos/TEA/81_C-U2HuCxmcF.m4a (pass -k to keep)\n",
      "Downloaded TEA video 82\n",
      "[Instagram] Extracting URL: https://www.instagram.com/reel/C-BT_qjJjDb/?igsh=NHRrZjVpNnAwNms4\n",
      "[Instagram] C-BT_qjJjDb: Setting up session\n"
     ]
    },
    {
     "name": "stderr",
     "output_type": "stream",
     "text": [
      "WARNING: [Instagram] C-BT_qjJjDb: Instagram API is not granting access\n"
     ]
    },
    {
     "name": "stdout",
     "output_type": "stream",
     "text": [
      "[Instagram] C-BT_qjJjDb: Downloading JSON metadata\n"
     ]
    },
    {
     "name": "stderr",
     "output_type": "stream",
     "text": [
      "ERROR: [Instagram] C-BT_qjJjDb: Instagram sent an empty media response. Check if this post is accessible in your browser without being logged-in. If it is not, then use --cookies-from-browser or --cookies for the authentication. See  https://github.com/yt-dlp/yt-dlp/wiki/FAQ#how-do-i-pass-cookies-to-yt-dlp  for how to manually pass cookies. Otherwise, if the post is accessible in browser without being logged-in, please report this issue on  https://github.com/yt-dlp/yt-dlp/issues?q= , filling out the appropriate issue template. Confirm you are on the latest version using  yt-dlp -U\n"
     ]
    },
    {
     "name": "stdout",
     "output_type": "stream",
     "text": [
      "Downloaded TEA video 83\n",
      "[Instagram] Extracting URL: https://www.instagram.com/reel/C9tFpIQt_jk/?igsh=NjdtcGhvMzVyaW9o\n",
      "[Instagram] C9tFpIQt_jk: Setting up session\n",
      "[Instagram] C9tFpIQt_jk: Downloading JSON metadata\n",
      "[info] C9tFpIQt_jk: Downloading 1 format(s): dash-1190104922119103ad\n",
      "[download] Destination: ./Videos/TEA/83_C9tFpIQt_jk.m4a\n",
      "[download] 100% of  510.39KiB in 00:00:00 at 1.69MiB/s   \n",
      "[FixupM4a] Correcting container of \"./Videos/TEA/83_C9tFpIQt_jk.m4a\"\n",
      "[ExtractAudio] Destination: ./Videos/TEA/83_C9tFpIQt_jk.wav\n",
      "Deleting original file ./Videos/TEA/83_C9tFpIQt_jk.m4a (pass -k to keep)\n",
      "Downloaded TEA video 84\n",
      "[Instagram] Extracting URL: https://www.instagram.com/reel/C7Ji88Sra3U/?igsh=c2wxbmI4OW9wbDEw\n",
      "[Instagram] C7Ji88Sra3U: Setting up session\n",
      "[Instagram] C7Ji88Sra3U: Downloading JSON metadata\n",
      "[info] C7Ji88Sra3U: Downloading 1 format(s): dash-3157213837748225ad\n",
      "[download] Destination: ./Videos/TEA/84_C7Ji88Sra3U.m4a\n",
      "[download] 100% of  136.56KiB in 00:00:00 at 3.31MiB/s   \n",
      "[FixupM4a] Correcting container of \"./Videos/TEA/84_C7Ji88Sra3U.m4a\"\n",
      "[ExtractAudio] Destination: ./Videos/TEA/84_C7Ji88Sra3U.wav\n",
      "Deleting original file ./Videos/TEA/84_C7Ji88Sra3U.m4a (pass -k to keep)\n",
      "Downloaded TEA video 85\n",
      "[Instagram] Extracting URL: https://www.instagram.com/reel/C79clqCuL21/?igsh=MXRmMTI3Z2tpa2l4Ng==\n",
      "[Instagram] C79clqCuL21: Setting up session\n",
      "[Instagram] C79clqCuL21: Downloading JSON metadata\n"
     ]
    },
    {
     "name": "stderr",
     "output_type": "stream",
     "text": [
      "ERROR: [Instagram] C79clqCuL21: Instagram sent an empty media response. Check if this post is accessible in your browser without being logged-in. If it is not, then use --cookies-from-browser or --cookies for the authentication. See  https://github.com/yt-dlp/yt-dlp/wiki/FAQ#how-do-i-pass-cookies-to-yt-dlp  for how to manually pass cookies. Otherwise, if the post is accessible in browser without being logged-in, please report this issue on  https://github.com/yt-dlp/yt-dlp/issues?q= , filling out the appropriate issue template. Confirm you are on the latest version using  yt-dlp -U\n"
     ]
    },
    {
     "name": "stdout",
     "output_type": "stream",
     "text": [
      "Downloaded TEA video 86\n",
      "[Instagram] Extracting URL: https://www.instagram.com/reel/C-TeL-dy5Fg/?igsh=MTR6MXQyOWkzcGRraA==\n",
      "[Instagram] C-TeL-dy5Fg: Setting up session\n",
      "[Instagram] C-TeL-dy5Fg: Downloading JSON metadata\n"
     ]
    },
    {
     "name": "stderr",
     "output_type": "stream",
     "text": [
      "ERROR: [Instagram] C-TeL-dy5Fg: Instagram sent an empty media response. Check if this post is accessible in your browser without being logged-in. If it is not, then use --cookies-from-browser or --cookies for the authentication. See  https://github.com/yt-dlp/yt-dlp/wiki/FAQ#how-do-i-pass-cookies-to-yt-dlp  for how to manually pass cookies. Otherwise, if the post is accessible in browser without being logged-in, please report this issue on  https://github.com/yt-dlp/yt-dlp/issues?q= , filling out the appropriate issue template. Confirm you are on the latest version using  yt-dlp -U\n"
     ]
    },
    {
     "name": "stdout",
     "output_type": "stream",
     "text": [
      "Downloaded TEA video 87\n",
      "[Instagram] Extracting URL: https://www.instagram.com/reel/C-YhmaWvBA9/?igsh=MWE2bzZ5dGFuNzJuNw==\n",
      "[Instagram] C-YhmaWvBA9: Setting up session\n",
      "[Instagram] C-YhmaWvBA9: Downloading JSON metadata\n",
      "[info] C-YhmaWvBA9: Downloading 1 format(s): dash-903704138445336ad\n",
      "[download] Destination: ./Videos/TEA/87_C-YhmaWvBA9.m4a\n",
      "[download] 100% of  446.60KiB in 00:00:00 at 1.59MiB/s     \n",
      "[FixupM4a] Correcting container of \"./Videos/TEA/87_C-YhmaWvBA9.m4a\"\n",
      "[ExtractAudio] Destination: ./Videos/TEA/87_C-YhmaWvBA9.wav\n",
      "Deleting original file ./Videos/TEA/87_C-YhmaWvBA9.m4a (pass -k to keep)\n",
      "Downloaded TEA video 88\n",
      "[Instagram] Extracting URL: https://www.instagram.com/reel/C-GgA15xsCj/?igsh=MXR4ZHhqNTc1d2xkbw==\n",
      "[Instagram] C-GgA15xsCj: Setting up session\n",
      "[Instagram] C-GgA15xsCj: Downloading JSON metadata\n",
      "[info] C-GgA15xsCj: Downloading 1 format(s): dash-1427993837864852ad\n",
      "[download] Destination: ./Videos/TEA/88_C-GgA15xsCj.m4a\n",
      "[download] 100% of  139.51KiB in 00:00:00 at 784.07KiB/s \n",
      "[FixupM4a] Correcting container of \"./Videos/TEA/88_C-GgA15xsCj.m4a\"\n",
      "[ExtractAudio] Destination: ./Videos/TEA/88_C-GgA15xsCj.wav\n",
      "Deleting original file ./Videos/TEA/88_C-GgA15xsCj.m4a (pass -k to keep)\n",
      "Downloaded TEA video 89\n",
      "[Instagram] Extracting URL: https://www.instagram.com/reel/C9Qso1RtO-F/?igsh=aXJ2ZTdzM2dmaDdr\n",
      "[Instagram] C9Qso1RtO-F: Setting up session\n",
      "[Instagram] C9Qso1RtO-F: Downloading JSON metadata\n",
      "[info] C9Qso1RtO-F: Downloading 1 format(s): dash-1039716457568052ad\n",
      "[download] Destination: ./Videos/TEA/89_C9Qso1RtO-F.m4a\n",
      "[download] 100% of  116.53KiB in 00:00:00 at 3.05MiB/s   \n",
      "[FixupM4a] Correcting container of \"./Videos/TEA/89_C9Qso1RtO-F.m4a\"\n",
      "[ExtractAudio] Destination: ./Videos/TEA/89_C9Qso1RtO-F.wav\n",
      "Deleting original file ./Videos/TEA/89_C9Qso1RtO-F.m4a (pass -k to keep)\n",
      "Downloaded TEA video 90\n",
      "[Instagram] Extracting URL: https://www.instagram.com/reel/C-KmQ3QR2zi/?igsh=NGR2cmtiejhxc2N6\n",
      "[Instagram] C-KmQ3QR2zi: Setting up session\n",
      "[Instagram] C-KmQ3QR2zi: Downloading JSON metadata\n",
      "[info] C-KmQ3QR2zi: Downloading 1 format(s): dash-1655550521896803ad\n",
      "[download] Destination: ./Videos/TEA/90_C-KmQ3QR2zi.m4a\n",
      "[download] 100% of   35.48KiB in 00:00:00 at 96.94KiB/s    \n",
      "[FixupM4a] Correcting container of \"./Videos/TEA/90_C-KmQ3QR2zi.m4a\"\n",
      "[ExtractAudio] Destination: ./Videos/TEA/90_C-KmQ3QR2zi.wav\n",
      "Deleting original file ./Videos/TEA/90_C-KmQ3QR2zi.m4a (pass -k to keep)\n",
      "Downloaded TEA video 91\n",
      "[Instagram] Extracting URL: https://www.instagram.com/reel/C-P-zQ8Rg2Q/?igsh=enphd3ZmM29jMHd2\n",
      "[Instagram] C-P-zQ8Rg2Q: Setting up session\n",
      "[Instagram] C-P-zQ8Rg2Q: Downloading JSON metadata\n",
      "[info] C-P-zQ8Rg2Q: Downloading 1 format(s): dash-871687958165640ad\n",
      "[download] Destination: ./Videos/TEA/91_C-P-zQ8Rg2Q.m4a\n",
      "[download] 100% of  428.48KiB in 00:00:00 at 2.15MiB/s   \n",
      "[FixupM4a] Correcting container of \"./Videos/TEA/91_C-P-zQ8Rg2Q.m4a\"\n",
      "[ExtractAudio] Destination: ./Videos/TEA/91_C-P-zQ8Rg2Q.wav\n",
      "Deleting original file ./Videos/TEA/91_C-P-zQ8Rg2Q.m4a (pass -k to keep)\n",
      "Downloaded TEA video 92\n",
      "[Instagram] Extracting URL: https://www.instagram.com/reel/C97qMGUO7IH/?igsh=OWVzZW9xYm53cjFt\n",
      "[Instagram] C97qMGUO7IH: Setting up session\n",
      "[Instagram] C97qMGUO7IH: Downloading JSON metadata\n",
      "[info] C97qMGUO7IH: Downloading 1 format(s): dash-1873772529789699ad\n",
      "[download] Destination: ./Videos/TEA/92_C97qMGUO7IH.m4a\n",
      "[download] 100% of  544.74KiB in 00:00:00 at 2.02MiB/s     \n",
      "[FixupM4a] Correcting container of \"./Videos/TEA/92_C97qMGUO7IH.m4a\"\n",
      "[ExtractAudio] Destination: ./Videos/TEA/92_C97qMGUO7IH.wav\n",
      "Deleting original file ./Videos/TEA/92_C97qMGUO7IH.m4a (pass -k to keep)\n",
      "Downloaded TEA video 93\n",
      "[Instagram] Extracting URL: https://www.instagram.com/reel/C9IC_uPM--Q/?igsh=MWk5djNtdzFuOGU5cA==\n",
      "[Instagram] C9IC_uPM--Q: Setting up session\n"
     ]
    },
    {
     "name": "stderr",
     "output_type": "stream",
     "text": [
      "WARNING: [Instagram] C9IC_uPM--Q: Instagram API is not granting access\n"
     ]
    },
    {
     "name": "stdout",
     "output_type": "stream",
     "text": [
      "[Instagram] C9IC_uPM--Q: Downloading JSON metadata\n"
     ]
    },
    {
     "name": "stderr",
     "output_type": "stream",
     "text": [
      "ERROR: [Instagram] C9IC_uPM--Q: Instagram sent an empty media response. Check if this post is accessible in your browser without being logged-in. If it is not, then use --cookies-from-browser or --cookies for the authentication. See  https://github.com/yt-dlp/yt-dlp/wiki/FAQ#how-do-i-pass-cookies-to-yt-dlp  for how to manually pass cookies. Otherwise, if the post is accessible in browser without being logged-in, please report this issue on  https://github.com/yt-dlp/yt-dlp/issues?q= , filling out the appropriate issue template. Confirm you are on the latest version using  yt-dlp -U\n"
     ]
    },
    {
     "name": "stdout",
     "output_type": "stream",
     "text": [
      "Downloaded TEA video 94\n",
      "[Instagram] Extracting URL: https://www.instagram.com/reel/C2z4Hzau2NI/?igsh=djVoMzI5MDVjaXU1\n",
      "[Instagram] C2z4Hzau2NI: Setting up session\n",
      "[Instagram] C2z4Hzau2NI: Downloading JSON metadata\n",
      "[info] C2z4Hzau2NI: Downloading 1 format(s): dash-1130798757924083ad\n",
      "[download] Destination: ./Videos/TEA/94_C2z4Hzau2NI.m4a\n",
      "[download] 100% of  607.29KiB in 00:00:00 at 3.81MiB/s   \n",
      "[FixupM4a] Correcting container of \"./Videos/TEA/94_C2z4Hzau2NI.m4a\"\n",
      "[ExtractAudio] Destination: ./Videos/TEA/94_C2z4Hzau2NI.wav\n",
      "Deleting original file ./Videos/TEA/94_C2z4Hzau2NI.m4a (pass -k to keep)\n",
      "Downloaded TEA video 95\n",
      "[Instagram] Extracting URL: https://www.instagram.com/reel/C8rmRw9O2JT/?igsh=ZGRiZGRvcmRpdndm\n",
      "[Instagram] C8rmRw9O2JT: Setting up session\n",
      "[Instagram] C8rmRw9O2JT: Downloading JSON metadata\n"
     ]
    },
    {
     "name": "stderr",
     "output_type": "stream",
     "text": [
      "WARNING: [Instagram] C8rmRw9O2JT: General metadata extraction failed (some metadata might be missing).\n"
     ]
    },
    {
     "name": "stdout",
     "output_type": "stream",
     "text": [
      "[Instagram] C8rmRw9O2JT: Downloading webpage\n"
     ]
    },
    {
     "name": "stderr",
     "output_type": "stream",
     "text": [
      "WARNING: [Instagram] unable to extract shared data; please report this issue on  https://github.com/yt-dlp/yt-dlp/issues?q= , filling out the appropriate issue template. Confirm you are on the latest version using  yt-dlp -U\n",
      "WARNING: [Instagram] Main webpage is locked behind the login page. Retrying with embed webpage (some metadata might be missing).\n"
     ]
    },
    {
     "name": "stdout",
     "output_type": "stream",
     "text": [
      "[Instagram] C8rmRw9O2JT: Downloading embed webpage\n"
     ]
    },
    {
     "name": "stderr",
     "output_type": "stream",
     "text": [
      "WARNING: [Instagram] unable to extract additional data; please report this issue on  https://github.com/yt-dlp/yt-dlp/issues?q= , filling out the appropriate issue template. Confirm you are on the latest version using  yt-dlp -U\n",
      "ERROR: [Instagram] C8rmRw9O2JT: Requested content is not available, rate-limit reached or login required. Use --cookies-from-browser or --cookies for the authentication. See  https://github.com/yt-dlp/yt-dlp/wiki/FAQ#how-do-i-pass-cookies-to-yt-dlp  for how to manually pass cookies\n"
     ]
    },
    {
     "name": "stdout",
     "output_type": "stream",
     "text": [
      "Downloaded TEA video 96\n",
      "[Instagram] Extracting URL: https://www.instagram.com/reel/C9uTRZsRtxI/?igsh=Y214czNwMDQ1Nnhu\n",
      "[Instagram] C9uTRZsRtxI: Setting up session\n",
      "[Instagram] C9uTRZsRtxI: Downloading JSON metadata\n"
     ]
    },
    {
     "name": "stderr",
     "output_type": "stream",
     "text": [
      "WARNING: [Instagram] C9uTRZsRtxI: General metadata extraction failed (some metadata might be missing).\n"
     ]
    },
    {
     "name": "stdout",
     "output_type": "stream",
     "text": [
      "[Instagram] C9uTRZsRtxI: Downloading webpage\n"
     ]
    },
    {
     "name": "stderr",
     "output_type": "stream",
     "text": [
      "WARNING: [Instagram] unable to extract shared data; please report this issue on  https://github.com/yt-dlp/yt-dlp/issues?q= , filling out the appropriate issue template. Confirm you are on the latest version using  yt-dlp -U\n",
      "WARNING: [Instagram] Main webpage is locked behind the login page. Retrying with embed webpage (some metadata might be missing).\n"
     ]
    },
    {
     "name": "stdout",
     "output_type": "stream",
     "text": [
      "[Instagram] C9uTRZsRtxI: Downloading embed webpage\n"
     ]
    },
    {
     "name": "stderr",
     "output_type": "stream",
     "text": [
      "WARNING: [Instagram] unable to extract additional data; please report this issue on  https://github.com/yt-dlp/yt-dlp/issues?q= , filling out the appropriate issue template. Confirm you are on the latest version using  yt-dlp -U\n",
      "ERROR: [Instagram] C9uTRZsRtxI: Requested content is not available, rate-limit reached or login required. Use --cookies-from-browser or --cookies for the authentication. See  https://github.com/yt-dlp/yt-dlp/wiki/FAQ#how-do-i-pass-cookies-to-yt-dlp  for how to manually pass cookies\n"
     ]
    },
    {
     "name": "stdout",
     "output_type": "stream",
     "text": [
      "Downloaded TEA video 97\n",
      "[Instagram] Extracting URL: https://www.instagram.com/reel/C-WSUdpITF3/?igsh=MWcwZW45azllNzI3ZA==\n",
      "[Instagram] C-WSUdpITF3: Setting up session\n",
      "[Instagram] C-WSUdpITF3: Downloading JSON metadata\n"
     ]
    },
    {
     "name": "stderr",
     "output_type": "stream",
     "text": [
      "WARNING: [Instagram] C-WSUdpITF3: General metadata extraction failed (some metadata might be missing).\n"
     ]
    },
    {
     "name": "stdout",
     "output_type": "stream",
     "text": [
      "[Instagram] C-WSUdpITF3: Downloading webpage\n"
     ]
    },
    {
     "name": "stderr",
     "output_type": "stream",
     "text": [
      "WARNING: [Instagram] unable to extract shared data; please report this issue on  https://github.com/yt-dlp/yt-dlp/issues?q= , filling out the appropriate issue template. Confirm you are on the latest version using  yt-dlp -U\n",
      "WARNING: [Instagram] Main webpage is locked behind the login page. Retrying with embed webpage (some metadata might be missing).\n"
     ]
    },
    {
     "name": "stdout",
     "output_type": "stream",
     "text": [
      "[Instagram] C-WSUdpITF3: Downloading embed webpage\n"
     ]
    },
    {
     "name": "stderr",
     "output_type": "stream",
     "text": [
      "WARNING: [Instagram] unable to extract additional data; please report this issue on  https://github.com/yt-dlp/yt-dlp/issues?q= , filling out the appropriate issue template. Confirm you are on the latest version using  yt-dlp -U\n",
      "ERROR: [Instagram] C-WSUdpITF3: Requested content is not available, rate-limit reached or login required. Use --cookies-from-browser or --cookies for the authentication. See  https://github.com/yt-dlp/yt-dlp/wiki/FAQ#how-do-i-pass-cookies-to-yt-dlp  for how to manually pass cookies\n"
     ]
    },
    {
     "name": "stdout",
     "output_type": "stream",
     "text": [
      "Downloaded TEA video 98\n",
      "[Instagram] Extracting URL: https://www.instagram.com/reel/C-KsyaeOtoY/?igsh=MXUwZ3F6M2tlcXg2dg==\n",
      "[Instagram] C-KsyaeOtoY: Setting up session\n",
      "[Instagram] C-KsyaeOtoY: Downloading JSON metadata\n"
     ]
    },
    {
     "name": "stderr",
     "output_type": "stream",
     "text": [
      "WARNING: [Instagram] C-KsyaeOtoY: General metadata extraction failed (some metadata might be missing).\n"
     ]
    },
    {
     "name": "stdout",
     "output_type": "stream",
     "text": [
      "[Instagram] C-KsyaeOtoY: Downloading webpage\n"
     ]
    },
    {
     "name": "stderr",
     "output_type": "stream",
     "text": [
      "WARNING: [Instagram] unable to extract shared data; please report this issue on  https://github.com/yt-dlp/yt-dlp/issues?q= , filling out the appropriate issue template. Confirm you are on the latest version using  yt-dlp -U\n",
      "WARNING: [Instagram] Main webpage is locked behind the login page. Retrying with embed webpage (some metadata might be missing).\n"
     ]
    },
    {
     "name": "stdout",
     "output_type": "stream",
     "text": [
      "[Instagram] C-KsyaeOtoY: Downloading embed webpage\n"
     ]
    },
    {
     "name": "stderr",
     "output_type": "stream",
     "text": [
      "WARNING: [Instagram] unable to extract additional data; please report this issue on  https://github.com/yt-dlp/yt-dlp/issues?q= , filling out the appropriate issue template. Confirm you are on the latest version using  yt-dlp -U\n",
      "ERROR: [Instagram] C-KsyaeOtoY: Requested content is not available, rate-limit reached or login required. Use --cookies-from-browser or --cookies for the authentication. See  https://github.com/yt-dlp/yt-dlp/wiki/FAQ#how-do-i-pass-cookies-to-yt-dlp  for how to manually pass cookies\n"
     ]
    },
    {
     "name": "stdout",
     "output_type": "stream",
     "text": [
      "Downloaded TEA video 99\n",
      "[Instagram] Extracting URL: https://www.instagram.com/reel/C7nCPd4SBwh/?igsh=MXdqYXNzOGJ0azY1a\n",
      "[Instagram] C7nCPd4SBwh: Setting up session\n",
      "[Instagram] C7nCPd4SBwh: Downloading JSON metadata\n"
     ]
    },
    {
     "name": "stderr",
     "output_type": "stream",
     "text": [
      "WARNING: [Instagram] C7nCPd4SBwh: General metadata extraction failed (some metadata might be missing).\n"
     ]
    },
    {
     "name": "stdout",
     "output_type": "stream",
     "text": [
      "[Instagram] C7nCPd4SBwh: Downloading webpage\n"
     ]
    },
    {
     "name": "stderr",
     "output_type": "stream",
     "text": [
      "WARNING: [Instagram] unable to extract shared data; please report this issue on  https://github.com/yt-dlp/yt-dlp/issues?q= , filling out the appropriate issue template. Confirm you are on the latest version using  yt-dlp -U\n",
      "WARNING: [Instagram] Main webpage is locked behind the login page. Retrying with embed webpage (some metadata might be missing).\n"
     ]
    },
    {
     "name": "stdout",
     "output_type": "stream",
     "text": [
      "[Instagram] C7nCPd4SBwh: Downloading embed webpage\n"
     ]
    },
    {
     "name": "stderr",
     "output_type": "stream",
     "text": [
      "WARNING: [Instagram] unable to extract additional data; please report this issue on  https://github.com/yt-dlp/yt-dlp/issues?q= , filling out the appropriate issue template. Confirm you are on the latest version using  yt-dlp -U\n",
      "ERROR: [Instagram] C7nCPd4SBwh: Requested content is not available, rate-limit reached or login required. Use --cookies-from-browser or --cookies for the authentication. See  https://github.com/yt-dlp/yt-dlp/wiki/FAQ#how-do-i-pass-cookies-to-yt-dlp  for how to manually pass cookies\n"
     ]
    },
    {
     "name": "stdout",
     "output_type": "stream",
     "text": [
      "Downloaded TEA video 100\n",
      "[Instagram] Extracting URL: https://www.instagram.com/reel/ChqA9jBgGt5/?igsh=cGpleDQ2NWcyMGRy\n",
      "[Instagram] ChqA9jBgGt5: Setting up session\n",
      "[Instagram] ChqA9jBgGt5: Downloading JSON metadata\n"
     ]
    },
    {
     "name": "stderr",
     "output_type": "stream",
     "text": [
      "WARNING: [Instagram] ChqA9jBgGt5: General metadata extraction failed (some metadata might be missing).\n"
     ]
    },
    {
     "name": "stdout",
     "output_type": "stream",
     "text": [
      "[Instagram] ChqA9jBgGt5: Downloading webpage\n"
     ]
    },
    {
     "name": "stderr",
     "output_type": "stream",
     "text": [
      "WARNING: [Instagram] unable to extract shared data; please report this issue on  https://github.com/yt-dlp/yt-dlp/issues?q= , filling out the appropriate issue template. Confirm you are on the latest version using  yt-dlp -U\n",
      "WARNING: [Instagram] Main webpage is locked behind the login page. Retrying with embed webpage (some metadata might be missing).\n"
     ]
    },
    {
     "name": "stdout",
     "output_type": "stream",
     "text": [
      "[Instagram] ChqA9jBgGt5: Downloading embed webpage\n"
     ]
    },
    {
     "name": "stderr",
     "output_type": "stream",
     "text": [
      "WARNING: [Instagram] unable to extract additional data; please report this issue on  https://github.com/yt-dlp/yt-dlp/issues?q= , filling out the appropriate issue template. Confirm you are on the latest version using  yt-dlp -U\n",
      "ERROR: [Instagram] ChqA9jBgGt5: Requested content is not available, rate-limit reached or login required. Use --cookies-from-browser or --cookies for the authentication. See  https://github.com/yt-dlp/yt-dlp/wiki/FAQ#how-do-i-pass-cookies-to-yt-dlp  for how to manually pass cookies\n"
     ]
    },
    {
     "name": "stdout",
     "output_type": "stream",
     "text": [
      "Downloaded TOC video 1\n",
      "[Instagram] Extracting URL: https://www.instagram.com/reel/DH4SjqSSEEN/?igsh=a2R1ejE1a3N1cnR3\n",
      "[Instagram] DH4SjqSSEEN: Setting up session\n",
      "[Instagram] DH4SjqSSEEN: Downloading JSON metadata\n"
     ]
    },
    {
     "name": "stderr",
     "output_type": "stream",
     "text": [
      "WARNING: [Instagram] DH4SjqSSEEN: General metadata extraction failed (some metadata might be missing).\n"
     ]
    },
    {
     "name": "stdout",
     "output_type": "stream",
     "text": [
      "[Instagram] DH4SjqSSEEN: Downloading webpage\n"
     ]
    },
    {
     "name": "stderr",
     "output_type": "stream",
     "text": [
      "WARNING: [Instagram] unable to extract shared data; please report this issue on  https://github.com/yt-dlp/yt-dlp/issues?q= , filling out the appropriate issue template. Confirm you are on the latest version using  yt-dlp -U\n",
      "WARNING: [Instagram] Main webpage is locked behind the login page. Retrying with embed webpage (some metadata might be missing).\n"
     ]
    },
    {
     "name": "stdout",
     "output_type": "stream",
     "text": [
      "[Instagram] DH4SjqSSEEN: Downloading embed webpage\n"
     ]
    },
    {
     "name": "stderr",
     "output_type": "stream",
     "text": [
      "WARNING: [Instagram] unable to extract additional data; please report this issue on  https://github.com/yt-dlp/yt-dlp/issues?q= , filling out the appropriate issue template. Confirm you are on the latest version using  yt-dlp -U\n",
      "ERROR: [Instagram] DH4SjqSSEEN: Requested content is not available, rate-limit reached or login required. Use --cookies-from-browser or --cookies for the authentication. See  https://github.com/yt-dlp/yt-dlp/wiki/FAQ#how-do-i-pass-cookies-to-yt-dlp  for how to manually pass cookies\n"
     ]
    },
    {
     "name": "stdout",
     "output_type": "stream",
     "text": [
      "Downloaded TOC video 2\n",
      "[Instagram] Extracting URL: https://www.instagram.com/reel/CuvACTXsymd/?igsh=YXhmZGs1dzdkbDF5\n",
      "[Instagram] CuvACTXsymd: Setting up session\n",
      "[Instagram] CuvACTXsymd: Downloading JSON metadata\n"
     ]
    },
    {
     "name": "stderr",
     "output_type": "stream",
     "text": [
      "WARNING: [Instagram] CuvACTXsymd: General metadata extraction failed (some metadata might be missing).\n"
     ]
    },
    {
     "name": "stdout",
     "output_type": "stream",
     "text": [
      "[Instagram] CuvACTXsymd: Downloading webpage\n"
     ]
    },
    {
     "name": "stderr",
     "output_type": "stream",
     "text": [
      "WARNING: [Instagram] unable to extract shared data; please report this issue on  https://github.com/yt-dlp/yt-dlp/issues?q= , filling out the appropriate issue template. Confirm you are on the latest version using  yt-dlp -U\n",
      "WARNING: [Instagram] Main webpage is locked behind the login page. Retrying with embed webpage (some metadata might be missing).\n"
     ]
    },
    {
     "name": "stdout",
     "output_type": "stream",
     "text": [
      "[Instagram] CuvACTXsymd: Downloading embed webpage\n"
     ]
    },
    {
     "name": "stderr",
     "output_type": "stream",
     "text": [
      "WARNING: [Instagram] unable to extract additional data; please report this issue on  https://github.com/yt-dlp/yt-dlp/issues?q= , filling out the appropriate issue template. Confirm you are on the latest version using  yt-dlp -U\n",
      "ERROR: [Instagram] CuvACTXsymd: Requested content is not available, rate-limit reached or login required. Use --cookies-from-browser or --cookies for the authentication. See  https://github.com/yt-dlp/yt-dlp/wiki/FAQ#how-do-i-pass-cookies-to-yt-dlp  for how to manually pass cookies\n"
     ]
    },
    {
     "name": "stdout",
     "output_type": "stream",
     "text": [
      "Downloaded TOC video 3\n",
      "[Instagram] Extracting URL: https://www.instagram.com/reel/DJC8YZ0BSJI/?igsh=dHgzZWhkcHR6bjAy\n",
      "[Instagram] DJC8YZ0BSJI: Setting up session\n",
      "[Instagram] DJC8YZ0BSJI: Downloading JSON metadata\n"
     ]
    },
    {
     "name": "stderr",
     "output_type": "stream",
     "text": [
      "WARNING: [Instagram] DJC8YZ0BSJI: General metadata extraction failed (some metadata might be missing).\n"
     ]
    },
    {
     "name": "stdout",
     "output_type": "stream",
     "text": [
      "[Instagram] DJC8YZ0BSJI: Downloading webpage\n"
     ]
    },
    {
     "name": "stderr",
     "output_type": "stream",
     "text": [
      "WARNING: [Instagram] unable to extract shared data; please report this issue on  https://github.com/yt-dlp/yt-dlp/issues?q= , filling out the appropriate issue template. Confirm you are on the latest version using  yt-dlp -U\n",
      "WARNING: [Instagram] Main webpage is locked behind the login page. Retrying with embed webpage (some metadata might be missing).\n"
     ]
    },
    {
     "name": "stdout",
     "output_type": "stream",
     "text": [
      "[Instagram] DJC8YZ0BSJI: Downloading embed webpage\n"
     ]
    },
    {
     "name": "stderr",
     "output_type": "stream",
     "text": [
      "WARNING: [Instagram] unable to extract additional data; please report this issue on  https://github.com/yt-dlp/yt-dlp/issues?q= , filling out the appropriate issue template. Confirm you are on the latest version using  yt-dlp -U\n",
      "ERROR: [Instagram] DJC8YZ0BSJI: Requested content is not available, rate-limit reached or login required. Use --cookies-from-browser or --cookies for the authentication. See  https://github.com/yt-dlp/yt-dlp/wiki/FAQ#how-do-i-pass-cookies-to-yt-dlp  for how to manually pass cookies\n"
     ]
    },
    {
     "name": "stdout",
     "output_type": "stream",
     "text": [
      "Downloaded TOC video 4\n",
      "[Instagram] Extracting URL: https://www.instagram.com/reel/CuULYwGgzQo/?igsh=MTZ6eWozb3lzNDk1Ng==\n",
      "[Instagram] CuULYwGgzQo: Setting up session\n",
      "[Instagram] CuULYwGgzQo: Downloading JSON metadata\n"
     ]
    },
    {
     "name": "stderr",
     "output_type": "stream",
     "text": [
      "WARNING: [Instagram] CuULYwGgzQo: General metadata extraction failed (some metadata might be missing).\n"
     ]
    },
    {
     "name": "stdout",
     "output_type": "stream",
     "text": [
      "[Instagram] CuULYwGgzQo: Downloading webpage\n"
     ]
    },
    {
     "name": "stderr",
     "output_type": "stream",
     "text": [
      "WARNING: [Instagram] unable to extract shared data; please report this issue on  https://github.com/yt-dlp/yt-dlp/issues?q= , filling out the appropriate issue template. Confirm you are on the latest version using  yt-dlp -U\n",
      "WARNING: [Instagram] Main webpage is locked behind the login page. Retrying with embed webpage (some metadata might be missing).\n"
     ]
    },
    {
     "name": "stdout",
     "output_type": "stream",
     "text": [
      "[Instagram] CuULYwGgzQo: Downloading embed webpage\n"
     ]
    },
    {
     "name": "stderr",
     "output_type": "stream",
     "text": [
      "WARNING: [Instagram] unable to extract additional data; please report this issue on  https://github.com/yt-dlp/yt-dlp/issues?q= , filling out the appropriate issue template. Confirm you are on the latest version using  yt-dlp -U\n",
      "ERROR: [Instagram] CuULYwGgzQo: Requested content is not available, rate-limit reached or login required. Use --cookies-from-browser or --cookies for the authentication. See  https://github.com/yt-dlp/yt-dlp/wiki/FAQ#how-do-i-pass-cookies-to-yt-dlp  for how to manually pass cookies\n"
     ]
    },
    {
     "name": "stdout",
     "output_type": "stream",
     "text": [
      "Downloaded TOC video 5\n",
      "[Instagram] Extracting URL: https://www.instagram.com/reel/DG58d6EpJ8W/?igsh=MThlc3FvY3M0ZmIyNg==\n",
      "[Instagram] DG58d6EpJ8W: Setting up session\n",
      "[Instagram] DG58d6EpJ8W: Downloading JSON metadata\n"
     ]
    },
    {
     "name": "stderr",
     "output_type": "stream",
     "text": [
      "WARNING: [Instagram] DG58d6EpJ8W: General metadata extraction failed (some metadata might be missing).\n"
     ]
    },
    {
     "name": "stdout",
     "output_type": "stream",
     "text": [
      "[Instagram] DG58d6EpJ8W: Downloading webpage\n"
     ]
    },
    {
     "name": "stderr",
     "output_type": "stream",
     "text": [
      "WARNING: [Instagram] unable to extract shared data; please report this issue on  https://github.com/yt-dlp/yt-dlp/issues?q= , filling out the appropriate issue template. Confirm you are on the latest version using  yt-dlp -U\n",
      "WARNING: [Instagram] Main webpage is locked behind the login page. Retrying with embed webpage (some metadata might be missing).\n"
     ]
    },
    {
     "name": "stdout",
     "output_type": "stream",
     "text": [
      "[Instagram] DG58d6EpJ8W: Downloading embed webpage\n"
     ]
    },
    {
     "name": "stderr",
     "output_type": "stream",
     "text": [
      "WARNING: [Instagram] unable to extract additional data; please report this issue on  https://github.com/yt-dlp/yt-dlp/issues?q= , filling out the appropriate issue template. Confirm you are on the latest version using  yt-dlp -U\n",
      "ERROR: [Instagram] DG58d6EpJ8W: Requested content is not available, rate-limit reached or login required. Use --cookies-from-browser or --cookies for the authentication. See  https://github.com/yt-dlp/yt-dlp/wiki/FAQ#how-do-i-pass-cookies-to-yt-dlp  for how to manually pass cookies\n"
     ]
    },
    {
     "name": "stdout",
     "output_type": "stream",
     "text": [
      "Downloaded TOC video 6\n",
      "[Instagram] Extracting URL: https://www.instagram.com/reel/CovPMQsAj-H/?igsh=MTdqYnNyOThycDJ5bA==\n",
      "[Instagram] CovPMQsAj-H: Setting up session\n",
      "[Instagram] CovPMQsAj-H: Downloading JSON metadata\n"
     ]
    },
    {
     "name": "stderr",
     "output_type": "stream",
     "text": [
      "WARNING: [Instagram] CovPMQsAj-H: General metadata extraction failed (some metadata might be missing).\n"
     ]
    },
    {
     "name": "stdout",
     "output_type": "stream",
     "text": [
      "[Instagram] CovPMQsAj-H: Downloading webpage\n"
     ]
    },
    {
     "name": "stderr",
     "output_type": "stream",
     "text": [
      "WARNING: [Instagram] unable to extract shared data; please report this issue on  https://github.com/yt-dlp/yt-dlp/issues?q= , filling out the appropriate issue template. Confirm you are on the latest version using  yt-dlp -U\n",
      "WARNING: [Instagram] Main webpage is locked behind the login page. Retrying with embed webpage (some metadata might be missing).\n"
     ]
    },
    {
     "name": "stdout",
     "output_type": "stream",
     "text": [
      "[Instagram] CovPMQsAj-H: Downloading embed webpage\n"
     ]
    },
    {
     "name": "stderr",
     "output_type": "stream",
     "text": [
      "WARNING: [Instagram] unable to extract additional data; please report this issue on  https://github.com/yt-dlp/yt-dlp/issues?q= , filling out the appropriate issue template. Confirm you are on the latest version using  yt-dlp -U\n",
      "ERROR: [Instagram] CovPMQsAj-H: Requested content is not available, rate-limit reached or login required. Use --cookies-from-browser or --cookies for the authentication. See  https://github.com/yt-dlp/yt-dlp/wiki/FAQ#how-do-i-pass-cookies-to-yt-dlp  for how to manually pass cookies\n"
     ]
    },
    {
     "name": "stdout",
     "output_type": "stream",
     "text": [
      "Downloaded TOC video 7\n",
      "[Instagram] Extracting URL: https://www.instagram.com/reel/DIBzUI_Ose2/?igsh=dG5ydXR0dHlmanA=\n",
      "[Instagram] DIBzUI_Ose2: Setting up session\n",
      "[Instagram] DIBzUI_Ose2: Downloading JSON metadata\n"
     ]
    },
    {
     "name": "stderr",
     "output_type": "stream",
     "text": [
      "WARNING: [Instagram] DIBzUI_Ose2: General metadata extraction failed (some metadata might be missing).\n"
     ]
    },
    {
     "name": "stdout",
     "output_type": "stream",
     "text": [
      "[Instagram] DIBzUI_Ose2: Downloading webpage\n"
     ]
    },
    {
     "name": "stderr",
     "output_type": "stream",
     "text": [
      "WARNING: [Instagram] unable to extract shared data; please report this issue on  https://github.com/yt-dlp/yt-dlp/issues?q= , filling out the appropriate issue template. Confirm you are on the latest version using  yt-dlp -U\n",
      "WARNING: [Instagram] Main webpage is locked behind the login page. Retrying with embed webpage (some metadata might be missing).\n"
     ]
    },
    {
     "name": "stdout",
     "output_type": "stream",
     "text": [
      "[Instagram] DIBzUI_Ose2: Downloading embed webpage\n"
     ]
    },
    {
     "name": "stderr",
     "output_type": "stream",
     "text": [
      "WARNING: [Instagram] unable to extract additional data; please report this issue on  https://github.com/yt-dlp/yt-dlp/issues?q= , filling out the appropriate issue template. Confirm you are on the latest version using  yt-dlp -U\n",
      "ERROR: [Instagram] DIBzUI_Ose2: Requested content is not available, rate-limit reached or login required. Use --cookies-from-browser or --cookies for the authentication. See  https://github.com/yt-dlp/yt-dlp/wiki/FAQ#how-do-i-pass-cookies-to-yt-dlp  for how to manually pass cookies\n"
     ]
    },
    {
     "name": "stdout",
     "output_type": "stream",
     "text": [
      "Downloaded TOC video 8\n",
      "[Instagram] Extracting URL: https://www.instagram.com/reel/CoQXDQKg_mF/?igsh=eGg2dzRqZGF1djk=\n",
      "[Instagram] CoQXDQKg_mF: Setting up session\n",
      "[Instagram] CoQXDQKg_mF: Downloading JSON metadata\n"
     ]
    },
    {
     "name": "stderr",
     "output_type": "stream",
     "text": [
      "WARNING: [Instagram] CoQXDQKg_mF: General metadata extraction failed (some metadata might be missing).\n"
     ]
    },
    {
     "name": "stdout",
     "output_type": "stream",
     "text": [
      "[Instagram] CoQXDQKg_mF: Downloading webpage\n"
     ]
    },
    {
     "name": "stderr",
     "output_type": "stream",
     "text": [
      "WARNING: [Instagram] unable to extract shared data; please report this issue on  https://github.com/yt-dlp/yt-dlp/issues?q= , filling out the appropriate issue template. Confirm you are on the latest version using  yt-dlp -U\n",
      "WARNING: [Instagram] Main webpage is locked behind the login page. Retrying with embed webpage (some metadata might be missing).\n"
     ]
    },
    {
     "name": "stdout",
     "output_type": "stream",
     "text": [
      "[Instagram] CoQXDQKg_mF: Downloading embed webpage\n"
     ]
    },
    {
     "name": "stderr",
     "output_type": "stream",
     "text": [
      "WARNING: [Instagram] unable to extract additional data; please report this issue on  https://github.com/yt-dlp/yt-dlp/issues?q= , filling out the appropriate issue template. Confirm you are on the latest version using  yt-dlp -U\n",
      "ERROR: [Instagram] CoQXDQKg_mF: Requested content is not available, rate-limit reached or login required. Use --cookies-from-browser or --cookies for the authentication. See  https://github.com/yt-dlp/yt-dlp/wiki/FAQ#how-do-i-pass-cookies-to-yt-dlp  for how to manually pass cookies\n"
     ]
    },
    {
     "name": "stdout",
     "output_type": "stream",
     "text": [
      "Downloaded TOC video 9\n",
      "[Instagram] Extracting URL: https://www.instagram.com/reel/DIXvMTEs1Dt/?igsh=cHpsa2xubTIwdG5u\n",
      "[Instagram] DIXvMTEs1Dt: Setting up session\n",
      "[Instagram] DIXvMTEs1Dt: Downloading JSON metadata\n"
     ]
    },
    {
     "name": "stderr",
     "output_type": "stream",
     "text": [
      "WARNING: [Instagram] DIXvMTEs1Dt: General metadata extraction failed (some metadata might be missing).\n"
     ]
    },
    {
     "name": "stdout",
     "output_type": "stream",
     "text": [
      "[Instagram] DIXvMTEs1Dt: Downloading webpage\n"
     ]
    },
    {
     "name": "stderr",
     "output_type": "stream",
     "text": [
      "WARNING: [Instagram] unable to extract shared data; please report this issue on  https://github.com/yt-dlp/yt-dlp/issues?q= , filling out the appropriate issue template. Confirm you are on the latest version using  yt-dlp -U\n",
      "WARNING: [Instagram] Main webpage is locked behind the login page. Retrying with embed webpage (some metadata might be missing).\n"
     ]
    },
    {
     "name": "stdout",
     "output_type": "stream",
     "text": [
      "[Instagram] DIXvMTEs1Dt: Downloading embed webpage\n"
     ]
    },
    {
     "name": "stderr",
     "output_type": "stream",
     "text": [
      "WARNING: [Instagram] unable to extract additional data; please report this issue on  https://github.com/yt-dlp/yt-dlp/issues?q= , filling out the appropriate issue template. Confirm you are on the latest version using  yt-dlp -U\n",
      "ERROR: [Instagram] DIXvMTEs1Dt: Requested content is not available, rate-limit reached or login required. Use --cookies-from-browser or --cookies for the authentication. See  https://github.com/yt-dlp/yt-dlp/wiki/FAQ#how-do-i-pass-cookies-to-yt-dlp  for how to manually pass cookies\n"
     ]
    },
    {
     "name": "stdout",
     "output_type": "stream",
     "text": [
      "Downloaded TOC video 10\n",
      "[Instagram] Extracting URL: https://www.instagram.com/reel/DGePF7GxJrZ/?igsh=NjIxYTBseTlmaWZj\n",
      "[Instagram] DGePF7GxJrZ: Setting up session\n",
      "[Instagram] DGePF7GxJrZ: Downloading JSON metadata\n"
     ]
    },
    {
     "name": "stderr",
     "output_type": "stream",
     "text": [
      "WARNING: [Instagram] DGePF7GxJrZ: General metadata extraction failed (some metadata might be missing).\n"
     ]
    },
    {
     "name": "stdout",
     "output_type": "stream",
     "text": [
      "[Instagram] DGePF7GxJrZ: Downloading webpage\n"
     ]
    },
    {
     "name": "stderr",
     "output_type": "stream",
     "text": [
      "WARNING: [Instagram] unable to extract shared data; please report this issue on  https://github.com/yt-dlp/yt-dlp/issues?q= , filling out the appropriate issue template. Confirm you are on the latest version using  yt-dlp -U\n",
      "WARNING: [Instagram] Main webpage is locked behind the login page. Retrying with embed webpage (some metadata might be missing).\n"
     ]
    },
    {
     "name": "stdout",
     "output_type": "stream",
     "text": [
      "[Instagram] DGePF7GxJrZ: Downloading embed webpage\n"
     ]
    },
    {
     "name": "stderr",
     "output_type": "stream",
     "text": [
      "WARNING: [Instagram] unable to extract additional data; please report this issue on  https://github.com/yt-dlp/yt-dlp/issues?q= , filling out the appropriate issue template. Confirm you are on the latest version using  yt-dlp -U\n",
      "ERROR: [Instagram] DGePF7GxJrZ: Requested content is not available, rate-limit reached or login required. Use --cookies-from-browser or --cookies for the authentication. See  https://github.com/yt-dlp/yt-dlp/wiki/FAQ#how-do-i-pass-cookies-to-yt-dlp  for how to manually pass cookies\n"
     ]
    },
    {
     "name": "stdout",
     "output_type": "stream",
     "text": [
      "Downloaded TOC video 11\n",
      "[Instagram] Extracting URL: https://www.instagram.com/reel/DHTET2dhs5y/?igsh=MWNqenJ6azY4azBrcg==\n",
      "[Instagram] DHTET2dhs5y: Setting up session\n",
      "[Instagram] DHTET2dhs5y: Downloading JSON metadata\n"
     ]
    },
    {
     "name": "stderr",
     "output_type": "stream",
     "text": [
      "WARNING: [Instagram] DHTET2dhs5y: General metadata extraction failed (some metadata might be missing).\n"
     ]
    },
    {
     "name": "stdout",
     "output_type": "stream",
     "text": [
      "[Instagram] DHTET2dhs5y: Downloading webpage\n"
     ]
    },
    {
     "name": "stderr",
     "output_type": "stream",
     "text": [
      "WARNING: [Instagram] unable to extract shared data; please report this issue on  https://github.com/yt-dlp/yt-dlp/issues?q= , filling out the appropriate issue template. Confirm you are on the latest version using  yt-dlp -U\n",
      "WARNING: [Instagram] Main webpage is locked behind the login page. Retrying with embed webpage (some metadata might be missing).\n"
     ]
    },
    {
     "name": "stdout",
     "output_type": "stream",
     "text": [
      "[Instagram] DHTET2dhs5y: Downloading embed webpage\n"
     ]
    },
    {
     "name": "stderr",
     "output_type": "stream",
     "text": [
      "WARNING: [Instagram] unable to extract additional data; please report this issue on  https://github.com/yt-dlp/yt-dlp/issues?q= , filling out the appropriate issue template. Confirm you are on the latest version using  yt-dlp -U\n",
      "ERROR: [Instagram] DHTET2dhs5y: Requested content is not available, rate-limit reached or login required. Use --cookies-from-browser or --cookies for the authentication. See  https://github.com/yt-dlp/yt-dlp/wiki/FAQ#how-do-i-pass-cookies-to-yt-dlp  for how to manually pass cookies\n"
     ]
    },
    {
     "name": "stdout",
     "output_type": "stream",
     "text": [
      "Downloaded TOC video 12\n",
      "[Instagram] Extracting URL: https://www.instagram.com/reel/CooHQlagmsD/?igsh=MzM0b2Vqem5wb3po\n",
      "[Instagram] CooHQlagmsD: Setting up session\n",
      "[Instagram] CooHQlagmsD: Downloading JSON metadata\n"
     ]
    },
    {
     "name": "stderr",
     "output_type": "stream",
     "text": [
      "WARNING: [Instagram] CooHQlagmsD: General metadata extraction failed (some metadata might be missing).\n"
     ]
    },
    {
     "name": "stdout",
     "output_type": "stream",
     "text": [
      "[Instagram] CooHQlagmsD: Downloading webpage\n"
     ]
    },
    {
     "name": "stderr",
     "output_type": "stream",
     "text": [
      "WARNING: [Instagram] unable to extract shared data; please report this issue on  https://github.com/yt-dlp/yt-dlp/issues?q= , filling out the appropriate issue template. Confirm you are on the latest version using  yt-dlp -U\n",
      "WARNING: [Instagram] Main webpage is locked behind the login page. Retrying with embed webpage (some metadata might be missing).\n"
     ]
    },
    {
     "name": "stdout",
     "output_type": "stream",
     "text": [
      "[Instagram] CooHQlagmsD: Downloading embed webpage\n"
     ]
    },
    {
     "name": "stderr",
     "output_type": "stream",
     "text": [
      "WARNING: [Instagram] unable to extract additional data; please report this issue on  https://github.com/yt-dlp/yt-dlp/issues?q= , filling out the appropriate issue template. Confirm you are on the latest version using  yt-dlp -U\n",
      "ERROR: [Instagram] CooHQlagmsD: Requested content is not available, rate-limit reached or login required. Use --cookies-from-browser or --cookies for the authentication. See  https://github.com/yt-dlp/yt-dlp/wiki/FAQ#how-do-i-pass-cookies-to-yt-dlp  for how to manually pass cookies\n"
     ]
    },
    {
     "name": "stdout",
     "output_type": "stream",
     "text": [
      "Downloaded TOC video 13\n",
      "[Instagram] Extracting URL: https://www.instagram.com/reel/DExV89Pv4Jj/?igsh=ejB1ZHRjeTB1bm5z\n",
      "[Instagram] DExV89Pv4Jj: Setting up session\n",
      "[Instagram] DExV89Pv4Jj: Downloading JSON metadata\n"
     ]
    },
    {
     "name": "stderr",
     "output_type": "stream",
     "text": [
      "WARNING: [Instagram] DExV89Pv4Jj: General metadata extraction failed (some metadata might be missing).\n"
     ]
    },
    {
     "name": "stdout",
     "output_type": "stream",
     "text": [
      "[Instagram] DExV89Pv4Jj: Downloading webpage\n"
     ]
    },
    {
     "name": "stderr",
     "output_type": "stream",
     "text": [
      "WARNING: [Instagram] unable to extract shared data; please report this issue on  https://github.com/yt-dlp/yt-dlp/issues?q= , filling out the appropriate issue template. Confirm you are on the latest version using  yt-dlp -U\n",
      "WARNING: [Instagram] Main webpage is locked behind the login page. Retrying with embed webpage (some metadata might be missing).\n"
     ]
    },
    {
     "name": "stdout",
     "output_type": "stream",
     "text": [
      "[Instagram] DExV89Pv4Jj: Downloading embed webpage\n"
     ]
    },
    {
     "name": "stderr",
     "output_type": "stream",
     "text": [
      "WARNING: [Instagram] unable to extract additional data; please report this issue on  https://github.com/yt-dlp/yt-dlp/issues?q= , filling out the appropriate issue template. Confirm you are on the latest version using  yt-dlp -U\n",
      "ERROR: [Instagram] DExV89Pv4Jj: Requested content is not available, rate-limit reached or login required. Use --cookies-from-browser or --cookies for the authentication. See  https://github.com/yt-dlp/yt-dlp/wiki/FAQ#how-do-i-pass-cookies-to-yt-dlp  for how to manually pass cookies\n"
     ]
    },
    {
     "name": "stdout",
     "output_type": "stream",
     "text": [
      "Downloaded TOC video 14\n",
      "[Instagram] Extracting URL: https://www.instagram.com/reel/DGxVCMJBS1a/?igsh=eGY5djZoaXp0bTVw\n",
      "[Instagram] DGxVCMJBS1a: Setting up session\n",
      "[Instagram] DGxVCMJBS1a: Downloading JSON metadata\n"
     ]
    },
    {
     "name": "stderr",
     "output_type": "stream",
     "text": [
      "WARNING: [Instagram] DGxVCMJBS1a: General metadata extraction failed (some metadata might be missing).\n"
     ]
    },
    {
     "name": "stdout",
     "output_type": "stream",
     "text": [
      "[Instagram] DGxVCMJBS1a: Downloading webpage\n"
     ]
    },
    {
     "name": "stderr",
     "output_type": "stream",
     "text": [
      "WARNING: [Instagram] unable to extract shared data; please report this issue on  https://github.com/yt-dlp/yt-dlp/issues?q= , filling out the appropriate issue template. Confirm you are on the latest version using  yt-dlp -U\n",
      "WARNING: [Instagram] Main webpage is locked behind the login page. Retrying with embed webpage (some metadata might be missing).\n"
     ]
    },
    {
     "name": "stdout",
     "output_type": "stream",
     "text": [
      "[Instagram] DGxVCMJBS1a: Downloading embed webpage\n"
     ]
    },
    {
     "name": "stderr",
     "output_type": "stream",
     "text": [
      "WARNING: [Instagram] unable to extract additional data; please report this issue on  https://github.com/yt-dlp/yt-dlp/issues?q= , filling out the appropriate issue template. Confirm you are on the latest version using  yt-dlp -U\n",
      "ERROR: [Instagram] DGxVCMJBS1a: Requested content is not available, rate-limit reached or login required. Use --cookies-from-browser or --cookies for the authentication. See  https://github.com/yt-dlp/yt-dlp/wiki/FAQ#how-do-i-pass-cookies-to-yt-dlp  for how to manually pass cookies\n"
     ]
    },
    {
     "name": "stdout",
     "output_type": "stream",
     "text": [
      "Downloaded TOC video 15\n",
      "[Instagram] Extracting URL: https://www.instagram.com/reel/DHx7c9CMNXW/?igsh=MXVuazl6ZmhmbGEwMw==\n",
      "[Instagram] DHx7c9CMNXW: Setting up session\n",
      "[Instagram] DHx7c9CMNXW: Downloading JSON metadata\n"
     ]
    },
    {
     "name": "stderr",
     "output_type": "stream",
     "text": [
      "WARNING: [Instagram] DHx7c9CMNXW: General metadata extraction failed (some metadata might be missing).\n"
     ]
    },
    {
     "name": "stdout",
     "output_type": "stream",
     "text": [
      "[Instagram] DHx7c9CMNXW: Downloading webpage\n"
     ]
    },
    {
     "name": "stderr",
     "output_type": "stream",
     "text": [
      "WARNING: [Instagram] unable to extract shared data; please report this issue on  https://github.com/yt-dlp/yt-dlp/issues?q= , filling out the appropriate issue template. Confirm you are on the latest version using  yt-dlp -U\n",
      "WARNING: [Instagram] Main webpage is locked behind the login page. Retrying with embed webpage (some metadata might be missing).\n"
     ]
    },
    {
     "name": "stdout",
     "output_type": "stream",
     "text": [
      "[Instagram] DHx7c9CMNXW: Downloading embed webpage\n"
     ]
    },
    {
     "name": "stderr",
     "output_type": "stream",
     "text": [
      "WARNING: [Instagram] unable to extract additional data; please report this issue on  https://github.com/yt-dlp/yt-dlp/issues?q= , filling out the appropriate issue template. Confirm you are on the latest version using  yt-dlp -U\n",
      "ERROR: [Instagram] DHx7c9CMNXW: Requested content is not available, rate-limit reached or login required. Use --cookies-from-browser or --cookies for the authentication. See  https://github.com/yt-dlp/yt-dlp/wiki/FAQ#how-do-i-pass-cookies-to-yt-dlp  for how to manually pass cookies\n"
     ]
    },
    {
     "name": "stdout",
     "output_type": "stream",
     "text": [
      "Downloaded TOC video 16\n",
      "[Instagram] Extracting URL: https://www.instagram.com/reel/DIpRY8FufJS/?igsh=MWxtZjRseGp3aGVj\n",
      "[Instagram] DIpRY8FufJS: Setting up session\n",
      "[Instagram] DIpRY8FufJS: Downloading JSON metadata\n"
     ]
    },
    {
     "name": "stderr",
     "output_type": "stream",
     "text": [
      "WARNING: [Instagram] DIpRY8FufJS: General metadata extraction failed (some metadata might be missing).\n"
     ]
    },
    {
     "name": "stdout",
     "output_type": "stream",
     "text": [
      "[Instagram] DIpRY8FufJS: Downloading webpage\n"
     ]
    },
    {
     "name": "stderr",
     "output_type": "stream",
     "text": [
      "WARNING: [Instagram] unable to extract shared data; please report this issue on  https://github.com/yt-dlp/yt-dlp/issues?q= , filling out the appropriate issue template. Confirm you are on the latest version using  yt-dlp -U\n",
      "WARNING: [Instagram] Main webpage is locked behind the login page. Retrying with embed webpage (some metadata might be missing).\n"
     ]
    },
    {
     "name": "stdout",
     "output_type": "stream",
     "text": [
      "[Instagram] DIpRY8FufJS: Downloading embed webpage\n"
     ]
    },
    {
     "name": "stderr",
     "output_type": "stream",
     "text": [
      "WARNING: [Instagram] unable to extract additional data; please report this issue on  https://github.com/yt-dlp/yt-dlp/issues?q= , filling out the appropriate issue template. Confirm you are on the latest version using  yt-dlp -U\n",
      "ERROR: [Instagram] DIpRY8FufJS: Requested content is not available, rate-limit reached or login required. Use --cookies-from-browser or --cookies for the authentication. See  https://github.com/yt-dlp/yt-dlp/wiki/FAQ#how-do-i-pass-cookies-to-yt-dlp  for how to manually pass cookies\n"
     ]
    },
    {
     "name": "stdout",
     "output_type": "stream",
     "text": [
      "Downloaded TOC video 17\n",
      "[Instagram] Extracting URL: https://www.instagram.com/reel/DHG9eepO68X/?igsh=MWZtaTYzdTR6dDAwaw==\n",
      "[Instagram] DHG9eepO68X: Setting up session\n",
      "[Instagram] DHG9eepO68X: Downloading JSON metadata\n"
     ]
    },
    {
     "name": "stderr",
     "output_type": "stream",
     "text": [
      "WARNING: [Instagram] DHG9eepO68X: General metadata extraction failed (some metadata might be missing).\n"
     ]
    },
    {
     "name": "stdout",
     "output_type": "stream",
     "text": [
      "[Instagram] DHG9eepO68X: Downloading webpage\n"
     ]
    },
    {
     "name": "stderr",
     "output_type": "stream",
     "text": [
      "WARNING: [Instagram] unable to extract shared data; please report this issue on  https://github.com/yt-dlp/yt-dlp/issues?q= , filling out the appropriate issue template. Confirm you are on the latest version using  yt-dlp -U\n",
      "WARNING: [Instagram] Main webpage is locked behind the login page. Retrying with embed webpage (some metadata might be missing).\n"
     ]
    },
    {
     "name": "stdout",
     "output_type": "stream",
     "text": [
      "[Instagram] DHG9eepO68X: Downloading embed webpage\n"
     ]
    },
    {
     "name": "stderr",
     "output_type": "stream",
     "text": [
      "WARNING: [Instagram] unable to extract additional data; please report this issue on  https://github.com/yt-dlp/yt-dlp/issues?q= , filling out the appropriate issue template. Confirm you are on the latest version using  yt-dlp -U\n",
      "ERROR: [Instagram] DHG9eepO68X: Requested content is not available, rate-limit reached or login required. Use --cookies-from-browser or --cookies for the authentication. See  https://github.com/yt-dlp/yt-dlp/wiki/FAQ#how-do-i-pass-cookies-to-yt-dlp  for how to manually pass cookies\n"
     ]
    },
    {
     "name": "stdout",
     "output_type": "stream",
     "text": [
      "Downloaded TOC video 18\n",
      "[Instagram] Extracting URL: https://www.instagram.com/reel/DGPPVgAtK0Q/?igsh=b2RwdTB2NW85czdr\n",
      "[Instagram] DGPPVgAtK0Q: Setting up session\n",
      "[Instagram] DGPPVgAtK0Q: Downloading JSON metadata\n"
     ]
    },
    {
     "name": "stderr",
     "output_type": "stream",
     "text": [
      "WARNING: [Instagram] DGPPVgAtK0Q: General metadata extraction failed (some metadata might be missing).\n"
     ]
    },
    {
     "name": "stdout",
     "output_type": "stream",
     "text": [
      "[Instagram] DGPPVgAtK0Q: Downloading webpage\n"
     ]
    },
    {
     "name": "stderr",
     "output_type": "stream",
     "text": [
      "WARNING: [Instagram] unable to extract shared data; please report this issue on  https://github.com/yt-dlp/yt-dlp/issues?q= , filling out the appropriate issue template. Confirm you are on the latest version using  yt-dlp -U\n",
      "WARNING: [Instagram] Main webpage is locked behind the login page. Retrying with embed webpage (some metadata might be missing).\n"
     ]
    },
    {
     "name": "stdout",
     "output_type": "stream",
     "text": [
      "[Instagram] DGPPVgAtK0Q: Downloading embed webpage\n"
     ]
    },
    {
     "name": "stderr",
     "output_type": "stream",
     "text": [
      "WARNING: [Instagram] unable to extract additional data; please report this issue on  https://github.com/yt-dlp/yt-dlp/issues?q= , filling out the appropriate issue template. Confirm you are on the latest version using  yt-dlp -U\n",
      "ERROR: [Instagram] DGPPVgAtK0Q: Requested content is not available, rate-limit reached or login required. Use --cookies-from-browser or --cookies for the authentication. See  https://github.com/yt-dlp/yt-dlp/wiki/FAQ#how-do-i-pass-cookies-to-yt-dlp  for how to manually pass cookies\n"
     ]
    },
    {
     "name": "stdout",
     "output_type": "stream",
     "text": [
      "Downloaded TOC video 19\n",
      "[Instagram] Extracting URL: https://www.instagram.com/reel/DGngHnbxyek/?igsh=MTVhYTRkZjZheXMxNw==\n",
      "[Instagram] DGngHnbxyek: Setting up session\n",
      "[Instagram] DGngHnbxyek: Downloading JSON metadata\n"
     ]
    },
    {
     "name": "stderr",
     "output_type": "stream",
     "text": [
      "WARNING: [Instagram] DGngHnbxyek: General metadata extraction failed (some metadata might be missing).\n"
     ]
    },
    {
     "name": "stdout",
     "output_type": "stream",
     "text": [
      "[Instagram] DGngHnbxyek: Downloading webpage\n"
     ]
    },
    {
     "name": "stderr",
     "output_type": "stream",
     "text": [
      "WARNING: [Instagram] unable to extract shared data; please report this issue on  https://github.com/yt-dlp/yt-dlp/issues?q= , filling out the appropriate issue template. Confirm you are on the latest version using  yt-dlp -U\n",
      "WARNING: [Instagram] Main webpage is locked behind the login page. Retrying with embed webpage (some metadata might be missing).\n"
     ]
    },
    {
     "name": "stdout",
     "output_type": "stream",
     "text": [
      "[Instagram] DGngHnbxyek: Downloading embed webpage\n"
     ]
    },
    {
     "name": "stderr",
     "output_type": "stream",
     "text": [
      "WARNING: [Instagram] unable to extract additional data; please report this issue on  https://github.com/yt-dlp/yt-dlp/issues?q= , filling out the appropriate issue template. Confirm you are on the latest version using  yt-dlp -U\n",
      "ERROR: [Instagram] DGngHnbxyek: Requested content is not available, rate-limit reached or login required. Use --cookies-from-browser or --cookies for the authentication. See  https://github.com/yt-dlp/yt-dlp/wiki/FAQ#how-do-i-pass-cookies-to-yt-dlp  for how to manually pass cookies\n"
     ]
    },
    {
     "name": "stdout",
     "output_type": "stream",
     "text": [
      "Downloaded TOC video 20\n",
      "[Instagram] Extracting URL: https://www.instagram.com/reel/DHa4xD9Rt2E/?igsh=MW5leThrd3FxbndidQ==\n",
      "[Instagram] DHa4xD9Rt2E: Setting up session\n",
      "[Instagram] DHa4xD9Rt2E: Downloading JSON metadata\n"
     ]
    },
    {
     "name": "stderr",
     "output_type": "stream",
     "text": [
      "WARNING: [Instagram] DHa4xD9Rt2E: General metadata extraction failed (some metadata might be missing).\n"
     ]
    },
    {
     "name": "stdout",
     "output_type": "stream",
     "text": [
      "[Instagram] DHa4xD9Rt2E: Downloading webpage\n"
     ]
    },
    {
     "name": "stderr",
     "output_type": "stream",
     "text": [
      "WARNING: [Instagram] unable to extract shared data; please report this issue on  https://github.com/yt-dlp/yt-dlp/issues?q= , filling out the appropriate issue template. Confirm you are on the latest version using  yt-dlp -U\n",
      "WARNING: [Instagram] Main webpage is locked behind the login page. Retrying with embed webpage (some metadata might be missing).\n"
     ]
    },
    {
     "name": "stdout",
     "output_type": "stream",
     "text": [
      "[Instagram] DHa4xD9Rt2E: Downloading embed webpage\n"
     ]
    },
    {
     "name": "stderr",
     "output_type": "stream",
     "text": [
      "WARNING: [Instagram] unable to extract additional data; please report this issue on  https://github.com/yt-dlp/yt-dlp/issues?q= , filling out the appropriate issue template. Confirm you are on the latest version using  yt-dlp -U\n",
      "ERROR: [Instagram] DHa4xD9Rt2E: Requested content is not available, rate-limit reached or login required. Use --cookies-from-browser or --cookies for the authentication. See  https://github.com/yt-dlp/yt-dlp/wiki/FAQ#how-do-i-pass-cookies-to-yt-dlp  for how to manually pass cookies\n"
     ]
    },
    {
     "name": "stdout",
     "output_type": "stream",
     "text": [
      "Downloaded TOC video 21\n",
      "[Instagram] Extracting URL: https://www.instagram.com/reel/DHFMHhgpTN1/?igsh=MWptdG05djM3aWdtcw==\n",
      "[Instagram] DHFMHhgpTN1: Setting up session\n",
      "[Instagram] DHFMHhgpTN1: Downloading JSON metadata\n"
     ]
    },
    {
     "name": "stderr",
     "output_type": "stream",
     "text": [
      "WARNING: [Instagram] DHFMHhgpTN1: General metadata extraction failed (some metadata might be missing).\n"
     ]
    },
    {
     "name": "stdout",
     "output_type": "stream",
     "text": [
      "[Instagram] DHFMHhgpTN1: Downloading webpage\n"
     ]
    },
    {
     "name": "stderr",
     "output_type": "stream",
     "text": [
      "WARNING: [Instagram] unable to extract shared data; please report this issue on  https://github.com/yt-dlp/yt-dlp/issues?q= , filling out the appropriate issue template. Confirm you are on the latest version using  yt-dlp -U\n",
      "WARNING: [Instagram] Main webpage is locked behind the login page. Retrying with embed webpage (some metadata might be missing).\n"
     ]
    },
    {
     "name": "stdout",
     "output_type": "stream",
     "text": [
      "[Instagram] DHFMHhgpTN1: Downloading embed webpage\n"
     ]
    },
    {
     "name": "stderr",
     "output_type": "stream",
     "text": [
      "WARNING: [Instagram] unable to extract additional data; please report this issue on  https://github.com/yt-dlp/yt-dlp/issues?q= , filling out the appropriate issue template. Confirm you are on the latest version using  yt-dlp -U\n",
      "ERROR: [Instagram] DHFMHhgpTN1: Requested content is not available, rate-limit reached or login required. Use --cookies-from-browser or --cookies for the authentication. See  https://github.com/yt-dlp/yt-dlp/wiki/FAQ#how-do-i-pass-cookies-to-yt-dlp  for how to manually pass cookies\n"
     ]
    },
    {
     "name": "stdout",
     "output_type": "stream",
     "text": [
      "Downloaded TOC video 22\n",
      "[Instagram] Extracting URL: https://www.instagram.com/reel/DHwqks0pLv0/?igsh=MWN6M2x6NjkyY2Zzaw==\n",
      "[Instagram] DHwqks0pLv0: Setting up session\n",
      "[Instagram] DHwqks0pLv0: Downloading JSON metadata\n"
     ]
    },
    {
     "name": "stderr",
     "output_type": "stream",
     "text": [
      "WARNING: [Instagram] DHwqks0pLv0: General metadata extraction failed (some metadata might be missing).\n"
     ]
    },
    {
     "name": "stdout",
     "output_type": "stream",
     "text": [
      "[Instagram] DHwqks0pLv0: Downloading webpage\n"
     ]
    },
    {
     "name": "stderr",
     "output_type": "stream",
     "text": [
      "WARNING: [Instagram] unable to extract shared data; please report this issue on  https://github.com/yt-dlp/yt-dlp/issues?q= , filling out the appropriate issue template. Confirm you are on the latest version using  yt-dlp -U\n",
      "WARNING: [Instagram] Main webpage is locked behind the login page. Retrying with embed webpage (some metadata might be missing).\n"
     ]
    },
    {
     "name": "stdout",
     "output_type": "stream",
     "text": [
      "[Instagram] DHwqks0pLv0: Downloading embed webpage\n"
     ]
    },
    {
     "name": "stderr",
     "output_type": "stream",
     "text": [
      "WARNING: [Instagram] unable to extract additional data; please report this issue on  https://github.com/yt-dlp/yt-dlp/issues?q= , filling out the appropriate issue template. Confirm you are on the latest version using  yt-dlp -U\n",
      "ERROR: [Instagram] DHwqks0pLv0: Requested content is not available, rate-limit reached or login required. Use --cookies-from-browser or --cookies for the authentication. See  https://github.com/yt-dlp/yt-dlp/wiki/FAQ#how-do-i-pass-cookies-to-yt-dlp  for how to manually pass cookies\n"
     ]
    },
    {
     "name": "stdout",
     "output_type": "stream",
     "text": [
      "Downloaded TOC video 23\n",
      "[Instagram] Extracting URL: https://www.instagram.com/reel/DGhFhG9vS0E/?igsh=cWpxN2lyeDRsand4\n",
      "[Instagram] DGhFhG9vS0E: Setting up session\n",
      "[Instagram] DGhFhG9vS0E: Downloading JSON metadata\n"
     ]
    },
    {
     "name": "stderr",
     "output_type": "stream",
     "text": [
      "WARNING: [Instagram] DGhFhG9vS0E: General metadata extraction failed (some metadata might be missing).\n"
     ]
    },
    {
     "name": "stdout",
     "output_type": "stream",
     "text": [
      "[Instagram] DGhFhG9vS0E: Downloading webpage\n"
     ]
    },
    {
     "name": "stderr",
     "output_type": "stream",
     "text": [
      "WARNING: [Instagram] unable to extract shared data; please report this issue on  https://github.com/yt-dlp/yt-dlp/issues?q= , filling out the appropriate issue template. Confirm you are on the latest version using  yt-dlp -U\n",
      "WARNING: [Instagram] Main webpage is locked behind the login page. Retrying with embed webpage (some metadata might be missing).\n"
     ]
    },
    {
     "name": "stdout",
     "output_type": "stream",
     "text": [
      "[Instagram] DGhFhG9vS0E: Downloading embed webpage\n"
     ]
    },
    {
     "name": "stderr",
     "output_type": "stream",
     "text": [
      "WARNING: [Instagram] unable to extract additional data; please report this issue on  https://github.com/yt-dlp/yt-dlp/issues?q= , filling out the appropriate issue template. Confirm you are on the latest version using  yt-dlp -U\n",
      "ERROR: [Instagram] DGhFhG9vS0E: Requested content is not available, rate-limit reached or login required. Use --cookies-from-browser or --cookies for the authentication. See  https://github.com/yt-dlp/yt-dlp/wiki/FAQ#how-do-i-pass-cookies-to-yt-dlp  for how to manually pass cookies\n"
     ]
    },
    {
     "name": "stdout",
     "output_type": "stream",
     "text": [
      "Downloaded TOC video 24\n",
      "[Instagram] Extracting URL: https://www.instagram.com/reel/DI5BMmcJf0Y/?igsh=bnFmeHJiMmVjNnN2\n",
      "[Instagram] DI5BMmcJf0Y: Setting up session\n",
      "[Instagram] DI5BMmcJf0Y: Downloading JSON metadata\n"
     ]
    },
    {
     "name": "stderr",
     "output_type": "stream",
     "text": [
      "WARNING: [Instagram] DI5BMmcJf0Y: General metadata extraction failed (some metadata might be missing).\n"
     ]
    },
    {
     "name": "stdout",
     "output_type": "stream",
     "text": [
      "[Instagram] DI5BMmcJf0Y: Downloading webpage\n"
     ]
    },
    {
     "name": "stderr",
     "output_type": "stream",
     "text": [
      "WARNING: [Instagram] unable to extract shared data; please report this issue on  https://github.com/yt-dlp/yt-dlp/issues?q= , filling out the appropriate issue template. Confirm you are on the latest version using  yt-dlp -U\n",
      "WARNING: [Instagram] Main webpage is locked behind the login page. Retrying with embed webpage (some metadata might be missing).\n"
     ]
    },
    {
     "name": "stdout",
     "output_type": "stream",
     "text": [
      "[Instagram] DI5BMmcJf0Y: Downloading embed webpage\n"
     ]
    },
    {
     "name": "stderr",
     "output_type": "stream",
     "text": [
      "WARNING: [Instagram] unable to extract additional data; please report this issue on  https://github.com/yt-dlp/yt-dlp/issues?q= , filling out the appropriate issue template. Confirm you are on the latest version using  yt-dlp -U\n",
      "ERROR: [Instagram] DI5BMmcJf0Y: Requested content is not available, rate-limit reached or login required. Use --cookies-from-browser or --cookies for the authentication. See  https://github.com/yt-dlp/yt-dlp/wiki/FAQ#how-do-i-pass-cookies-to-yt-dlp  for how to manually pass cookies\n"
     ]
    },
    {
     "name": "stdout",
     "output_type": "stream",
     "text": [
      "Downloaded TOC video 25\n",
      "[Instagram] Extracting URL: https://www.instagram.com/reel/C5YPfU7xpb3/?igsh=MWJjN2FubHVtYmFkMg==\n",
      "[Instagram] C5YPfU7xpb3: Setting up session\n",
      "[Instagram] C5YPfU7xpb3: Downloading JSON metadata\n"
     ]
    },
    {
     "name": "stderr",
     "output_type": "stream",
     "text": [
      "WARNING: [Instagram] C5YPfU7xpb3: General metadata extraction failed (some metadata might be missing).\n"
     ]
    },
    {
     "name": "stdout",
     "output_type": "stream",
     "text": [
      "[Instagram] C5YPfU7xpb3: Downloading webpage\n"
     ]
    },
    {
     "name": "stderr",
     "output_type": "stream",
     "text": [
      "WARNING: [Instagram] unable to extract shared data; please report this issue on  https://github.com/yt-dlp/yt-dlp/issues?q= , filling out the appropriate issue template. Confirm you are on the latest version using  yt-dlp -U\n",
      "WARNING: [Instagram] Main webpage is locked behind the login page. Retrying with embed webpage (some metadata might be missing).\n"
     ]
    },
    {
     "name": "stdout",
     "output_type": "stream",
     "text": [
      "[Instagram] C5YPfU7xpb3: Downloading embed webpage\n"
     ]
    },
    {
     "name": "stderr",
     "output_type": "stream",
     "text": [
      "WARNING: [Instagram] unable to extract additional data; please report this issue on  https://github.com/yt-dlp/yt-dlp/issues?q= , filling out the appropriate issue template. Confirm you are on the latest version using  yt-dlp -U\n",
      "ERROR: [Instagram] C5YPfU7xpb3: Requested content is not available, rate-limit reached or login required. Use --cookies-from-browser or --cookies for the authentication. See  https://github.com/yt-dlp/yt-dlp/wiki/FAQ#how-do-i-pass-cookies-to-yt-dlp  for how to manually pass cookies\n"
     ]
    },
    {
     "name": "stdout",
     "output_type": "stream",
     "text": [
      "Downloaded TOC video 26\n",
      "[Instagram] Extracting URL: https://www.instagram.com/reel/DIJSX-6sB8r/?igsh=Z3VzYnQzaGFnczk0\n",
      "[Instagram] DIJSX-6sB8r: Setting up session\n",
      "[Instagram] DIJSX-6sB8r: Downloading JSON metadata\n"
     ]
    },
    {
     "name": "stderr",
     "output_type": "stream",
     "text": [
      "WARNING: [Instagram] DIJSX-6sB8r: General metadata extraction failed (some metadata might be missing).\n"
     ]
    },
    {
     "name": "stdout",
     "output_type": "stream",
     "text": [
      "[Instagram] DIJSX-6sB8r: Downloading webpage\n"
     ]
    },
    {
     "name": "stderr",
     "output_type": "stream",
     "text": [
      "WARNING: [Instagram] unable to extract shared data; please report this issue on  https://github.com/yt-dlp/yt-dlp/issues?q= , filling out the appropriate issue template. Confirm you are on the latest version using  yt-dlp -U\n",
      "WARNING: [Instagram] Main webpage is locked behind the login page. Retrying with embed webpage (some metadata might be missing).\n"
     ]
    },
    {
     "name": "stdout",
     "output_type": "stream",
     "text": [
      "[Instagram] DIJSX-6sB8r: Downloading embed webpage\n"
     ]
    },
    {
     "name": "stderr",
     "output_type": "stream",
     "text": [
      "WARNING: [Instagram] unable to extract additional data; please report this issue on  https://github.com/yt-dlp/yt-dlp/issues?q= , filling out the appropriate issue template. Confirm you are on the latest version using  yt-dlp -U\n",
      "ERROR: [Instagram] DIJSX-6sB8r: Requested content is not available, rate-limit reached or login required. Use --cookies-from-browser or --cookies for the authentication. See  https://github.com/yt-dlp/yt-dlp/wiki/FAQ#how-do-i-pass-cookies-to-yt-dlp  for how to manually pass cookies\n"
     ]
    },
    {
     "name": "stdout",
     "output_type": "stream",
     "text": [
      "Downloaded TOC video 27\n",
      "[Instagram] Extracting URL: https://www.instagram.com/reel/C7zfjiHuC4B/?igsh=c3ZhaHB2ZjBmYWlj\n",
      "[Instagram] C7zfjiHuC4B: Setting up session\n",
      "[Instagram] C7zfjiHuC4B: Downloading JSON metadata\n"
     ]
    },
    {
     "name": "stderr",
     "output_type": "stream",
     "text": [
      "WARNING: [Instagram] C7zfjiHuC4B: General metadata extraction failed (some metadata might be missing).\n"
     ]
    },
    {
     "name": "stdout",
     "output_type": "stream",
     "text": [
      "[Instagram] C7zfjiHuC4B: Downloading webpage\n"
     ]
    },
    {
     "name": "stderr",
     "output_type": "stream",
     "text": [
      "WARNING: [Instagram] unable to extract shared data; please report this issue on  https://github.com/yt-dlp/yt-dlp/issues?q= , filling out the appropriate issue template. Confirm you are on the latest version using  yt-dlp -U\n",
      "WARNING: [Instagram] Main webpage is locked behind the login page. Retrying with embed webpage (some metadata might be missing).\n"
     ]
    },
    {
     "name": "stdout",
     "output_type": "stream",
     "text": [
      "[Instagram] C7zfjiHuC4B: Downloading embed webpage\n"
     ]
    },
    {
     "name": "stderr",
     "output_type": "stream",
     "text": [
      "WARNING: [Instagram] unable to extract additional data; please report this issue on  https://github.com/yt-dlp/yt-dlp/issues?q= , filling out the appropriate issue template. Confirm you are on the latest version using  yt-dlp -U\n",
      "ERROR: [Instagram] C7zfjiHuC4B: Requested content is not available, rate-limit reached or login required. Use --cookies-from-browser or --cookies for the authentication. See  https://github.com/yt-dlp/yt-dlp/wiki/FAQ#how-do-i-pass-cookies-to-yt-dlp  for how to manually pass cookies\n"
     ]
    },
    {
     "name": "stdout",
     "output_type": "stream",
     "text": [
      "Downloaded TOC video 28\n",
      "[Instagram] Extracting URL: https://www.instagram.com/reel/DHUb9D_MOES/?igsh=NXB4dW03b3hyeGFy\n",
      "[Instagram] DHUb9D_MOES: Setting up session\n",
      "[Instagram] DHUb9D_MOES: Downloading JSON metadata\n"
     ]
    },
    {
     "name": "stderr",
     "output_type": "stream",
     "text": [
      "WARNING: [Instagram] DHUb9D_MOES: General metadata extraction failed (some metadata might be missing).\n"
     ]
    },
    {
     "name": "stdout",
     "output_type": "stream",
     "text": [
      "[Instagram] DHUb9D_MOES: Downloading webpage\n"
     ]
    },
    {
     "name": "stderr",
     "output_type": "stream",
     "text": [
      "WARNING: [Instagram] unable to extract shared data; please report this issue on  https://github.com/yt-dlp/yt-dlp/issues?q= , filling out the appropriate issue template. Confirm you are on the latest version using  yt-dlp -U\n",
      "WARNING: [Instagram] Main webpage is locked behind the login page. Retrying with embed webpage (some metadata might be missing).\n"
     ]
    },
    {
     "name": "stdout",
     "output_type": "stream",
     "text": [
      "[Instagram] DHUb9D_MOES: Downloading embed webpage\n"
     ]
    },
    {
     "name": "stderr",
     "output_type": "stream",
     "text": [
      "WARNING: [Instagram] unable to extract additional data; please report this issue on  https://github.com/yt-dlp/yt-dlp/issues?q= , filling out the appropriate issue template. Confirm you are on the latest version using  yt-dlp -U\n",
      "ERROR: [Instagram] DHUb9D_MOES: Requested content is not available, rate-limit reached or login required. Use --cookies-from-browser or --cookies for the authentication. See  https://github.com/yt-dlp/yt-dlp/wiki/FAQ#how-do-i-pass-cookies-to-yt-dlp  for how to manually pass cookies\n"
     ]
    },
    {
     "name": "stdout",
     "output_type": "stream",
     "text": [
      "Downloaded TOC video 29\n",
      "[Instagram] Extracting URL: https://www.instagram.com/reel/DFk4kDLOove/?igsh=YXE3M2RsN2Nyam82\n",
      "[Instagram] DFk4kDLOove: Setting up session\n",
      "[Instagram] DFk4kDLOove: Downloading JSON metadata\n"
     ]
    },
    {
     "name": "stderr",
     "output_type": "stream",
     "text": [
      "WARNING: [Instagram] DFk4kDLOove: General metadata extraction failed (some metadata might be missing).\n"
     ]
    },
    {
     "name": "stdout",
     "output_type": "stream",
     "text": [
      "[Instagram] DFk4kDLOove: Downloading webpage\n"
     ]
    },
    {
     "name": "stderr",
     "output_type": "stream",
     "text": [
      "WARNING: [Instagram] unable to extract shared data; please report this issue on  https://github.com/yt-dlp/yt-dlp/issues?q= , filling out the appropriate issue template. Confirm you are on the latest version using  yt-dlp -U\n",
      "WARNING: [Instagram] Main webpage is locked behind the login page. Retrying with embed webpage (some metadata might be missing).\n"
     ]
    },
    {
     "name": "stdout",
     "output_type": "stream",
     "text": [
      "[Instagram] DFk4kDLOove: Downloading embed webpage\n"
     ]
    },
    {
     "name": "stderr",
     "output_type": "stream",
     "text": [
      "WARNING: [Instagram] unable to extract additional data; please report this issue on  https://github.com/yt-dlp/yt-dlp/issues?q= , filling out the appropriate issue template. Confirm you are on the latest version using  yt-dlp -U\n",
      "ERROR: [Instagram] DFk4kDLOove: Requested content is not available, rate-limit reached or login required. Use --cookies-from-browser or --cookies for the authentication. See  https://github.com/yt-dlp/yt-dlp/wiki/FAQ#how-do-i-pass-cookies-to-yt-dlp  for how to manually pass cookies\n"
     ]
    },
    {
     "name": "stdout",
     "output_type": "stream",
     "text": [
      "Downloaded TOC video 30\n",
      "[Instagram] Extracting URL: https://www.instagram.com/reel/DGRdmwmJwLQ/?igsh=Zmkxenl4c3kzNHpr\n",
      "[Instagram] DGRdmwmJwLQ: Setting up session\n",
      "[Instagram] DGRdmwmJwLQ: Downloading JSON metadata\n"
     ]
    },
    {
     "name": "stderr",
     "output_type": "stream",
     "text": [
      "WARNING: [Instagram] DGRdmwmJwLQ: General metadata extraction failed (some metadata might be missing).\n"
     ]
    },
    {
     "name": "stdout",
     "output_type": "stream",
     "text": [
      "[Instagram] DGRdmwmJwLQ: Downloading webpage\n"
     ]
    },
    {
     "name": "stderr",
     "output_type": "stream",
     "text": [
      "WARNING: [Instagram] unable to extract shared data; please report this issue on  https://github.com/yt-dlp/yt-dlp/issues?q= , filling out the appropriate issue template. Confirm you are on the latest version using  yt-dlp -U\n",
      "WARNING: [Instagram] Main webpage is locked behind the login page. Retrying with embed webpage (some metadata might be missing).\n"
     ]
    },
    {
     "name": "stdout",
     "output_type": "stream",
     "text": [
      "[Instagram] DGRdmwmJwLQ: Downloading embed webpage\n"
     ]
    },
    {
     "name": "stderr",
     "output_type": "stream",
     "text": [
      "WARNING: [Instagram] unable to extract additional data; please report this issue on  https://github.com/yt-dlp/yt-dlp/issues?q= , filling out the appropriate issue template. Confirm you are on the latest version using  yt-dlp -U\n",
      "ERROR: [Instagram] DGRdmwmJwLQ: Requested content is not available, rate-limit reached or login required. Use --cookies-from-browser or --cookies for the authentication. See  https://github.com/yt-dlp/yt-dlp/wiki/FAQ#how-do-i-pass-cookies-to-yt-dlp  for how to manually pass cookies\n"
     ]
    },
    {
     "name": "stdout",
     "output_type": "stream",
     "text": [
      "Downloaded TOC video 31\n",
      "[Instagram] Extracting URL: https://www.instagram.com/reel/DCRhmDVMf_R/?igsh=MXc3dGNha20yZXgxeA==\n",
      "[Instagram] DCRhmDVMf_R: Setting up session\n",
      "[Instagram] DCRhmDVMf_R: Downloading JSON metadata\n"
     ]
    },
    {
     "name": "stderr",
     "output_type": "stream",
     "text": [
      "WARNING: [Instagram] DCRhmDVMf_R: General metadata extraction failed (some metadata might be missing).\n"
     ]
    },
    {
     "name": "stdout",
     "output_type": "stream",
     "text": [
      "[Instagram] DCRhmDVMf_R: Downloading webpage\n"
     ]
    },
    {
     "name": "stderr",
     "output_type": "stream",
     "text": [
      "WARNING: [Instagram] unable to extract shared data; please report this issue on  https://github.com/yt-dlp/yt-dlp/issues?q= , filling out the appropriate issue template. Confirm you are on the latest version using  yt-dlp -U\n",
      "WARNING: [Instagram] Main webpage is locked behind the login page. Retrying with embed webpage (some metadata might be missing).\n"
     ]
    },
    {
     "name": "stdout",
     "output_type": "stream",
     "text": [
      "[Instagram] DCRhmDVMf_R: Downloading embed webpage\n"
     ]
    },
    {
     "name": "stderr",
     "output_type": "stream",
     "text": [
      "WARNING: [Instagram] unable to extract additional data; please report this issue on  https://github.com/yt-dlp/yt-dlp/issues?q= , filling out the appropriate issue template. Confirm you are on the latest version using  yt-dlp -U\n",
      "ERROR: [Instagram] DCRhmDVMf_R: Requested content is not available, rate-limit reached or login required. Use --cookies-from-browser or --cookies for the authentication. See  https://github.com/yt-dlp/yt-dlp/wiki/FAQ#how-do-i-pass-cookies-to-yt-dlp  for how to manually pass cookies\n"
     ]
    },
    {
     "name": "stdout",
     "output_type": "stream",
     "text": [
      "Downloaded TOC video 32\n",
      "[Instagram] Extracting URL: https://www.instagram.com/reel/DHytaHWOcgF/?igsh=eGkzZ3FyOGYyMHAz\n",
      "[Instagram] DHytaHWOcgF: Setting up session\n",
      "[Instagram] DHytaHWOcgF: Downloading JSON metadata\n"
     ]
    },
    {
     "name": "stderr",
     "output_type": "stream",
     "text": [
      "WARNING: [Instagram] DHytaHWOcgF: General metadata extraction failed (some metadata might be missing).\n"
     ]
    },
    {
     "name": "stdout",
     "output_type": "stream",
     "text": [
      "[Instagram] DHytaHWOcgF: Downloading webpage\n"
     ]
    },
    {
     "name": "stderr",
     "output_type": "stream",
     "text": [
      "WARNING: [Instagram] unable to extract shared data; please report this issue on  https://github.com/yt-dlp/yt-dlp/issues?q= , filling out the appropriate issue template. Confirm you are on the latest version using  yt-dlp -U\n",
      "WARNING: [Instagram] Main webpage is locked behind the login page. Retrying with embed webpage (some metadata might be missing).\n"
     ]
    },
    {
     "name": "stdout",
     "output_type": "stream",
     "text": [
      "[Instagram] DHytaHWOcgF: Downloading embed webpage\n"
     ]
    },
    {
     "name": "stderr",
     "output_type": "stream",
     "text": [
      "WARNING: [Instagram] unable to extract additional data; please report this issue on  https://github.com/yt-dlp/yt-dlp/issues?q= , filling out the appropriate issue template. Confirm you are on the latest version using  yt-dlp -U\n",
      "ERROR: [Instagram] DHytaHWOcgF: Requested content is not available, rate-limit reached or login required. Use --cookies-from-browser or --cookies for the authentication. See  https://github.com/yt-dlp/yt-dlp/wiki/FAQ#how-do-i-pass-cookies-to-yt-dlp  for how to manually pass cookies\n"
     ]
    },
    {
     "name": "stdout",
     "output_type": "stream",
     "text": [
      "Downloaded TOC video 33\n",
      "[Instagram] Extracting URL: https://www.instagram.com/reel/DHmxO_hMTIK/?igsh=MXVqbnM3M3d5eDJ0bA==\n",
      "[Instagram] DHmxO_hMTIK: Setting up session\n",
      "[Instagram] DHmxO_hMTIK: Downloading JSON metadata\n"
     ]
    },
    {
     "name": "stderr",
     "output_type": "stream",
     "text": [
      "WARNING: [Instagram] DHmxO_hMTIK: General metadata extraction failed (some metadata might be missing).\n"
     ]
    },
    {
     "name": "stdout",
     "output_type": "stream",
     "text": [
      "[Instagram] DHmxO_hMTIK: Downloading webpage\n"
     ]
    },
    {
     "name": "stderr",
     "output_type": "stream",
     "text": [
      "WARNING: [Instagram] unable to extract shared data; please report this issue on  https://github.com/yt-dlp/yt-dlp/issues?q= , filling out the appropriate issue template. Confirm you are on the latest version using  yt-dlp -U\n",
      "WARNING: [Instagram] Main webpage is locked behind the login page. Retrying with embed webpage (some metadata might be missing).\n"
     ]
    },
    {
     "name": "stdout",
     "output_type": "stream",
     "text": [
      "[Instagram] DHmxO_hMTIK: Downloading embed webpage\n"
     ]
    },
    {
     "name": "stderr",
     "output_type": "stream",
     "text": [
      "WARNING: [Instagram] unable to extract additional data; please report this issue on  https://github.com/yt-dlp/yt-dlp/issues?q= , filling out the appropriate issue template. Confirm you are on the latest version using  yt-dlp -U\n",
      "ERROR: [Instagram] DHmxO_hMTIK: Requested content is not available, rate-limit reached or login required. Use --cookies-from-browser or --cookies for the authentication. See  https://github.com/yt-dlp/yt-dlp/wiki/FAQ#how-do-i-pass-cookies-to-yt-dlp  for how to manually pass cookies\n"
     ]
    },
    {
     "name": "stdout",
     "output_type": "stream",
     "text": [
      "Downloaded TOC video 34\n",
      "[Instagram] Extracting URL: https://www.instagram.com/reel/DIaGj_iMLBM/?igsh=MW9mdjhyb2U0MmptcA==\n",
      "[Instagram] DIaGj_iMLBM: Setting up session\n",
      "[Instagram] DIaGj_iMLBM: Downloading JSON metadata\n"
     ]
    },
    {
     "name": "stderr",
     "output_type": "stream",
     "text": [
      "WARNING: [Instagram] DIaGj_iMLBM: General metadata extraction failed (some metadata might be missing).\n"
     ]
    },
    {
     "name": "stdout",
     "output_type": "stream",
     "text": [
      "[Instagram] DIaGj_iMLBM: Downloading webpage\n"
     ]
    },
    {
     "name": "stderr",
     "output_type": "stream",
     "text": [
      "WARNING: [Instagram] unable to extract shared data; please report this issue on  https://github.com/yt-dlp/yt-dlp/issues?q= , filling out the appropriate issue template. Confirm you are on the latest version using  yt-dlp -U\n",
      "WARNING: [Instagram] Main webpage is locked behind the login page. Retrying with embed webpage (some metadata might be missing).\n"
     ]
    },
    {
     "name": "stdout",
     "output_type": "stream",
     "text": [
      "[Instagram] DIaGj_iMLBM: Downloading embed webpage\n"
     ]
    },
    {
     "name": "stderr",
     "output_type": "stream",
     "text": [
      "WARNING: [Instagram] unable to extract additional data; please report this issue on  https://github.com/yt-dlp/yt-dlp/issues?q= , filling out the appropriate issue template. Confirm you are on the latest version using  yt-dlp -U\n",
      "ERROR: [Instagram] DIaGj_iMLBM: Requested content is not available, rate-limit reached or login required. Use --cookies-from-browser or --cookies for the authentication. See  https://github.com/yt-dlp/yt-dlp/wiki/FAQ#how-do-i-pass-cookies-to-yt-dlp  for how to manually pass cookies\n"
     ]
    },
    {
     "name": "stdout",
     "output_type": "stream",
     "text": [
      "Downloaded TOC video 35\n",
      "[Instagram] Extracting URL: https://www.instagram.com/reel/CuvACTXsymd/?igsh=N2Z4OWI2Z2hyNGRp\n",
      "[Instagram] CuvACTXsymd: Setting up session\n",
      "[Instagram] CuvACTXsymd: Downloading JSON metadata\n"
     ]
    },
    {
     "name": "stderr",
     "output_type": "stream",
     "text": [
      "WARNING: [Instagram] CuvACTXsymd: General metadata extraction failed (some metadata might be missing).\n"
     ]
    },
    {
     "name": "stdout",
     "output_type": "stream",
     "text": [
      "[Instagram] CuvACTXsymd: Downloading webpage\n"
     ]
    },
    {
     "name": "stderr",
     "output_type": "stream",
     "text": [
      "WARNING: [Instagram] unable to extract shared data; please report this issue on  https://github.com/yt-dlp/yt-dlp/issues?q= , filling out the appropriate issue template. Confirm you are on the latest version using  yt-dlp -U\n",
      "WARNING: [Instagram] Main webpage is locked behind the login page. Retrying with embed webpage (some metadata might be missing).\n"
     ]
    },
    {
     "name": "stdout",
     "output_type": "stream",
     "text": [
      "[Instagram] CuvACTXsymd: Downloading embed webpage\n"
     ]
    },
    {
     "name": "stderr",
     "output_type": "stream",
     "text": [
      "WARNING: [Instagram] unable to extract additional data; please report this issue on  https://github.com/yt-dlp/yt-dlp/issues?q= , filling out the appropriate issue template. Confirm you are on the latest version using  yt-dlp -U\n",
      "ERROR: [Instagram] CuvACTXsymd: Requested content is not available, rate-limit reached or login required. Use --cookies-from-browser or --cookies for the authentication. See  https://github.com/yt-dlp/yt-dlp/wiki/FAQ#how-do-i-pass-cookies-to-yt-dlp  for how to manually pass cookies\n"
     ]
    },
    {
     "name": "stdout",
     "output_type": "stream",
     "text": [
      "Downloaded TOC video 36\n",
      "[Instagram] Extracting URL: https://www.instagram.com/reel/DIXvMTEs1Dt/?igsh=YWtrcmdmdjdiMmZ1\n",
      "[Instagram] DIXvMTEs1Dt: Setting up session\n",
      "[Instagram] DIXvMTEs1Dt: Downloading JSON metadata\n"
     ]
    },
    {
     "name": "stderr",
     "output_type": "stream",
     "text": [
      "WARNING: [Instagram] DIXvMTEs1Dt: General metadata extraction failed (some metadata might be missing).\n"
     ]
    },
    {
     "name": "stdout",
     "output_type": "stream",
     "text": [
      "[Instagram] DIXvMTEs1Dt: Downloading webpage\n"
     ]
    },
    {
     "name": "stderr",
     "output_type": "stream",
     "text": [
      "WARNING: [Instagram] unable to extract shared data; please report this issue on  https://github.com/yt-dlp/yt-dlp/issues?q= , filling out the appropriate issue template. Confirm you are on the latest version using  yt-dlp -U\n",
      "WARNING: [Instagram] Main webpage is locked behind the login page. Retrying with embed webpage (some metadata might be missing).\n"
     ]
    },
    {
     "name": "stdout",
     "output_type": "stream",
     "text": [
      "[Instagram] DIXvMTEs1Dt: Downloading embed webpage\n"
     ]
    },
    {
     "name": "stderr",
     "output_type": "stream",
     "text": [
      "WARNING: [Instagram] unable to extract additional data; please report this issue on  https://github.com/yt-dlp/yt-dlp/issues?q= , filling out the appropriate issue template. Confirm you are on the latest version using  yt-dlp -U\n",
      "ERROR: [Instagram] DIXvMTEs1Dt: Requested content is not available, rate-limit reached or login required. Use --cookies-from-browser or --cookies for the authentication. See  https://github.com/yt-dlp/yt-dlp/wiki/FAQ#how-do-i-pass-cookies-to-yt-dlp  for how to manually pass cookies\n"
     ]
    },
    {
     "name": "stdout",
     "output_type": "stream",
     "text": [
      "Downloaded TOC video 37\n",
      "[Instagram] Extracting URL: https://www.instagram.com/reel/DG58d6EpJ8W/?igsh=eTR6dGJ1bTV0dW5t\n",
      "[Instagram] DG58d6EpJ8W: Setting up session\n",
      "[Instagram] DG58d6EpJ8W: Downloading JSON metadata\n"
     ]
    },
    {
     "name": "stderr",
     "output_type": "stream",
     "text": [
      "WARNING: [Instagram] DG58d6EpJ8W: General metadata extraction failed (some metadata might be missing).\n"
     ]
    },
    {
     "name": "stdout",
     "output_type": "stream",
     "text": [
      "[Instagram] DG58d6EpJ8W: Downloading webpage\n"
     ]
    },
    {
     "name": "stderr",
     "output_type": "stream",
     "text": [
      "WARNING: [Instagram] unable to extract shared data; please report this issue on  https://github.com/yt-dlp/yt-dlp/issues?q= , filling out the appropriate issue template. Confirm you are on the latest version using  yt-dlp -U\n",
      "WARNING: [Instagram] Main webpage is locked behind the login page. Retrying with embed webpage (some metadata might be missing).\n"
     ]
    },
    {
     "name": "stdout",
     "output_type": "stream",
     "text": [
      "[Instagram] DG58d6EpJ8W: Downloading embed webpage\n"
     ]
    },
    {
     "name": "stderr",
     "output_type": "stream",
     "text": [
      "WARNING: [Instagram] unable to extract additional data; please report this issue on  https://github.com/yt-dlp/yt-dlp/issues?q= , filling out the appropriate issue template. Confirm you are on the latest version using  yt-dlp -U\n",
      "ERROR: [Instagram] DG58d6EpJ8W: Requested content is not available, rate-limit reached or login required. Use --cookies-from-browser or --cookies for the authentication. See  https://github.com/yt-dlp/yt-dlp/wiki/FAQ#how-do-i-pass-cookies-to-yt-dlp  for how to manually pass cookies\n"
     ]
    },
    {
     "name": "stdout",
     "output_type": "stream",
     "text": [
      "Downloaded TOC video 38\n",
      "[Instagram] Extracting URL: https://www.instagram.com/reel/DFk4kDLOove/?igsh=MXM1a2IzNmpiejlxaQ==\n",
      "[Instagram] DFk4kDLOove: Setting up session\n",
      "[Instagram] DFk4kDLOove: Downloading JSON metadata\n"
     ]
    },
    {
     "name": "stderr",
     "output_type": "stream",
     "text": [
      "WARNING: [Instagram] DFk4kDLOove: General metadata extraction failed (some metadata might be missing).\n"
     ]
    },
    {
     "name": "stdout",
     "output_type": "stream",
     "text": [
      "[Instagram] DFk4kDLOove: Downloading webpage\n"
     ]
    },
    {
     "name": "stderr",
     "output_type": "stream",
     "text": [
      "WARNING: [Instagram] unable to extract shared data; please report this issue on  https://github.com/yt-dlp/yt-dlp/issues?q= , filling out the appropriate issue template. Confirm you are on the latest version using  yt-dlp -U\n",
      "WARNING: [Instagram] Main webpage is locked behind the login page. Retrying with embed webpage (some metadata might be missing).\n"
     ]
    },
    {
     "name": "stdout",
     "output_type": "stream",
     "text": [
      "[Instagram] DFk4kDLOove: Downloading embed webpage\n"
     ]
    },
    {
     "name": "stderr",
     "output_type": "stream",
     "text": [
      "WARNING: [Instagram] unable to extract additional data; please report this issue on  https://github.com/yt-dlp/yt-dlp/issues?q= , filling out the appropriate issue template. Confirm you are on the latest version using  yt-dlp -U\n",
      "ERROR: [Instagram] DFk4kDLOove: Requested content is not available, rate-limit reached or login required. Use --cookies-from-browser or --cookies for the authentication. See  https://github.com/yt-dlp/yt-dlp/wiki/FAQ#how-do-i-pass-cookies-to-yt-dlp  for how to manually pass cookies\n"
     ]
    },
    {
     "name": "stdout",
     "output_type": "stream",
     "text": [
      "Downloaded TOC video 39\n",
      "[Instagram] Extracting URL: https://www.instagram.com/reel/ChqA9jBgGt5/?igsh=YTdrODlhdW12ZDM=\n",
      "[Instagram] ChqA9jBgGt5: Setting up session\n",
      "[Instagram] ChqA9jBgGt5: Downloading JSON metadata\n"
     ]
    },
    {
     "name": "stderr",
     "output_type": "stream",
     "text": [
      "WARNING: [Instagram] ChqA9jBgGt5: General metadata extraction failed (some metadata might be missing).\n"
     ]
    },
    {
     "name": "stdout",
     "output_type": "stream",
     "text": [
      "[Instagram] ChqA9jBgGt5: Downloading webpage\n"
     ]
    },
    {
     "name": "stderr",
     "output_type": "stream",
     "text": [
      "WARNING: [Instagram] unable to extract shared data; please report this issue on  https://github.com/yt-dlp/yt-dlp/issues?q= , filling out the appropriate issue template. Confirm you are on the latest version using  yt-dlp -U\n",
      "WARNING: [Instagram] Main webpage is locked behind the login page. Retrying with embed webpage (some metadata might be missing).\n"
     ]
    },
    {
     "name": "stdout",
     "output_type": "stream",
     "text": [
      "[Instagram] ChqA9jBgGt5: Downloading embed webpage\n"
     ]
    },
    {
     "name": "stderr",
     "output_type": "stream",
     "text": [
      "WARNING: [Instagram] unable to extract additional data; please report this issue on  https://github.com/yt-dlp/yt-dlp/issues?q= , filling out the appropriate issue template. Confirm you are on the latest version using  yt-dlp -U\n",
      "ERROR: [Instagram] ChqA9jBgGt5: Requested content is not available, rate-limit reached or login required. Use --cookies-from-browser or --cookies for the authentication. See  https://github.com/yt-dlp/yt-dlp/wiki/FAQ#how-do-i-pass-cookies-to-yt-dlp  for how to manually pass cookies\n"
     ]
    },
    {
     "name": "stdout",
     "output_type": "stream",
     "text": [
      "Downloaded TOC video 40\n",
      "[Instagram] Extracting URL: https://www.instagram.com/reel/CuULYwGgzQo/?igsh=MWkyenZxNGwyMnNzeA==\n",
      "[Instagram] CuULYwGgzQo: Setting up session\n",
      "[Instagram] CuULYwGgzQo: Downloading JSON metadata\n"
     ]
    },
    {
     "name": "stderr",
     "output_type": "stream",
     "text": [
      "WARNING: [Instagram] CuULYwGgzQo: General metadata extraction failed (some metadata might be missing).\n"
     ]
    },
    {
     "name": "stdout",
     "output_type": "stream",
     "text": [
      "[Instagram] CuULYwGgzQo: Downloading webpage\n"
     ]
    },
    {
     "name": "stderr",
     "output_type": "stream",
     "text": [
      "WARNING: [Instagram] unable to extract shared data; please report this issue on  https://github.com/yt-dlp/yt-dlp/issues?q= , filling out the appropriate issue template. Confirm you are on the latest version using  yt-dlp -U\n",
      "WARNING: [Instagram] Main webpage is locked behind the login page. Retrying with embed webpage (some metadata might be missing).\n"
     ]
    },
    {
     "name": "stdout",
     "output_type": "stream",
     "text": [
      "[Instagram] CuULYwGgzQo: Downloading embed webpage\n"
     ]
    },
    {
     "name": "stderr",
     "output_type": "stream",
     "text": [
      "WARNING: [Instagram] unable to extract additional data; please report this issue on  https://github.com/yt-dlp/yt-dlp/issues?q= , filling out the appropriate issue template. Confirm you are on the latest version using  yt-dlp -U\n",
      "ERROR: [Instagram] CuULYwGgzQo: Requested content is not available, rate-limit reached or login required. Use --cookies-from-browser or --cookies for the authentication. See  https://github.com/yt-dlp/yt-dlp/wiki/FAQ#how-do-i-pass-cookies-to-yt-dlp  for how to manually pass cookies\n"
     ]
    },
    {
     "name": "stdout",
     "output_type": "stream",
     "text": [
      "Downloaded TOC video 41\n",
      "[Instagram] Extracting URL: https://www.instagram.com/reel/DCRhmDVMf_R/?igsh=MXdsajVvY2M4NmxzZA==\n",
      "[Instagram] DCRhmDVMf_R: Setting up session\n",
      "[Instagram] DCRhmDVMf_R: Downloading JSON metadata\n"
     ]
    },
    {
     "name": "stderr",
     "output_type": "stream",
     "text": [
      "WARNING: [Instagram] DCRhmDVMf_R: General metadata extraction failed (some metadata might be missing).\n"
     ]
    },
    {
     "name": "stdout",
     "output_type": "stream",
     "text": [
      "[Instagram] DCRhmDVMf_R: Downloading webpage\n"
     ]
    },
    {
     "name": "stderr",
     "output_type": "stream",
     "text": [
      "WARNING: [Instagram] unable to extract shared data; please report this issue on  https://github.com/yt-dlp/yt-dlp/issues?q= , filling out the appropriate issue template. Confirm you are on the latest version using  yt-dlp -U\n",
      "WARNING: [Instagram] Main webpage is locked behind the login page. Retrying with embed webpage (some metadata might be missing).\n"
     ]
    },
    {
     "name": "stdout",
     "output_type": "stream",
     "text": [
      "[Instagram] DCRhmDVMf_R: Downloading embed webpage\n"
     ]
    },
    {
     "name": "stderr",
     "output_type": "stream",
     "text": [
      "WARNING: [Instagram] unable to extract additional data; please report this issue on  https://github.com/yt-dlp/yt-dlp/issues?q= , filling out the appropriate issue template. Confirm you are on the latest version using  yt-dlp -U\n",
      "ERROR: [Instagram] DCRhmDVMf_R: Requested content is not available, rate-limit reached or login required. Use --cookies-from-browser or --cookies for the authentication. See  https://github.com/yt-dlp/yt-dlp/wiki/FAQ#how-do-i-pass-cookies-to-yt-dlp  for how to manually pass cookies\n"
     ]
    },
    {
     "name": "stdout",
     "output_type": "stream",
     "text": [
      "Downloaded TOC video 42\n",
      "[Instagram] Extracting URL: https://www.instagram.com/reel/DHFMHhgpTN1/?igsh=OWQwbXQyOXlheHFv\n",
      "[Instagram] DHFMHhgpTN1: Setting up session\n",
      "[Instagram] DHFMHhgpTN1: Downloading JSON metadata\n"
     ]
    },
    {
     "name": "stderr",
     "output_type": "stream",
     "text": [
      "WARNING: [Instagram] DHFMHhgpTN1: General metadata extraction failed (some metadata might be missing).\n"
     ]
    },
    {
     "name": "stdout",
     "output_type": "stream",
     "text": [
      "[Instagram] DHFMHhgpTN1: Downloading webpage\n"
     ]
    },
    {
     "name": "stderr",
     "output_type": "stream",
     "text": [
      "WARNING: [Instagram] unable to extract shared data; please report this issue on  https://github.com/yt-dlp/yt-dlp/issues?q= , filling out the appropriate issue template. Confirm you are on the latest version using  yt-dlp -U\n",
      "WARNING: [Instagram] Main webpage is locked behind the login page. Retrying with embed webpage (some metadata might be missing).\n"
     ]
    },
    {
     "name": "stdout",
     "output_type": "stream",
     "text": [
      "[Instagram] DHFMHhgpTN1: Downloading embed webpage\n"
     ]
    },
    {
     "name": "stderr",
     "output_type": "stream",
     "text": [
      "WARNING: [Instagram] unable to extract additional data; please report this issue on  https://github.com/yt-dlp/yt-dlp/issues?q= , filling out the appropriate issue template. Confirm you are on the latest version using  yt-dlp -U\n",
      "ERROR: [Instagram] DHFMHhgpTN1: Requested content is not available, rate-limit reached or login required. Use --cookies-from-browser or --cookies for the authentication. See  https://github.com/yt-dlp/yt-dlp/wiki/FAQ#how-do-i-pass-cookies-to-yt-dlp  for how to manually pass cookies\n"
     ]
    },
    {
     "name": "stdout",
     "output_type": "stream",
     "text": [
      "Downloaded TOC video 43\n",
      "[Instagram] Extracting URL: https://www.instagram.com/reel/DHytaHWOcgF/?igsh=YzA5emw2cWY0Z2M2\n",
      "[Instagram] DHytaHWOcgF: Setting up session\n",
      "[Instagram] DHytaHWOcgF: Downloading JSON metadata\n"
     ]
    },
    {
     "name": "stderr",
     "output_type": "stream",
     "text": [
      "WARNING: [Instagram] DHytaHWOcgF: General metadata extraction failed (some metadata might be missing).\n"
     ]
    },
    {
     "name": "stdout",
     "output_type": "stream",
     "text": [
      "[Instagram] DHytaHWOcgF: Downloading webpage\n"
     ]
    },
    {
     "name": "stderr",
     "output_type": "stream",
     "text": [
      "WARNING: [Instagram] unable to extract shared data; please report this issue on  https://github.com/yt-dlp/yt-dlp/issues?q= , filling out the appropriate issue template. Confirm you are on the latest version using  yt-dlp -U\n",
      "WARNING: [Instagram] Main webpage is locked behind the login page. Retrying with embed webpage (some metadata might be missing).\n"
     ]
    },
    {
     "name": "stdout",
     "output_type": "stream",
     "text": [
      "[Instagram] DHytaHWOcgF: Downloading embed webpage\n"
     ]
    },
    {
     "name": "stderr",
     "output_type": "stream",
     "text": [
      "WARNING: [Instagram] unable to extract additional data; please report this issue on  https://github.com/yt-dlp/yt-dlp/issues?q= , filling out the appropriate issue template. Confirm you are on the latest version using  yt-dlp -U\n",
      "ERROR: [Instagram] DHytaHWOcgF: Requested content is not available, rate-limit reached or login required. Use --cookies-from-browser or --cookies for the authentication. See  https://github.com/yt-dlp/yt-dlp/wiki/FAQ#how-do-i-pass-cookies-to-yt-dlp  for how to manually pass cookies\n"
     ]
    },
    {
     "name": "stdout",
     "output_type": "stream",
     "text": [
      "Downloaded TOC video 44\n",
      "[Instagram] Extracting URL: https://www.instagram.com/reel/DH4SjqSSEEN/?igsh=MWxjMGRhdjk4OTB3bQ==\n",
      "[Instagram] DH4SjqSSEEN: Setting up session\n",
      "[Instagram] DH4SjqSSEEN: Downloading JSON metadata\n"
     ]
    },
    {
     "name": "stderr",
     "output_type": "stream",
     "text": [
      "WARNING: [Instagram] DH4SjqSSEEN: General metadata extraction failed (some metadata might be missing).\n"
     ]
    },
    {
     "name": "stdout",
     "output_type": "stream",
     "text": [
      "[Instagram] DH4SjqSSEEN: Downloading webpage\n"
     ]
    },
    {
     "name": "stderr",
     "output_type": "stream",
     "text": [
      "WARNING: [Instagram] unable to extract shared data; please report this issue on  https://github.com/yt-dlp/yt-dlp/issues?q= , filling out the appropriate issue template. Confirm you are on the latest version using  yt-dlp -U\n",
      "WARNING: [Instagram] Main webpage is locked behind the login page. Retrying with embed webpage (some metadata might be missing).\n"
     ]
    },
    {
     "name": "stdout",
     "output_type": "stream",
     "text": [
      "[Instagram] DH4SjqSSEEN: Downloading embed webpage\n"
     ]
    },
    {
     "name": "stderr",
     "output_type": "stream",
     "text": [
      "WARNING: [Instagram] unable to extract additional data; please report this issue on  https://github.com/yt-dlp/yt-dlp/issues?q= , filling out the appropriate issue template. Confirm you are on the latest version using  yt-dlp -U\n",
      "ERROR: [Instagram] DH4SjqSSEEN: Requested content is not available, rate-limit reached or login required. Use --cookies-from-browser or --cookies for the authentication. See  https://github.com/yt-dlp/yt-dlp/wiki/FAQ#how-do-i-pass-cookies-to-yt-dlp  for how to manually pass cookies\n"
     ]
    },
    {
     "name": "stdout",
     "output_type": "stream",
     "text": [
      "Downloaded TOC video 45\n",
      "[Instagram] Extracting URL: https://www.instagram.com/reel/DIBzUI_Ose2/?igsh=aXhicjB0bnNwZzlx\n",
      "[Instagram] DIBzUI_Ose2: Setting up session\n",
      "[Instagram] DIBzUI_Ose2: Downloading JSON metadata\n"
     ]
    },
    {
     "name": "stderr",
     "output_type": "stream",
     "text": [
      "WARNING: [Instagram] DIBzUI_Ose2: General metadata extraction failed (some metadata might be missing).\n"
     ]
    },
    {
     "name": "stdout",
     "output_type": "stream",
     "text": [
      "[Instagram] DIBzUI_Ose2: Downloading webpage\n"
     ]
    },
    {
     "name": "stderr",
     "output_type": "stream",
     "text": [
      "WARNING: [Instagram] unable to extract shared data; please report this issue on  https://github.com/yt-dlp/yt-dlp/issues?q= , filling out the appropriate issue template. Confirm you are on the latest version using  yt-dlp -U\n",
      "WARNING: [Instagram] Main webpage is locked behind the login page. Retrying with embed webpage (some metadata might be missing).\n"
     ]
    },
    {
     "name": "stdout",
     "output_type": "stream",
     "text": [
      "[Instagram] DIBzUI_Ose2: Downloading embed webpage\n"
     ]
    },
    {
     "name": "stderr",
     "output_type": "stream",
     "text": [
      "WARNING: [Instagram] unable to extract additional data; please report this issue on  https://github.com/yt-dlp/yt-dlp/issues?q= , filling out the appropriate issue template. Confirm you are on the latest version using  yt-dlp -U\n",
      "ERROR: [Instagram] DIBzUI_Ose2: Requested content is not available, rate-limit reached or login required. Use --cookies-from-browser or --cookies for the authentication. See  https://github.com/yt-dlp/yt-dlp/wiki/FAQ#how-do-i-pass-cookies-to-yt-dlp  for how to manually pass cookies\n"
     ]
    },
    {
     "name": "stdout",
     "output_type": "stream",
     "text": [
      "Downloaded TOC video 46\n",
      "[Instagram] Extracting URL: https://www.instagram.com/reel/DJC8YZ0BSJI/?igsh=MTR0bnh2dXdrNDB5MQ==\n",
      "[Instagram] DJC8YZ0BSJI: Setting up session\n",
      "[Instagram] DJC8YZ0BSJI: Downloading JSON metadata\n"
     ]
    },
    {
     "name": "stderr",
     "output_type": "stream",
     "text": [
      "WARNING: [Instagram] DJC8YZ0BSJI: General metadata extraction failed (some metadata might be missing).\n"
     ]
    },
    {
     "name": "stdout",
     "output_type": "stream",
     "text": [
      "[Instagram] DJC8YZ0BSJI: Downloading webpage\n"
     ]
    },
    {
     "name": "stderr",
     "output_type": "stream",
     "text": [
      "WARNING: [Instagram] unable to extract shared data; please report this issue on  https://github.com/yt-dlp/yt-dlp/issues?q= , filling out the appropriate issue template. Confirm you are on the latest version using  yt-dlp -U\n",
      "WARNING: [Instagram] Main webpage is locked behind the login page. Retrying with embed webpage (some metadata might be missing).\n"
     ]
    },
    {
     "name": "stdout",
     "output_type": "stream",
     "text": [
      "[Instagram] DJC8YZ0BSJI: Downloading embed webpage\n"
     ]
    },
    {
     "name": "stderr",
     "output_type": "stream",
     "text": [
      "WARNING: [Instagram] unable to extract additional data; please report this issue on  https://github.com/yt-dlp/yt-dlp/issues?q= , filling out the appropriate issue template. Confirm you are on the latest version using  yt-dlp -U\n",
      "ERROR: [Instagram] DJC8YZ0BSJI: Requested content is not available, rate-limit reached or login required. Use --cookies-from-browser or --cookies for the authentication. See  https://github.com/yt-dlp/yt-dlp/wiki/FAQ#how-do-i-pass-cookies-to-yt-dlp  for how to manually pass cookies\n"
     ]
    },
    {
     "name": "stdout",
     "output_type": "stream",
     "text": [
      "Downloaded TOC video 47\n",
      "[Instagram] Extracting URL: https://www.instagram.com/reel/DGePF7GxJrZ/?igsh=MXIxYWI2MTFmcDNoZg==\n",
      "[Instagram] DGePF7GxJrZ: Setting up session\n",
      "[Instagram] DGePF7GxJrZ: Downloading JSON metadata\n"
     ]
    },
    {
     "name": "stderr",
     "output_type": "stream",
     "text": [
      "WARNING: [Instagram] DGePF7GxJrZ: General metadata extraction failed (some metadata might be missing).\n"
     ]
    },
    {
     "name": "stdout",
     "output_type": "stream",
     "text": [
      "[Instagram] DGePF7GxJrZ: Downloading webpage\n"
     ]
    },
    {
     "name": "stderr",
     "output_type": "stream",
     "text": [
      "WARNING: [Instagram] unable to extract shared data; please report this issue on  https://github.com/yt-dlp/yt-dlp/issues?q= , filling out the appropriate issue template. Confirm you are on the latest version using  yt-dlp -U\n",
      "WARNING: [Instagram] Main webpage is locked behind the login page. Retrying with embed webpage (some metadata might be missing).\n"
     ]
    },
    {
     "name": "stdout",
     "output_type": "stream",
     "text": [
      "[Instagram] DGePF7GxJrZ: Downloading embed webpage\n"
     ]
    },
    {
     "name": "stderr",
     "output_type": "stream",
     "text": [
      "WARNING: [Instagram] unable to extract additional data; please report this issue on  https://github.com/yt-dlp/yt-dlp/issues?q= , filling out the appropriate issue template. Confirm you are on the latest version using  yt-dlp -U\n",
      "ERROR: [Instagram] DGePF7GxJrZ: Requested content is not available, rate-limit reached or login required. Use --cookies-from-browser or --cookies for the authentication. See  https://github.com/yt-dlp/yt-dlp/wiki/FAQ#how-do-i-pass-cookies-to-yt-dlp  for how to manually pass cookies\n"
     ]
    },
    {
     "name": "stdout",
     "output_type": "stream",
     "text": [
      "Downloaded TOC video 48\n",
      "[Instagram] Extracting URL: https://www.instagram.com/reel/DHTET2dhs5y/?igsh=dzl6NDF0azRxcjRq\n",
      "[Instagram] DHTET2dhs5y: Setting up session\n",
      "[Instagram] DHTET2dhs5y: Downloading JSON metadata\n"
     ]
    },
    {
     "name": "stderr",
     "output_type": "stream",
     "text": [
      "WARNING: [Instagram] DHTET2dhs5y: General metadata extraction failed (some metadata might be missing).\n"
     ]
    },
    {
     "name": "stdout",
     "output_type": "stream",
     "text": [
      "[Instagram] DHTET2dhs5y: Downloading webpage\n"
     ]
    },
    {
     "name": "stderr",
     "output_type": "stream",
     "text": [
      "WARNING: [Instagram] unable to extract shared data; please report this issue on  https://github.com/yt-dlp/yt-dlp/issues?q= , filling out the appropriate issue template. Confirm you are on the latest version using  yt-dlp -U\n",
      "WARNING: [Instagram] Main webpage is locked behind the login page. Retrying with embed webpage (some metadata might be missing).\n"
     ]
    },
    {
     "name": "stdout",
     "output_type": "stream",
     "text": [
      "[Instagram] DHTET2dhs5y: Downloading embed webpage\n"
     ]
    },
    {
     "ename": "KeyboardInterrupt",
     "evalue": "",
     "output_type": "error",
     "traceback": [
      "\u001b[31m---------------------------------------------------------------------------\u001b[39m",
      "\u001b[31mKeyboardInterrupt\u001b[39m                         Traceback (most recent call last)",
      "\u001b[36mCell\u001b[39m\u001b[36m \u001b[39m\u001b[32mIn[8]\u001b[39m\u001b[32m, line 11\u001b[39m\n\u001b[32m      9\u001b[39m \u001b[38;5;66;03m# Iterar sobre os links e baixar os vídeos\u001b[39;00m\n\u001b[32m     10\u001b[39m \u001b[38;5;28;01mfor\u001b[39;00m link \u001b[38;5;129;01min\u001b[39;00m df[\u001b[33m'\u001b[39m\u001b[33mLink\u001b[39m\u001b[33m'\u001b[39m]:\n\u001b[32m---> \u001b[39m\u001b[32m11\u001b[39m     \u001b[43mdownload_video\u001b[49m\u001b[43m(\u001b[49m\u001b[43msave_directory\u001b[49m\u001b[43m,\u001b[49m\u001b[43m \u001b[49m\u001b[43mlink\u001b[49m\u001b[43m,\u001b[49m\u001b[43m \u001b[49m\u001b[43mdf\u001b[49m\u001b[43m,\u001b[49m\u001b[43m \u001b[49m\u001b[43mcsv_path\u001b[49m\u001b[43m,\u001b[49m\u001b[43m \u001b[49m\u001b[43mkey\u001b[49m\u001b[43m,\u001b[49m\u001b[43m \u001b[49m\u001b[43mcont\u001b[49m\u001b[43m)\u001b[49m\n\u001b[32m     12\u001b[39m     \u001b[38;5;28mprint\u001b[39m(\u001b[33mf\u001b[39m\u001b[33m'\u001b[39m\u001b[33mDownloaded \u001b[39m\u001b[38;5;132;01m{\u001b[39;00mkey\u001b[38;5;132;01m}\u001b[39;00m\u001b[33m video \u001b[39m\u001b[38;5;132;01m{\u001b[39;00mcont\u001b[38;5;250m \u001b[39m+\u001b[38;5;250m \u001b[39m\u001b[32m1\u001b[39m\u001b[38;5;132;01m}\u001b[39;00m\u001b[33m'\u001b[39m)\n\u001b[32m     13\u001b[39m     cont += \u001b[32m1\u001b[39m\n",
      "\u001b[36mCell\u001b[39m\u001b[36m \u001b[39m\u001b[32mIn[3]\u001b[39m\u001b[32m, line 15\u001b[39m, in \u001b[36mdownload_video\u001b[39m\u001b[34m(save_directory, link, urls, csv_path, key, cont)\u001b[39m\n\u001b[32m     13\u001b[39m \u001b[38;5;28;01mtry\u001b[39;00m:\n\u001b[32m     14\u001b[39m     \u001b[38;5;28;01mwith\u001b[39;00m youtube_dl.YoutubeDL(ydl_opts) \u001b[38;5;28;01mas\u001b[39;00m ydl:\n\u001b[32m---> \u001b[39m\u001b[32m15\u001b[39m         \u001b[43mydl\u001b[49m\u001b[43m.\u001b[49m\u001b[43mdownload\u001b[49m\u001b[43m(\u001b[49m\u001b[43m[\u001b[49m\u001b[43mlink\u001b[49m\u001b[43m]\u001b[49m\u001b[43m)\u001b[49m\n\u001b[32m     16\u001b[39m     cont += \u001b[32m1\u001b[39m\n\u001b[32m     17\u001b[39m \u001b[38;5;28;01mexcept\u001b[39;00m youtube_dl.utils.DownloadError:\n",
      "\u001b[36mFile \u001b[39m\u001b[32m~/Documents/UFAL/PIBIC/MindVid_Research/.venv/lib/python3.13/site-packages/yt_dlp/YoutubeDL.py:3634\u001b[39m, in \u001b[36mYoutubeDL.download\u001b[39m\u001b[34m(self, url_list)\u001b[39m\n\u001b[32m   3631\u001b[39m     \u001b[38;5;28;01mraise\u001b[39;00m SameFileError(outtmpl)\n\u001b[32m   3633\u001b[39m \u001b[38;5;28;01mfor\u001b[39;00m url \u001b[38;5;129;01min\u001b[39;00m url_list:\n\u001b[32m-> \u001b[39m\u001b[32m3634\u001b[39m     \u001b[38;5;28;43mself\u001b[39;49m\u001b[43m.\u001b[49m\u001b[43m__download_wrapper\u001b[49m\u001b[43m(\u001b[49m\u001b[38;5;28;43mself\u001b[39;49m\u001b[43m.\u001b[49m\u001b[43mextract_info\u001b[49m\u001b[43m)\u001b[49m\u001b[43m(\u001b[49m\n\u001b[32m   3635\u001b[39m \u001b[43m        \u001b[49m\u001b[43murl\u001b[49m\u001b[43m,\u001b[49m\u001b[43m \u001b[49m\u001b[43mforce_generic_extractor\u001b[49m\u001b[43m=\u001b[49m\u001b[38;5;28;43mself\u001b[39;49m\u001b[43m.\u001b[49m\u001b[43mparams\u001b[49m\u001b[43m.\u001b[49m\u001b[43mget\u001b[49m\u001b[43m(\u001b[49m\u001b[33;43m'\u001b[39;49m\u001b[33;43mforce_generic_extractor\u001b[39;49m\u001b[33;43m'\u001b[39;49m\u001b[43m,\u001b[49m\u001b[43m \u001b[49m\u001b[38;5;28;43;01mFalse\u001b[39;49;00m\u001b[43m)\u001b[49m\u001b[43m)\u001b[49m\n\u001b[32m   3637\u001b[39m \u001b[38;5;28;01mreturn\u001b[39;00m \u001b[38;5;28mself\u001b[39m._download_retcode\n",
      "\u001b[36mFile \u001b[39m\u001b[32m~/Documents/UFAL/PIBIC/MindVid_Research/.venv/lib/python3.13/site-packages/yt_dlp/YoutubeDL.py:3607\u001b[39m, in \u001b[36mYoutubeDL.__download_wrapper.<locals>.wrapper\u001b[39m\u001b[34m(*args, **kwargs)\u001b[39m\n\u001b[32m   3604\u001b[39m \u001b[38;5;129m@functools\u001b[39m.wraps(func)\n\u001b[32m   3605\u001b[39m \u001b[38;5;28;01mdef\u001b[39;00m\u001b[38;5;250m \u001b[39m\u001b[34mwrapper\u001b[39m(*args, **kwargs):\n\u001b[32m   3606\u001b[39m     \u001b[38;5;28;01mtry\u001b[39;00m:\n\u001b[32m-> \u001b[39m\u001b[32m3607\u001b[39m         res = \u001b[43mfunc\u001b[49m\u001b[43m(\u001b[49m\u001b[43m*\u001b[49m\u001b[43margs\u001b[49m\u001b[43m,\u001b[49m\u001b[43m \u001b[49m\u001b[43m*\u001b[49m\u001b[43m*\u001b[49m\u001b[43mkwargs\u001b[49m\u001b[43m)\u001b[49m\n\u001b[32m   3608\u001b[39m     \u001b[38;5;28;01mexcept\u001b[39;00m CookieLoadError:\n\u001b[32m   3609\u001b[39m         \u001b[38;5;28;01mraise\u001b[39;00m\n",
      "\u001b[36mFile \u001b[39m\u001b[32m~/Documents/UFAL/PIBIC/MindVid_Research/.venv/lib/python3.13/site-packages/yt_dlp/YoutubeDL.py:1642\u001b[39m, in \u001b[36mYoutubeDL.extract_info\u001b[39m\u001b[34m(self, url, download, ie_key, extra_info, process, force_generic_extractor)\u001b[39m\n\u001b[32m   1640\u001b[39m             \u001b[38;5;28;01mraise\u001b[39;00m ExistingVideoReached\n\u001b[32m   1641\u001b[39m         \u001b[38;5;28;01mbreak\u001b[39;00m\n\u001b[32m-> \u001b[39m\u001b[32m1642\u001b[39m     \u001b[38;5;28;01mreturn\u001b[39;00m \u001b[38;5;28;43mself\u001b[39;49m\u001b[43m.\u001b[49m\u001b[43m__extract_info\u001b[49m\u001b[43m(\u001b[49m\u001b[43murl\u001b[49m\u001b[43m,\u001b[49m\u001b[43m \u001b[49m\u001b[38;5;28;43mself\u001b[39;49m\u001b[43m.\u001b[49m\u001b[43mget_info_extractor\u001b[49m\u001b[43m(\u001b[49m\u001b[43mkey\u001b[49m\u001b[43m)\u001b[49m\u001b[43m,\u001b[49m\u001b[43m \u001b[49m\u001b[43mdownload\u001b[49m\u001b[43m,\u001b[49m\u001b[43m \u001b[49m\u001b[43mextra_info\u001b[49m\u001b[43m,\u001b[49m\u001b[43m \u001b[49m\u001b[43mprocess\u001b[49m\u001b[43m)\u001b[49m\n\u001b[32m   1643\u001b[39m \u001b[38;5;28;01melse\u001b[39;00m:\n\u001b[32m   1644\u001b[39m     extractors_restricted = \u001b[38;5;28mself\u001b[39m.params.get(\u001b[33m'\u001b[39m\u001b[33mallowed_extractors\u001b[39m\u001b[33m'\u001b[39m) \u001b[38;5;129;01mnot\u001b[39;00m \u001b[38;5;129;01min\u001b[39;00m (\u001b[38;5;28;01mNone\u001b[39;00m, [\u001b[33m'\u001b[39m\u001b[33mdefault\u001b[39m\u001b[33m'\u001b[39m])\n",
      "\u001b[36mFile \u001b[39m\u001b[32m~/Documents/UFAL/PIBIC/MindVid_Research/.venv/lib/python3.13/site-packages/yt_dlp/YoutubeDL.py:1653\u001b[39m, in \u001b[36mYoutubeDL._handle_extraction_exceptions.<locals>.wrapper\u001b[39m\u001b[34m(self, *args, **kwargs)\u001b[39m\n\u001b[32m   1651\u001b[39m \u001b[38;5;28;01mwhile\u001b[39;00m \u001b[38;5;28;01mTrue\u001b[39;00m:\n\u001b[32m   1652\u001b[39m     \u001b[38;5;28;01mtry\u001b[39;00m:\n\u001b[32m-> \u001b[39m\u001b[32m1653\u001b[39m         \u001b[38;5;28;01mreturn\u001b[39;00m \u001b[43mfunc\u001b[49m\u001b[43m(\u001b[49m\u001b[38;5;28;43mself\u001b[39;49m\u001b[43m,\u001b[49m\u001b[43m \u001b[49m\u001b[43m*\u001b[49m\u001b[43margs\u001b[49m\u001b[43m,\u001b[49m\u001b[43m \u001b[49m\u001b[43m*\u001b[49m\u001b[43m*\u001b[49m\u001b[43mkwargs\u001b[49m\u001b[43m)\u001b[49m\n\u001b[32m   1654\u001b[39m     \u001b[38;5;28;01mexcept\u001b[39;00m (CookieLoadError, DownloadCancelled, LazyList.IndexError, PagedList.IndexError):\n\u001b[32m   1655\u001b[39m         \u001b[38;5;28;01mraise\u001b[39;00m\n",
      "\u001b[36mFile \u001b[39m\u001b[32m~/Documents/UFAL/PIBIC/MindVid_Research/.venv/lib/python3.13/site-packages/yt_dlp/YoutubeDL.py:1788\u001b[39m, in \u001b[36mYoutubeDL.__extract_info\u001b[39m\u001b[34m(self, url, ie, download, extra_info, process)\u001b[39m\n\u001b[32m   1785\u001b[39m \u001b[38;5;28mself\u001b[39m._apply_header_cookies(url)\n\u001b[32m   1787\u001b[39m \u001b[38;5;28;01mtry\u001b[39;00m:\n\u001b[32m-> \u001b[39m\u001b[32m1788\u001b[39m     ie_result = \u001b[43mie\u001b[49m\u001b[43m.\u001b[49m\u001b[43mextract\u001b[49m\u001b[43m(\u001b[49m\u001b[43murl\u001b[49m\u001b[43m)\u001b[49m\n\u001b[32m   1789\u001b[39m \u001b[38;5;28;01mexcept\u001b[39;00m UserNotLive \u001b[38;5;28;01mas\u001b[39;00m e:\n\u001b[32m   1790\u001b[39m     \u001b[38;5;28;01mif\u001b[39;00m process:\n",
      "\u001b[36mFile \u001b[39m\u001b[32m~/Documents/UFAL/PIBIC/MindVid_Research/.venv/lib/python3.13/site-packages/yt_dlp/extractor/common.py:748\u001b[39m, in \u001b[36mInfoExtractor.extract\u001b[39m\u001b[34m(self, url)\u001b[39m\n\u001b[32m    745\u001b[39m \u001b[38;5;28mself\u001b[39m.initialize()\n\u001b[32m    746\u001b[39m \u001b[38;5;28mself\u001b[39m.to_screen(\u001b[33m'\u001b[39m\u001b[33mExtracting URL: \u001b[39m\u001b[38;5;132;01m%s\u001b[39;00m\u001b[33m'\u001b[39m % (\n\u001b[32m    747\u001b[39m     url \u001b[38;5;28;01mif\u001b[39;00m \u001b[38;5;28mself\u001b[39m.get_param(\u001b[33m'\u001b[39m\u001b[33mverbose\u001b[39m\u001b[33m'\u001b[39m) \u001b[38;5;28;01melse\u001b[39;00m truncate_string(url, \u001b[32m100\u001b[39m, \u001b[32m20\u001b[39m)))\n\u001b[32m--> \u001b[39m\u001b[32m748\u001b[39m ie_result = \u001b[38;5;28;43mself\u001b[39;49m\u001b[43m.\u001b[49m\u001b[43m_real_extract\u001b[49m\u001b[43m(\u001b[49m\u001b[43murl\u001b[49m\u001b[43m)\u001b[49m\n\u001b[32m    749\u001b[39m \u001b[38;5;28;01mif\u001b[39;00m ie_result \u001b[38;5;129;01mis\u001b[39;00m \u001b[38;5;28;01mNone\u001b[39;00m:\n\u001b[32m    750\u001b[39m     \u001b[38;5;28;01mreturn\u001b[39;00m \u001b[38;5;28;01mNone\u001b[39;00m\n",
      "\u001b[36mFile \u001b[39m\u001b[32m~/Documents/UFAL/PIBIC/MindVid_Research/.venv/lib/python3.13/site-packages/yt_dlp/extractor/instagram.py:420\u001b[39m, in \u001b[36mInstagramIE._real_extract\u001b[39m\u001b[34m(self, url)\u001b[39m\n\u001b[32m    418\u001b[39m \u001b[38;5;28;01melse\u001b[39;00m:\n\u001b[32m    419\u001b[39m     \u001b[38;5;28mself\u001b[39m.report_warning(\u001b[33m'\u001b[39m\u001b[33mMain webpage is locked behind the login page. Retrying with embed webpage (some metadata might be missing).\u001b[39m\u001b[33m'\u001b[39m)\n\u001b[32m--> \u001b[39m\u001b[32m420\u001b[39m     webpage = \u001b[38;5;28;43mself\u001b[39;49m\u001b[43m.\u001b[49m\u001b[43m_download_webpage\u001b[49m\u001b[43m(\u001b[49m\n\u001b[32m    421\u001b[39m \u001b[43m        \u001b[49m\u001b[33;43mf\u001b[39;49m\u001b[33;43m'\u001b[39;49m\u001b[38;5;132;43;01m{\u001b[39;49;00m\u001b[43murl\u001b[49m\u001b[38;5;132;43;01m}\u001b[39;49;00m\u001b[33;43m/embed/\u001b[39;49m\u001b[33;43m'\u001b[39;49m\u001b[43m,\u001b[49m\u001b[43m \u001b[49m\u001b[43mvideo_id\u001b[49m\u001b[43m,\u001b[49m\u001b[43m \u001b[49m\u001b[43mnote\u001b[49m\u001b[43m=\u001b[49m\u001b[33;43m'\u001b[39;49m\u001b[33;43mDownloading embed webpage\u001b[39;49m\u001b[33;43m'\u001b[39;49m\u001b[43m,\u001b[49m\u001b[43m \u001b[49m\u001b[43mfatal\u001b[49m\u001b[43m=\u001b[49m\u001b[38;5;28;43;01mFalse\u001b[39;49;00m\u001b[43m)\u001b[49m \u001b[38;5;129;01mor\u001b[39;00m \u001b[33m'\u001b[39m\u001b[33m'\u001b[39m\n\u001b[32m    422\u001b[39m     additional_data = \u001b[38;5;28mself\u001b[39m._search_json(\n\u001b[32m    423\u001b[39m         \u001b[33mr\u001b[39m\u001b[33m'\u001b[39m\u001b[33mwindow\u001b[39m\u001b[33m\\\u001b[39m\u001b[33m.__additionalDataLoaded\u001b[39m\u001b[33m\\\u001b[39m\u001b[33ms*\u001b[39m\u001b[33m\\\u001b[39m\u001b[33m(\u001b[39m\u001b[33m\\\u001b[39m\u001b[33ms*[^,]+,\u001b[39m\u001b[33m'\u001b[39m, webpage, \u001b[33m'\u001b[39m\u001b[33madditional data\u001b[39m\u001b[33m'\u001b[39m, video_id, fatal=\u001b[38;5;28;01mFalse\u001b[39;00m)\n\u001b[32m    424\u001b[39m     \u001b[38;5;28;01mif\u001b[39;00m \u001b[38;5;129;01mnot\u001b[39;00m additional_data \u001b[38;5;129;01mand\u001b[39;00m \u001b[38;5;129;01mnot\u001b[39;00m media:\n",
      "\u001b[36mFile \u001b[39m\u001b[32m~/Documents/UFAL/PIBIC/MindVid_Research/.venv/lib/python3.13/site-packages/yt_dlp/extractor/common.py:1194\u001b[39m, in \u001b[36mInfoExtractor._download_webpage\u001b[39m\u001b[34m(self, url_or_request, video_id, note, errnote, fatal, tries, timeout, *args, **kwargs)\u001b[39m\n\u001b[32m   1192\u001b[39m \u001b[38;5;28;01mwhile\u001b[39;00m \u001b[38;5;28;01mTrue\u001b[39;00m:\n\u001b[32m   1193\u001b[39m     \u001b[38;5;28;01mtry\u001b[39;00m:\n\u001b[32m-> \u001b[39m\u001b[32m1194\u001b[39m         \u001b[38;5;28;01mreturn\u001b[39;00m \u001b[38;5;28;43mself\u001b[39;49m\u001b[43m.\u001b[49m\u001b[43m__download_webpage\u001b[49m\u001b[43m(\u001b[49m\u001b[43murl_or_request\u001b[49m\u001b[43m,\u001b[49m\u001b[43m \u001b[49m\u001b[43mvideo_id\u001b[49m\u001b[43m,\u001b[49m\u001b[43m \u001b[49m\u001b[43mnote\u001b[49m\u001b[43m,\u001b[49m\u001b[43m \u001b[49m\u001b[43merrnote\u001b[49m\u001b[43m,\u001b[49m\u001b[43m \u001b[49m\u001b[38;5;28;43;01mNone\u001b[39;49;00m\u001b[43m,\u001b[49m\u001b[43m \u001b[49m\u001b[43mfatal\u001b[49m\u001b[43m,\u001b[49m\u001b[43m \u001b[49m\u001b[43m*\u001b[49m\u001b[43margs\u001b[49m\u001b[43m,\u001b[49m\u001b[43m \u001b[49m\u001b[43m*\u001b[49m\u001b[43m*\u001b[49m\u001b[43mkwargs\u001b[49m\u001b[43m)\u001b[49m\n\u001b[32m   1195\u001b[39m     \u001b[38;5;28;01mexcept\u001b[39;00m IncompleteRead \u001b[38;5;28;01mas\u001b[39;00m e:\n\u001b[32m   1196\u001b[39m         try_count += \u001b[32m1\u001b[39m\n",
      "\u001b[36mFile \u001b[39m\u001b[32m~/Documents/UFAL/PIBIC/MindVid_Research/.venv/lib/python3.13/site-packages/yt_dlp/extractor/common.py:1145\u001b[39m, in \u001b[36mInfoExtractor.__create_download_methods.<locals>.download_content\u001b[39m\u001b[34m(self, url_or_request, video_id, note, errnote, transform_source, fatal, encoding, data, headers, query, expected_status, impersonate, require_impersonation)\u001b[39m\n\u001b[32m   1143\u001b[39m     kwargs.pop(\u001b[33m'\u001b[39m\u001b[33mtransform_source\u001b[39m\u001b[33m'\u001b[39m)\n\u001b[32m   1144\u001b[39m \u001b[38;5;66;03m# The method is fetched by name so subclasses can override _download_..._handle\u001b[39;00m\n\u001b[32m-> \u001b[39m\u001b[32m1145\u001b[39m res = \u001b[38;5;28;43mgetattr\u001b[39;49m\u001b[43m(\u001b[49m\u001b[38;5;28;43mself\u001b[39;49m\u001b[43m,\u001b[49m\u001b[43m \u001b[49m\u001b[43mdownload_handle\u001b[49m\u001b[43m.\u001b[49m\u001b[34;43m__name__\u001b[39;49m\u001b[43m)\u001b[49m\u001b[43m(\u001b[49m\u001b[43murl_or_request\u001b[49m\u001b[43m,\u001b[49m\u001b[43m \u001b[49m\u001b[43mvideo_id\u001b[49m\u001b[43m,\u001b[49m\u001b[43m \u001b[49m\u001b[43m*\u001b[49m\u001b[43m*\u001b[49m\u001b[43mkwargs\u001b[49m\u001b[43m)\u001b[49m\n\u001b[32m   1146\u001b[39m \u001b[38;5;28;01mreturn\u001b[39;00m res \u001b[38;5;28;01mif\u001b[39;00m res \u001b[38;5;129;01mis\u001b[39;00m \u001b[38;5;28;01mFalse\u001b[39;00m \u001b[38;5;28;01melse\u001b[39;00m res[\u001b[32m0\u001b[39m]\n",
      "\u001b[36mFile \u001b[39m\u001b[32m~/Documents/UFAL/PIBIC/MindVid_Research/.venv/lib/python3.13/site-packages/yt_dlp/extractor/common.py:968\u001b[39m, in \u001b[36mInfoExtractor._download_webpage_handle\u001b[39m\u001b[34m(self, url_or_request, video_id, note, errnote, fatal, encoding, data, headers, query, expected_status, impersonate, require_impersonation)\u001b[39m\n\u001b[32m    965\u001b[39m \u001b[38;5;28;01mif\u001b[39;00m \u001b[38;5;28misinstance\u001b[39m(url_or_request, \u001b[38;5;28mstr\u001b[39m):\n\u001b[32m    966\u001b[39m     url_or_request = url_or_request.partition(\u001b[33m'\u001b[39m\u001b[33m#\u001b[39m\u001b[33m'\u001b[39m)[\u001b[32m0\u001b[39m]\n\u001b[32m--> \u001b[39m\u001b[32m968\u001b[39m urlh = \u001b[38;5;28;43mself\u001b[39;49m\u001b[43m.\u001b[49m\u001b[43m_request_webpage\u001b[49m\u001b[43m(\u001b[49m\u001b[43murl_or_request\u001b[49m\u001b[43m,\u001b[49m\u001b[43m \u001b[49m\u001b[43mvideo_id\u001b[49m\u001b[43m,\u001b[49m\u001b[43m \u001b[49m\u001b[43mnote\u001b[49m\u001b[43m,\u001b[49m\u001b[43m \u001b[49m\u001b[43merrnote\u001b[49m\u001b[43m,\u001b[49m\u001b[43m \u001b[49m\u001b[43mfatal\u001b[49m\u001b[43m,\u001b[49m\u001b[43m \u001b[49m\u001b[43mdata\u001b[49m\u001b[43m=\u001b[49m\u001b[43mdata\u001b[49m\u001b[43m,\u001b[49m\n\u001b[32m    969\u001b[39m \u001b[43m                             \u001b[49m\u001b[43mheaders\u001b[49m\u001b[43m=\u001b[49m\u001b[43mheaders\u001b[49m\u001b[43m,\u001b[49m\u001b[43m \u001b[49m\u001b[43mquery\u001b[49m\u001b[43m=\u001b[49m\u001b[43mquery\u001b[49m\u001b[43m,\u001b[49m\u001b[43m \u001b[49m\u001b[43mexpected_status\u001b[49m\u001b[43m=\u001b[49m\u001b[43mexpected_status\u001b[49m\u001b[43m,\u001b[49m\n\u001b[32m    970\u001b[39m \u001b[43m                             \u001b[49m\u001b[43mimpersonate\u001b[49m\u001b[43m=\u001b[49m\u001b[43mimpersonate\u001b[49m\u001b[43m,\u001b[49m\u001b[43m \u001b[49m\u001b[43mrequire_impersonation\u001b[49m\u001b[43m=\u001b[49m\u001b[43mrequire_impersonation\u001b[49m\u001b[43m)\u001b[49m\n\u001b[32m    971\u001b[39m \u001b[38;5;28;01mif\u001b[39;00m urlh \u001b[38;5;129;01mis\u001b[39;00m \u001b[38;5;28;01mFalse\u001b[39;00m:\n\u001b[32m    972\u001b[39m     \u001b[38;5;28;01massert\u001b[39;00m \u001b[38;5;129;01mnot\u001b[39;00m fatal\n",
      "\u001b[36mFile \u001b[39m\u001b[32m~/Documents/UFAL/PIBIC/MindVid_Research/.venv/lib/python3.13/site-packages/yt_dlp/extractor/common.py:904\u001b[39m, in \u001b[36mInfoExtractor._request_webpage\u001b[39m\u001b[34m(self, url_or_request, video_id, note, errnote, fatal, data, headers, query, expected_status, impersonate, require_impersonation)\u001b[39m\n\u001b[32m    901\u001b[39m     \u001b[38;5;28mself\u001b[39m.report_warning(\u001b[33mf\u001b[39m\u001b[33m'\u001b[39m\u001b[38;5;132;01m{\u001b[39;00mmessage\u001b[38;5;132;01m}\u001b[39;00m\u001b[33m; if you encounter errors, then \u001b[39m\u001b[38;5;132;01m{\u001b[39;00minfo_msg\u001b[38;5;132;01m}\u001b[39;00m\u001b[33m'\u001b[39m, only_once=\u001b[38;5;28;01mTrue\u001b[39;00m)\n\u001b[32m    903\u001b[39m \u001b[38;5;28;01mtry\u001b[39;00m:\n\u001b[32m--> \u001b[39m\u001b[32m904\u001b[39m     \u001b[38;5;28;01mreturn\u001b[39;00m \u001b[38;5;28;43mself\u001b[39;49m\u001b[43m.\u001b[49m\u001b[43m_downloader\u001b[49m\u001b[43m.\u001b[49m\u001b[43murlopen\u001b[49m\u001b[43m(\u001b[49m\u001b[38;5;28;43mself\u001b[39;49m\u001b[43m.\u001b[49m\u001b[43m_create_request\u001b[49m\u001b[43m(\u001b[49m\u001b[43murl_or_request\u001b[49m\u001b[43m,\u001b[49m\u001b[43m \u001b[49m\u001b[43mdata\u001b[49m\u001b[43m,\u001b[49m\u001b[43m \u001b[49m\u001b[43mheaders\u001b[49m\u001b[43m,\u001b[49m\u001b[43m \u001b[49m\u001b[43mquery\u001b[49m\u001b[43m,\u001b[49m\u001b[43m \u001b[49m\u001b[43mextensions\u001b[49m\u001b[43m)\u001b[49m\u001b[43m)\u001b[49m\n\u001b[32m    905\u001b[39m \u001b[38;5;28;01mexcept\u001b[39;00m network_exceptions \u001b[38;5;28;01mas\u001b[39;00m err:\n\u001b[32m    906\u001b[39m     \u001b[38;5;28;01mif\u001b[39;00m \u001b[38;5;28misinstance\u001b[39m(err, HTTPError):\n",
      "\u001b[36mFile \u001b[39m\u001b[32m~/Documents/UFAL/PIBIC/MindVid_Research/.venv/lib/python3.13/site-packages/yt_dlp/YoutubeDL.py:4186\u001b[39m, in \u001b[36mYoutubeDL.urlopen\u001b[39m\u001b[34m(self, req)\u001b[39m\n\u001b[32m   4183\u001b[39m clean_headers(req.headers)\n\u001b[32m   4185\u001b[39m \u001b[38;5;28;01mtry\u001b[39;00m:\n\u001b[32m-> \u001b[39m\u001b[32m4186\u001b[39m     \u001b[38;5;28;01mreturn\u001b[39;00m \u001b[38;5;28;43mself\u001b[39;49m\u001b[43m.\u001b[49m\u001b[43m_request_director\u001b[49m\u001b[43m.\u001b[49m\u001b[43msend\u001b[49m\u001b[43m(\u001b[49m\u001b[43mreq\u001b[49m\u001b[43m)\u001b[49m\n\u001b[32m   4187\u001b[39m \u001b[38;5;28;01mexcept\u001b[39;00m NoSupportingHandlers \u001b[38;5;28;01mas\u001b[39;00m e:\n\u001b[32m   4188\u001b[39m     \u001b[38;5;28;01mfor\u001b[39;00m ue \u001b[38;5;129;01min\u001b[39;00m e.unsupported_errors:\n\u001b[32m   4189\u001b[39m         \u001b[38;5;66;03m# FIXME: This depends on the order of errors.\u001b[39;00m\n",
      "\u001b[36mFile \u001b[39m\u001b[32m~/Documents/UFAL/PIBIC/MindVid_Research/.venv/lib/python3.13/site-packages/yt_dlp/networking/common.py:117\u001b[39m, in \u001b[36mRequestDirector.send\u001b[39m\u001b[34m(self, request)\u001b[39m\n\u001b[32m    115\u001b[39m \u001b[38;5;28mself\u001b[39m._print_verbose(\u001b[33mf\u001b[39m\u001b[33m'\u001b[39m\u001b[33mSending request via \u001b[39m\u001b[33m\"\u001b[39m\u001b[38;5;132;01m{\u001b[39;00mhandler.RH_NAME\u001b[38;5;132;01m}\u001b[39;00m\u001b[33m\"\u001b[39m\u001b[33m'\u001b[39m)\n\u001b[32m    116\u001b[39m \u001b[38;5;28;01mtry\u001b[39;00m:\n\u001b[32m--> \u001b[39m\u001b[32m117\u001b[39m     response = \u001b[43mhandler\u001b[49m\u001b[43m.\u001b[49m\u001b[43msend\u001b[49m\u001b[43m(\u001b[49m\u001b[43mrequest\u001b[49m\u001b[43m)\u001b[49m\n\u001b[32m    118\u001b[39m \u001b[38;5;28;01mexcept\u001b[39;00m RequestError:\n\u001b[32m    119\u001b[39m     \u001b[38;5;28;01mraise\u001b[39;00m\n",
      "\u001b[36mFile \u001b[39m\u001b[32m~/Documents/UFAL/PIBIC/MindVid_Research/.venv/lib/python3.13/site-packages/yt_dlp/networking/_helper.py:208\u001b[39m, in \u001b[36mwrap_request_errors.<locals>.wrapper\u001b[39m\u001b[34m(self, *args, **kwargs)\u001b[39m\n\u001b[32m    205\u001b[39m \u001b[38;5;129m@functools\u001b[39m.wraps(func)\n\u001b[32m    206\u001b[39m \u001b[38;5;28;01mdef\u001b[39;00m\u001b[38;5;250m \u001b[39m\u001b[34mwrapper\u001b[39m(\u001b[38;5;28mself\u001b[39m, *args, **kwargs):\n\u001b[32m    207\u001b[39m     \u001b[38;5;28;01mtry\u001b[39;00m:\n\u001b[32m--> \u001b[39m\u001b[32m208\u001b[39m         \u001b[38;5;28;01mreturn\u001b[39;00m \u001b[43mfunc\u001b[49m\u001b[43m(\u001b[49m\u001b[38;5;28;43mself\u001b[39;49m\u001b[43m,\u001b[49m\u001b[43m \u001b[49m\u001b[43m*\u001b[49m\u001b[43margs\u001b[49m\u001b[43m,\u001b[49m\u001b[43m \u001b[49m\u001b[43m*\u001b[49m\u001b[43m*\u001b[49m\u001b[43mkwargs\u001b[49m\u001b[43m)\u001b[49m\n\u001b[32m    209\u001b[39m     \u001b[38;5;28;01mexcept\u001b[39;00m RequestError \u001b[38;5;28;01mas\u001b[39;00m e:\n\u001b[32m    210\u001b[39m         \u001b[38;5;28;01mif\u001b[39;00m e.handler \u001b[38;5;129;01mis\u001b[39;00m \u001b[38;5;28;01mNone\u001b[39;00m:\n",
      "\u001b[36mFile \u001b[39m\u001b[32m~/Documents/UFAL/PIBIC/MindVid_Research/.venv/lib/python3.13/site-packages/yt_dlp/networking/common.py:359\u001b[39m, in \u001b[36mRequestHandler.send\u001b[39m\u001b[34m(self, request)\u001b[39m\n\u001b[32m    357\u001b[39m \u001b[38;5;28;01mif\u001b[39;00m \u001b[38;5;129;01mnot\u001b[39;00m \u001b[38;5;28misinstance\u001b[39m(request, Request):\n\u001b[32m    358\u001b[39m     \u001b[38;5;28;01mraise\u001b[39;00m \u001b[38;5;167;01mTypeError\u001b[39;00m(\u001b[33m'\u001b[39m\u001b[33mExpected an instance of Request\u001b[39m\u001b[33m'\u001b[39m)\n\u001b[32m--> \u001b[39m\u001b[32m359\u001b[39m \u001b[38;5;28;01mreturn\u001b[39;00m \u001b[38;5;28;43mself\u001b[39;49m\u001b[43m.\u001b[49m\u001b[43m_send\u001b[49m\u001b[43m(\u001b[49m\u001b[43mrequest\u001b[49m\u001b[43m)\u001b[49m\n",
      "\u001b[36mFile \u001b[39m\u001b[32m~/Documents/UFAL/PIBIC/MindVid_Research/.venv/lib/python3.13/site-packages/yt_dlp/networking/_urllib.py:400\u001b[39m, in \u001b[36mUrllibRH._send\u001b[39m\u001b[34m(self, request)\u001b[39m\n\u001b[32m    394\u001b[39m opener = \u001b[38;5;28mself\u001b[39m._get_instance(\n\u001b[32m    395\u001b[39m     proxies=\u001b[38;5;28mself\u001b[39m._get_proxies(request),\n\u001b[32m    396\u001b[39m     cookiejar=\u001b[38;5;28mself\u001b[39m._get_cookiejar(request),\n\u001b[32m    397\u001b[39m     legacy_ssl_support=request.extensions.get(\u001b[33m'\u001b[39m\u001b[33mlegacy_ssl\u001b[39m\u001b[33m'\u001b[39m),\n\u001b[32m    398\u001b[39m )\n\u001b[32m    399\u001b[39m \u001b[38;5;28;01mtry\u001b[39;00m:\n\u001b[32m--> \u001b[39m\u001b[32m400\u001b[39m     res = \u001b[43mopener\u001b[49m\u001b[43m.\u001b[49m\u001b[43mopen\u001b[49m\u001b[43m(\u001b[49m\u001b[43murllib_req\u001b[49m\u001b[43m,\u001b[49m\u001b[43m \u001b[49m\u001b[43mtimeout\u001b[49m\u001b[43m=\u001b[49m\u001b[38;5;28;43mself\u001b[39;49m\u001b[43m.\u001b[49m\u001b[43m_calculate_timeout\u001b[49m\u001b[43m(\u001b[49m\u001b[43mrequest\u001b[49m\u001b[43m)\u001b[49m\u001b[43m)\u001b[49m\n\u001b[32m    401\u001b[39m \u001b[38;5;28;01mexcept\u001b[39;00m urllib.error.HTTPError \u001b[38;5;28;01mas\u001b[39;00m e:\n\u001b[32m    402\u001b[39m     \u001b[38;5;28;01mif\u001b[39;00m \u001b[38;5;28misinstance\u001b[39m(e.fp, (http.client.HTTPResponse, urllib.response.addinfourl)):\n\u001b[32m    403\u001b[39m         \u001b[38;5;66;03m# Prevent file object from being closed when urllib.error.HTTPError is destroyed.\u001b[39;00m\n",
      "\u001b[36mFile \u001b[39m\u001b[32m/usr/lib/python3.13/urllib/request.py:489\u001b[39m, in \u001b[36mOpenerDirector.open\u001b[39m\u001b[34m(self, fullurl, data, timeout)\u001b[39m\n\u001b[32m    486\u001b[39m     req = meth(req)\n\u001b[32m    488\u001b[39m sys.audit(\u001b[33m'\u001b[39m\u001b[33murllib.Request\u001b[39m\u001b[33m'\u001b[39m, req.full_url, req.data, req.headers, req.get_method())\n\u001b[32m--> \u001b[39m\u001b[32m489\u001b[39m response = \u001b[38;5;28;43mself\u001b[39;49m\u001b[43m.\u001b[49m\u001b[43m_open\u001b[49m\u001b[43m(\u001b[49m\u001b[43mreq\u001b[49m\u001b[43m,\u001b[49m\u001b[43m \u001b[49m\u001b[43mdata\u001b[49m\u001b[43m)\u001b[49m\n\u001b[32m    491\u001b[39m \u001b[38;5;66;03m# post-process response\u001b[39;00m\n\u001b[32m    492\u001b[39m meth_name = protocol+\u001b[33m\"\u001b[39m\u001b[33m_response\u001b[39m\u001b[33m\"\u001b[39m\n",
      "\u001b[36mFile \u001b[39m\u001b[32m/usr/lib/python3.13/urllib/request.py:506\u001b[39m, in \u001b[36mOpenerDirector._open\u001b[39m\u001b[34m(self, req, data)\u001b[39m\n\u001b[32m    503\u001b[39m     \u001b[38;5;28;01mreturn\u001b[39;00m result\n\u001b[32m    505\u001b[39m protocol = req.type\n\u001b[32m--> \u001b[39m\u001b[32m506\u001b[39m result = \u001b[38;5;28;43mself\u001b[39;49m\u001b[43m.\u001b[49m\u001b[43m_call_chain\u001b[49m\u001b[43m(\u001b[49m\u001b[38;5;28;43mself\u001b[39;49m\u001b[43m.\u001b[49m\u001b[43mhandle_open\u001b[49m\u001b[43m,\u001b[49m\u001b[43m \u001b[49m\u001b[43mprotocol\u001b[49m\u001b[43m,\u001b[49m\u001b[43m \u001b[49m\u001b[43mprotocol\u001b[49m\u001b[43m \u001b[49m\u001b[43m+\u001b[49m\n\u001b[32m    507\u001b[39m \u001b[43m                          \u001b[49m\u001b[33;43m'\u001b[39;49m\u001b[33;43m_open\u001b[39;49m\u001b[33;43m'\u001b[39;49m\u001b[43m,\u001b[49m\u001b[43m \u001b[49m\u001b[43mreq\u001b[49m\u001b[43m)\u001b[49m\n\u001b[32m    508\u001b[39m \u001b[38;5;28;01mif\u001b[39;00m result:\n\u001b[32m    509\u001b[39m     \u001b[38;5;28;01mreturn\u001b[39;00m result\n",
      "\u001b[36mFile \u001b[39m\u001b[32m/usr/lib/python3.13/urllib/request.py:466\u001b[39m, in \u001b[36mOpenerDirector._call_chain\u001b[39m\u001b[34m(self, chain, kind, meth_name, *args)\u001b[39m\n\u001b[32m    464\u001b[39m \u001b[38;5;28;01mfor\u001b[39;00m handler \u001b[38;5;129;01min\u001b[39;00m handlers:\n\u001b[32m    465\u001b[39m     func = \u001b[38;5;28mgetattr\u001b[39m(handler, meth_name)\n\u001b[32m--> \u001b[39m\u001b[32m466\u001b[39m     result = \u001b[43mfunc\u001b[49m\u001b[43m(\u001b[49m\u001b[43m*\u001b[49m\u001b[43margs\u001b[49m\u001b[43m)\u001b[49m\n\u001b[32m    467\u001b[39m     \u001b[38;5;28;01mif\u001b[39;00m result \u001b[38;5;129;01mis\u001b[39;00m \u001b[38;5;129;01mnot\u001b[39;00m \u001b[38;5;28;01mNone\u001b[39;00m:\n\u001b[32m    468\u001b[39m         \u001b[38;5;28;01mreturn\u001b[39;00m result\n",
      "\u001b[36mFile \u001b[39m\u001b[32m~/Documents/UFAL/PIBIC/MindVid_Research/.venv/lib/python3.13/site-packages/yt_dlp/networking/_urllib.py:101\u001b[39m, in \u001b[36mHTTPHandler.https_open\u001b[39m\u001b[34m(self, req)\u001b[39m\n\u001b[32m     99\u001b[39m \u001b[38;5;28;01mdef\u001b[39;00m\u001b[38;5;250m \u001b[39m\u001b[34mhttps_open\u001b[39m(\u001b[38;5;28mself\u001b[39m, req):\n\u001b[32m    100\u001b[39m     conn_class = \u001b[38;5;28mself\u001b[39m._make_conn_class(http.client.HTTPSConnection, req)\n\u001b[32m--> \u001b[39m\u001b[32m101\u001b[39m     \u001b[38;5;28;01mreturn\u001b[39;00m \u001b[38;5;28;43mself\u001b[39;49m\u001b[43m.\u001b[49m\u001b[43mdo_open\u001b[49m\u001b[43m(\u001b[49m\n\u001b[32m    102\u001b[39m \u001b[43m        \u001b[49m\u001b[43mfunctools\u001b[49m\u001b[43m.\u001b[49m\u001b[43mpartial\u001b[49m\u001b[43m(\u001b[49m\n\u001b[32m    103\u001b[39m \u001b[43m            \u001b[49m\u001b[43m_create_http_connection\u001b[49m\u001b[43m,\u001b[49m\u001b[43m \u001b[49m\u001b[43mconn_class\u001b[49m\u001b[43m,\u001b[49m\u001b[43m \u001b[49m\u001b[38;5;28;43mself\u001b[39;49m\u001b[43m.\u001b[49m\u001b[43m_source_address\u001b[49m\u001b[43m)\u001b[49m\u001b[43m,\u001b[49m\n\u001b[32m    104\u001b[39m \u001b[43m        \u001b[49m\u001b[43mreq\u001b[49m\u001b[43m,\u001b[49m\u001b[43m \u001b[49m\u001b[43mcontext\u001b[49m\u001b[43m=\u001b[49m\u001b[38;5;28;43mself\u001b[39;49m\u001b[43m.\u001b[49m\u001b[43m_context\u001b[49m\u001b[43m)\u001b[49m\n",
      "\u001b[36mFile \u001b[39m\u001b[32m/usr/lib/python3.13/urllib/request.py:1323\u001b[39m, in \u001b[36mAbstractHTTPHandler.do_open\u001b[39m\u001b[34m(self, http_class, req, **http_conn_args)\u001b[39m\n\u001b[32m   1321\u001b[39m     \u001b[38;5;28;01mexcept\u001b[39;00m \u001b[38;5;167;01mOSError\u001b[39;00m \u001b[38;5;28;01mas\u001b[39;00m err: \u001b[38;5;66;03m# timeout error\u001b[39;00m\n\u001b[32m   1322\u001b[39m         \u001b[38;5;28;01mraise\u001b[39;00m URLError(err)\n\u001b[32m-> \u001b[39m\u001b[32m1323\u001b[39m     r = \u001b[43mh\u001b[49m\u001b[43m.\u001b[49m\u001b[43mgetresponse\u001b[49m\u001b[43m(\u001b[49m\u001b[43m)\u001b[49m\n\u001b[32m   1324\u001b[39m \u001b[38;5;28;01mexcept\u001b[39;00m:\n\u001b[32m   1325\u001b[39m     h.close()\n",
      "\u001b[36mFile \u001b[39m\u001b[32m/usr/lib/python3.13/http/client.py:1430\u001b[39m, in \u001b[36mHTTPConnection.getresponse\u001b[39m\u001b[34m(self)\u001b[39m\n\u001b[32m   1428\u001b[39m \u001b[38;5;28;01mtry\u001b[39;00m:\n\u001b[32m   1429\u001b[39m     \u001b[38;5;28;01mtry\u001b[39;00m:\n\u001b[32m-> \u001b[39m\u001b[32m1430\u001b[39m         \u001b[43mresponse\u001b[49m\u001b[43m.\u001b[49m\u001b[43mbegin\u001b[49m\u001b[43m(\u001b[49m\u001b[43m)\u001b[49m\n\u001b[32m   1431\u001b[39m     \u001b[38;5;28;01mexcept\u001b[39;00m \u001b[38;5;167;01mConnectionError\u001b[39;00m:\n\u001b[32m   1432\u001b[39m         \u001b[38;5;28mself\u001b[39m.close()\n",
      "\u001b[36mFile \u001b[39m\u001b[32m/usr/lib/python3.13/http/client.py:331\u001b[39m, in \u001b[36mHTTPResponse.begin\u001b[39m\u001b[34m(self)\u001b[39m\n\u001b[32m    329\u001b[39m \u001b[38;5;66;03m# read until we get a non-100 response\u001b[39;00m\n\u001b[32m    330\u001b[39m \u001b[38;5;28;01mwhile\u001b[39;00m \u001b[38;5;28;01mTrue\u001b[39;00m:\n\u001b[32m--> \u001b[39m\u001b[32m331\u001b[39m     version, status, reason = \u001b[38;5;28;43mself\u001b[39;49m\u001b[43m.\u001b[49m\u001b[43m_read_status\u001b[49m\u001b[43m(\u001b[49m\u001b[43m)\u001b[49m\n\u001b[32m    332\u001b[39m     \u001b[38;5;28;01mif\u001b[39;00m status != CONTINUE:\n\u001b[32m    333\u001b[39m         \u001b[38;5;28;01mbreak\u001b[39;00m\n",
      "\u001b[36mFile \u001b[39m\u001b[32m/usr/lib/python3.13/http/client.py:292\u001b[39m, in \u001b[36mHTTPResponse._read_status\u001b[39m\u001b[34m(self)\u001b[39m\n\u001b[32m    291\u001b[39m \u001b[38;5;28;01mdef\u001b[39;00m\u001b[38;5;250m \u001b[39m\u001b[34m_read_status\u001b[39m(\u001b[38;5;28mself\u001b[39m):\n\u001b[32m--> \u001b[39m\u001b[32m292\u001b[39m     line = \u001b[38;5;28mstr\u001b[39m(\u001b[38;5;28;43mself\u001b[39;49m\u001b[43m.\u001b[49m\u001b[43mfp\u001b[49m\u001b[43m.\u001b[49m\u001b[43mreadline\u001b[49m\u001b[43m(\u001b[49m\u001b[43m_MAXLINE\u001b[49m\u001b[43m \u001b[49m\u001b[43m+\u001b[49m\u001b[43m \u001b[49m\u001b[32;43m1\u001b[39;49m\u001b[43m)\u001b[49m, \u001b[33m\"\u001b[39m\u001b[33miso-8859-1\u001b[39m\u001b[33m\"\u001b[39m)\n\u001b[32m    293\u001b[39m     \u001b[38;5;28;01mif\u001b[39;00m \u001b[38;5;28mlen\u001b[39m(line) > _MAXLINE:\n\u001b[32m    294\u001b[39m         \u001b[38;5;28;01mraise\u001b[39;00m LineTooLong(\u001b[33m\"\u001b[39m\u001b[33mstatus line\u001b[39m\u001b[33m\"\u001b[39m)\n",
      "\u001b[36mFile \u001b[39m\u001b[32m/usr/lib/python3.13/socket.py:719\u001b[39m, in \u001b[36mSocketIO.readinto\u001b[39m\u001b[34m(self, b)\u001b[39m\n\u001b[32m    717\u001b[39m     \u001b[38;5;28;01mraise\u001b[39;00m \u001b[38;5;167;01mOSError\u001b[39;00m(\u001b[33m\"\u001b[39m\u001b[33mcannot read from timed out object\u001b[39m\u001b[33m\"\u001b[39m)\n\u001b[32m    718\u001b[39m \u001b[38;5;28;01mtry\u001b[39;00m:\n\u001b[32m--> \u001b[39m\u001b[32m719\u001b[39m     \u001b[38;5;28;01mreturn\u001b[39;00m \u001b[38;5;28;43mself\u001b[39;49m\u001b[43m.\u001b[49m\u001b[43m_sock\u001b[49m\u001b[43m.\u001b[49m\u001b[43mrecv_into\u001b[49m\u001b[43m(\u001b[49m\u001b[43mb\u001b[49m\u001b[43m)\u001b[49m\n\u001b[32m    720\u001b[39m \u001b[38;5;28;01mexcept\u001b[39;00m timeout:\n\u001b[32m    721\u001b[39m     \u001b[38;5;28mself\u001b[39m._timeout_occurred = \u001b[38;5;28;01mTrue\u001b[39;00m\n",
      "\u001b[36mFile \u001b[39m\u001b[32m/usr/lib/python3.13/ssl.py:1304\u001b[39m, in \u001b[36mSSLSocket.recv_into\u001b[39m\u001b[34m(self, buffer, nbytes, flags)\u001b[39m\n\u001b[32m   1300\u001b[39m     \u001b[38;5;28;01mif\u001b[39;00m flags != \u001b[32m0\u001b[39m:\n\u001b[32m   1301\u001b[39m         \u001b[38;5;28;01mraise\u001b[39;00m \u001b[38;5;167;01mValueError\u001b[39;00m(\n\u001b[32m   1302\u001b[39m           \u001b[33m\"\u001b[39m\u001b[33mnon-zero flags not allowed in calls to recv_into() on \u001b[39m\u001b[38;5;132;01m%s\u001b[39;00m\u001b[33m\"\u001b[39m %\n\u001b[32m   1303\u001b[39m           \u001b[38;5;28mself\u001b[39m.\u001b[34m__class__\u001b[39m)\n\u001b[32m-> \u001b[39m\u001b[32m1304\u001b[39m     \u001b[38;5;28;01mreturn\u001b[39;00m \u001b[38;5;28;43mself\u001b[39;49m\u001b[43m.\u001b[49m\u001b[43mread\u001b[49m\u001b[43m(\u001b[49m\u001b[43mnbytes\u001b[49m\u001b[43m,\u001b[49m\u001b[43m \u001b[49m\u001b[43mbuffer\u001b[49m\u001b[43m)\u001b[49m\n\u001b[32m   1305\u001b[39m \u001b[38;5;28;01melse\u001b[39;00m:\n\u001b[32m   1306\u001b[39m     \u001b[38;5;28;01mreturn\u001b[39;00m \u001b[38;5;28msuper\u001b[39m().recv_into(buffer, nbytes, flags)\n",
      "\u001b[36mFile \u001b[39m\u001b[32m/usr/lib/python3.13/ssl.py:1138\u001b[39m, in \u001b[36mSSLSocket.read\u001b[39m\u001b[34m(self, len, buffer)\u001b[39m\n\u001b[32m   1136\u001b[39m \u001b[38;5;28;01mtry\u001b[39;00m:\n\u001b[32m   1137\u001b[39m     \u001b[38;5;28;01mif\u001b[39;00m buffer \u001b[38;5;129;01mis\u001b[39;00m \u001b[38;5;129;01mnot\u001b[39;00m \u001b[38;5;28;01mNone\u001b[39;00m:\n\u001b[32m-> \u001b[39m\u001b[32m1138\u001b[39m         \u001b[38;5;28;01mreturn\u001b[39;00m \u001b[38;5;28;43mself\u001b[39;49m\u001b[43m.\u001b[49m\u001b[43m_sslobj\u001b[49m\u001b[43m.\u001b[49m\u001b[43mread\u001b[49m\u001b[43m(\u001b[49m\u001b[38;5;28;43mlen\u001b[39;49m\u001b[43m,\u001b[49m\u001b[43m \u001b[49m\u001b[43mbuffer\u001b[49m\u001b[43m)\u001b[49m\n\u001b[32m   1139\u001b[39m     \u001b[38;5;28;01melse\u001b[39;00m:\n\u001b[32m   1140\u001b[39m         \u001b[38;5;28;01mreturn\u001b[39;00m \u001b[38;5;28mself\u001b[39m._sslobj.read(\u001b[38;5;28mlen\u001b[39m)\n",
      "\u001b[31mKeyboardInterrupt\u001b[39m: "
     ]
    }
   ],
   "source": [
    "for key, hashtags in hashtags_list.items():\n",
    "    csv_path = f'./CSV/{key}'\n",
    "    save_directory = f'./Videos/{key}'\n",
    "    cont = 0\n",
    "\n",
    "    # Carregar o arquivo CSV correspondente ao tema\n",
    "    df = pd.read_csv(f'{csv_path}/{key}.csv')\n",
    "\n",
    "    # Iterar sobre os links e baixar os vídeos\n",
    "    for link in df['Link']:\n",
    "        download_video(save_directory, link, df, csv_path, key, cont)\n",
    "        print(f'Downloaded {key} video {cont + 1}')\n",
    "        cont += 1"
   ]
  },
  {
   "cell_type": "code",
   "execution_count": null,
   "metadata": {},
   "outputs": [],
   "source": [
    "def audioTranscription(file):\n",
    "    rec = SpeechRecognition(file)\n",
    "    if rec == \"Speech\":\n",
    "        print(\"Passou!\")\n",
    "        # Initialize recognizer\n",
    "        r = sr.Recognizer()\n",
    "\n",
    "        # Load audio file\n",
    "        with sr.AudioFile(file) as source:\n",
    "            audio = r.record(source)\n",
    "\n",
    "        # Transcribe audio file\n",
    "        try:\n",
    "            text = r.recognize_google(audio, language='pt-BR')\n",
    "            print(\"Transcription: \" + text)\n",
    "        except Exception as e:\n",
    "            print(\"Error: \" + str(e))\n",
    "            text = None\n",
    "\n",
    "        return text\n",
    "    else:\n",
    "        return False"
   ]
  }
 ],
 "metadata": {
  "kernelspec": {
   "display_name": ".venv",
   "language": "python",
   "name": "python3"
  },
  "language_info": {
   "codemirror_mode": {
    "name": "ipython",
    "version": 3
   },
   "file_extension": ".py",
   "mimetype": "text/x-python",
   "name": "python",
   "nbconvert_exporter": "python",
   "pygments_lexer": "ipython3",
   "version": "3.13.3"
  }
 },
 "nbformat": 4,
 "nbformat_minor": 2
}

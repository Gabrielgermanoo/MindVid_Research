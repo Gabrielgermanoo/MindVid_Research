{
 "cells": [
  {
   "cell_type": "code",
   "execution_count": 1,
   "metadata": {},
   "outputs": [
    {
     "name": "stdout",
     "output_type": "stream",
     "text": [
      "WARNING:tensorflow:From c:\\Users\\Gabriel_Germano\\Documents\\Pesquisa\\MindVid_Research\\venv\\Lib\\site-packages\\tf_keras\\src\\losses.py:2976: The name tf.losses.sparse_softmax_cross_entropy is deprecated. Please use tf.compat.v1.losses.sparse_softmax_cross_entropy instead.\n",
      "\n",
      "WARNING:tensorflow:From c:\\Users\\Gabriel_Germano\\Documents\\Pesquisa\\MindVid_Research\\venv\\Lib\\site-packages\\tensorflow_hub\\resolver.py:120: The name tf.gfile.MakeDirs is deprecated. Please use tf.io.gfile.makedirs instead.\n",
      "\n"
     ]
    },
    {
     "name": "stderr",
     "output_type": "stream",
     "text": [
      "WARNING:tensorflow:From c:\\Users\\Gabriel_Germano\\Documents\\Pesquisa\\MindVid_Research\\venv\\Lib\\site-packages\\tensorflow_hub\\resolver.py:120: The name tf.gfile.MakeDirs is deprecated. Please use tf.io.gfile.makedirs instead.\n",
      "\n"
     ]
    },
    {
     "name": "stdout",
     "output_type": "stream",
     "text": [
      "WARNING:tensorflow:From c:\\Users\\Gabriel_Germano\\Documents\\Pesquisa\\MindVid_Research\\venv\\Lib\\site-packages\\tensorflow_hub\\module_v2.py:126: The name tf.saved_model.load_v2 is deprecated. Please use tf.compat.v2.saved_model.load instead.\n",
      "\n"
     ]
    },
    {
     "name": "stderr",
     "output_type": "stream",
     "text": [
      "WARNING:tensorflow:From c:\\Users\\Gabriel_Germano\\Documents\\Pesquisa\\MindVid_Research\\venv\\Lib\\site-packages\\tensorflow_hub\\module_v2.py:126: The name tf.saved_model.load_v2 is deprecated. Please use tf.compat.v2.saved_model.load instead.\n",
      "\n"
     ]
    }
   ],
   "source": [
    "import speech_recognition as sr\n",
    "from recognizer import SpeechRecognition"
   ]
  },
  {
   "cell_type": "code",
   "execution_count": 2,
   "metadata": {},
   "outputs": [],
   "source": [
    "def audioTranscription(file):\n",
    "    rec = SpeechRecognition(file)\n",
    "    if rec == \"Speech\":\n",
    "        print(\"Passou!\")\n",
    "        # Initialize recognizer\n",
    "        r = sr.Recognizer()\n",
    "\n",
    "        # Load audio file\n",
    "        with sr.AudioFile(file) as source:\n",
    "            audio = r.record(source)\n",
    "\n",
    "        # Transcribe audio file\n",
    "        try:\n",
    "            text = r.recognize_google(audio, language='pt-BR')\n",
    "            print(\"Transcription: \" + text)\n",
    "        except Exception as e:\n",
    "            print(\"Error: \" + str(e))\n",
    "            text = None\n",
    "\n",
    "        return text\n",
    "    else:\n",
    "        return False"
   ]
  },
  {
   "cell_type": "code",
   "execution_count": 10,
   "metadata": {},
   "outputs": [
    {
     "name": "stdout",
     "output_type": "stream",
     "text": [
      "The main sound is: Speech\n",
      "Passou!\n",
      "Transcription: especial ele adora essa palavra é como se atrás da palavra especial se esconder de algum monstro desconhecido pois ele afirma que não é um monstro também não é desconhecido isso faz sentido todo então se eu sou especial você por exemplo é o quê Normal normal Vocês neurotípicos acreditam que normalidade é uma qualidade que deve ser alcançada e eu vou te apresentar como esta é a minha professora de canto Leonor Denise olha como ele é normal que loucura é a mulher mais normal que eu já vi na vida não sou assim tão elogioso não é então a pergunta que nós fazemos a vocês neurotípicos é a seguinte para que gastar tempo esforço dinheiro tentando colocar todas as mentes em uma única lata como se fossem filé de sardinha arrumados lado a lado se a grande beleza da Aventura humana é a singularidade da mente\n"
     ]
    },
    {
     "data": {
      "text/plain": [
       "'especial ele adora essa palavra é como se atrás da palavra especial se esconder de algum monstro desconhecido pois ele afirma que não é um monstro também não é desconhecido isso faz sentido todo então se eu sou especial você por exemplo é o quê Normal normal Vocês neurotípicos acreditam que normalidade é uma qualidade que deve ser alcançada e eu vou te apresentar como esta é a minha professora de canto Leonor Denise olha como ele é normal que loucura é a mulher mais normal que eu já vi na vida não sou assim tão elogioso não é então a pergunta que nós fazemos a vocês neurotípicos é a seguinte para que gastar tempo esforço dinheiro tentando colocar todas as mentes em uma única lata como se fossem filé de sardinha arrumados lado a lado se a grande beleza da Aventura humana é a singularidade da mente'"
      ]
     },
     "execution_count": 10,
     "metadata": {},
     "output_type": "execute_result"
    }
   ],
   "source": [
    "files = \"C:/Users/Gabriel_Germano/Documents/Pesquisa/MindVid_Research/Videos/TEA/71_C5RdoLdSXJp.wav\"\n",
    "audioTranscription(files)"
   ]
  }
 ],
 "metadata": {
  "kernelspec": {
   "display_name": "venv",
   "language": "python",
   "name": "python3"
  },
  "language_info": {
   "codemirror_mode": {
    "name": "ipython",
    "version": 3
   },
   "file_extension": ".py",
   "mimetype": "text/x-python",
   "name": "python",
   "nbconvert_exporter": "python",
   "pygments_lexer": "ipython3",
   "version": "3.12.2"
  }
 },
 "nbformat": 4,
 "nbformat_minor": 2
}

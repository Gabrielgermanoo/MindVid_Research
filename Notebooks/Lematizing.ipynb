{
 "cells": [
  {
   "cell_type": "markdown",
   "metadata": {},
   "source": [
    "# Lematizing"
   ]
  },
  {
   "cell_type": "code",
   "execution_count": null,
   "metadata": {
    "vscode": {
     "languageId": "plaintext"
    }
   },
   "outputs": [],
   "source": [
    "%pip install spacy"
   ]
  },
  {
   "cell_type": "code",
   "execution_count": null,
   "metadata": {
    "vscode": {
     "languageId": "plaintext"
    }
   },
   "outputs": [],
   "source": [
    "import spacy\n",
    "\n",
    "# Baixar modelo de lingua portuguesa\n",
    "nlp = spacy.load('pt_core_news_sm')\n",
    "\n",
    "# Carregar modelo de lingua portuguesa\n",
    "nlp = spacy.load('pt_core_news_sm')\n",
    "\n",
    "df['lemmatizing'] = df['tokenized_words'].apply(lambda x: [token.lemma_ for token in nlp(' '.join(x))])\n",
    "df.head()"
   ]
  }
 ],
 "metadata": {
  "language_info": {
   "name": "python"
  }
 },
 "nbformat": 4,
 "nbformat_minor": 2
}
